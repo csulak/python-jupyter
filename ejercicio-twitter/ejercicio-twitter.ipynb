{
 "cells": [
  {
   "cell_type": "code",
   "execution_count": 1,
   "metadata": {},
   "outputs": [],
   "source": [
    "import pandas as pd\n",
    "import numpy as np\n",
    "import seaborn as sns\n",
    "import matplotlib.pyplot as plt\n",
    "%matplotlib inline\n",
    "from scipy import stats\n",
    "\n",
    "plt.style.use('default') # haciendo los graficos un poco mas bonitos en matplotlib\n",
    "from matplotlib.colors import ListedColormap"
   ]
  },
  {
   "cell_type": "code",
   "execution_count": 2,
   "metadata": {},
   "outputs": [],
   "source": [
    "sample_df = pd.read_csv('sample_submission.csv', encoding='latin-1')\n",
    "test_df = pd.read_csv('test.csv', encoding='latin-1')\n",
    "train_df = pd.read_csv('train.csv', encoding='latin-1')\n"
   ]
  },
  {
   "cell_type": "code",
   "execution_count": 3,
   "metadata": {},
   "outputs": [
    {
     "data": {
      "text/html": [
       "<div>\n",
       "<style scoped>\n",
       "    .dataframe tbody tr th:only-of-type {\n",
       "        vertical-align: middle;\n",
       "    }\n",
       "\n",
       "    .dataframe tbody tr th {\n",
       "        vertical-align: top;\n",
       "    }\n",
       "\n",
       "    .dataframe thead th {\n",
       "        text-align: right;\n",
       "    }\n",
       "</style>\n",
       "<table border=\"1\" class=\"dataframe\">\n",
       "  <thead>\n",
       "    <tr style=\"text-align: right;\">\n",
       "      <th></th>\n",
       "      <th>id</th>\n",
       "      <th>target</th>\n",
       "    </tr>\n",
       "  </thead>\n",
       "  <tbody>\n",
       "    <tr>\n",
       "      <th>0</th>\n",
       "      <td>0</td>\n",
       "      <td>0</td>\n",
       "    </tr>\n",
       "    <tr>\n",
       "      <th>1</th>\n",
       "      <td>2</td>\n",
       "      <td>0</td>\n",
       "    </tr>\n",
       "    <tr>\n",
       "      <th>2</th>\n",
       "      <td>3</td>\n",
       "      <td>0</td>\n",
       "    </tr>\n",
       "    <tr>\n",
       "      <th>3</th>\n",
       "      <td>9</td>\n",
       "      <td>0</td>\n",
       "    </tr>\n",
       "    <tr>\n",
       "      <th>4</th>\n",
       "      <td>11</td>\n",
       "      <td>0</td>\n",
       "    </tr>\n",
       "  </tbody>\n",
       "</table>\n",
       "</div>"
      ],
      "text/plain": [
       "   id  target\n",
       "0   0       0\n",
       "1   2       0\n",
       "2   3       0\n",
       "3   9       0\n",
       "4  11       0"
      ]
     },
     "execution_count": 3,
     "metadata": {},
     "output_type": "execute_result"
    }
   ],
   "source": [
    "sample_df.head()"
   ]
  },
  {
   "cell_type": "code",
   "execution_count": 4,
   "metadata": {},
   "outputs": [
    {
     "data": {
      "text/html": [
       "<div>\n",
       "<style scoped>\n",
       "    .dataframe tbody tr th:only-of-type {\n",
       "        vertical-align: middle;\n",
       "    }\n",
       "\n",
       "    .dataframe tbody tr th {\n",
       "        vertical-align: top;\n",
       "    }\n",
       "\n",
       "    .dataframe thead th {\n",
       "        text-align: right;\n",
       "    }\n",
       "</style>\n",
       "<table border=\"1\" class=\"dataframe\">\n",
       "  <thead>\n",
       "    <tr style=\"text-align: right;\">\n",
       "      <th></th>\n",
       "      <th>id</th>\n",
       "      <th>keyword</th>\n",
       "      <th>location</th>\n",
       "      <th>text</th>\n",
       "    </tr>\n",
       "  </thead>\n",
       "  <tbody>\n",
       "    <tr>\n",
       "      <th>0</th>\n",
       "      <td>0</td>\n",
       "      <td>NaN</td>\n",
       "      <td>NaN</td>\n",
       "      <td>Just happened a terrible car crash</td>\n",
       "    </tr>\n",
       "    <tr>\n",
       "      <th>1</th>\n",
       "      <td>2</td>\n",
       "      <td>NaN</td>\n",
       "      <td>NaN</td>\n",
       "      <td>Heard about #earthquake is different cities, s...</td>\n",
       "    </tr>\n",
       "    <tr>\n",
       "      <th>2</th>\n",
       "      <td>3</td>\n",
       "      <td>NaN</td>\n",
       "      <td>NaN</td>\n",
       "      <td>there is a forest fire at spot pond, geese are...</td>\n",
       "    </tr>\n",
       "    <tr>\n",
       "      <th>3</th>\n",
       "      <td>9</td>\n",
       "      <td>NaN</td>\n",
       "      <td>NaN</td>\n",
       "      <td>Apocalypse lighting. #Spokane #wildfires</td>\n",
       "    </tr>\n",
       "    <tr>\n",
       "      <th>4</th>\n",
       "      <td>11</td>\n",
       "      <td>NaN</td>\n",
       "      <td>NaN</td>\n",
       "      <td>Typhoon Soudelor kills 28 in China and Taiwan</td>\n",
       "    </tr>\n",
       "  </tbody>\n",
       "</table>\n",
       "</div>"
      ],
      "text/plain": [
       "   id keyword location                                               text\n",
       "0   0     NaN      NaN                 Just happened a terrible car crash\n",
       "1   2     NaN      NaN  Heard about #earthquake is different cities, s...\n",
       "2   3     NaN      NaN  there is a forest fire at spot pond, geese are...\n",
       "3   9     NaN      NaN           Apocalypse lighting. #Spokane #wildfires\n",
       "4  11     NaN      NaN      Typhoon Soudelor kills 28 in China and Taiwan"
      ]
     },
     "execution_count": 4,
     "metadata": {},
     "output_type": "execute_result"
    }
   ],
   "source": [
    "test_df.head()"
   ]
  },
  {
   "cell_type": "code",
   "execution_count": 5,
   "metadata": {},
   "outputs": [
    {
     "data": {
      "text/html": [
       "<div>\n",
       "<style scoped>\n",
       "    .dataframe tbody tr th:only-of-type {\n",
       "        vertical-align: middle;\n",
       "    }\n",
       "\n",
       "    .dataframe tbody tr th {\n",
       "        vertical-align: top;\n",
       "    }\n",
       "\n",
       "    .dataframe thead th {\n",
       "        text-align: right;\n",
       "    }\n",
       "</style>\n",
       "<table border=\"1\" class=\"dataframe\">\n",
       "  <thead>\n",
       "    <tr style=\"text-align: right;\">\n",
       "      <th></th>\n",
       "      <th>id</th>\n",
       "      <th>keyword</th>\n",
       "      <th>location</th>\n",
       "      <th>text</th>\n",
       "      <th>target</th>\n",
       "    </tr>\n",
       "  </thead>\n",
       "  <tbody>\n",
       "    <tr>\n",
       "      <th>0</th>\n",
       "      <td>1</td>\n",
       "      <td>NaN</td>\n",
       "      <td>NaN</td>\n",
       "      <td>Our Deeds are the Reason of this #earthquake M...</td>\n",
       "      <td>1</td>\n",
       "    </tr>\n",
       "    <tr>\n",
       "      <th>1</th>\n",
       "      <td>4</td>\n",
       "      <td>NaN</td>\n",
       "      <td>NaN</td>\n",
       "      <td>Forest fire near La Ronge Sask. Canada</td>\n",
       "      <td>1</td>\n",
       "    </tr>\n",
       "    <tr>\n",
       "      <th>2</th>\n",
       "      <td>5</td>\n",
       "      <td>NaN</td>\n",
       "      <td>NaN</td>\n",
       "      <td>All residents asked to 'shelter in place' are ...</td>\n",
       "      <td>1</td>\n",
       "    </tr>\n",
       "    <tr>\n",
       "      <th>3</th>\n",
       "      <td>6</td>\n",
       "      <td>NaN</td>\n",
       "      <td>NaN</td>\n",
       "      <td>13,000 people receive #wildfires evacuation or...</td>\n",
       "      <td>1</td>\n",
       "    </tr>\n",
       "    <tr>\n",
       "      <th>4</th>\n",
       "      <td>7</td>\n",
       "      <td>NaN</td>\n",
       "      <td>NaN</td>\n",
       "      <td>Just got sent this photo from Ruby #Alaska as ...</td>\n",
       "      <td>1</td>\n",
       "    </tr>\n",
       "  </tbody>\n",
       "</table>\n",
       "</div>"
      ],
      "text/plain": [
       "   id keyword location                                               text  \\\n",
       "0   1     NaN      NaN  Our Deeds are the Reason of this #earthquake M...   \n",
       "1   4     NaN      NaN             Forest fire near La Ronge Sask. Canada   \n",
       "2   5     NaN      NaN  All residents asked to 'shelter in place' are ...   \n",
       "3   6     NaN      NaN  13,000 people receive #wildfires evacuation or...   \n",
       "4   7     NaN      NaN  Just got sent this photo from Ruby #Alaska as ...   \n",
       "\n",
       "   target  \n",
       "0       1  \n",
       "1       1  \n",
       "2       1  \n",
       "3       1  \n",
       "4       1  "
      ]
     },
     "execution_count": 5,
     "metadata": {},
     "output_type": "execute_result"
    }
   ],
   "source": [
    "train_df.head()"
   ]
  },
  {
   "cell_type": "code",
   "execution_count": 6,
   "metadata": {},
   "outputs": [
    {
     "name": "stdout",
     "output_type": "stream",
     "text": [
      "<class 'pandas.core.frame.DataFrame'>\n",
      "RangeIndex: 7613 entries, 0 to 7612\n",
      "Data columns (total 5 columns):\n",
      " #   Column    Non-Null Count  Dtype \n",
      "---  ------    --------------  ----- \n",
      " 0   id        7613 non-null   int64 \n",
      " 1   keyword   7552 non-null   object\n",
      " 2   location  5080 non-null   object\n",
      " 3   text      7613 non-null   object\n",
      " 4   target    7613 non-null   int64 \n",
      "dtypes: int64(2), object(3)\n",
      "memory usage: 297.5+ KB\n"
     ]
    }
   ],
   "source": [
    "#sample_df.info()\n",
    "#test_df.info()\n",
    "train_df.info()\n",
    "\n"
   ]
  },
  {
   "cell_type": "code",
   "execution_count": 7,
   "metadata": {},
   "outputs": [
    {
     "data": {
      "text/html": [
       "<div>\n",
       "<style scoped>\n",
       "    .dataframe tbody tr th:only-of-type {\n",
       "        vertical-align: middle;\n",
       "    }\n",
       "\n",
       "    .dataframe tbody tr th {\n",
       "        vertical-align: top;\n",
       "    }\n",
       "\n",
       "    .dataframe thead th {\n",
       "        text-align: right;\n",
       "    }\n",
       "</style>\n",
       "<table border=\"1\" class=\"dataframe\">\n",
       "  <thead>\n",
       "    <tr style=\"text-align: right;\">\n",
       "      <th></th>\n",
       "      <th>id</th>\n",
       "      <th>target</th>\n",
       "    </tr>\n",
       "  </thead>\n",
       "  <tbody>\n",
       "    <tr>\n",
       "      <th>count</th>\n",
       "      <td>7613.000000</td>\n",
       "      <td>7613.00000</td>\n",
       "    </tr>\n",
       "    <tr>\n",
       "      <th>mean</th>\n",
       "      <td>5441.934848</td>\n",
       "      <td>0.42966</td>\n",
       "    </tr>\n",
       "    <tr>\n",
       "      <th>std</th>\n",
       "      <td>3137.116090</td>\n",
       "      <td>0.49506</td>\n",
       "    </tr>\n",
       "    <tr>\n",
       "      <th>min</th>\n",
       "      <td>1.000000</td>\n",
       "      <td>0.00000</td>\n",
       "    </tr>\n",
       "    <tr>\n",
       "      <th>25%</th>\n",
       "      <td>2734.000000</td>\n",
       "      <td>0.00000</td>\n",
       "    </tr>\n",
       "    <tr>\n",
       "      <th>50%</th>\n",
       "      <td>5408.000000</td>\n",
       "      <td>0.00000</td>\n",
       "    </tr>\n",
       "    <tr>\n",
       "      <th>75%</th>\n",
       "      <td>8146.000000</td>\n",
       "      <td>1.00000</td>\n",
       "    </tr>\n",
       "    <tr>\n",
       "      <th>max</th>\n",
       "      <td>10873.000000</td>\n",
       "      <td>1.00000</td>\n",
       "    </tr>\n",
       "  </tbody>\n",
       "</table>\n",
       "</div>"
      ],
      "text/plain": [
       "                 id      target\n",
       "count   7613.000000  7613.00000\n",
       "mean    5441.934848     0.42966\n",
       "std     3137.116090     0.49506\n",
       "min        1.000000     0.00000\n",
       "25%     2734.000000     0.00000\n",
       "50%     5408.000000     0.00000\n",
       "75%     8146.000000     1.00000\n",
       "max    10873.000000     1.00000"
      ]
     },
     "execution_count": 7,
     "metadata": {},
     "output_type": "execute_result"
    }
   ],
   "source": [
    "train_df.describe()"
   ]
  },
  {
   "cell_type": "code",
   "execution_count": 8,
   "metadata": {},
   "outputs": [],
   "source": [
    "# agrego una columna que cuenta la cantidad de caracteres que tiene cada tweet\n",
    "train_df['text_count'] = train_df['text'].transform(func = lambda x : x.str.len())\n",
    "\n"
   ]
  },
  {
   "cell_type": "code",
   "execution_count": 79,
   "metadata": {},
   "outputs": [
    {
     "data": {
      "text/html": [
       "<div>\n",
       "<style scoped>\n",
       "    .dataframe tbody tr th:only-of-type {\n",
       "        vertical-align: middle;\n",
       "    }\n",
       "\n",
       "    .dataframe tbody tr th {\n",
       "        vertical-align: top;\n",
       "    }\n",
       "\n",
       "    .dataframe thead th {\n",
       "        text-align: right;\n",
       "    }\n",
       "</style>\n",
       "<table border=\"1\" class=\"dataframe\">\n",
       "  <thead>\n",
       "    <tr style=\"text-align: right;\">\n",
       "      <th></th>\n",
       "      <th>id</th>\n",
       "      <th>keyword</th>\n",
       "      <th>location</th>\n",
       "      <th>text</th>\n",
       "      <th>target</th>\n",
       "      <th>text_count</th>\n",
       "      <th>new_target</th>\n",
       "    </tr>\n",
       "  </thead>\n",
       "  <tbody>\n",
       "    <tr>\n",
       "      <th>0</th>\n",
       "      <td>1</td>\n",
       "      <td>NaN</td>\n",
       "      <td>NaN</td>\n",
       "      <td>Our Deeds are the Reason of this #earthquake M...</td>\n",
       "      <td>1</td>\n",
       "      <td>69</td>\n",
       "      <td>1</td>\n",
       "    </tr>\n",
       "    <tr>\n",
       "      <th>1</th>\n",
       "      <td>4</td>\n",
       "      <td>NaN</td>\n",
       "      <td>NaN</td>\n",
       "      <td>Forest fire near La Ronge Sask. Canada</td>\n",
       "      <td>1</td>\n",
       "      <td>38</td>\n",
       "      <td>1</td>\n",
       "    </tr>\n",
       "    <tr>\n",
       "      <th>2</th>\n",
       "      <td>5</td>\n",
       "      <td>NaN</td>\n",
       "      <td>NaN</td>\n",
       "      <td>All residents asked to 'shelter in place' are ...</td>\n",
       "      <td>1</td>\n",
       "      <td>133</td>\n",
       "      <td>1</td>\n",
       "    </tr>\n",
       "    <tr>\n",
       "      <th>3</th>\n",
       "      <td>6</td>\n",
       "      <td>NaN</td>\n",
       "      <td>NaN</td>\n",
       "      <td>13,000 people receive #wildfires evacuation or...</td>\n",
       "      <td>1</td>\n",
       "      <td>65</td>\n",
       "      <td>1</td>\n",
       "    </tr>\n",
       "    <tr>\n",
       "      <th>4</th>\n",
       "      <td>7</td>\n",
       "      <td>NaN</td>\n",
       "      <td>NaN</td>\n",
       "      <td>Just got sent this photo from Ruby #Alaska as ...</td>\n",
       "      <td>1</td>\n",
       "      <td>88</td>\n",
       "      <td>1</td>\n",
       "    </tr>\n",
       "  </tbody>\n",
       "</table>\n",
       "</div>"
      ],
      "text/plain": [
       "   id keyword location                                               text  \\\n",
       "0   1     NaN      NaN  Our Deeds are the Reason of this #earthquake M...   \n",
       "1   4     NaN      NaN             Forest fire near La Ronge Sask. Canada   \n",
       "2   5     NaN      NaN  All residents asked to 'shelter in place' are ...   \n",
       "3   6     NaN      NaN  13,000 people receive #wildfires evacuation or...   \n",
       "4   7     NaN      NaN  Just got sent this photo from Ruby #Alaska as ...   \n",
       "\n",
       "   target  text_count  new_target  \n",
       "0       1          69           1  \n",
       "1       1          38           1  \n",
       "2       1         133           1  \n",
       "3       1          65           1  \n",
       "4       1          88           1  "
      ]
     },
     "execution_count": 79,
     "metadata": {},
     "output_type": "execute_result"
    }
   ],
   "source": [
    "train_df.head()"
   ]
  },
  {
   "cell_type": "code",
   "execution_count": 10,
   "metadata": {
    "scrolled": true
   },
   "outputs": [
    {
     "data": {
      "text/html": [
       "<div>\n",
       "<style scoped>\n",
       "    .dataframe tbody tr th:only-of-type {\n",
       "        vertical-align: middle;\n",
       "    }\n",
       "\n",
       "    .dataframe tbody tr th {\n",
       "        vertical-align: top;\n",
       "    }\n",
       "\n",
       "    .dataframe thead th {\n",
       "        text-align: right;\n",
       "    }\n",
       "</style>\n",
       "<table border=\"1\" class=\"dataframe\">\n",
       "  <thead>\n",
       "    <tr style=\"text-align: right;\">\n",
       "      <th></th>\n",
       "      <th>id</th>\n",
       "      <th>target</th>\n",
       "      <th>text_count</th>\n",
       "    </tr>\n",
       "  </thead>\n",
       "  <tbody>\n",
       "    <tr>\n",
       "      <th>count</th>\n",
       "      <td>7613.000000</td>\n",
       "      <td>7613.00000</td>\n",
       "      <td>7613.000000</td>\n",
       "    </tr>\n",
       "    <tr>\n",
       "      <th>mean</th>\n",
       "      <td>5441.934848</td>\n",
       "      <td>0.42966</td>\n",
       "      <td>101.336136</td>\n",
       "    </tr>\n",
       "    <tr>\n",
       "      <th>std</th>\n",
       "      <td>3137.116090</td>\n",
       "      <td>0.49506</td>\n",
       "      <td>33.991338</td>\n",
       "    </tr>\n",
       "    <tr>\n",
       "      <th>min</th>\n",
       "      <td>1.000000</td>\n",
       "      <td>0.00000</td>\n",
       "      <td>7.000000</td>\n",
       "    </tr>\n",
       "    <tr>\n",
       "      <th>25%</th>\n",
       "      <td>2734.000000</td>\n",
       "      <td>0.00000</td>\n",
       "      <td>78.000000</td>\n",
       "    </tr>\n",
       "    <tr>\n",
       "      <th>50%</th>\n",
       "      <td>5408.000000</td>\n",
       "      <td>0.00000</td>\n",
       "      <td>107.000000</td>\n",
       "    </tr>\n",
       "    <tr>\n",
       "      <th>75%</th>\n",
       "      <td>8146.000000</td>\n",
       "      <td>1.00000</td>\n",
       "      <td>134.000000</td>\n",
       "    </tr>\n",
       "    <tr>\n",
       "      <th>max</th>\n",
       "      <td>10873.000000</td>\n",
       "      <td>1.00000</td>\n",
       "      <td>163.000000</td>\n",
       "    </tr>\n",
       "  </tbody>\n",
       "</table>\n",
       "</div>"
      ],
      "text/plain": [
       "                 id      target   text_count\n",
       "count   7613.000000  7613.00000  7613.000000\n",
       "mean    5441.934848     0.42966   101.336136\n",
       "std     3137.116090     0.49506    33.991338\n",
       "min        1.000000     0.00000     7.000000\n",
       "25%     2734.000000     0.00000    78.000000\n",
       "50%     5408.000000     0.00000   107.000000\n",
       "75%     8146.000000     1.00000   134.000000\n",
       "max    10873.000000     1.00000   163.000000"
      ]
     },
     "execution_count": 10,
     "metadata": {},
     "output_type": "execute_result"
    }
   ],
   "source": [
    "train_df.describe()"
   ]
  },
  {
   "cell_type": "code",
   "execution_count": null,
   "metadata": {},
   "outputs": [],
   "source": []
  },
  {
   "cell_type": "markdown",
   "metadata": {},
   "source": [
    "### Analisis de correlacion"
   ]
  },
  {
   "cell_type": "code",
   "execution_count": 11,
   "metadata": {},
   "outputs": [],
   "source": [
    "# Opcion para hacer la logica del proximo bloque de codigo pero con lambdas\n",
    "\n",
    "#train_df_v_lucas = train_df\n",
    "#train_df_v_lucas['new_target'] = train_df['target'].transform(func = lambda x : 1 if x == 1 else -1)\n",
    "#train_df_v_lucas.head(20)\n"
   ]
  },
  {
   "cell_type": "code",
   "execution_count": 12,
   "metadata": {},
   "outputs": [],
   "source": [
    "train_df['new_target'] = np.where(train_df['target']==1, 1, -1)"
   ]
  },
  {
   "cell_type": "code",
   "execution_count": 13,
   "metadata": {},
   "outputs": [],
   "source": [
    "train_agrupado = train_df.groupby(['text_count']).agg({'new_target':['sum']}) \n"
   ]
  },
  {
   "cell_type": "code",
   "execution_count": 14,
   "metadata": {},
   "outputs": [
    {
     "data": {
      "text/html": [
       "<div>\n",
       "<style scoped>\n",
       "    .dataframe tbody tr th:only-of-type {\n",
       "        vertical-align: middle;\n",
       "    }\n",
       "\n",
       "    .dataframe tbody tr th {\n",
       "        vertical-align: top;\n",
       "    }\n",
       "\n",
       "    .dataframe thead tr th {\n",
       "        text-align: left;\n",
       "    }\n",
       "\n",
       "    .dataframe thead tr:last-of-type th {\n",
       "        text-align: right;\n",
       "    }\n",
       "</style>\n",
       "<table border=\"1\" class=\"dataframe\">\n",
       "  <thead>\n",
       "    <tr>\n",
       "      <th></th>\n",
       "      <th>new_target</th>\n",
       "    </tr>\n",
       "    <tr>\n",
       "      <th></th>\n",
       "      <th>sum</th>\n",
       "    </tr>\n",
       "    <tr>\n",
       "      <th>text_count</th>\n",
       "      <th></th>\n",
       "    </tr>\n",
       "  </thead>\n",
       "  <tbody>\n",
       "    <tr>\n",
       "      <th>7</th>\n",
       "      <td>-3</td>\n",
       "    </tr>\n",
       "    <tr>\n",
       "      <th>8</th>\n",
       "      <td>-4</td>\n",
       "    </tr>\n",
       "    <tr>\n",
       "      <th>9</th>\n",
       "      <td>-2</td>\n",
       "    </tr>\n",
       "    <tr>\n",
       "      <th>10</th>\n",
       "      <td>-2</td>\n",
       "    </tr>\n",
       "    <tr>\n",
       "      <th>11</th>\n",
       "      <td>-4</td>\n",
       "    </tr>\n",
       "    <tr>\n",
       "      <th>...</th>\n",
       "      <td>...</td>\n",
       "    </tr>\n",
       "    <tr>\n",
       "      <th>155</th>\n",
       "      <td>0</td>\n",
       "    </tr>\n",
       "    <tr>\n",
       "      <th>157</th>\n",
       "      <td>-2</td>\n",
       "    </tr>\n",
       "    <tr>\n",
       "      <th>158</th>\n",
       "      <td>0</td>\n",
       "    </tr>\n",
       "    <tr>\n",
       "      <th>161</th>\n",
       "      <td>1</td>\n",
       "    </tr>\n",
       "    <tr>\n",
       "      <th>163</th>\n",
       "      <td>-1</td>\n",
       "    </tr>\n",
       "  </tbody>\n",
       "</table>\n",
       "<p>153 rows × 1 columns</p>\n",
       "</div>"
      ],
      "text/plain": [
       "           new_target\n",
       "                  sum\n",
       "text_count           \n",
       "7                  -3\n",
       "8                  -4\n",
       "9                  -2\n",
       "10                 -2\n",
       "11                 -4\n",
       "...               ...\n",
       "155                 0\n",
       "157                -2\n",
       "158                 0\n",
       "161                 1\n",
       "163                -1\n",
       "\n",
       "[153 rows x 1 columns]"
      ]
     },
     "execution_count": 14,
     "metadata": {},
     "output_type": "execute_result"
    }
   ],
   "source": [
    "train_agrupado"
   ]
  },
  {
   "cell_type": "code",
   "execution_count": 15,
   "metadata": {},
   "outputs": [],
   "source": [
    "level0=train_agrupado.columns.get_level_values(0)\n",
    "\n",
    "level1=train_agrupado.columns.get_level_values(1)\n",
    "\n",
    "train_agrupado.columns = level0 + '_' + level1"
   ]
  },
  {
   "cell_type": "code",
   "execution_count": 16,
   "metadata": {},
   "outputs": [],
   "source": [
    "train_agrupado=train_agrupado.reset_index()"
   ]
  },
  {
   "cell_type": "code",
   "execution_count": null,
   "metadata": {},
   "outputs": [],
   "source": []
  },
  {
   "cell_type": "code",
   "execution_count": 17,
   "metadata": {},
   "outputs": [
    {
     "data": {
      "image/png": "[encoded data removed]",
      "text/plain": [
       "<Figure size 3200x1200 with 1 Axes>"
      ]
     },
     "metadata": {},
     "output_type": "display_data"
    }
   ],
   "source": [
    "ax= plt.figure(figsize=(32, 12))\n",
    "\n",
    "gs = ax.add_gridspec(2, 2)\n",
    "\n",
    "with sns.axes_style(\"darkgrid\"):\n",
    "    ax = ax.add_subplot(gs[0, 0])\n",
    "    sns.lineplot(x='text_count', y='new_target_sum', data=train_agrupado)\n",
    "    \n"
   ]
  },
  {
   "cell_type": "code",
   "execution_count": null,
   "metadata": {},
   "outputs": [],
   "source": []
  },
  {
   "cell_type": "code",
   "execution_count": null,
   "metadata": {},
   "outputs": [],
   "source": []
  },
  {
   "cell_type": "code",
   "execution_count": null,
   "metadata": {},
   "outputs": [],
   "source": []
  },
  {
   "cell_type": "markdown",
   "metadata": {},
   "source": [
    "### data frame de falsos"
   ]
  },
  {
   "cell_type": "code",
   "execution_count": 18,
   "metadata": {},
   "outputs": [
    {
     "data": {
      "text/html": [
       "<div>\n",
       "<style scoped>\n",
       "    .dataframe tbody tr th:only-of-type {\n",
       "        vertical-align: middle;\n",
       "    }\n",
       "\n",
       "    .dataframe tbody tr th {\n",
       "        vertical-align: top;\n",
       "    }\n",
       "\n",
       "    .dataframe thead th {\n",
       "        text-align: right;\n",
       "    }\n",
       "</style>\n",
       "<table border=\"1\" class=\"dataframe\">\n",
       "  <thead>\n",
       "    <tr style=\"text-align: right;\">\n",
       "      <th></th>\n",
       "      <th>id</th>\n",
       "      <th>keyword</th>\n",
       "      <th>location</th>\n",
       "      <th>text</th>\n",
       "      <th>target</th>\n",
       "      <th>text_count</th>\n",
       "      <th>new_target</th>\n",
       "    </tr>\n",
       "  </thead>\n",
       "  <tbody>\n",
       "    <tr>\n",
       "      <th>15</th>\n",
       "      <td>23</td>\n",
       "      <td>NaN</td>\n",
       "      <td>NaN</td>\n",
       "      <td>What's up man?</td>\n",
       "      <td>0</td>\n",
       "      <td>14</td>\n",
       "      <td>-1</td>\n",
       "    </tr>\n",
       "    <tr>\n",
       "      <th>16</th>\n",
       "      <td>24</td>\n",
       "      <td>NaN</td>\n",
       "      <td>NaN</td>\n",
       "      <td>I love fruits</td>\n",
       "      <td>0</td>\n",
       "      <td>13</td>\n",
       "      <td>-1</td>\n",
       "    </tr>\n",
       "    <tr>\n",
       "      <th>17</th>\n",
       "      <td>25</td>\n",
       "      <td>NaN</td>\n",
       "      <td>NaN</td>\n",
       "      <td>Summer is lovely</td>\n",
       "      <td>0</td>\n",
       "      <td>16</td>\n",
       "      <td>-1</td>\n",
       "    </tr>\n",
       "    <tr>\n",
       "      <th>18</th>\n",
       "      <td>26</td>\n",
       "      <td>NaN</td>\n",
       "      <td>NaN</td>\n",
       "      <td>My car is so fast</td>\n",
       "      <td>0</td>\n",
       "      <td>17</td>\n",
       "      <td>-1</td>\n",
       "    </tr>\n",
       "    <tr>\n",
       "      <th>19</th>\n",
       "      <td>28</td>\n",
       "      <td>NaN</td>\n",
       "      <td>NaN</td>\n",
       "      <td>What a goooooooaaaaaal!!!!!!</td>\n",
       "      <td>0</td>\n",
       "      <td>28</td>\n",
       "      <td>-1</td>\n",
       "    </tr>\n",
       "    <tr>\n",
       "      <th>...</th>\n",
       "      <td>...</td>\n",
       "      <td>...</td>\n",
       "      <td>...</td>\n",
       "      <td>...</td>\n",
       "      <td>...</td>\n",
       "      <td>...</td>\n",
       "      <td>...</td>\n",
       "    </tr>\n",
       "    <tr>\n",
       "      <th>7581</th>\n",
       "      <td>10833</td>\n",
       "      <td>wrecked</td>\n",
       "      <td>Lincoln</td>\n",
       "      <td>@engineshed Great atmosphere at the British Li...</td>\n",
       "      <td>0</td>\n",
       "      <td>104</td>\n",
       "      <td>-1</td>\n",
       "    </tr>\n",
       "    <tr>\n",
       "      <th>7582</th>\n",
       "      <td>10834</td>\n",
       "      <td>wrecked</td>\n",
       "      <td>NaN</td>\n",
       "      <td>Cramer: Iger's 3 words that wrecked Disney's s...</td>\n",
       "      <td>0</td>\n",
       "      <td>80</td>\n",
       "      <td>-1</td>\n",
       "    </tr>\n",
       "    <tr>\n",
       "      <th>7584</th>\n",
       "      <td>10837</td>\n",
       "      <td>NaN</td>\n",
       "      <td>NaN</td>\n",
       "      <td>These boxes are ready to explode! Exploding Ki...</td>\n",
       "      <td>0</td>\n",
       "      <td>129</td>\n",
       "      <td>-1</td>\n",
       "    </tr>\n",
       "    <tr>\n",
       "      <th>7587</th>\n",
       "      <td>10841</td>\n",
       "      <td>NaN</td>\n",
       "      <td>NaN</td>\n",
       "      <td>Sirens everywhere!</td>\n",
       "      <td>0</td>\n",
       "      <td>18</td>\n",
       "      <td>-1</td>\n",
       "    </tr>\n",
       "    <tr>\n",
       "      <th>7593</th>\n",
       "      <td>10848</td>\n",
       "      <td>NaN</td>\n",
       "      <td>NaN</td>\n",
       "      <td>I just heard a really loud bang and everyone i...</td>\n",
       "      <td>0</td>\n",
       "      <td>60</td>\n",
       "      <td>-1</td>\n",
       "    </tr>\n",
       "  </tbody>\n",
       "</table>\n",
       "<p>4342 rows × 7 columns</p>\n",
       "</div>"
      ],
      "text/plain": [
       "         id  keyword location  \\\n",
       "15       23      NaN      NaN   \n",
       "16       24      NaN      NaN   \n",
       "17       25      NaN      NaN   \n",
       "18       26      NaN      NaN   \n",
       "19       28      NaN      NaN   \n",
       "...     ...      ...      ...   \n",
       "7581  10833  wrecked  Lincoln   \n",
       "7582  10834  wrecked      NaN   \n",
       "7584  10837      NaN      NaN   \n",
       "7587  10841      NaN      NaN   \n",
       "7593  10848      NaN      NaN   \n",
       "\n",
       "                                                   text  target  text_count  \\\n",
       "15                                       What's up man?       0          14   \n",
       "16                                        I love fruits       0          13   \n",
       "17                                     Summer is lovely       0          16   \n",
       "18                                    My car is so fast       0          17   \n",
       "19                         What a goooooooaaaaaal!!!!!!       0          28   \n",
       "...                                                 ...     ...         ...   \n",
       "7581  @engineshed Great atmosphere at the British Li...       0         104   \n",
       "7582  Cramer: Iger's 3 words that wrecked Disney's s...       0          80   \n",
       "7584  These boxes are ready to explode! Exploding Ki...       0         129   \n",
       "7587                                 Sirens everywhere!       0          18   \n",
       "7593  I just heard a really loud bang and everyone i...       0          60   \n",
       "\n",
       "      new_target  \n",
       "15            -1  \n",
       "16            -1  \n",
       "17            -1  \n",
       "18            -1  \n",
       "19            -1  \n",
       "...          ...  \n",
       "7581          -1  \n",
       "7582          -1  \n",
       "7584          -1  \n",
       "7587          -1  \n",
       "7593          -1  \n",
       "\n",
       "[4342 rows x 7 columns]"
      ]
     },
     "execution_count": 18,
     "metadata": {},
     "output_type": "execute_result"
    }
   ],
   "source": [
    "falsos_df = train_df[(train_df['target']==0)]\n",
    "falsos_df"
   ]
  },
  {
   "cell_type": "code",
   "execution_count": 19,
   "metadata": {},
   "outputs": [
    {
     "data": {
      "text/html": [
       "<div>\n",
       "<style scoped>\n",
       "    .dataframe tbody tr th:only-of-type {\n",
       "        vertical-align: middle;\n",
       "    }\n",
       "\n",
       "    .dataframe tbody tr th {\n",
       "        vertical-align: top;\n",
       "    }\n",
       "\n",
       "    .dataframe thead tr th {\n",
       "        text-align: left;\n",
       "    }\n",
       "\n",
       "    .dataframe thead tr:last-of-type th {\n",
       "        text-align: right;\n",
       "    }\n",
       "</style>\n",
       "<table border=\"1\" class=\"dataframe\">\n",
       "  <thead>\n",
       "    <tr>\n",
       "      <th></th>\n",
       "      <th colspan=\"4\" halign=\"left\">target</th>\n",
       "    </tr>\n",
       "    <tr>\n",
       "      <th></th>\n",
       "      <th>mean</th>\n",
       "      <th>max</th>\n",
       "      <th>min</th>\n",
       "      <th>count</th>\n",
       "    </tr>\n",
       "    <tr>\n",
       "      <th>text_count</th>\n",
       "      <th></th>\n",
       "      <th></th>\n",
       "      <th></th>\n",
       "      <th></th>\n",
       "    </tr>\n",
       "  </thead>\n",
       "  <tbody>\n",
       "    <tr>\n",
       "      <th>7</th>\n",
       "      <td>0</td>\n",
       "      <td>0</td>\n",
       "      <td>0</td>\n",
       "      <td>3</td>\n",
       "    </tr>\n",
       "    <tr>\n",
       "      <th>8</th>\n",
       "      <td>0</td>\n",
       "      <td>0</td>\n",
       "      <td>0</td>\n",
       "      <td>4</td>\n",
       "    </tr>\n",
       "    <tr>\n",
       "      <th>9</th>\n",
       "      <td>0</td>\n",
       "      <td>0</td>\n",
       "      <td>0</td>\n",
       "      <td>2</td>\n",
       "    </tr>\n",
       "    <tr>\n",
       "      <th>10</th>\n",
       "      <td>0</td>\n",
       "      <td>0</td>\n",
       "      <td>0</td>\n",
       "      <td>2</td>\n",
       "    </tr>\n",
       "    <tr>\n",
       "      <th>11</th>\n",
       "      <td>0</td>\n",
       "      <td>0</td>\n",
       "      <td>0</td>\n",
       "      <td>4</td>\n",
       "    </tr>\n",
       "    <tr>\n",
       "      <th>...</th>\n",
       "      <td>...</td>\n",
       "      <td>...</td>\n",
       "      <td>...</td>\n",
       "      <td>...</td>\n",
       "    </tr>\n",
       "    <tr>\n",
       "      <th>154</th>\n",
       "      <td>0</td>\n",
       "      <td>0</td>\n",
       "      <td>0</td>\n",
       "      <td>1</td>\n",
       "    </tr>\n",
       "    <tr>\n",
       "      <th>155</th>\n",
       "      <td>0</td>\n",
       "      <td>0</td>\n",
       "      <td>0</td>\n",
       "      <td>1</td>\n",
       "    </tr>\n",
       "    <tr>\n",
       "      <th>157</th>\n",
       "      <td>0</td>\n",
       "      <td>0</td>\n",
       "      <td>0</td>\n",
       "      <td>2</td>\n",
       "    </tr>\n",
       "    <tr>\n",
       "      <th>158</th>\n",
       "      <td>0</td>\n",
       "      <td>0</td>\n",
       "      <td>0</td>\n",
       "      <td>1</td>\n",
       "    </tr>\n",
       "    <tr>\n",
       "      <th>163</th>\n",
       "      <td>0</td>\n",
       "      <td>0</td>\n",
       "      <td>0</td>\n",
       "      <td>1</td>\n",
       "    </tr>\n",
       "  </tbody>\n",
       "</table>\n",
       "<p>151 rows × 4 columns</p>\n",
       "</div>"
      ],
      "text/plain": [
       "           target              \n",
       "             mean max min count\n",
       "text_count                     \n",
       "7               0   0   0     3\n",
       "8               0   0   0     4\n",
       "9               0   0   0     2\n",
       "10              0   0   0     2\n",
       "11              0   0   0     4\n",
       "...           ...  ..  ..   ...\n",
       "154             0   0   0     1\n",
       "155             0   0   0     1\n",
       "157             0   0   0     2\n",
       "158             0   0   0     1\n",
       "163             0   0   0     1\n",
       "\n",
       "[151 rows x 4 columns]"
      ]
     },
     "execution_count": 19,
     "metadata": {},
     "output_type": "execute_result"
    }
   ],
   "source": [
    "falsos_df = falsos_df.groupby(['text_count']).agg({'target':['mean', 'max', 'min','count']}) \n",
    "\n",
    "falsos_df"
   ]
  },
  {
   "cell_type": "code",
   "execution_count": 20,
   "metadata": {},
   "outputs": [],
   "source": [
    "level0=falsos_df.columns.get_level_values(0)\n",
    "\n",
    "level1=falsos_df.columns.get_level_values(1)\n",
    "\n",
    "falsos_df.columns = level0 + '_' + level1"
   ]
  },
  {
   "cell_type": "code",
   "execution_count": 21,
   "metadata": {},
   "outputs": [
    {
     "data": {
      "text/html": [
       "<div>\n",
       "<style scoped>\n",
       "    .dataframe tbody tr th:only-of-type {\n",
       "        vertical-align: middle;\n",
       "    }\n",
       "\n",
       "    .dataframe tbody tr th {\n",
       "        vertical-align: top;\n",
       "    }\n",
       "\n",
       "    .dataframe thead th {\n",
       "        text-align: right;\n",
       "    }\n",
       "</style>\n",
       "<table border=\"1\" class=\"dataframe\">\n",
       "  <thead>\n",
       "    <tr style=\"text-align: right;\">\n",
       "      <th></th>\n",
       "      <th>target_mean</th>\n",
       "      <th>target_max</th>\n",
       "      <th>target_min</th>\n",
       "      <th>target_count</th>\n",
       "    </tr>\n",
       "    <tr>\n",
       "      <th>text_count</th>\n",
       "      <th></th>\n",
       "      <th></th>\n",
       "      <th></th>\n",
       "      <th></th>\n",
       "    </tr>\n",
       "  </thead>\n",
       "  <tbody>\n",
       "    <tr>\n",
       "      <th>7</th>\n",
       "      <td>0</td>\n",
       "      <td>0</td>\n",
       "      <td>0</td>\n",
       "      <td>3</td>\n",
       "    </tr>\n",
       "    <tr>\n",
       "      <th>8</th>\n",
       "      <td>0</td>\n",
       "      <td>0</td>\n",
       "      <td>0</td>\n",
       "      <td>4</td>\n",
       "    </tr>\n",
       "    <tr>\n",
       "      <th>9</th>\n",
       "      <td>0</td>\n",
       "      <td>0</td>\n",
       "      <td>0</td>\n",
       "      <td>2</td>\n",
       "    </tr>\n",
       "    <tr>\n",
       "      <th>10</th>\n",
       "      <td>0</td>\n",
       "      <td>0</td>\n",
       "      <td>0</td>\n",
       "      <td>2</td>\n",
       "    </tr>\n",
       "    <tr>\n",
       "      <th>11</th>\n",
       "      <td>0</td>\n",
       "      <td>0</td>\n",
       "      <td>0</td>\n",
       "      <td>4</td>\n",
       "    </tr>\n",
       "    <tr>\n",
       "      <th>...</th>\n",
       "      <td>...</td>\n",
       "      <td>...</td>\n",
       "      <td>...</td>\n",
       "      <td>...</td>\n",
       "    </tr>\n",
       "    <tr>\n",
       "      <th>154</th>\n",
       "      <td>0</td>\n",
       "      <td>0</td>\n",
       "      <td>0</td>\n",
       "      <td>1</td>\n",
       "    </tr>\n",
       "    <tr>\n",
       "      <th>155</th>\n",
       "      <td>0</td>\n",
       "      <td>0</td>\n",
       "      <td>0</td>\n",
       "      <td>1</td>\n",
       "    </tr>\n",
       "    <tr>\n",
       "      <th>157</th>\n",
       "      <td>0</td>\n",
       "      <td>0</td>\n",
       "      <td>0</td>\n",
       "      <td>2</td>\n",
       "    </tr>\n",
       "    <tr>\n",
       "      <th>158</th>\n",
       "      <td>0</td>\n",
       "      <td>0</td>\n",
       "      <td>0</td>\n",
       "      <td>1</td>\n",
       "    </tr>\n",
       "    <tr>\n",
       "      <th>163</th>\n",
       "      <td>0</td>\n",
       "      <td>0</td>\n",
       "      <td>0</td>\n",
       "      <td>1</td>\n",
       "    </tr>\n",
       "  </tbody>\n",
       "</table>\n",
       "<p>151 rows × 4 columns</p>\n",
       "</div>"
      ],
      "text/plain": [
       "            target_mean  target_max  target_min  target_count\n",
       "text_count                                                   \n",
       "7                     0           0           0             3\n",
       "8                     0           0           0             4\n",
       "9                     0           0           0             2\n",
       "10                    0           0           0             2\n",
       "11                    0           0           0             4\n",
       "...                 ...         ...         ...           ...\n",
       "154                   0           0           0             1\n",
       "155                   0           0           0             1\n",
       "157                   0           0           0             2\n",
       "158                   0           0           0             1\n",
       "163                   0           0           0             1\n",
       "\n",
       "[151 rows x 4 columns]"
      ]
     },
     "execution_count": 21,
     "metadata": {},
     "output_type": "execute_result"
    }
   ],
   "source": [
    "falsos_df"
   ]
  },
  {
   "cell_type": "code",
   "execution_count": 22,
   "metadata": {},
   "outputs": [],
   "source": [
    "falsos_df=falsos_df.reset_index()"
   ]
  },
  {
   "cell_type": "code",
   "execution_count": 23,
   "metadata": {},
   "outputs": [
    {
     "data": {
      "text/html": [
       "<div>\n",
       "<style scoped>\n",
       "    .dataframe tbody tr th:only-of-type {\n",
       "        vertical-align: middle;\n",
       "    }\n",
       "\n",
       "    .dataframe tbody tr th {\n",
       "        vertical-align: top;\n",
       "    }\n",
       "\n",
       "    .dataframe thead th {\n",
       "        text-align: right;\n",
       "    }\n",
       "</style>\n",
       "<table border=\"1\" class=\"dataframe\">\n",
       "  <thead>\n",
       "    <tr style=\"text-align: right;\">\n",
       "      <th></th>\n",
       "      <th>text_count</th>\n",
       "      <th>target_mean</th>\n",
       "      <th>target_max</th>\n",
       "      <th>target_min</th>\n",
       "      <th>target_count</th>\n",
       "    </tr>\n",
       "  </thead>\n",
       "  <tbody>\n",
       "    <tr>\n",
       "      <th>0</th>\n",
       "      <td>7</td>\n",
       "      <td>0</td>\n",
       "      <td>0</td>\n",
       "      <td>0</td>\n",
       "      <td>3</td>\n",
       "    </tr>\n",
       "    <tr>\n",
       "      <th>1</th>\n",
       "      <td>8</td>\n",
       "      <td>0</td>\n",
       "      <td>0</td>\n",
       "      <td>0</td>\n",
       "      <td>4</td>\n",
       "    </tr>\n",
       "    <tr>\n",
       "      <th>2</th>\n",
       "      <td>9</td>\n",
       "      <td>0</td>\n",
       "      <td>0</td>\n",
       "      <td>0</td>\n",
       "      <td>2</td>\n",
       "    </tr>\n",
       "    <tr>\n",
       "      <th>3</th>\n",
       "      <td>10</td>\n",
       "      <td>0</td>\n",
       "      <td>0</td>\n",
       "      <td>0</td>\n",
       "      <td>2</td>\n",
       "    </tr>\n",
       "    <tr>\n",
       "      <th>4</th>\n",
       "      <td>11</td>\n",
       "      <td>0</td>\n",
       "      <td>0</td>\n",
       "      <td>0</td>\n",
       "      <td>4</td>\n",
       "    </tr>\n",
       "    <tr>\n",
       "      <th>...</th>\n",
       "      <td>...</td>\n",
       "      <td>...</td>\n",
       "      <td>...</td>\n",
       "      <td>...</td>\n",
       "      <td>...</td>\n",
       "    </tr>\n",
       "    <tr>\n",
       "      <th>146</th>\n",
       "      <td>154</td>\n",
       "      <td>0</td>\n",
       "      <td>0</td>\n",
       "      <td>0</td>\n",
       "      <td>1</td>\n",
       "    </tr>\n",
       "    <tr>\n",
       "      <th>147</th>\n",
       "      <td>155</td>\n",
       "      <td>0</td>\n",
       "      <td>0</td>\n",
       "      <td>0</td>\n",
       "      <td>1</td>\n",
       "    </tr>\n",
       "    <tr>\n",
       "      <th>148</th>\n",
       "      <td>157</td>\n",
       "      <td>0</td>\n",
       "      <td>0</td>\n",
       "      <td>0</td>\n",
       "      <td>2</td>\n",
       "    </tr>\n",
       "    <tr>\n",
       "      <th>149</th>\n",
       "      <td>158</td>\n",
       "      <td>0</td>\n",
       "      <td>0</td>\n",
       "      <td>0</td>\n",
       "      <td>1</td>\n",
       "    </tr>\n",
       "    <tr>\n",
       "      <th>150</th>\n",
       "      <td>163</td>\n",
       "      <td>0</td>\n",
       "      <td>0</td>\n",
       "      <td>0</td>\n",
       "      <td>1</td>\n",
       "    </tr>\n",
       "  </tbody>\n",
       "</table>\n",
       "<p>151 rows × 5 columns</p>\n",
       "</div>"
      ],
      "text/plain": [
       "     text_count  target_mean  target_max  target_min  target_count\n",
       "0             7            0           0           0             3\n",
       "1             8            0           0           0             4\n",
       "2             9            0           0           0             2\n",
       "3            10            0           0           0             2\n",
       "4            11            0           0           0             4\n",
       "..          ...          ...         ...         ...           ...\n",
       "146         154            0           0           0             1\n",
       "147         155            0           0           0             1\n",
       "148         157            0           0           0             2\n",
       "149         158            0           0           0             1\n",
       "150         163            0           0           0             1\n",
       "\n",
       "[151 rows x 5 columns]"
      ]
     },
     "execution_count": 23,
     "metadata": {},
     "output_type": "execute_result"
    }
   ],
   "source": [
    "falsos_df"
   ]
  },
  {
   "cell_type": "code",
   "execution_count": 24,
   "metadata": {},
   "outputs": [
    {
     "data": {
      "text/plain": [
       "<matplotlib.axes._subplots.AxesSubplot at 0x7f8139e02b50>"
      ]
     },
     "execution_count": 24,
     "metadata": {},
     "output_type": "execute_result"
    },
    {
     "data": {
      "image/png": "[encoded data removed]",
      "text/plain": [
       "<Figure size 1600x600 with 1 Axes>"
      ]
     },
     "metadata": {},
     "output_type": "display_data"
    }
   ],
   "source": [
    "ax= plt.figure(figsize=(16, 6))\n",
    "sns.lineplot(x='text_count', y='target_count', data=falsos_df)"
   ]
  },
  {
   "cell_type": "code",
   "execution_count": null,
   "metadata": {},
   "outputs": [],
   "source": []
  },
  {
   "cell_type": "markdown",
   "metadata": {},
   "source": [
    "### data frame de verdaderos"
   ]
  },
  {
   "cell_type": "code",
   "execution_count": 25,
   "metadata": {},
   "outputs": [
    {
     "data": {
      "text/html": [
       "<div>\n",
       "<style scoped>\n",
       "    .dataframe tbody tr th:only-of-type {\n",
       "        vertical-align: middle;\n",
       "    }\n",
       "\n",
       "    .dataframe tbody tr th {\n",
       "        vertical-align: top;\n",
       "    }\n",
       "\n",
       "    .dataframe thead th {\n",
       "        text-align: right;\n",
       "    }\n",
       "</style>\n",
       "<table border=\"1\" class=\"dataframe\">\n",
       "  <thead>\n",
       "    <tr style=\"text-align: right;\">\n",
       "      <th></th>\n",
       "      <th>id</th>\n",
       "      <th>keyword</th>\n",
       "      <th>location</th>\n",
       "      <th>text</th>\n",
       "      <th>target</th>\n",
       "      <th>text_count</th>\n",
       "      <th>new_target</th>\n",
       "    </tr>\n",
       "  </thead>\n",
       "  <tbody>\n",
       "    <tr>\n",
       "      <th>0</th>\n",
       "      <td>1</td>\n",
       "      <td>NaN</td>\n",
       "      <td>NaN</td>\n",
       "      <td>Our Deeds are the Reason of this #earthquake M...</td>\n",
       "      <td>1</td>\n",
       "      <td>69</td>\n",
       "      <td>1</td>\n",
       "    </tr>\n",
       "    <tr>\n",
       "      <th>1</th>\n",
       "      <td>4</td>\n",
       "      <td>NaN</td>\n",
       "      <td>NaN</td>\n",
       "      <td>Forest fire near La Ronge Sask. Canada</td>\n",
       "      <td>1</td>\n",
       "      <td>38</td>\n",
       "      <td>1</td>\n",
       "    </tr>\n",
       "    <tr>\n",
       "      <th>2</th>\n",
       "      <td>5</td>\n",
       "      <td>NaN</td>\n",
       "      <td>NaN</td>\n",
       "      <td>All residents asked to 'shelter in place' are ...</td>\n",
       "      <td>1</td>\n",
       "      <td>133</td>\n",
       "      <td>1</td>\n",
       "    </tr>\n",
       "    <tr>\n",
       "      <th>3</th>\n",
       "      <td>6</td>\n",
       "      <td>NaN</td>\n",
       "      <td>NaN</td>\n",
       "      <td>13,000 people receive #wildfires evacuation or...</td>\n",
       "      <td>1</td>\n",
       "      <td>65</td>\n",
       "      <td>1</td>\n",
       "    </tr>\n",
       "    <tr>\n",
       "      <th>4</th>\n",
       "      <td>7</td>\n",
       "      <td>NaN</td>\n",
       "      <td>NaN</td>\n",
       "      <td>Just got sent this photo from Ruby #Alaska as ...</td>\n",
       "      <td>1</td>\n",
       "      <td>88</td>\n",
       "      <td>1</td>\n",
       "    </tr>\n",
       "    <tr>\n",
       "      <th>...</th>\n",
       "      <td>...</td>\n",
       "      <td>...</td>\n",
       "      <td>...</td>\n",
       "      <td>...</td>\n",
       "      <td>...</td>\n",
       "      <td>...</td>\n",
       "      <td>...</td>\n",
       "    </tr>\n",
       "    <tr>\n",
       "      <th>7608</th>\n",
       "      <td>10869</td>\n",
       "      <td>NaN</td>\n",
       "      <td>NaN</td>\n",
       "      <td>Two giant cranes holding a bridge collapse int...</td>\n",
       "      <td>1</td>\n",
       "      <td>83</td>\n",
       "      <td>1</td>\n",
       "    </tr>\n",
       "    <tr>\n",
       "      <th>7609</th>\n",
       "      <td>10870</td>\n",
       "      <td>NaN</td>\n",
       "      <td>NaN</td>\n",
       "      <td>@aria_ahrary @TheTawniest The out of control w...</td>\n",
       "      <td>1</td>\n",
       "      <td>125</td>\n",
       "      <td>1</td>\n",
       "    </tr>\n",
       "    <tr>\n",
       "      <th>7610</th>\n",
       "      <td>10871</td>\n",
       "      <td>NaN</td>\n",
       "      <td>NaN</td>\n",
       "      <td>M1.94 [01:04 UTC]?5km S of Volcano Hawaii. htt...</td>\n",
       "      <td>1</td>\n",
       "      <td>65</td>\n",
       "      <td>1</td>\n",
       "    </tr>\n",
       "    <tr>\n",
       "      <th>7611</th>\n",
       "      <td>10872</td>\n",
       "      <td>NaN</td>\n",
       "      <td>NaN</td>\n",
       "      <td>Police investigating after an e-bike collided ...</td>\n",
       "      <td>1</td>\n",
       "      <td>137</td>\n",
       "      <td>1</td>\n",
       "    </tr>\n",
       "    <tr>\n",
       "      <th>7612</th>\n",
       "      <td>10873</td>\n",
       "      <td>NaN</td>\n",
       "      <td>NaN</td>\n",
       "      <td>The Latest: More Homes Razed by Northern Calif...</td>\n",
       "      <td>1</td>\n",
       "      <td>94</td>\n",
       "      <td>1</td>\n",
       "    </tr>\n",
       "  </tbody>\n",
       "</table>\n",
       "<p>3271 rows × 7 columns</p>\n",
       "</div>"
      ],
      "text/plain": [
       "         id keyword location  \\\n",
       "0         1     NaN      NaN   \n",
       "1         4     NaN      NaN   \n",
       "2         5     NaN      NaN   \n",
       "3         6     NaN      NaN   \n",
       "4         7     NaN      NaN   \n",
       "...     ...     ...      ...   \n",
       "7608  10869     NaN      NaN   \n",
       "7609  10870     NaN      NaN   \n",
       "7610  10871     NaN      NaN   \n",
       "7611  10872     NaN      NaN   \n",
       "7612  10873     NaN      NaN   \n",
       "\n",
       "                                                   text  target  text_count  \\\n",
       "0     Our Deeds are the Reason of this #earthquake M...       1          69   \n",
       "1                Forest fire near La Ronge Sask. Canada       1          38   \n",
       "2     All residents asked to 'shelter in place' are ...       1         133   \n",
       "3     13,000 people receive #wildfires evacuation or...       1          65   \n",
       "4     Just got sent this photo from Ruby #Alaska as ...       1          88   \n",
       "...                                                 ...     ...         ...   \n",
       "7608  Two giant cranes holding a bridge collapse int...       1          83   \n",
       "7609  @aria_ahrary @TheTawniest The out of control w...       1         125   \n",
       "7610  M1.94 [01:04 UTC]?5km S of Volcano Hawaii. htt...       1          65   \n",
       "7611  Police investigating after an e-bike collided ...       1         137   \n",
       "7612  The Latest: More Homes Razed by Northern Calif...       1          94   \n",
       "\n",
       "      new_target  \n",
       "0              1  \n",
       "1              1  \n",
       "2              1  \n",
       "3              1  \n",
       "4              1  \n",
       "...          ...  \n",
       "7608           1  \n",
       "7609           1  \n",
       "7610           1  \n",
       "7611           1  \n",
       "7612           1  \n",
       "\n",
       "[3271 rows x 7 columns]"
      ]
     },
     "execution_count": 25,
     "metadata": {},
     "output_type": "execute_result"
    }
   ],
   "source": [
    "verdaderos_df = train_df[(train_df['target']==1)]\n",
    "verdaderos_df"
   ]
  },
  {
   "cell_type": "code",
   "execution_count": 26,
   "metadata": {},
   "outputs": [
    {
     "data": {
      "text/html": [
       "<div>\n",
       "<style scoped>\n",
       "    .dataframe tbody tr th:only-of-type {\n",
       "        vertical-align: middle;\n",
       "    }\n",
       "\n",
       "    .dataframe tbody tr th {\n",
       "        vertical-align: top;\n",
       "    }\n",
       "\n",
       "    .dataframe thead tr th {\n",
       "        text-align: left;\n",
       "    }\n",
       "\n",
       "    .dataframe thead tr:last-of-type th {\n",
       "        text-align: right;\n",
       "    }\n",
       "</style>\n",
       "<table border=\"1\" class=\"dataframe\">\n",
       "  <thead>\n",
       "    <tr>\n",
       "      <th></th>\n",
       "      <th colspan=\"4\" halign=\"left\">target</th>\n",
       "    </tr>\n",
       "    <tr>\n",
       "      <th></th>\n",
       "      <th>mean</th>\n",
       "      <th>max</th>\n",
       "      <th>min</th>\n",
       "      <th>count</th>\n",
       "    </tr>\n",
       "    <tr>\n",
       "      <th>text_count</th>\n",
       "      <th></th>\n",
       "      <th></th>\n",
       "      <th></th>\n",
       "      <th></th>\n",
       "    </tr>\n",
       "  </thead>\n",
       "  <tbody>\n",
       "    <tr>\n",
       "      <th>14</th>\n",
       "      <td>1</td>\n",
       "      <td>1</td>\n",
       "      <td>1</td>\n",
       "      <td>1</td>\n",
       "    </tr>\n",
       "    <tr>\n",
       "      <th>17</th>\n",
       "      <td>1</td>\n",
       "      <td>1</td>\n",
       "      <td>1</td>\n",
       "      <td>1</td>\n",
       "    </tr>\n",
       "    <tr>\n",
       "      <th>18</th>\n",
       "      <td>1</td>\n",
       "      <td>1</td>\n",
       "      <td>1</td>\n",
       "      <td>2</td>\n",
       "    </tr>\n",
       "    <tr>\n",
       "      <th>19</th>\n",
       "      <td>1</td>\n",
       "      <td>1</td>\n",
       "      <td>1</td>\n",
       "      <td>1</td>\n",
       "    </tr>\n",
       "    <tr>\n",
       "      <th>20</th>\n",
       "      <td>1</td>\n",
       "      <td>1</td>\n",
       "      <td>1</td>\n",
       "      <td>2</td>\n",
       "    </tr>\n",
       "    <tr>\n",
       "      <th>...</th>\n",
       "      <td>...</td>\n",
       "      <td>...</td>\n",
       "      <td>...</td>\n",
       "      <td>...</td>\n",
       "    </tr>\n",
       "    <tr>\n",
       "      <th>153</th>\n",
       "      <td>1</td>\n",
       "      <td>1</td>\n",
       "      <td>1</td>\n",
       "      <td>2</td>\n",
       "    </tr>\n",
       "    <tr>\n",
       "      <th>154</th>\n",
       "      <td>1</td>\n",
       "      <td>1</td>\n",
       "      <td>1</td>\n",
       "      <td>1</td>\n",
       "    </tr>\n",
       "    <tr>\n",
       "      <th>155</th>\n",
       "      <td>1</td>\n",
       "      <td>1</td>\n",
       "      <td>1</td>\n",
       "      <td>1</td>\n",
       "    </tr>\n",
       "    <tr>\n",
       "      <th>158</th>\n",
       "      <td>1</td>\n",
       "      <td>1</td>\n",
       "      <td>1</td>\n",
       "      <td>1</td>\n",
       "    </tr>\n",
       "    <tr>\n",
       "      <th>161</th>\n",
       "      <td>1</td>\n",
       "      <td>1</td>\n",
       "      <td>1</td>\n",
       "      <td>1</td>\n",
       "    </tr>\n",
       "  </tbody>\n",
       "</table>\n",
       "<p>141 rows × 4 columns</p>\n",
       "</div>"
      ],
      "text/plain": [
       "           target              \n",
       "             mean max min count\n",
       "text_count                     \n",
       "14              1   1   1     1\n",
       "17              1   1   1     1\n",
       "18              1   1   1     2\n",
       "19              1   1   1     1\n",
       "20              1   1   1     2\n",
       "...           ...  ..  ..   ...\n",
       "153             1   1   1     2\n",
       "154             1   1   1     1\n",
       "155             1   1   1     1\n",
       "158             1   1   1     1\n",
       "161             1   1   1     1\n",
       "\n",
       "[141 rows x 4 columns]"
      ]
     },
     "execution_count": 26,
     "metadata": {},
     "output_type": "execute_result"
    }
   ],
   "source": [
    "verdaderos_df = verdaderos_df.groupby(['text_count']).agg({'target':['mean', 'max', 'min','count']}) \n",
    "\n",
    "verdaderos_df\n"
   ]
  },
  {
   "cell_type": "code",
   "execution_count": 27,
   "metadata": {},
   "outputs": [
    {
     "data": {
      "text/html": [
       "<div>\n",
       "<style scoped>\n",
       "    .dataframe tbody tr th:only-of-type {\n",
       "        vertical-align: middle;\n",
       "    }\n",
       "\n",
       "    .dataframe tbody tr th {\n",
       "        vertical-align: top;\n",
       "    }\n",
       "\n",
       "    .dataframe thead tr th {\n",
       "        text-align: left;\n",
       "    }\n",
       "\n",
       "    .dataframe thead tr:last-of-type th {\n",
       "        text-align: right;\n",
       "    }\n",
       "</style>\n",
       "<table border=\"1\" class=\"dataframe\">\n",
       "  <thead>\n",
       "    <tr>\n",
       "      <th></th>\n",
       "      <th colspan=\"4\" halign=\"left\">target</th>\n",
       "    </tr>\n",
       "    <tr>\n",
       "      <th></th>\n",
       "      <th>mean</th>\n",
       "      <th>max</th>\n",
       "      <th>min</th>\n",
       "      <th>count</th>\n",
       "    </tr>\n",
       "    <tr>\n",
       "      <th>text_count</th>\n",
       "      <th></th>\n",
       "      <th></th>\n",
       "      <th></th>\n",
       "      <th></th>\n",
       "    </tr>\n",
       "  </thead>\n",
       "  <tbody>\n",
       "    <tr>\n",
       "      <th>14</th>\n",
       "      <td>1</td>\n",
       "      <td>1</td>\n",
       "      <td>1</td>\n",
       "      <td>1</td>\n",
       "    </tr>\n",
       "    <tr>\n",
       "      <th>17</th>\n",
       "      <td>1</td>\n",
       "      <td>1</td>\n",
       "      <td>1</td>\n",
       "      <td>1</td>\n",
       "    </tr>\n",
       "    <tr>\n",
       "      <th>18</th>\n",
       "      <td>1</td>\n",
       "      <td>1</td>\n",
       "      <td>1</td>\n",
       "      <td>2</td>\n",
       "    </tr>\n",
       "    <tr>\n",
       "      <th>19</th>\n",
       "      <td>1</td>\n",
       "      <td>1</td>\n",
       "      <td>1</td>\n",
       "      <td>1</td>\n",
       "    </tr>\n",
       "    <tr>\n",
       "      <th>20</th>\n",
       "      <td>1</td>\n",
       "      <td>1</td>\n",
       "      <td>1</td>\n",
       "      <td>2</td>\n",
       "    </tr>\n",
       "    <tr>\n",
       "      <th>...</th>\n",
       "      <td>...</td>\n",
       "      <td>...</td>\n",
       "      <td>...</td>\n",
       "      <td>...</td>\n",
       "    </tr>\n",
       "    <tr>\n",
       "      <th>153</th>\n",
       "      <td>1</td>\n",
       "      <td>1</td>\n",
       "      <td>1</td>\n",
       "      <td>2</td>\n",
       "    </tr>\n",
       "    <tr>\n",
       "      <th>154</th>\n",
       "      <td>1</td>\n",
       "      <td>1</td>\n",
       "      <td>1</td>\n",
       "      <td>1</td>\n",
       "    </tr>\n",
       "    <tr>\n",
       "      <th>155</th>\n",
       "      <td>1</td>\n",
       "      <td>1</td>\n",
       "      <td>1</td>\n",
       "      <td>1</td>\n",
       "    </tr>\n",
       "    <tr>\n",
       "      <th>158</th>\n",
       "      <td>1</td>\n",
       "      <td>1</td>\n",
       "      <td>1</td>\n",
       "      <td>1</td>\n",
       "    </tr>\n",
       "    <tr>\n",
       "      <th>161</th>\n",
       "      <td>1</td>\n",
       "      <td>1</td>\n",
       "      <td>1</td>\n",
       "      <td>1</td>\n",
       "    </tr>\n",
       "  </tbody>\n",
       "</table>\n",
       "<p>141 rows × 4 columns</p>\n",
       "</div>"
      ],
      "text/plain": [
       "           target              \n",
       "             mean max min count\n",
       "text_count                     \n",
       "14              1   1   1     1\n",
       "17              1   1   1     1\n",
       "18              1   1   1     2\n",
       "19              1   1   1     1\n",
       "20              1   1   1     2\n",
       "...           ...  ..  ..   ...\n",
       "153             1   1   1     2\n",
       "154             1   1   1     1\n",
       "155             1   1   1     1\n",
       "158             1   1   1     1\n",
       "161             1   1   1     1\n",
       "\n",
       "[141 rows x 4 columns]"
      ]
     },
     "execution_count": 27,
     "metadata": {},
     "output_type": "execute_result"
    }
   ],
   "source": [
    "verdaderos_df"
   ]
  },
  {
   "cell_type": "code",
   "execution_count": 28,
   "metadata": {},
   "outputs": [
    {
     "data": {
      "text/html": [
       "<div>\n",
       "<style scoped>\n",
       "    .dataframe tbody tr th:only-of-type {\n",
       "        vertical-align: middle;\n",
       "    }\n",
       "\n",
       "    .dataframe tbody tr th {\n",
       "        vertical-align: top;\n",
       "    }\n",
       "\n",
       "    .dataframe thead th {\n",
       "        text-align: right;\n",
       "    }\n",
       "</style>\n",
       "<table border=\"1\" class=\"dataframe\">\n",
       "  <thead>\n",
       "    <tr style=\"text-align: right;\">\n",
       "      <th></th>\n",
       "      <th>target_mean</th>\n",
       "      <th>target_max</th>\n",
       "      <th>target_min</th>\n",
       "      <th>target_count</th>\n",
       "    </tr>\n",
       "    <tr>\n",
       "      <th>text_count</th>\n",
       "      <th></th>\n",
       "      <th></th>\n",
       "      <th></th>\n",
       "      <th></th>\n",
       "    </tr>\n",
       "  </thead>\n",
       "  <tbody>\n",
       "    <tr>\n",
       "      <th>14</th>\n",
       "      <td>1</td>\n",
       "      <td>1</td>\n",
       "      <td>1</td>\n",
       "      <td>1</td>\n",
       "    </tr>\n",
       "    <tr>\n",
       "      <th>17</th>\n",
       "      <td>1</td>\n",
       "      <td>1</td>\n",
       "      <td>1</td>\n",
       "      <td>1</td>\n",
       "    </tr>\n",
       "    <tr>\n",
       "      <th>18</th>\n",
       "      <td>1</td>\n",
       "      <td>1</td>\n",
       "      <td>1</td>\n",
       "      <td>2</td>\n",
       "    </tr>\n",
       "    <tr>\n",
       "      <th>19</th>\n",
       "      <td>1</td>\n",
       "      <td>1</td>\n",
       "      <td>1</td>\n",
       "      <td>1</td>\n",
       "    </tr>\n",
       "    <tr>\n",
       "      <th>20</th>\n",
       "      <td>1</td>\n",
       "      <td>1</td>\n",
       "      <td>1</td>\n",
       "      <td>2</td>\n",
       "    </tr>\n",
       "    <tr>\n",
       "      <th>...</th>\n",
       "      <td>...</td>\n",
       "      <td>...</td>\n",
       "      <td>...</td>\n",
       "      <td>...</td>\n",
       "    </tr>\n",
       "    <tr>\n",
       "      <th>153</th>\n",
       "      <td>1</td>\n",
       "      <td>1</td>\n",
       "      <td>1</td>\n",
       "      <td>2</td>\n",
       "    </tr>\n",
       "    <tr>\n",
       "      <th>154</th>\n",
       "      <td>1</td>\n",
       "      <td>1</td>\n",
       "      <td>1</td>\n",
       "      <td>1</td>\n",
       "    </tr>\n",
       "    <tr>\n",
       "      <th>155</th>\n",
       "      <td>1</td>\n",
       "      <td>1</td>\n",
       "      <td>1</td>\n",
       "      <td>1</td>\n",
       "    </tr>\n",
       "    <tr>\n",
       "      <th>158</th>\n",
       "      <td>1</td>\n",
       "      <td>1</td>\n",
       "      <td>1</td>\n",
       "      <td>1</td>\n",
       "    </tr>\n",
       "    <tr>\n",
       "      <th>161</th>\n",
       "      <td>1</td>\n",
       "      <td>1</td>\n",
       "      <td>1</td>\n",
       "      <td>1</td>\n",
       "    </tr>\n",
       "  </tbody>\n",
       "</table>\n",
       "<p>141 rows × 4 columns</p>\n",
       "</div>"
      ],
      "text/plain": [
       "            target_mean  target_max  target_min  target_count\n",
       "text_count                                                   \n",
       "14                    1           1           1             1\n",
       "17                    1           1           1             1\n",
       "18                    1           1           1             2\n",
       "19                    1           1           1             1\n",
       "20                    1           1           1             2\n",
       "...                 ...         ...         ...           ...\n",
       "153                   1           1           1             2\n",
       "154                   1           1           1             1\n",
       "155                   1           1           1             1\n",
       "158                   1           1           1             1\n",
       "161                   1           1           1             1\n",
       "\n",
       "[141 rows x 4 columns]"
      ]
     },
     "execution_count": 28,
     "metadata": {},
     "output_type": "execute_result"
    }
   ],
   "source": [
    "level0=verdaderos_df.columns.get_level_values(0)\n",
    "\n",
    "level1=verdaderos_df.columns.get_level_values(1)\n",
    "\n",
    "verdaderos_df.columns = level0 + '_' + level1\n",
    "\n",
    "\n",
    "verdaderos_df"
   ]
  },
  {
   "cell_type": "code",
   "execution_count": 29,
   "metadata": {},
   "outputs": [],
   "source": [
    "verdaderos_df=verdaderos_df.reset_index()"
   ]
  },
  {
   "cell_type": "code",
   "execution_count": null,
   "metadata": {},
   "outputs": [],
   "source": []
  },
  {
   "cell_type": "markdown",
   "metadata": {},
   "source": [
    "# PLOTT comparamos verdaderos y falso en un plot"
   ]
  },
  {
   "cell_type": "code",
   "execution_count": 47,
   "metadata": {},
   "outputs": [
    {
     "data": {
      "text/html": [
       "<div>\n",
       "<style scoped>\n",
       "    .dataframe tbody tr th:only-of-type {\n",
       "        vertical-align: middle;\n",
       "    }\n",
       "\n",
       "    .dataframe tbody tr th {\n",
       "        vertical-align: top;\n",
       "    }\n",
       "\n",
       "    .dataframe thead th {\n",
       "        text-align: right;\n",
       "    }\n",
       "</style>\n",
       "<table border=\"1\" class=\"dataframe\">\n",
       "  <thead>\n",
       "    <tr style=\"text-align: right;\">\n",
       "      <th></th>\n",
       "      <th>text_count</th>\n",
       "      <th>target_count</th>\n",
       "    </tr>\n",
       "  </thead>\n",
       "  <tbody>\n",
       "    <tr>\n",
       "      <th>0</th>\n",
       "      <td>14</td>\n",
       "      <td>1</td>\n",
       "    </tr>\n",
       "    <tr>\n",
       "      <th>1</th>\n",
       "      <td>17</td>\n",
       "      <td>1</td>\n",
       "    </tr>\n",
       "    <tr>\n",
       "      <th>2</th>\n",
       "      <td>18</td>\n",
       "      <td>2</td>\n",
       "    </tr>\n",
       "    <tr>\n",
       "      <th>3</th>\n",
       "      <td>19</td>\n",
       "      <td>1</td>\n",
       "    </tr>\n",
       "    <tr>\n",
       "      <th>4</th>\n",
       "      <td>20</td>\n",
       "      <td>2</td>\n",
       "    </tr>\n",
       "    <tr>\n",
       "      <th>...</th>\n",
       "      <td>...</td>\n",
       "      <td>...</td>\n",
       "    </tr>\n",
       "    <tr>\n",
       "      <th>136</th>\n",
       "      <td>153</td>\n",
       "      <td>2</td>\n",
       "    </tr>\n",
       "    <tr>\n",
       "      <th>137</th>\n",
       "      <td>154</td>\n",
       "      <td>1</td>\n",
       "    </tr>\n",
       "    <tr>\n",
       "      <th>138</th>\n",
       "      <td>155</td>\n",
       "      <td>1</td>\n",
       "    </tr>\n",
       "    <tr>\n",
       "      <th>139</th>\n",
       "      <td>158</td>\n",
       "      <td>1</td>\n",
       "    </tr>\n",
       "    <tr>\n",
       "      <th>140</th>\n",
       "      <td>161</td>\n",
       "      <td>1</td>\n",
       "    </tr>\n",
       "  </tbody>\n",
       "</table>\n",
       "<p>141 rows × 2 columns</p>\n",
       "</div>"
      ],
      "text/plain": [
       "     text_count  target_count\n",
       "0            14             1\n",
       "1            17             1\n",
       "2            18             2\n",
       "3            19             1\n",
       "4            20             2\n",
       "..          ...           ...\n",
       "136         153             2\n",
       "137         154             1\n",
       "138         155             1\n",
       "139         158             1\n",
       "140         161             1\n",
       "\n",
       "[141 rows x 2 columns]"
      ]
     },
     "execution_count": 47,
     "metadata": {},
     "output_type": "execute_result"
    }
   ],
   "source": [
    "verdaderos_corto_df = verdaderos_df[['text_count', 'target_count']]\n",
    "verdaderos_corto_df"
   ]
  },
  {
   "cell_type": "code",
   "execution_count": 48,
   "metadata": {},
   "outputs": [
    {
     "data": {
      "text/html": [
       "<div>\n",
       "<style scoped>\n",
       "    .dataframe tbody tr th:only-of-type {\n",
       "        vertical-align: middle;\n",
       "    }\n",
       "\n",
       "    .dataframe tbody tr th {\n",
       "        vertical-align: top;\n",
       "    }\n",
       "\n",
       "    .dataframe thead th {\n",
       "        text-align: right;\n",
       "    }\n",
       "</style>\n",
       "<table border=\"1\" class=\"dataframe\">\n",
       "  <thead>\n",
       "    <tr style=\"text-align: right;\">\n",
       "      <th></th>\n",
       "      <th>text_count</th>\n",
       "      <th>target_count</th>\n",
       "    </tr>\n",
       "  </thead>\n",
       "  <tbody>\n",
       "    <tr>\n",
       "      <th>0</th>\n",
       "      <td>7</td>\n",
       "      <td>3</td>\n",
       "    </tr>\n",
       "    <tr>\n",
       "      <th>1</th>\n",
       "      <td>8</td>\n",
       "      <td>4</td>\n",
       "    </tr>\n",
       "    <tr>\n",
       "      <th>2</th>\n",
       "      <td>9</td>\n",
       "      <td>2</td>\n",
       "    </tr>\n",
       "    <tr>\n",
       "      <th>3</th>\n",
       "      <td>10</td>\n",
       "      <td>2</td>\n",
       "    </tr>\n",
       "    <tr>\n",
       "      <th>4</th>\n",
       "      <td>11</td>\n",
       "      <td>4</td>\n",
       "    </tr>\n",
       "    <tr>\n",
       "      <th>...</th>\n",
       "      <td>...</td>\n",
       "      <td>...</td>\n",
       "    </tr>\n",
       "    <tr>\n",
       "      <th>146</th>\n",
       "      <td>154</td>\n",
       "      <td>1</td>\n",
       "    </tr>\n",
       "    <tr>\n",
       "      <th>147</th>\n",
       "      <td>155</td>\n",
       "      <td>1</td>\n",
       "    </tr>\n",
       "    <tr>\n",
       "      <th>148</th>\n",
       "      <td>157</td>\n",
       "      <td>2</td>\n",
       "    </tr>\n",
       "    <tr>\n",
       "      <th>149</th>\n",
       "      <td>158</td>\n",
       "      <td>1</td>\n",
       "    </tr>\n",
       "    <tr>\n",
       "      <th>150</th>\n",
       "      <td>163</td>\n",
       "      <td>1</td>\n",
       "    </tr>\n",
       "  </tbody>\n",
       "</table>\n",
       "<p>151 rows × 2 columns</p>\n",
       "</div>"
      ],
      "text/plain": [
       "     text_count  target_count\n",
       "0             7             3\n",
       "1             8             4\n",
       "2             9             2\n",
       "3            10             2\n",
       "4            11             4\n",
       "..          ...           ...\n",
       "146         154             1\n",
       "147         155             1\n",
       "148         157             2\n",
       "149         158             1\n",
       "150         163             1\n",
       "\n",
       "[151 rows x 2 columns]"
      ]
     },
     "execution_count": 48,
     "metadata": {},
     "output_type": "execute_result"
    }
   ],
   "source": [
    "falsos_corto_df = falsos_df[['text_count', 'target_count']]\n",
    "falsos_corto_df"
   ]
  },
  {
   "cell_type": "code",
   "execution_count": 49,
   "metadata": {},
   "outputs": [],
   "source": [
    "joined = falsos_corto_df.merge(verdaderos_corto_df, left_on='text_count', right_on='text_count', how='outer')    \n",
    "#oscars_short_perYear=oscars_short.merge(grouped, left_on='year_of_award',\n",
    "#right_on='year_of_award',how='outer')"
   ]
  },
  {
   "cell_type": "code",
   "execution_count": 50,
   "metadata": {},
   "outputs": [
    {
     "data": {
      "text/html": [
       "<div>\n",
       "<style scoped>\n",
       "    .dataframe tbody tr th:only-of-type {\n",
       "        vertical-align: middle;\n",
       "    }\n",
       "\n",
       "    .dataframe tbody tr th {\n",
       "        vertical-align: top;\n",
       "    }\n",
       "\n",
       "    .dataframe thead th {\n",
       "        text-align: right;\n",
       "    }\n",
       "</style>\n",
       "<table border=\"1\" class=\"dataframe\">\n",
       "  <thead>\n",
       "    <tr style=\"text-align: right;\">\n",
       "      <th></th>\n",
       "      <th>text_count</th>\n",
       "      <th>target_count_x</th>\n",
       "      <th>target_count_y</th>\n",
       "    </tr>\n",
       "  </thead>\n",
       "  <tbody>\n",
       "    <tr>\n",
       "      <th>0</th>\n",
       "      <td>7</td>\n",
       "      <td>3.0</td>\n",
       "      <td>NaN</td>\n",
       "    </tr>\n",
       "    <tr>\n",
       "      <th>1</th>\n",
       "      <td>8</td>\n",
       "      <td>4.0</td>\n",
       "      <td>NaN</td>\n",
       "    </tr>\n",
       "    <tr>\n",
       "      <th>2</th>\n",
       "      <td>9</td>\n",
       "      <td>2.0</td>\n",
       "      <td>NaN</td>\n",
       "    </tr>\n",
       "    <tr>\n",
       "      <th>3</th>\n",
       "      <td>10</td>\n",
       "      <td>2.0</td>\n",
       "      <td>NaN</td>\n",
       "    </tr>\n",
       "    <tr>\n",
       "      <th>4</th>\n",
       "      <td>11</td>\n",
       "      <td>4.0</td>\n",
       "      <td>NaN</td>\n",
       "    </tr>\n",
       "    <tr>\n",
       "      <th>...</th>\n",
       "      <td>...</td>\n",
       "      <td>...</td>\n",
       "      <td>...</td>\n",
       "    </tr>\n",
       "    <tr>\n",
       "      <th>148</th>\n",
       "      <td>157</td>\n",
       "      <td>2.0</td>\n",
       "      <td>NaN</td>\n",
       "    </tr>\n",
       "    <tr>\n",
       "      <th>149</th>\n",
       "      <td>158</td>\n",
       "      <td>1.0</td>\n",
       "      <td>1.0</td>\n",
       "    </tr>\n",
       "    <tr>\n",
       "      <th>150</th>\n",
       "      <td>163</td>\n",
       "      <td>1.0</td>\n",
       "      <td>NaN</td>\n",
       "    </tr>\n",
       "    <tr>\n",
       "      <th>151</th>\n",
       "      <td>149</td>\n",
       "      <td>NaN</td>\n",
       "      <td>3.0</td>\n",
       "    </tr>\n",
       "    <tr>\n",
       "      <th>152</th>\n",
       "      <td>161</td>\n",
       "      <td>NaN</td>\n",
       "      <td>1.0</td>\n",
       "    </tr>\n",
       "  </tbody>\n",
       "</table>\n",
       "<p>153 rows × 3 columns</p>\n",
       "</div>"
      ],
      "text/plain": [
       "     text_count  target_count_x  target_count_y\n",
       "0             7             3.0             NaN\n",
       "1             8             4.0             NaN\n",
       "2             9             2.0             NaN\n",
       "3            10             2.0             NaN\n",
       "4            11             4.0             NaN\n",
       "..          ...             ...             ...\n",
       "148         157             2.0             NaN\n",
       "149         158             1.0             1.0\n",
       "150         163             1.0             NaN\n",
       "151         149             NaN             3.0\n",
       "152         161             NaN             1.0\n",
       "\n",
       "[153 rows x 3 columns]"
      ]
     },
     "execution_count": 50,
     "metadata": {},
     "output_type": "execute_result"
    }
   ],
   "source": [
    "joined"
   ]
  },
  {
   "cell_type": "code",
   "execution_count": 51,
   "metadata": {},
   "outputs": [],
   "source": [
    "joined_fillna = joined.fillna(0)"
   ]
  },
  {
   "cell_type": "code",
   "execution_count": 52,
   "metadata": {},
   "outputs": [
    {
     "data": {
      "text/html": [
       "<div>\n",
       "<style scoped>\n",
       "    .dataframe tbody tr th:only-of-type {\n",
       "        vertical-align: middle;\n",
       "    }\n",
       "\n",
       "    .dataframe tbody tr th {\n",
       "        vertical-align: top;\n",
       "    }\n",
       "\n",
       "    .dataframe thead th {\n",
       "        text-align: right;\n",
       "    }\n",
       "</style>\n",
       "<table border=\"1\" class=\"dataframe\">\n",
       "  <thead>\n",
       "    <tr style=\"text-align: right;\">\n",
       "      <th></th>\n",
       "      <th>text_count</th>\n",
       "      <th>target_count_x</th>\n",
       "      <th>target_count_y</th>\n",
       "    </tr>\n",
       "  </thead>\n",
       "  <tbody>\n",
       "    <tr>\n",
       "      <th>0</th>\n",
       "      <td>7</td>\n",
       "      <td>3.0</td>\n",
       "      <td>0.0</td>\n",
       "    </tr>\n",
       "    <tr>\n",
       "      <th>1</th>\n",
       "      <td>8</td>\n",
       "      <td>4.0</td>\n",
       "      <td>0.0</td>\n",
       "    </tr>\n",
       "    <tr>\n",
       "      <th>2</th>\n",
       "      <td>9</td>\n",
       "      <td>2.0</td>\n",
       "      <td>0.0</td>\n",
       "    </tr>\n",
       "    <tr>\n",
       "      <th>3</th>\n",
       "      <td>10</td>\n",
       "      <td>2.0</td>\n",
       "      <td>0.0</td>\n",
       "    </tr>\n",
       "    <tr>\n",
       "      <th>4</th>\n",
       "      <td>11</td>\n",
       "      <td>4.0</td>\n",
       "      <td>0.0</td>\n",
       "    </tr>\n",
       "    <tr>\n",
       "      <th>5</th>\n",
       "      <td>12</td>\n",
       "      <td>4.0</td>\n",
       "      <td>0.0</td>\n",
       "    </tr>\n",
       "    <tr>\n",
       "      <th>6</th>\n",
       "      <td>13</td>\n",
       "      <td>3.0</td>\n",
       "      <td>0.0</td>\n",
       "    </tr>\n",
       "    <tr>\n",
       "      <th>7</th>\n",
       "      <td>14</td>\n",
       "      <td>4.0</td>\n",
       "      <td>1.0</td>\n",
       "    </tr>\n",
       "    <tr>\n",
       "      <th>8</th>\n",
       "      <td>15</td>\n",
       "      <td>3.0</td>\n",
       "      <td>0.0</td>\n",
       "    </tr>\n",
       "    <tr>\n",
       "      <th>9</th>\n",
       "      <td>16</td>\n",
       "      <td>5.0</td>\n",
       "      <td>0.0</td>\n",
       "    </tr>\n",
       "  </tbody>\n",
       "</table>\n",
       "</div>"
      ],
      "text/plain": [
       "   text_count  target_count_x  target_count_y\n",
       "0           7             3.0             0.0\n",
       "1           8             4.0             0.0\n",
       "2           9             2.0             0.0\n",
       "3          10             2.0             0.0\n",
       "4          11             4.0             0.0\n",
       "5          12             4.0             0.0\n",
       "6          13             3.0             0.0\n",
       "7          14             4.0             1.0\n",
       "8          15             3.0             0.0\n",
       "9          16             5.0             0.0"
      ]
     },
     "execution_count": 52,
     "metadata": {},
     "output_type": "execute_result"
    }
   ],
   "source": [
    "joined_fillna.head(10)"
   ]
  },
  {
   "cell_type": "code",
   "execution_count": 63,
   "metadata": {},
   "outputs": [
    {
     "data": {
      "image/png": "[encoded data removed]",
      "text/plain": [
       "<Figure size 640x480 with 1 Axes>"
      ]
     },
     "metadata": {},
     "output_type": "display_data"
    }
   ],
   "source": [
    "\n",
    "menMeans   = joined_fillna['target_count_x']\n",
    "womenMeans = joined_fillna['target_count_y']\n",
    "ind = joined_fillna['text_count']    # the x locations for the groups\n",
    "ind2 = joined_fillna['text_count'] \n",
    "width = 0.35       # the width of the bars: can also be len(x) sequence\n",
    "\n",
    "p1 = plt.bar(ind, menMeans,   width, color='r')\n",
    "p2 = plt.bar(ind2, womenMeans, width, color='y', bottom=menMeans)\n",
    "\n",
    "\n",
    "plt.show()"
   ]
  },
  {
   "cell_type": "code",
   "execution_count": null,
   "metadata": {},
   "outputs": [],
   "source": []
  },
  {
   "cell_type": "code",
   "execution_count": 94,
   "metadata": {},
   "outputs": [],
   "source": [
    "train_df_falsos = train_df[(train_df['target'] == 0)]\n",
    "train_df_verdaderos = train_df[(train_df['target'] == 1)]"
   ]
  },
  {
   "cell_type": "code",
   "execution_count": 95,
   "metadata": {},
   "outputs": [
    {
     "data": {
      "text/html": [
       "<div>\n",
       "<style scoped>\n",
       "    .dataframe tbody tr th:only-of-type {\n",
       "        vertical-align: middle;\n",
       "    }\n",
       "\n",
       "    .dataframe tbody tr th {\n",
       "        vertical-align: top;\n",
       "    }\n",
       "\n",
       "    .dataframe thead th {\n",
       "        text-align: right;\n",
       "    }\n",
       "</style>\n",
       "<table border=\"1\" class=\"dataframe\">\n",
       "  <thead>\n",
       "    <tr style=\"text-align: right;\">\n",
       "      <th></th>\n",
       "      <th>id</th>\n",
       "      <th>keyword</th>\n",
       "      <th>location</th>\n",
       "      <th>text</th>\n",
       "      <th>target</th>\n",
       "      <th>text_count</th>\n",
       "      <th>new_target</th>\n",
       "    </tr>\n",
       "  </thead>\n",
       "  <tbody>\n",
       "    <tr>\n",
       "      <th>0</th>\n",
       "      <td>1</td>\n",
       "      <td>NaN</td>\n",
       "      <td>NaN</td>\n",
       "      <td>Our Deeds are the Reason of this #earthquake M...</td>\n",
       "      <td>1</td>\n",
       "      <td>69</td>\n",
       "      <td>1</td>\n",
       "    </tr>\n",
       "    <tr>\n",
       "      <th>1</th>\n",
       "      <td>4</td>\n",
       "      <td>NaN</td>\n",
       "      <td>NaN</td>\n",
       "      <td>Forest fire near La Ronge Sask. Canada</td>\n",
       "      <td>1</td>\n",
       "      <td>38</td>\n",
       "      <td>1</td>\n",
       "    </tr>\n",
       "    <tr>\n",
       "      <th>2</th>\n",
       "      <td>5</td>\n",
       "      <td>NaN</td>\n",
       "      <td>NaN</td>\n",
       "      <td>All residents asked to 'shelter in place' are ...</td>\n",
       "      <td>1</td>\n",
       "      <td>133</td>\n",
       "      <td>1</td>\n",
       "    </tr>\n",
       "    <tr>\n",
       "      <th>3</th>\n",
       "      <td>6</td>\n",
       "      <td>NaN</td>\n",
       "      <td>NaN</td>\n",
       "      <td>13,000 people receive #wildfires evacuation or...</td>\n",
       "      <td>1</td>\n",
       "      <td>65</td>\n",
       "      <td>1</td>\n",
       "    </tr>\n",
       "    <tr>\n",
       "      <th>4</th>\n",
       "      <td>7</td>\n",
       "      <td>NaN</td>\n",
       "      <td>NaN</td>\n",
       "      <td>Just got sent this photo from Ruby #Alaska as ...</td>\n",
       "      <td>1</td>\n",
       "      <td>88</td>\n",
       "      <td>1</td>\n",
       "    </tr>\n",
       "    <tr>\n",
       "      <th>...</th>\n",
       "      <td>...</td>\n",
       "      <td>...</td>\n",
       "      <td>...</td>\n",
       "      <td>...</td>\n",
       "      <td>...</td>\n",
       "      <td>...</td>\n",
       "      <td>...</td>\n",
       "    </tr>\n",
       "    <tr>\n",
       "      <th>7608</th>\n",
       "      <td>10869</td>\n",
       "      <td>NaN</td>\n",
       "      <td>NaN</td>\n",
       "      <td>Two giant cranes holding a bridge collapse int...</td>\n",
       "      <td>1</td>\n",
       "      <td>83</td>\n",
       "      <td>1</td>\n",
       "    </tr>\n",
       "    <tr>\n",
       "      <th>7609</th>\n",
       "      <td>10870</td>\n",
       "      <td>NaN</td>\n",
       "      <td>NaN</td>\n",
       "      <td>@aria_ahrary @TheTawniest The out of control w...</td>\n",
       "      <td>1</td>\n",
       "      <td>125</td>\n",
       "      <td>1</td>\n",
       "    </tr>\n",
       "    <tr>\n",
       "      <th>7610</th>\n",
       "      <td>10871</td>\n",
       "      <td>NaN</td>\n",
       "      <td>NaN</td>\n",
       "      <td>M1.94 [01:04 UTC]?5km S of Volcano Hawaii. htt...</td>\n",
       "      <td>1</td>\n",
       "      <td>65</td>\n",
       "      <td>1</td>\n",
       "    </tr>\n",
       "    <tr>\n",
       "      <th>7611</th>\n",
       "      <td>10872</td>\n",
       "      <td>NaN</td>\n",
       "      <td>NaN</td>\n",
       "      <td>Police investigating after an e-bike collided ...</td>\n",
       "      <td>1</td>\n",
       "      <td>137</td>\n",
       "      <td>1</td>\n",
       "    </tr>\n",
       "    <tr>\n",
       "      <th>7612</th>\n",
       "      <td>10873</td>\n",
       "      <td>NaN</td>\n",
       "      <td>NaN</td>\n",
       "      <td>The Latest: More Homes Razed by Northern Calif...</td>\n",
       "      <td>1</td>\n",
       "      <td>94</td>\n",
       "      <td>1</td>\n",
       "    </tr>\n",
       "  </tbody>\n",
       "</table>\n",
       "<p>3271 rows × 7 columns</p>\n",
       "</div>"
      ],
      "text/plain": [
       "         id keyword location  \\\n",
       "0         1     NaN      NaN   \n",
       "1         4     NaN      NaN   \n",
       "2         5     NaN      NaN   \n",
       "3         6     NaN      NaN   \n",
       "4         7     NaN      NaN   \n",
       "...     ...     ...      ...   \n",
       "7608  10869     NaN      NaN   \n",
       "7609  10870     NaN      NaN   \n",
       "7610  10871     NaN      NaN   \n",
       "7611  10872     NaN      NaN   \n",
       "7612  10873     NaN      NaN   \n",
       "\n",
       "                                                   text  target  text_count  \\\n",
       "0     Our Deeds are the Reason of this #earthquake M...       1          69   \n",
       "1                Forest fire near La Ronge Sask. Canada       1          38   \n",
       "2     All residents asked to 'shelter in place' are ...       1         133   \n",
       "3     13,000 people receive #wildfires evacuation or...       1          65   \n",
       "4     Just got sent this photo from Ruby #Alaska as ...       1          88   \n",
       "...                                                 ...     ...         ...   \n",
       "7608  Two giant cranes holding a bridge collapse int...       1          83   \n",
       "7609  @aria_ahrary @TheTawniest The out of control w...       1         125   \n",
       "7610  M1.94 [01:04 UTC]?5km S of Volcano Hawaii. htt...       1          65   \n",
       "7611  Police investigating after an e-bike collided ...       1         137   \n",
       "7612  The Latest: More Homes Razed by Northern Calif...       1          94   \n",
       "\n",
       "      new_target  \n",
       "0              1  \n",
       "1              1  \n",
       "2              1  \n",
       "3              1  \n",
       "4              1  \n",
       "...          ...  \n",
       "7608           1  \n",
       "7609           1  \n",
       "7610           1  \n",
       "7611           1  \n",
       "7612           1  \n",
       "\n",
       "[3271 rows x 7 columns]"
      ]
     },
     "execution_count": 95,
     "metadata": {},
     "output_type": "execute_result"
    }
   ],
   "source": [
    "train_df_verdaderos"
   ]
  },
  {
   "cell_type": "code",
   "execution_count": 236,
   "metadata": {},
   "outputs": [
    {
     "data": {
      "image/png": "[encoded data removed]",
      "text/plain": [
       "<Figure size 1600x1200 with 1 Axes>"
      ]
     },
     "metadata": {},
     "output_type": "display_data"
    }
   ],
   "source": [
    "ax= plt.figure(figsize=(16, 12))\n",
    "\n",
    "false = train_df_falsos['text_count']\n",
    "true = train_df_verdaderos['text_count']\n",
    "\n",
    "bins = list(range(0, 180, 10))\n",
    "\n",
    "plt.hist(true, bins, alpha=0.5, label='true', color='red', ec='black')      \n",
    "plt.hist(false, bins, alpha=0.5, label='false', color= 'green', ec='black') \n",
    "\n",
    "plt.legend(loc='upper right')\n",
    "plt.title('titulo', fontsize=30)\n",
    "plt.xlabel('longitud del tweet', fontsize=30)\n",
    "plt.ylabel('cantidad de tweets', fontsize=30)\n",
    "plt.show()"
   ]
  },
  {
   "cell_type": "code",
   "execution_count": null,
   "metadata": {},
   "outputs": [],
   "source": []
  },
  {
   "cell_type": "code",
   "execution_count": null,
   "metadata": {},
   "outputs": [],
   "source": []
  },
  {
   "cell_type": "code",
   "execution_count": null,
   "metadata": {},
   "outputs": [],
   "source": []
  },
  {
   "cell_type": "code",
   "execution_count": 210,
   "metadata": {},
   "outputs": [
    {
     "data": {
      "image/png": "[encoded data removed]",
      "text/plain": [
       "<Figure size 640x480 with 1 Axes>"
      ]
     },
     "metadata": {},
     "output_type": "display_data"
    }
   ],
   "source": [
    "false = train_df_falsos['text_count']\n",
    "true = train_df_verdaderos['text_count']\n",
    "\n",
    "bins = list(range(0, 180, 10))\n",
    "\n",
    "plt.hist([false, true], bins, label=['true', 'false'], stacked = True, ec='black')\n",
    "plt.legend(loc='upper right')\n",
    "plt.title('titulo', fontsize=20)\n",
    "plt.xlabel('longitud del tweet')\n",
    "plt.ylabel('cantidad de tweets')\n",
    "plt.show()"
   ]
  },
  {
   "cell_type": "code",
   "execution_count": null,
   "metadata": {},
   "outputs": [],
   "source": []
  },
  {
   "cell_type": "markdown",
   "metadata": {},
   "source": [
    "### Agrupando por text_count"
   ]
  },
  {
   "cell_type": "code",
   "execution_count": null,
   "metadata": {},
   "outputs": [],
   "source": [
    "grouped_text_count=train_df.groupby(['text_count']).agg({'target':['mean', 'max', 'min','count']}) \n",
    "grouped_text_count"
   ]
  },
  {
   "cell_type": "code",
   "execution_count": null,
   "metadata": {},
   "outputs": [],
   "source": [
    "level0=grouped_text_count.columns.get_level_values(0)\n",
    "\n",
    "level1=grouped_text_count.columns.get_level_values(1)\n",
    "\n",
    "grouped_text_count.columns = level0 + '_' + level1\n",
    "\n",
    "\n",
    "\n",
    "#grouped=oscars_short.groupby(['award','religion']).size()\n",
    "#grouped=grouped.reset_index(inplace=True)\n",
    "grouped_text_count"
   ]
  },
  {
   "cell_type": "code",
   "execution_count": null,
   "metadata": {},
   "outputs": [],
   "source": [
    "grouped_text_count=grouped_text_count.reset_index()"
   ]
  },
  {
   "cell_type": "code",
   "execution_count": null,
   "metadata": {},
   "outputs": [],
   "source": [
    "grouped_text_count"
   ]
  },
  {
   "cell_type": "code",
   "execution_count": null,
   "metadata": {},
   "outputs": [],
   "source": [
    "ax= plt.figure(figsize=(16, 6))\n",
    "sns.lineplot(x='text_count', y='target_count', data=grouped_text_count)"
   ]
  },
  {
   "cell_type": "code",
   "execution_count": null,
   "metadata": {},
   "outputs": [],
   "source": []
  },
  {
   "cell_type": "code",
   "execution_count": null,
   "metadata": {},
   "outputs": [],
   "source": []
  },
  {
   "cell_type": "code",
   "execution_count": null,
   "metadata": {},
   "outputs": [],
   "source": []
  },
  {
   "cell_type": "code",
   "execution_count": null,
   "metadata": {},
   "outputs": [],
   "source": []
  },
  {
   "cell_type": "code",
   "execution_count": null,
   "metadata": {},
   "outputs": [],
   "source": []
  },
  {
   "cell_type": "code",
   "execution_count": null,
   "metadata": {},
   "outputs": [],
   "source": []
  },
  {
   "cell_type": "code",
   "execution_count": null,
   "metadata": {},
   "outputs": [],
   "source": []
  },
  {
   "cell_type": "code",
   "execution_count": null,
   "metadata": {},
   "outputs": [],
   "source": [
    "target_df=train_df.groupby(['target']).agg({'text_count':['mean', 'max', 'min','count']}) \n",
    "target_df"
   ]
  },
  {
   "cell_type": "code",
   "execution_count": null,
   "metadata": {},
   "outputs": [],
   "source": [
    "level0=target_df.columns.get_level_values(0)\n",
    "\n",
    "level1=target_df.columns.get_level_values(1)\n",
    "\n",
    "target_df.columns = level0 + '_' + level1\n",
    "\n",
    "\n",
    "\n",
    "#grouped=oscars_short.groupby(['award','religion']).size()\n",
    "#grouped=grouped.reset_index(inplace=True)\n",
    "target_df\n",
    "#col_rename={0:'count_religion'}\n",
    "#oscars_short_by_religion=oscars_short_by_religion.rename(columns=col_rename)\n",
    "#oscars_short_by_religion"
   ]
  },
  {
   "cell_type": "code",
   "execution_count": null,
   "metadata": {},
   "outputs": [],
   "source": [
    "target_df=target_df.reset_index()"
   ]
  },
  {
   "cell_type": "code",
   "execution_count": null,
   "metadata": {},
   "outputs": [],
   "source": [
    "target_df"
   ]
  },
  {
   "cell_type": "code",
   "execution_count": null,
   "metadata": {},
   "outputs": [],
   "source": []
  },
  {
   "cell_type": "code",
   "execution_count": null,
   "metadata": {},
   "outputs": [],
   "source": []
  },
  {
   "cell_type": "code",
   "execution_count": null,
   "metadata": {},
   "outputs": [],
   "source": []
  },
  {
   "cell_type": "code",
   "execution_count": null,
   "metadata": {},
   "outputs": [],
   "source": []
  },
  {
   "cell_type": "code",
   "execution_count": null,
   "metadata": {},
   "outputs": [],
   "source": []
  },
  {
   "cell_type": "code",
   "execution_count": null,
   "metadata": {},
   "outputs": [],
   "source": []
  },
  {
   "cell_type": "code",
   "execution_count": null,
   "metadata": {},
   "outputs": [],
   "source": []
  },
  {
   "cell_type": "code",
   "execution_count": null,
   "metadata": {},
   "outputs": [],
   "source": []
  },
  {
   "cell_type": "markdown",
   "metadata": {},
   "source": [
    "# De aca para abajo no darle bola. es teoria"
   ]
  },
  {
   "cell_type": "markdown",
   "metadata": {
    "colab_type": "text",
    "id": "XJNszo2UFSZI"
   },
   "source": [
    "### To begin, we will be importing the libraries we will be using for this example:\n",
    "\n",
    "* **pandas**: To provide high-performance, easy-to-use data structures and data analysis tools for the Python programming\n",
    "\n",
    "* **numpy**: To add support for large, multi-dimensional arrays and matrices, along with a large collection of high-level mathematical functions to operate on these arrays.\n",
    "\n",
    "* **matplotlib**: Plotting library for the Python programming language and its numerical mathematics extension NumPy.\n",
    "\n",
    "#### We will be also using _%matplotlib inline_, to have the output of plotting commands displayed inline within frontends like the Jupyter notebook, directly below the code cell that produced it. The resulting plots will then also be stored in the notebook document. "
   ]
  },
  {
   "cell_type": "code",
   "execution_count": null,
   "metadata": {
    "colab": {},
    "colab_type": "code",
    "id": "bbKHcJRsFSZL"
   },
   "outputs": [],
   "source": [
    "import pandas as pd\n",
    "import numpy as np\n",
    "import seaborn as sns\n",
    "import matplotlib.pyplot as plt\n",
    "%matplotlib inline"
   ]
  },
  {
   "cell_type": "code",
   "execution_count": null,
   "metadata": {
    "colab": {},
    "colab_type": "code",
    "id": "mabNEEI_F-z1"
   },
   "outputs": [],
   "source": [
    "#from pydrive.auth import GoogleAuth\n",
    "#from pydrive.drive import GoogleDrive\n",
    "#from google.colab import auth\n",
    "#from oauth2client.client import GoogleCredentials\n",
    "\n"
   ]
  },
  {
   "cell_type": "code",
   "execution_count": null,
   "metadata": {},
   "outputs": [],
   "source": [
    "# Authenticate and create the PyDrive client\n",
    "#auth.authenticate_user()\n",
    "#gauth = GoogleAuth()\n",
    "#gauth.credentials = GoogleCredentials.get_application_default()\n",
    "#drive = GoogleDrive(gauth)"
   ]
  },
  {
   "cell_type": "markdown",
   "metadata": {
    "colab_type": "text",
    "id": "cHbrdDb2FSZR"
   },
   "source": [
    "#### Now we are ready to read the first file. As data is in csv format, we will be using the read_csv() function, which allows us to parse and load data into a dataframe (in memory) easily.\n",
    "\n",
    "#### To see what we just read, we will be using the head() function. We can indicate the number of rows as a parameter, or by default it will show 5 rows.\n",
    "####  "
   ]
  },
  {
   "cell_type": "code",
   "execution_count": null,
   "metadata": {
    "colab": {},
    "colab_type": "code",
    "id": "vw2uv0KyFWvt"
   },
   "outputs": [],
   "source": [
    "\n",
    "#id='1IYecdd6KegNcDM-Az6DtDPBCFeNpiw5D'\n",
    "#downloaded = drive.CreateFile({'id': id})\n",
    "#downloaded.GetContentFile('Oscars-demographics-DFE.csv')"
   ]
  },
  {
   "cell_type": "code",
   "execution_count": null,
   "metadata": {
    "colab": {
     "base_uri": "https://localhost:8080/",
     "height": 183
    },
    "colab_type": "code",
    "id": "BF70GIrHFSZS",
    "outputId": "f2ac8a7a-daf5-406b-81ab-b1112090c3b6"
   },
   "outputs": [],
   "source": [
    "# Load the Data and take a quick look.\n",
    "oscars_demographics = pd.read_csv('Oscars-demographics-DFE.csv', encoding='latin-1')\n",
    "oscars_demographics.tail()"
   ]
  },
  {
   "cell_type": "code",
   "execution_count": null,
   "metadata": {
    "colab": {
     "base_uri": "https://localhost:8080/",
     "height": 289
    },
    "colab_type": "code",
    "id": "AcXZ8wA8FSZZ",
    "outputId": "6e18d365-7012-4659-d00f-1d3dec9668db"
   },
   "outputs": [],
   "source": [
    "oscars_short = pd.read_csv('Oscars-demographics-DFE.csv', encoding='latin-1',\\\n",
    "                usecols=['birthplace', 'date_of_birth', 'race_ethnicity', 'religion','sexual_orientation', 'year_of_award', 'award', 'movie', 'person'])\n",
    "oscars_short.tail()"
   ]
  },
  {
   "cell_type": "code",
   "execution_count": null,
   "metadata": {
    "colab": {
     "base_uri": "https://localhost:8080/",
     "height": 607
    },
    "colab_type": "code",
    "id": "JAXz7Z_BFSZe",
    "outputId": "9bd1a09a-fa48-4fb9-eff0-ffebb77d865a"
   },
   "outputs": [],
   "source": [
    "# Information about the dataset\n",
    "oscars_demographics.info()"
   ]
  },
  {
   "cell_type": "code",
   "execution_count": null,
   "metadata": {
    "colab": {
     "base_uri": "https://localhost:8080/",
     "height": 314
    },
    "colab_type": "code",
    "id": "wJCe42fwFSZk",
    "outputId": "3bea00a6-5905-42c9-bc69-8640af1f2345"
   },
   "outputs": [],
   "source": [
    "# Some stats about the numeric columns in our dataset\n",
    "oscars_demographics.describe()"
   ]
  },
  {
   "cell_type": "markdown",
   "metadata": {
    "colab_type": "text",
    "id": "F94L0f7dFSZq"
   },
   "source": [
    "### DataFrame structure\n",
    "\n",
    "#### This is how a DataFrame is shown. We can see that both the column names and the index names are in bold. Columns and index provide labels to the columns and rows, which allow for direct and easy access to different subsets of data.\n",
    "\n",
    "#### DataFrame data (values) is always in regular font and is an entirely separate component from the columns or index.\n",
    "\n",
    "####  Each of the three DataFrame components: the index, columns, and data; may be accessed directly from a DataFrame. Each of these components is itself a Python object with its own unique attributes and methods.\n",
    "\n",
    "#### Let´s see how to access each of them:\n",
    "####     "
   ]
  },
  {
   "cell_type": "code",
   "execution_count": null,
   "metadata": {
    "colab": {},
    "colab_type": "code",
    "id": "RiiBqmmcFSZr"
   },
   "outputs": [],
   "source": [
    "oscars_index = oscars_demographics.index\n",
    "oscars_columns = oscars_demographics.columns\n",
    "oscars_data = oscars_demographics.values"
   ]
  },
  {
   "cell_type": "code",
   "execution_count": null,
   "metadata": {
    "colab": {
     "base_uri": "https://localhost:8080/",
     "height": 35
    },
    "colab_type": "code",
    "id": "3_j-5szPFSZx",
    "outputId": "23b128d9-a1c1-4841-e89c-af9171adf566"
   },
   "outputs": [],
   "source": [
    "oscars_index"
   ]
  },
  {
   "cell_type": "code",
   "execution_count": null,
   "metadata": {
    "colab": {
     "base_uri": "https://localhost:8080/",
     "height": 173
    },
    "colab_type": "code",
    "id": "_3Z4IFeLFSZ4",
    "outputId": "c75472b9-8104-442b-e85d-d9c4cfc34705"
   },
   "outputs": [],
   "source": [
    "oscars_columns"
   ]
  },
  {
   "cell_type": "code",
   "execution_count": null,
   "metadata": {
    "colab": {
     "base_uri": "https://localhost:8080/",
     "height": 139
    },
    "colab_type": "code",
    "id": "wY4gBVjcFSZ9",
    "outputId": "3236d4bc-ec49-4f94-d428-eb9d6125a145"
   },
   "outputs": [],
   "source": [
    "oscars_data"
   ]
  },
  {
   "cell_type": "code",
   "execution_count": null,
   "metadata": {
    "colab": {
     "base_uri": "https://localhost:8080/",
     "height": 35
    },
    "colab_type": "code",
    "id": "ZxKw0C0-FSaD",
    "outputId": "6e1af349-4d0b-432a-8580-117039ac2d09"
   },
   "outputs": [],
   "source": [
    "type(oscars_index)"
   ]
  },
  {
   "cell_type": "code",
   "execution_count": null,
   "metadata": {
    "colab": {
     "base_uri": "https://localhost:8080/",
     "height": 35
    },
    "colab_type": "code",
    "id": "BsIntiPJFSaJ",
    "outputId": "4adfb47c-36ea-4260-f11b-426b3631f0f8"
   },
   "outputs": [],
   "source": [
    "type(oscars_columns)"
   ]
  },
  {
   "cell_type": "code",
   "execution_count": null,
   "metadata": {
    "colab": {
     "base_uri": "https://localhost:8080/",
     "height": 35
    },
    "colab_type": "code",
    "id": "H56iIgWmFSaO",
    "outputId": "78c9420d-cb6d-466b-dfa7-2761ed2a13ca"
   },
   "outputs": [],
   "source": [
    "type(oscars_data)"
   ]
  },
  {
   "cell_type": "markdown",
   "metadata": {
    "colab_type": "text",
    "id": "L11esVBNFSaT"
   },
   "source": [
    "### Data Types\n",
    "\n",
    "* _bool_: Boolean, stored in a single byte\n",
    "* _int_: Integer, defaulted to 64bits, also available unsigned int\n",
    "* _float_: Float, defaulted to 64bits\n",
    "* _complex_: Complex, rarely seen in data analysis\n",
    "* _object_: Object, typically a string, but is a catch-all for columns with multiple different types or other python objects\n",
    "* _datetime64_: Datetime, specific moment in time\n",
    "* _timedelta64_: Timedelta, amount of time\n",
    "* _category_: Categorical, used for columns with a few possible values\n",
    "\n",
    "#### We can use _dtype_ to display the data type associated with each column\n",
    "##   "
   ]
  },
  {
   "cell_type": "code",
   "execution_count": null,
   "metadata": {
    "colab": {
     "base_uri": "https://localhost:8080/",
     "height": 503
    },
    "colab_type": "code",
    "id": "8x5frqTGFSaU",
    "outputId": "1bb9fe0a-b06c-494f-8be1-3b008ded5588"
   },
   "outputs": [],
   "source": [
    "oscars_demographics.dtypes"
   ]
  },
  {
   "cell_type": "code",
   "execution_count": null,
   "metadata": {
    "colab": {
     "base_uri": "https://localhost:8080/",
     "height": 104
    },
    "colab_type": "code",
    "id": "BuytE2NHFSaa",
    "outputId": "0b86b513-15dd-4d4e-b304-a31bf5dae488"
   },
   "outputs": [],
   "source": [
    "#Using dtypes we saw the data types of each column. To see the quantity of columns with each data type we can use value_counts:\n",
    "oscars_demographics.dtypes.value_counts()"
   ]
  },
  {
   "cell_type": "markdown",
   "metadata": {
    "colab_type": "text",
    "id": "Nc3ScFMVFSaf"
   },
   "source": [
    "### Series\n",
    "\n",
    "  It is a __single dimension__ of data, composed of just an index and the data\n",
    "\n",
    "  We can select a column using the __index operator__, or using the __dot notation__. \n",
    "\n",
    "###   "
   ]
  },
  {
   "cell_type": "code",
   "execution_count": null,
   "metadata": {
    "colab": {
     "base_uri": "https://localhost:8080/",
     "height": 225
    },
    "colab_type": "code",
    "id": "37zToKWXFSaf",
    "outputId": "8b88e957-9e98-4793-c1ce-02a228066d0e"
   },
   "outputs": [],
   "source": [
    "# We can indicate a column name, using the index operator:\n",
    "\n",
    "oscars_demographics['person']"
   ]
  },
  {
   "cell_type": "code",
   "execution_count": null,
   "metadata": {
    "colab": {
     "base_uri": "https://localhost:8080/",
     "height": 225
    },
    "colab_type": "code",
    "id": "5ZFu-2UnFSaj",
    "outputId": "2d3ec51b-ddec-4f1d-fb4e-59fe1138d7dd"
   },
   "outputs": [],
   "source": [
    "# We can also use the dot notation to indicate which column to select\n",
    "\n",
    "oscars_demographics.person"
   ]
  },
  {
   "cell_type": "markdown",
   "metadata": {
    "colab_type": "text",
    "id": "PeNFMQzOFSan"
   },
   "source": [
    "### In this case, both outputs are the same, they are series. It has an index and data, the data type is the one from the column, in this case is object. \n",
    "\n",
    "Notice that this worked because the column name doesn´t include a blank. If the column was named business name instead of name, it whouldn´t have worked. \n",
    "\n",
    "Best practice is to use always the __index operator__, and avoid the use of the dot notation.\n",
    "###    "
   ]
  },
  {
   "cell_type": "code",
   "execution_count": null,
   "metadata": {
    "colab": {
     "base_uri": "https://localhost:8080/",
     "height": 35
    },
    "colab_type": "code",
    "id": "pO0WdVDBFSao",
    "outputId": "c4e786f7-d596-4f0e-93fe-0e9e6ca8ab25"
   },
   "outputs": [],
   "source": [
    "#To verify the data type of the output:\n",
    "\n",
    "type(oscars_demographics['person'])"
   ]
  },
  {
   "cell_type": "code",
   "execution_count": null,
   "metadata": {
    "colab": {
     "base_uri": "https://localhost:8080/",
     "height": 35
    },
    "colab_type": "code",
    "id": "Xr9SqqUwFSas",
    "outputId": "1c9ccdb4-9133-49a9-f7bd-b47dd997b77f"
   },
   "outputs": [],
   "source": [
    "type(oscars_demographics['person'].to_frame())"
   ]
  },
  {
   "cell_type": "code",
   "execution_count": null,
   "metadata": {
    "colab": {
     "base_uri": "https://localhost:8080/",
     "height": 156
    },
    "colab_type": "code",
    "id": "-zJ9bkXfFSax",
    "outputId": "04dbad88-e0a5-4b0c-9a68-b440469d410c"
   },
   "outputs": [],
   "source": [
    "oscars_demographics['person'].to_frame().info()"
   ]
  },
  {
   "cell_type": "markdown",
   "metadata": {
    "colab_type": "text",
    "id": "e90FWpG1FSa0"
   },
   "source": [
    "### Series Methods\n",
    "\n",
    "#### We will start understanding what methods can be applied to a series, and some examples. Methods will depend on the data type.\n",
    "### "
   ]
  },
  {
   "cell_type": "code",
   "execution_count": null,
   "metadata": {
    "colab": {
     "base_uri": "https://localhost:8080/",
     "height": 35
    },
    "colab_type": "code",
    "id": "M7SBPcXeFSa1",
    "outputId": "2b1d36a4-486e-4bb5-be6d-f71c10e7f347"
   },
   "outputs": [],
   "source": [
    "s_attr_methods = set(dir(pd.Series))\n",
    "len(s_attr_methods)"
   ]
  },
  {
   "cell_type": "code",
   "execution_count": null,
   "metadata": {
    "colab": {
     "base_uri": "https://localhost:8080/",
     "height": 1000
    },
    "colab_type": "code",
    "id": "6J-3Y9_7FSa5",
    "outputId": "4361fd69-cc59-40a5-cde4-679cf9cb42a3"
   },
   "outputs": [],
   "source": [
    "s_attr_methods"
   ]
  },
  {
   "cell_type": "code",
   "execution_count": null,
   "metadata": {
    "colab": {
     "base_uri": "https://localhost:8080/",
     "height": 35
    },
    "colab_type": "code",
    "id": "PlSrHTGSFSa9",
    "outputId": "d6ee61bc-d7b5-43a2-83b5-3a9efdc71eaa"
   },
   "outputs": [],
   "source": [
    "df_attr_methods = set(dir(pd.DataFrame))\n",
    "len(df_attr_methods)"
   ]
  },
  {
   "cell_type": "code",
   "execution_count": null,
   "metadata": {
    "colab": {
     "base_uri": "https://localhost:8080/",
     "height": 1000
    },
    "colab_type": "code",
    "id": "T5yFbYHsFSbA",
    "outputId": "0c1bc82c-334c-4eb6-f51c-5acef0a57e2d"
   },
   "outputs": [],
   "source": [
    "df_attr_methods"
   ]
  },
  {
   "cell_type": "markdown",
   "metadata": {
    "colab_type": "text",
    "id": "y_PBUzDBFSbF"
   },
   "source": [
    "#### As an example, we will select columns with two different data types"
   ]
  },
  {
   "cell_type": "code",
   "execution_count": null,
   "metadata": {
    "colab": {},
    "colab_type": "code",
    "id": "YCFTcIZRFSbF"
   },
   "outputs": [],
   "source": [
    "#Selecting two columns with different data types:\n",
    "oscars_movie = oscars_demographics['movie']\n",
    "oscars_year = oscars_demographics['year_of_award']"
   ]
  },
  {
   "cell_type": "code",
   "execution_count": null,
   "metadata": {
    "colab": {
     "base_uri": "https://localhost:8080/",
     "height": 121
    },
    "colab_type": "code",
    "id": "vky0U5RAFSbI",
    "outputId": "71fc30ac-a444-4bf0-9f1b-61c898295994"
   },
   "outputs": [],
   "source": [
    "oscars_movie.head()"
   ]
  },
  {
   "cell_type": "code",
   "execution_count": null,
   "metadata": {
    "colab": {
     "base_uri": "https://localhost:8080/",
     "height": 121
    },
    "colab_type": "code",
    "id": "1hqI3Mq0FSbK",
    "outputId": "539accc5-f523-4d8e-e956-8f7d677cef08"
   },
   "outputs": [],
   "source": [
    "oscars_year.head()"
   ]
  },
  {
   "cell_type": "markdown",
   "metadata": {
    "colab_type": "text",
    "id": "Mt1xiwzyFSbN"
   },
   "source": [
    "### Value_Counts()\n",
    "\n",
    "This method is usefull to understand the distribution the data on the serie contains. It´s usually more useful in object series than in numeric series "
   ]
  },
  {
   "cell_type": "code",
   "execution_count": null,
   "metadata": {
    "colab": {
     "base_uri": "https://localhost:8080/",
     "height": 225
    },
    "colab_type": "code",
    "id": "l-8K1Rk3FSbO",
    "outputId": "0066a1c0-7e1c-47b3-b15c-7be328674f1d"
   },
   "outputs": [],
   "source": [
    "oscars_movie.value_counts()"
   ]
  },
  {
   "cell_type": "markdown",
   "metadata": {
    "colab_type": "text",
    "id": "QxYKFe0_FSbS"
   },
   "source": [
    "We can also see the values normalized, which give us another perspective on the volume of occurency of each of the elemnts:\n"
   ]
  },
  {
   "cell_type": "code",
   "execution_count": null,
   "metadata": {
    "colab": {
     "base_uri": "https://localhost:8080/",
     "height": 225
    },
    "colab_type": "code",
    "id": "LhfY4JNrFSbS",
    "outputId": "9303435c-4f85-4fd6-f7a4-d4798477b12b"
   },
   "outputs": [],
   "source": [
    "oscars_movie.value_counts(normalize=True)"
   ]
  },
  {
   "cell_type": "markdown",
   "metadata": {
    "colab_type": "text",
    "id": "97rH5Uf5FSbU"
   },
   "source": [
    "#### Although it is more useful in object series, it helps to understand values distribution in some numeric series:\n",
    "####     "
   ]
  },
  {
   "cell_type": "code",
   "execution_count": null,
   "metadata": {
    "colab": {
     "base_uri": "https://localhost:8080/",
     "height": 225
    },
    "colab_type": "code",
    "id": "ASJvBb3lFSbV",
    "outputId": "cc07f016-db95-4598-ebeb-7056c10f56f5"
   },
   "outputs": [],
   "source": [
    "oscars_year.value_counts()"
   ]
  },
  {
   "cell_type": "code",
   "execution_count": null,
   "metadata": {
    "colab": {
     "base_uri": "https://localhost:8080/",
     "height": 225
    },
    "colab_type": "code",
    "id": "3wn5MUkOFSbY",
    "outputId": "ee8a451e-1d98-465c-c3f5-69c20d2bab40"
   },
   "outputs": [],
   "source": [
    "oscars_demographics['year_of_award'].value_counts()"
   ]
  },
  {
   "cell_type": "markdown",
   "metadata": {
    "colab_type": "text",
    "id": "MCiyo5eqFSba"
   },
   "source": [
    "#### Value_counts() return a series, where the value is the index, and the count associated to the value is the element."
   ]
  },
  {
   "cell_type": "markdown",
   "metadata": {
    "colab_type": "text",
    "id": "g4lsWklsFSbb"
   },
   "source": [
    "#### Counting the number of elements in a serie: size, shape, len()"
   ]
  },
  {
   "cell_type": "code",
   "execution_count": null,
   "metadata": {
    "colab": {
     "base_uri": "https://localhost:8080/",
     "height": 35
    },
    "colab_type": "code",
    "id": "06FkM5c7FSbb",
    "outputId": "67b43bf7-ac6c-4398-b1fa-3b677f90b306"
   },
   "outputs": [],
   "source": [
    "oscars_demographics.size"
   ]
  },
  {
   "cell_type": "code",
   "execution_count": null,
   "metadata": {
    "colab": {
     "base_uri": "https://localhost:8080/",
     "height": 35
    },
    "colab_type": "code",
    "id": "j_JIG037FSbe",
    "outputId": "ee415db2-4613-4651-96d7-8b59f630dcf7"
   },
   "outputs": [],
   "source": [
    "oscars_demographics.shape"
   ]
  },
  {
   "cell_type": "code",
   "execution_count": null,
   "metadata": {
    "colab": {
     "base_uri": "https://localhost:8080/",
     "height": 35
    },
    "colab_type": "code",
    "id": "AKkPWSOhFSbi",
    "outputId": "f1bad972-7cc7-4b10-d1a6-b535721c5a7b"
   },
   "outputs": [],
   "source": [
    "len(oscars_demographics)"
   ]
  },
  {
   "cell_type": "code",
   "execution_count": null,
   "metadata": {
    "colab": {
     "base_uri": "https://localhost:8080/",
     "height": 503
    },
    "colab_type": "code",
    "id": "ebp65FpGFSbm",
    "outputId": "9c17f64e-33ba-4ad9-9257-afb886b69137"
   },
   "outputs": [],
   "source": [
    "oscars_demographics.count()"
   ]
  },
  {
   "cell_type": "markdown",
   "metadata": {
    "colab_type": "text",
    "id": "Wp4nXDpPFSbq"
   },
   "source": [
    "_size_, _len_ and _count_ return __scala__ values, but _shape_ returns a __one-item tuple__."
   ]
  },
  {
   "cell_type": "markdown",
   "metadata": {
    "colab_type": "text",
    "id": "H-QE1rtsFSbq"
   },
   "source": [
    "#### Difference between size, shape, len() and Count()"
   ]
  },
  {
   "cell_type": "code",
   "execution_count": null,
   "metadata": {
    "colab": {
     "base_uri": "https://localhost:8080/",
     "height": 35
    },
    "colab_type": "code",
    "id": "57hpoTwFFSbq",
    "outputId": "136ca0f7-66a9-4e03-e02c-030a8f43a531"
   },
   "outputs": [],
   "source": [
    "# Although size (shape and len) will still give us the number of elements:\n",
    "oscars_demographics['date_of_birth_gold'].size"
   ]
  },
  {
   "cell_type": "code",
   "execution_count": null,
   "metadata": {
    "colab": {
     "base_uri": "https://localhost:8080/",
     "height": 35
    },
    "colab_type": "code",
    "id": "Da4xi9AgFSbu",
    "outputId": "7f10f886-9111-416a-9259-9bd159b2a076"
   },
   "outputs": [],
   "source": [
    "# Count will give us the number of elements with values:\n",
    "oscars_demographics['date_of_birth_gold'].count()"
   ]
  },
  {
   "cell_type": "code",
   "execution_count": null,
   "metadata": {
    "colab": {
     "base_uri": "https://localhost:8080/",
     "height": 225
    },
    "colab_type": "code",
    "id": "nPgtEFQNFSby",
    "outputId": "56f40f3f-a73a-4fa5-a2f1-463c64ddecf6"
   },
   "outputs": [],
   "source": [
    "# Because of this result, we know there are null values. To confirm this we can run isnull() which will return a serie of the same length as the original one, indicating True (if null) or false (if not)\n",
    "oscars_demographics['date_of_birth_gold'].isnull()"
   ]
  },
  {
   "cell_type": "code",
   "execution_count": null,
   "metadata": {
    "colab": {
     "base_uri": "https://localhost:8080/",
     "height": 35
    },
    "colab_type": "code",
    "id": "G0_GgE3UFSb1",
    "outputId": "9bd42673-6960-4953-ad89-0a55258afa2f"
   },
   "outputs": [],
   "source": [
    "# We can also check if there are null values by using hasnans attribute:\n",
    "oscars_demographics['date_of_birth_gold'].hasnans"
   ]
  },
  {
   "cell_type": "code",
   "execution_count": null,
   "metadata": {
    "colab": {
     "base_uri": "https://localhost:8080/",
     "height": 503
    },
    "colab_type": "code",
    "id": "aIyW5al7FSb4",
    "outputId": "eed3f6f8-9e10-4c3f-92ef-ff2808b4e299"
   },
   "outputs": [],
   "source": [
    "# We need to take a decision on what to do with te null values. Sometimes we can ignore them, sometimes we can eliminate them, and others we can fill them using a specific value, or the previous or following value in the serie.\n",
    "\n",
    "oscars_demographics.count()"
   ]
  },
  {
   "cell_type": "code",
   "execution_count": null,
   "metadata": {
    "colab": {
     "base_uri": "https://localhost:8080/",
     "height": 225
    },
    "colab_type": "code",
    "id": "-0Q9VBTfFSb9",
    "outputId": "c0d89ded-ee0b-4653-822d-ede78e0f1485"
   },
   "outputs": [],
   "source": [
    "oscars_date_of_birth_gold = oscars_demographics['date_of_birth_gold']\n",
    "oscars_date_of_birth_gold"
   ]
  },
  {
   "cell_type": "code",
   "execution_count": null,
   "metadata": {
    "colab": {},
    "colab_type": "code",
    "id": "BMakRtnNFScB"
   },
   "outputs": [],
   "source": [
    "# Filling Nan with a specific value:\n",
    "\n",
    "oscars_date_of_birth_gold_fillna = oscars_date_of_birth_gold.fillna('None')"
   ]
  },
  {
   "cell_type": "code",
   "execution_count": null,
   "metadata": {
    "colab": {
     "base_uri": "https://localhost:8080/",
     "height": 35
    },
    "colab_type": "code",
    "id": "aXlLky-kFScE",
    "outputId": "8ef2eaf4-37bd-4887-cc91-40d26549f393"
   },
   "outputs": [],
   "source": [
    "oscars_date_of_birth_gold_fillna.count()"
   ]
  },
  {
   "cell_type": "code",
   "execution_count": null,
   "metadata": {
    "colab": {
     "base_uri": "https://localhost:8080/",
     "height": 35
    },
    "colab_type": "code",
    "id": "EODn2xBjFScJ",
    "outputId": "2da41cf3-b5cb-4c66-b2c4-a5e4813ffcb4"
   },
   "outputs": [],
   "source": [
    "oscars_date_of_birth_gold_fillna.size"
   ]
  },
  {
   "cell_type": "code",
   "execution_count": null,
   "metadata": {
    "colab": {},
    "colab_type": "code",
    "id": "iWP8qNvQFScN"
   },
   "outputs": [],
   "source": [
    "# removing NaN elements:\n",
    "\n",
    "oscars_date_of_birth_gold_dropped = oscars_date_of_birth_gold.dropna()"
   ]
  },
  {
   "cell_type": "code",
   "execution_count": null,
   "metadata": {
    "colab": {
     "base_uri": "https://localhost:8080/",
     "height": 35
    },
    "colab_type": "code",
    "id": "XTXvetVDFScP",
    "outputId": "0131c2e6-3476-4096-9302-387d9b9b21a7"
   },
   "outputs": [],
   "source": [
    "oscars_date_of_birth_gold_dropped.count()"
   ]
  },
  {
   "cell_type": "code",
   "execution_count": null,
   "metadata": {
    "colab": {
     "base_uri": "https://localhost:8080/",
     "height": 35
    },
    "colab_type": "code",
    "id": "hnh3krpJFScR",
    "outputId": "82c6757a-d3f7-4bf5-ed5b-de3c289b6975"
   },
   "outputs": [],
   "source": [
    "oscars_date_of_birth_gold_dropped.size"
   ]
  },
  {
   "cell_type": "markdown",
   "metadata": {
    "colab_type": "text",
    "id": "8S4T6YLAFScU"
   },
   "source": [
    "#### Basic Statistics: min, max, mean, median, std, sum and describe methods\n"
   ]
  },
  {
   "cell_type": "code",
   "execution_count": null,
   "metadata": {
    "colab": {
     "base_uri": "https://localhost:8080/",
     "height": 35
    },
    "colab_type": "code",
    "id": "NBwgg_bNFScU",
    "outputId": "e567c3de-3de1-4ebb-a71c-f8b68b080639"
   },
   "outputs": [],
   "source": [
    "#oscars_demographics.columns\n",
    "\n",
    "col_rename ={'_trusted_judgments':'trusted_judgments'}\n",
    "\n",
    "oscars_demographics = oscars_demographics.rename(columns=col_rename)\n",
    "\n",
    "\n",
    "\n",
    "oscars_demographics.trusted_judgments.min(),oscars_demographics.trusted_judgments.max(),oscars_demographics.trusted_judgments.mean(),oscars_demographics.trusted_judgments.median(),oscars_demographics.trusted_judgments.std(),oscars_demographics.trusted_judgments.sum()"
   ]
  },
  {
   "cell_type": "code",
   "execution_count": null,
   "metadata": {
    "colab": {
     "base_uri": "https://localhost:8080/",
     "height": 173
    },
    "colab_type": "code",
    "id": "Ini6f8eJFScX",
    "outputId": "bb13595b-eee1-4655-c5f1-f551d9e38a43"
   },
   "outputs": [],
   "source": [
    "oscars_demographics.trusted_judgments.describe()"
   ]
  },
  {
   "cell_type": "code",
   "execution_count": null,
   "metadata": {
    "colab": {
     "base_uri": "https://localhost:8080/",
     "height": 104
    },
    "colab_type": "code",
    "id": "7Agslf10FScc",
    "outputId": "87900372-2ab1-4fe1-e9ad-7017a00560a0"
   },
   "outputs": [],
   "source": [
    "oscars_demographics.movie.describe()"
   ]
  },
  {
   "cell_type": "code",
   "execution_count": null,
   "metadata": {
    "colab": {
     "base_uri": "https://localhost:8080/",
     "height": 314
    },
    "colab_type": "code",
    "id": "P2y6mwUAFScj",
    "outputId": "1f0ae6be-81b8-46e8-f41c-9caa3d74e94d"
   },
   "outputs": [],
   "source": [
    "oscars_demographics.describe()"
   ]
  },
  {
   "cell_type": "markdown",
   "metadata": {
    "colab_type": "text",
    "id": "zDagfJbWFScn"
   },
   "source": [
    "### Operators on a Series"
   ]
  },
  {
   "cell_type": "code",
   "execution_count": null,
   "metadata": {
    "colab": {
     "base_uri": "https://localhost:8080/",
     "height": 225
    },
    "colab_type": "code",
    "id": "j3wbXlzGFSco",
    "outputId": "5979644f-b303-49c9-a57b-1d24a027af2e"
   },
   "outputs": [],
   "source": [
    "oscars_demographics['trusted_judgments']"
   ]
  },
  {
   "cell_type": "code",
   "execution_count": null,
   "metadata": {
    "colab": {
     "base_uri": "https://localhost:8080/",
     "height": 35
    },
    "colab_type": "code",
    "id": "T-6ArO3GFSct",
    "outputId": "e078d6ba-06b4-41a8-b20b-e1a40eaa284f"
   },
   "outputs": [],
   "source": [
    "oscars_demographics['trusted_judgments'].mean()"
   ]
  },
  {
   "cell_type": "code",
   "execution_count": null,
   "metadata": {
    "colab": {
     "base_uri": "https://localhost:8080/",
     "height": 35
    },
    "colab_type": "code",
    "id": "QA8N5OPyFScx",
    "outputId": "68c46bf9-505d-467b-ff6a-bf8011830bbd"
   },
   "outputs": [],
   "source": [
    "oscars_demographics['trusted_judgments'].min()"
   ]
  },
  {
   "cell_type": "code",
   "execution_count": null,
   "metadata": {
    "colab": {
     "base_uri": "https://localhost:8080/",
     "height": 35
    },
    "colab_type": "code",
    "id": "nh-De26nFSc0",
    "outputId": "373832ad-07e8-4e3e-9958-4197f49c9518"
   },
   "outputs": [],
   "source": [
    "oscars_demographics['trusted_judgments'].max()"
   ]
  },
  {
   "cell_type": "code",
   "execution_count": null,
   "metadata": {
    "colab": {
     "base_uri": "https://localhost:8080/",
     "height": 295
    },
    "colab_type": "code",
    "id": "ZofcKi2UFSc4",
    "outputId": "03b4d060-34f7-42c8-94fb-0f00691560f9"
   },
   "outputs": [],
   "source": [
    "oscars_demographics['trusted_judgments'].value_counts()"
   ]
  },
  {
   "cell_type": "code",
   "execution_count": null,
   "metadata": {
    "colab": {
     "base_uri": "https://localhost:8080/",
     "height": 35
    },
    "colab_type": "code",
    "id": "HvCbyAsWFSc8",
    "outputId": "6a4ef093-3cf4-4426-d71a-66d9f29d5d8f"
   },
   "outputs": [],
   "source": [
    "oscars_demographics['trusted_judgments'].min()+1"
   ]
  },
  {
   "cell_type": "code",
   "execution_count": null,
   "metadata": {
    "colab": {},
    "colab_type": "code",
    "id": "WaqKBBo4FSdB"
   },
   "outputs": [],
   "source": [
    "mas_uno=oscars_demographics['trusted_judgments']+1"
   ]
  },
  {
   "cell_type": "code",
   "execution_count": null,
   "metadata": {
    "colab": {
     "base_uri": "https://localhost:8080/",
     "height": 121
    },
    "colab_type": "code",
    "id": "ddTvIaZWFSdE",
    "outputId": "6d871b6a-5a71-4b55-cb4d-eff82db5e9c0"
   },
   "outputs": [],
   "source": [
    "mas_uno.head()"
   ]
  },
  {
   "cell_type": "code",
   "execution_count": null,
   "metadata": {
    "colab": {
     "base_uri": "https://localhost:8080/",
     "height": 35
    },
    "colab_type": "code",
    "id": "bHUNa-NIFSdH",
    "outputId": "74f85e9f-abd4-4102-9d53-394b8616df25"
   },
   "outputs": [],
   "source": [
    "mas_uno.min()"
   ]
  },
  {
   "cell_type": "code",
   "execution_count": null,
   "metadata": {
    "colab": {
     "base_uri": "https://localhost:8080/",
     "height": 35
    },
    "colab_type": "code",
    "id": "yknLT8O8FSdK",
    "outputId": "baefde78-6a62-4f1b-da9e-6e14e2807efc"
   },
   "outputs": [],
   "source": [
    "mas_uno.max()"
   ]
  },
  {
   "cell_type": "code",
   "execution_count": null,
   "metadata": {
    "colab": {
     "base_uri": "https://localhost:8080/",
     "height": 225
    },
    "colab_type": "code",
    "id": "fVJ0naQ3FSdN",
    "outputId": "569b4295-46fb-40ee-d2ee-56e32cbe5eae"
   },
   "outputs": [],
   "source": [
    "oscars_demographics['trusted_judgments'] * 3"
   ]
  },
  {
   "cell_type": "markdown",
   "metadata": {
    "colab_type": "text",
    "id": "yRERC0BUFSdQ"
   },
   "source": [
    "If we multiply a series it will return another series, with that operation applied to each of the elemnts. We can also use other operators as sum (+), minus (-), division (//), and exponentiation (**). Note that consecutive division operators (//) is used for floor division and the percent sign (%) for the modulus operator, which returns the remainder after a division.\n",
    "\n",
    "We can also use comparison opperators, like __greater than__ (>), __less than__ (<), __greater than or equal to__ (>=), __less than or equal to__ (<=), __equal to__ (==), and __not equal to__ (!=). These also return a seris, where each elemen is True or False based on the result of the comparison. "
   ]
  },
  {
   "cell_type": "code",
   "execution_count": null,
   "metadata": {
    "colab": {
     "base_uri": "https://localhost:8080/",
     "height": 69
    },
    "colab_type": "code",
    "id": "Bou9QYf3FSdQ",
    "outputId": "0d5cc5f5-0126-4e12-c4b8-046e243f9269"
   },
   "outputs": [],
   "source": [
    "(oscars_year==1969).value_counts()"
   ]
  },
  {
   "cell_type": "markdown",
   "metadata": {
    "colab_type": "text",
    "id": "yWFi5RgVFSdT"
   },
   "source": [
    "#### For every operator, there is also a method that does the same thing:\n",
    "\n",
    "#### Arithmetic\n",
    "\n",
    "* instead of +, -, *, /, //, %, **   We can use: add, sub, mul, div, floordiv, mod, pow \n",
    "\n",
    "#### Comparison \n",
    "\n",
    "* Instead of <, >, <=, >=, ==, !=  We can use:  lt, gt, le, ge, eq, ne\n"
   ]
  },
  {
   "cell_type": "code",
   "execution_count": null,
   "metadata": {
    "colab": {
     "base_uri": "https://localhost:8080/",
     "height": 69
    },
    "colab_type": "code",
    "id": "kmzIPpovFSdT",
    "outputId": "3490410f-3f61-4034-c349-c9f848367fc3"
   },
   "outputs": [],
   "source": [
    "oscars_year.eq(1969).value_counts()"
   ]
  },
  {
   "cell_type": "markdown",
   "metadata": {
    "colab_type": "text",
    "id": "jWZ_mkeDFSdV"
   },
   "source": [
    "### Chaining Series Methods Together\n",
    "\n",
    "#### As methods usually return other series or dataframes, it is possible to concatenate two or more methods.\n",
    "\n",
    "* We use dot (.) to concatenate methods\n",
    "* We use back-slash (\\\\) to continue the sentence in the following line\n",
    "* To facilitate reading, we try to use only one method per line\n",
    "* We can also use parentheses to indicate the whole sentense\n"
   ]
  },
  {
   "cell_type": "markdown",
   "metadata": {
    "colab_type": "text",
    "id": "mR4LBvWrFSdV"
   },
   "source": [
    "Let´s say we want to count the NaN values on Year of Award gold, we can do it using isnll() and sum() methods:\n"
   ]
  },
  {
   "cell_type": "code",
   "execution_count": null,
   "metadata": {
    "colab": {
     "base_uri": "https://localhost:8080/",
     "height": 35
    },
    "colab_type": "code",
    "id": "qzgqYGHRFSdW",
    "outputId": "338e8eae-d9bf-4cfe-c24b-3dca6ff57d93"
   },
   "outputs": [],
   "source": [
    "oscars_demographics['year_of_award_gold'].isnull().sum()"
   ]
  },
  {
   "cell_type": "markdown",
   "metadata": {
    "colab_type": "text",
    "id": "vBsQwm57FSdX"
   },
   "source": [
    "Or the average of NaN with mean()"
   ]
  },
  {
   "cell_type": "code",
   "execution_count": null,
   "metadata": {
    "colab": {
     "base_uri": "https://localhost:8080/",
     "height": 35
    },
    "colab_type": "code",
    "id": "uSpFeAPAFSdY",
    "outputId": "f941cca5-ac6d-44ee-a957-745f26f08f39"
   },
   "outputs": [],
   "source": [
    "oscars_demographics['year_of_award_gold'].isnull().mean()"
   ]
  },
  {
   "cell_type": "markdown",
   "metadata": {
    "colab_type": "text",
    "id": "0rP5b5F5FSdf"
   },
   "source": [
    "To split the line in two different lines, we can use \\\n"
   ]
  },
  {
   "cell_type": "code",
   "execution_count": null,
   "metadata": {
    "colab": {
     "base_uri": "https://localhost:8080/",
     "height": 35
    },
    "colab_type": "code",
    "id": "yZmUkYa4FSdg",
    "outputId": "d74d185c-5701-46e6-c0c2-3239a71b5f03"
   },
   "outputs": [],
   "source": [
    "oscars_demographics['year_of_award_gold'].isnull()\\\n",
    "    .mean()"
   ]
  },
  {
   "cell_type": "markdown",
   "metadata": {
    "colab_type": "text",
    "id": "uWypRoiqFSdl"
   },
   "source": [
    "Or writing the sentence between ()"
   ]
  },
  {
   "cell_type": "code",
   "execution_count": null,
   "metadata": {
    "colab": {
     "base_uri": "https://localhost:8080/",
     "height": 35
    },
    "colab_type": "code",
    "id": "V6OOJVqTFSdm",
    "outputId": "4ca97305-a5e4-4f76-e3b1-d2e200c77881"
   },
   "outputs": [],
   "source": [
    "(oscars_demographics['year_of_award_gold'].isnull()\n",
    "     .mean())"
   ]
  },
  {
   "cell_type": "markdown",
   "metadata": {
    "colab_type": "text",
    "id": "UNOxJEWFFSds"
   },
   "source": [
    "## Cleaning the Dataset\n",
    "In this section we are going to clean the Data and get ir ready for all the analysis.\n",
    "The steps we are going to take are:\n",
    "\n",
    "* Keep the columns we are interested in using\n",
    "* Clean Null values from the dataset, we just remove the whole movie if it has a null value in a column.\n",
    "* Convert year to INT (from float)"
   ]
  },
  {
   "cell_type": "code",
   "execution_count": null,
   "metadata": {
    "colab": {},
    "colab_type": "code",
    "id": "3WVdVIoJFSdt"
   },
   "outputs": [],
   "source": [
    "# Keep only interesting columns\n",
    "oscars = oscars_demographics[['birthplace',\n",
    "       'date_of_birth', 'race_ethnicity', 'religion',\n",
    "       'sexual_orientation', 'year_of_award', 'award', 'movie', 'person']]"
   ]
  },
  {
   "cell_type": "code",
   "execution_count": null,
   "metadata": {
    "colab": {
     "base_uri": "https://localhost:8080/",
     "height": 139
    },
    "colab_type": "code",
    "id": "iRyPQfhtFSdv",
    "outputId": "cac2b43f-8c96-4847-db17-5c5afe8927eb"
   },
   "outputs": [],
   "source": [
    "# Clean NAs\n",
    "print(len(oscars))\n",
    "oscars.dropna(inplace=True)\n",
    "print(len(oscars))"
   ]
  },
  {
   "cell_type": "code",
   "execution_count": null,
   "metadata": {
    "colab": {
     "base_uri": "https://localhost:8080/",
     "height": 289
    },
    "colab_type": "code",
    "id": "2crKrvFRFSdz",
    "outputId": "1e584806-8c92-483f-8306-296fcd5e6efe"
   },
   "outputs": [],
   "source": [
    "oscars.tail()"
   ]
  },
  {
   "cell_type": "code",
   "execution_count": null,
   "metadata": {
    "colab": {
     "base_uri": "https://localhost:8080/",
     "height": 295
    },
    "colab_type": "code",
    "id": "mxV2Z6utFSd1",
    "outputId": "078c4681-d52c-4694-da88-3ae0d3601a73"
   },
   "outputs": [],
   "source": [
    "oscars.info()"
   ]
  },
  {
   "cell_type": "markdown",
   "metadata": {
    "colab_type": "text",
    "id": "E98cB-VOFSd4"
   },
   "source": [
    "### Indexes\n",
    "\n",
    "* Indexes provide a label for each row\n",
    "* If no index is explicitly provided, a RangeIndex is created with labels starting in 0 \n",
    "####   "
   ]
  },
  {
   "cell_type": "markdown",
   "metadata": {
    "colab_type": "text",
    "id": "3SLNFIE7FSd4"
   },
   "source": [
    "If we go back to our example, business did have a __RangeIndex__:"
   ]
  },
  {
   "cell_type": "code",
   "execution_count": null,
   "metadata": {
    "colab": {
     "base_uri": "https://localhost:8080/",
     "height": 589
    },
    "colab_type": "code",
    "id": "MCY-2CTSFSd5",
    "outputId": "fc46df47-98bf-4c15-f4a1-a0b2a81ae80b"
   },
   "outputs": [],
   "source": [
    "oscars"
   ]
  },
  {
   "cell_type": "markdown",
   "metadata": {
    "colab_type": "text",
    "id": "2dg6VdvvFSd7"
   },
   "source": [
    "We can change the index and use business Id instead, using the set_index method:\n"
   ]
  },
  {
   "cell_type": "code",
   "execution_count": null,
   "metadata": {
    "colab": {
     "base_uri": "https://localhost:8080/",
     "height": 191
    },
    "colab_type": "code",
    "id": "9N2lmDV7FSd8",
    "outputId": "4d195ddc-d03b-4f50-91dd-042955b5ffbc"
   },
   "outputs": [],
   "source": [
    "oscars.count()"
   ]
  },
  {
   "cell_type": "code",
   "execution_count": null,
   "metadata": {
    "colab": {},
    "colab_type": "code",
    "id": "lctMjDaTFSd9"
   },
   "outputs": [],
   "source": [
    "oscars_byID=oscars.set_index(['person','year_of_award'])"
   ]
  },
  {
   "cell_type": "code",
   "execution_count": null,
   "metadata": {
    "colab": {
     "base_uri": "https://localhost:8080/",
     "height": 602
    },
    "colab_type": "code",
    "id": "nVKQbaXPFSd-",
    "outputId": "7cb79dfd-6cd9-4289-f90c-8028a29c8662"
   },
   "outputs": [],
   "source": [
    "oscars_byID"
   ]
  },
  {
   "cell_type": "code",
   "execution_count": null,
   "metadata": {
    "colab": {
     "base_uri": "https://localhost:8080/",
     "height": 156
    },
    "colab_type": "code",
    "id": "elLAf2txFSeA",
    "outputId": "84f6e2d3-dac1-4c1a-a095-98324692a848"
   },
   "outputs": [],
   "source": [
    "oscars_byID.count()"
   ]
  },
  {
   "cell_type": "code",
   "execution_count": null,
   "metadata": {
    "colab": {
     "base_uri": "https://localhost:8080/",
     "height": 443
    },
    "colab_type": "code",
    "id": "X3s8zBwKFSeF",
    "outputId": "61cab092-c344-45e1-9bb7-6ade6474443d"
   },
   "outputs": [],
   "source": [
    "oscars_byID = pd.read_csv('Oscars-demographics-DFE.csv', encoding='latin-1', index_col=['person','year_of_award'])\n",
    "oscars_byID.tail()"
   ]
  },
  {
   "cell_type": "markdown",
   "metadata": {
    "colab_type": "text",
    "id": "n8fw9SmGFSeI"
   },
   "source": [
    "We can eliminate the index using the reset_index method:"
   ]
  },
  {
   "cell_type": "code",
   "execution_count": null,
   "metadata": {
    "colab": {
     "base_uri": "https://localhost:8080/",
     "height": 765
    },
    "colab_type": "code",
    "id": "uPkxpN22FSeJ",
    "outputId": "6c6c012d-256a-4616-ba27-ddce83e45cbf"
   },
   "outputs": [],
   "source": [
    "oscars_byID.reset_index()"
   ]
  },
  {
   "cell_type": "markdown",
   "metadata": {
    "colab_type": "text",
    "id": "pbumCcnZFSeL"
   },
   "source": [
    "#### In both cases we can see that business_id is set as the DataFrame index, and there is no business_id column. If we want to still have a business_id column we can use set_index with the parameter drop = False"
   ]
  },
  {
   "cell_type": "code",
   "execution_count": null,
   "metadata": {
    "colab": {},
    "colab_type": "code",
    "id": "c6M58BL4FSeL"
   },
   "outputs": [],
   "source": [
    "oscars_byID=oscars.set_index(['person','year_of_award'],drop=False)"
   ]
  },
  {
   "cell_type": "code",
   "execution_count": null,
   "metadata": {
    "colab": {
     "base_uri": "https://localhost:8080/",
     "height": 706
    },
    "colab_type": "code",
    "id": "IVPm4F_-FSeO",
    "outputId": "f63045a1-0c9e-4f91-d0d5-703886c2d0d1"
   },
   "outputs": [],
   "source": [
    "oscars_byID"
   ]
  },
  {
   "cell_type": "markdown",
   "metadata": {
    "colab_type": "text",
    "id": "BP_IZ1E4FSeQ"
   },
   "source": [
    "### Renaming Row and Column Names\n",
    "\n",
    "* To make them more descriptive\n",
    "* To follow a standard\n",
    "* To avoid blanks, and other special characters"
   ]
  },
  {
   "cell_type": "code",
   "execution_count": null,
   "metadata": {
    "colab": {
     "base_uri": "https://localhost:8080/",
     "height": 443
    },
    "colab_type": "code",
    "id": "4Bjr6KDKFSeQ",
    "outputId": "3cb71fa3-c627-4dd5-f025-84339cae060d"
   },
   "outputs": [],
   "source": [
    "oscars_byID = pd.read_csv('Oscars-demographics-DFE.csv', encoding='latin-1', index_col=['person','year_of_award'])\n",
    "oscars_byID.tail()"
   ]
  },
  {
   "cell_type": "code",
   "execution_count": null,
   "metadata": {
    "colab": {
     "base_uri": "https://localhost:8080/",
     "height": 795
    },
    "colab_type": "code",
    "id": "RfABhrK1FSeS",
    "outputId": "6e5a5b6d-0d25-44e5-a23a-48bc6d8a9473"
   },
   "outputs": [],
   "source": [
    "idx_rename={'James Coburn':'Jimmy Coburn'}\n",
    "col_rename={'unit_id':'Unit_ID','golden':'Golden'}\n",
    "oscars_byID_renamed=oscars_byID.rename(index=idx_rename, columns=col_rename)\n",
    "oscars_byID_renamed"
   ]
  },
  {
   "cell_type": "code",
   "execution_count": null,
   "metadata": {
    "colab": {
     "base_uri": "https://localhost:8080/",
     "height": 230
    },
    "colab_type": "code",
    "id": "Zr56VNLHFSeU",
    "outputId": "2fe6b0ca-fd4b-4e99-e025-3ab41a4d296d"
   },
   "outputs": [],
   "source": [
    "oscars_byID.loc[('James Coburn',1999),:]"
   ]
  },
  {
   "cell_type": "code",
   "execution_count": null,
   "metadata": {
    "colab": {
     "base_uri": "https://localhost:8080/",
     "height": 173
    },
    "colab_type": "code",
    "id": "vNXlUofAFSeV",
    "outputId": "af9448ca-272d-4cb9-8af8-f21def58b2b2"
   },
   "outputs": [],
   "source": [
    "# We can obtain index and column from business dataframe:\n",
    "oscars_columns=oscars_byID.columns\n",
    "oscars_columns"
   ]
  },
  {
   "cell_type": "code",
   "execution_count": null,
   "metadata": {
    "colab": {
     "base_uri": "https://localhost:8080/",
     "height": 451
    },
    "colab_type": "code",
    "id": "5BBthET6FSeX",
    "outputId": "0a480111-cb40-4b08-ce9a-3af36d1e21fd"
   },
   "outputs": [],
   "source": [
    "columns_list=oscars_columns.tolist()\n",
    "columns_list"
   ]
  },
  {
   "cell_type": "code",
   "execution_count": null,
   "metadata": {
    "colab": {
     "base_uri": "https://localhost:8080/",
     "height": 795
    },
    "colab_type": "code",
    "id": "7UiFaeAcFSeZ",
    "outputId": "fdd32411-7838-48ec-d168-c8c02135c138"
   },
   "outputs": [],
   "source": [
    "# Rename one or more elements of the lists\n",
    "columns_list[0]='unitID'\n",
    "# And finally we assign it back to the Data Frame\n",
    "oscars_byID.columns=columns_list\n",
    "oscars_byID"
   ]
  },
  {
   "cell_type": "code",
   "execution_count": null,
   "metadata": {
    "colab": {
     "base_uri": "https://localhost:8080/",
     "height": 589
    },
    "colab_type": "code",
    "id": "L0B_MzR3FSeb",
    "outputId": "6e9f40ab-2076-4355-859d-f06a2901c57f"
   },
   "outputs": [],
   "source": [
    "oscars"
   ]
  },
  {
   "cell_type": "code",
   "execution_count": null,
   "metadata": {
    "colab": {
     "base_uri": "https://localhost:8080/",
     "height": 191
    },
    "colab_type": "code",
    "id": "cmhnD38FFSec",
    "outputId": "7c5785eb-e279-4ecd-8564-ace1dd86b8dd"
   },
   "outputs": [],
   "source": [
    "oscars.loc[0]"
   ]
  },
  {
   "cell_type": "code",
   "execution_count": null,
   "metadata": {
    "colab": {},
    "colab_type": "code",
    "id": "a2N2g8dIFSee"
   },
   "outputs": [],
   "source": [
    "oscars_person=oscars[['person','date_of_birth','birthplace']].drop_duplicates(subset='person')\n",
    "oscars_person.set_index('person',inplace=True)"
   ]
  },
  {
   "cell_type": "code",
   "execution_count": null,
   "metadata": {
    "colab": {
     "base_uri": "https://localhost:8080/",
     "height": 446
    },
    "colab_type": "code",
    "id": "WFl2AseMFSeg",
    "outputId": "cda17d3b-ebcf-498c-b107-25e14c35ae57",
    "scrolled": true
   },
   "outputs": [],
   "source": [
    "oscars_person"
   ]
  },
  {
   "cell_type": "code",
   "execution_count": null,
   "metadata": {
    "colab": {
     "base_uri": "https://localhost:8080/",
     "height": 446
    },
    "colab_type": "code",
    "id": "v5ccnCjyFSek",
    "outputId": "ec6404e3-e324-4480-9e42-697a8c950776"
   },
   "outputs": [],
   "source": [
    "oscars_awards=oscars[['person','year_of_award','award','movie']].drop_duplicates(subset='person')\n",
    "oscars_awards.set_index('person',inplace=True)\n",
    "oscars_awards"
   ]
  },
  {
   "cell_type": "code",
   "execution_count": null,
   "metadata": {
    "colab": {
     "base_uri": "https://localhost:8080/",
     "height": 87
    },
    "colab_type": "code",
    "id": "VlCzd7otFSep",
    "outputId": "c7eaaab9-7ed3-4f11-cbcc-769d26c5c80f"
   },
   "outputs": [],
   "source": [
    "oscars_awards.loc['Anne Hathaway',:]"
   ]
  },
  {
   "cell_type": "code",
   "execution_count": null,
   "metadata": {
    "colab": {
     "base_uri": "https://localhost:8080/",
     "height": 295
    },
    "colab_type": "code",
    "id": "LH5ro0hsFSes",
    "outputId": "03c8687e-4ec3-4436-a2bc-a1ed79a9471e"
   },
   "outputs": [],
   "source": [
    "oscars.info()"
   ]
  },
  {
   "cell_type": "code",
   "execution_count": null,
   "metadata": {
    "colab": {
     "base_uri": "https://localhost:8080/",
     "height": 121
    },
    "colab_type": "code",
    "id": "EkowrM_KFSet",
    "outputId": "d4e69d5d-fb16-448c-fe97-b57d914d9a86"
   },
   "outputs": [],
   "source": [
    "oscars.loc[:,'date_of_birth'] = pd.to_datetime(oscars['date_of_birth'], errors='coerce')"
   ]
  },
  {
   "cell_type": "code",
   "execution_count": null,
   "metadata": {
    "colab": {
     "base_uri": "https://localhost:8080/",
     "height": 765
    },
    "colab_type": "code",
    "id": "JAPMlnIYFSev",
    "outputId": "5ea27348-5d6b-4486-c447-53ef44fab4cb"
   },
   "outputs": [],
   "source": [
    "oscars_demographics"
   ]
  },
  {
   "cell_type": "markdown",
   "metadata": {
    "colab_type": "text",
    "id": "b9LyaC5yFSew"
   },
   "source": [
    "### Creating and Deleting Columns in a DataFrame\n"
   ]
  },
  {
   "cell_type": "code",
   "execution_count": null,
   "metadata": {
    "colab": {
     "base_uri": "https://localhost:8080/",
     "height": 641
    },
    "colab_type": "code",
    "id": "MAwL_SkmFSex",
    "outputId": "d4ad4b43-d5e0-472b-cf7e-3f5153028fdd"
   },
   "outputs": [],
   "source": [
    "# We can easily create a new column by assigning values to it:\n",
    "oscars_short['last_ten_years']=0\n",
    "oscars_short"
   ]
  },
  {
   "cell_type": "code",
   "execution_count": null,
   "metadata": {
    "colab": {
     "base_uri": "https://localhost:8080/",
     "height": 641
    },
    "colab_type": "code",
    "id": "tHJ4roPOFSez",
    "outputId": "39881aa8-11c2-4a9b-8996-bf44051e10e6"
   },
   "outputs": [],
   "source": [
    "oscars_short['last_ten_years']=oscars_short['year_of_award']>2009\n",
    "oscars_short"
   ]
  },
  {
   "cell_type": "code",
   "execution_count": null,
   "metadata": {
    "colab": {
     "base_uri": "https://localhost:8080/",
     "height": 69
    },
    "colab_type": "code",
    "id": "0qRMRyI7FSe2",
    "outputId": "5463f07f-7085-4922-aa09-187c3f7cf2dc"
   },
   "outputs": [],
   "source": [
    "oscars_short['last_ten_years'].value_counts()"
   ]
  },
  {
   "cell_type": "code",
   "execution_count": null,
   "metadata": {
    "colab": {
     "base_uri": "https://localhost:8080/",
     "height": 589
    },
    "colab_type": "code",
    "id": "qCvTkKoAFSe4",
    "outputId": "cbe5c45a-009b-4357-9059-b731b8d3b58d"
   },
   "outputs": [],
   "source": [
    "#If we want to delete the column we just created:\n",
    "oscars_short.drop(columns='last_ten_years',inplace=True)\n",
    "oscars_short"
   ]
  },
  {
   "cell_type": "markdown",
   "metadata": {
    "colab_type": "text",
    "id": "pPryskv7FSe5"
   },
   "source": [
    "If we want to add a column, but in a specific possition, we need to indicate that possition.\n",
    "Let´s add the column before the review_count. To do that we calculate the possition of the review_count and calulate it +1"
   ]
  },
  {
   "cell_type": "code",
   "execution_count": null,
   "metadata": {
    "colab": {
     "base_uri": "https://localhost:8080/",
     "height": 35
    },
    "colab_type": "code",
    "id": "09rPAmg1FSe5",
    "outputId": "9e0c8a11-83f4-489c-d625-6adeba70dc5b"
   },
   "outputs": [],
   "source": [
    "date_of_birth_position=oscars_short.columns.get_loc('date_of_birth')+1\n",
    "date_of_birth_position"
   ]
  },
  {
   "cell_type": "code",
   "execution_count": null,
   "metadata": {
    "colab": {
     "base_uri": "https://localhost:8080/",
     "height": 641
    },
    "colab_type": "code",
    "id": "wDFOnVubFSe7",
    "outputId": "147a53ac-6ba7-4b04-c0c8-458af268366a"
   },
   "outputs": [],
   "source": [
    "oscars_short.insert(loc=date_of_birth_position, column='last_ten_years', value=(oscars_short['year_of_award']>2009))\n",
    "oscars_short"
   ]
  },
  {
   "cell_type": "code",
   "execution_count": null,
   "metadata": {
    "colab": {
     "base_uri": "https://localhost:8080/",
     "height": 589
    },
    "colab_type": "code",
    "id": "kI5C54gWFSe9",
    "outputId": "65807cac-893a-4448-dcd0-ea354d4772e4"
   },
   "outputs": [],
   "source": [
    "del oscars_short['last_ten_years']\n",
    "oscars_short"
   ]
  },
  {
   "cell_type": "markdown",
   "metadata": {
    "colab_type": "text",
    "id": "Y1hmhss0FSe_"
   },
   "source": [
    "#  \n",
    "### Data Frame Operations\n",
    "\n",
    "#### We will now review other methods that apply to Data Frames, how to select multiple rows, how to chain multiple methods, etc"
   ]
  },
  {
   "cell_type": "code",
   "execution_count": null,
   "metadata": {
    "colab": {
     "base_uri": "https://localhost:8080/",
     "height": 415
    },
    "colab_type": "code",
    "id": "u4vTCfwKFSfA",
    "outputId": "5f731ad4-d957-478e-ad4a-6849bf7bb413"
   },
   "outputs": [],
   "source": [
    "# Similar to what we did when selecting one column, but instead of providing a column name, we will be passing a list of columns:\n",
    "oscars_basics = oscars_short[['person','movie','award','year_of_award']]\n",
    "oscars_basics"
   ]
  },
  {
   "cell_type": "markdown",
   "metadata": {
    "colab_type": "text",
    "id": "iv8WtczPFSfB"
   },
   "source": [
    "#### Selecting columns with methods"
   ]
  },
  {
   "cell_type": "code",
   "execution_count": null,
   "metadata": {
    "colab": {
     "base_uri": "https://localhost:8080/",
     "height": 69
    },
    "colab_type": "code",
    "id": "pB6FMmj1FSfB",
    "outputId": "5d3100cd-c14d-483f-d57d-f33130a485be"
   },
   "outputs": [],
   "source": [
    "oscars_short.dtypes.value_counts()"
   ]
  },
  {
   "cell_type": "code",
   "execution_count": null,
   "metadata": {
    "colab": {},
    "colab_type": "code",
    "id": "ZL2AtLVgFSfD"
   },
   "outputs": [],
   "source": [
    "oscars_short.loc[:,'date_of_birth'] = pd.to_datetime(oscars_short['date_of_birth'], errors='coerce')"
   ]
  },
  {
   "cell_type": "code",
   "execution_count": null,
   "metadata": {
    "colab": {
     "base_uri": "https://localhost:8080/",
     "height": 87
    },
    "colab_type": "code",
    "id": "3cX7sy_mFSfI",
    "outputId": "8abf74a5-fb7a-441d-a2fe-cf5e54252738"
   },
   "outputs": [],
   "source": [
    "oscars_short.dtypes.value_counts()"
   ]
  },
  {
   "cell_type": "markdown",
   "metadata": {
    "colab_type": "text",
    "id": "gk2uBrn2FSfK"
   },
   "source": [
    "We can select colums with a specific data type using the select_dtypes method.\n",
    "using the parameter include we can indicate the data type we are looking for:"
   ]
  },
  {
   "cell_type": "code",
   "execution_count": null,
   "metadata": {
    "colab": {
     "base_uri": "https://localhost:8080/",
     "height": 202
    },
    "colab_type": "code",
    "id": "-KUbN4BFFSfK",
    "outputId": "aff9862b-40aa-4a2a-bfd4-6f6d171bad75"
   },
   "outputs": [],
   "source": [
    "\n",
    "oscars_short.select_dtypes(include=['int64']).head()"
   ]
  },
  {
   "cell_type": "markdown",
   "metadata": {
    "colab_type": "text",
    "id": "VhTlnM4gFSfM"
   },
   "source": [
    "We can also select all numeric columns using include='number':"
   ]
  },
  {
   "cell_type": "code",
   "execution_count": null,
   "metadata": {
    "colab": {
     "base_uri": "https://localhost:8080/",
     "height": 202
    },
    "colab_type": "code",
    "id": "FyLkNw_vFSfM",
    "outputId": "60b5d7a6-b1d5-46bd-84eb-c1ceff481d0b"
   },
   "outputs": [],
   "source": [
    "\n",
    "oscars_short.select_dtypes(include='number').head()"
   ]
  },
  {
   "cell_type": "markdown",
   "metadata": {
    "colab_type": "text",
    "id": "ml0TirsiFSfO"
   },
   "source": [
    "We can select specific columns by filtering contect on the column names.\n"
   ]
  },
  {
   "cell_type": "code",
   "execution_count": null,
   "metadata": {
    "colab": {
     "base_uri": "https://localhost:8080/",
     "height": 202
    },
    "colab_type": "code",
    "id": "MVfJdsgjFSfO",
    "outputId": "9856db17-fda2-4128-a270-d2ba5d6f9b3e"
   },
   "outputs": [],
   "source": [
    "oscars_short.filter(like='birth').head()"
   ]
  },
  {
   "cell_type": "markdown",
   "metadata": {
    "colab_type": "text",
    "id": "tHtwx6u6FSfP"
   },
   "source": [
    "Filter also allows regular expressions:"
   ]
  },
  {
   "cell_type": "code",
   "execution_count": null,
   "metadata": {
    "colab": {
     "base_uri": "https://localhost:8080/",
     "height": 202
    },
    "colab_type": "code",
    "id": "t3I9PPMPFSfQ",
    "outputId": "ec008251-45af-4992-891e-73d06bd97035"
   },
   "outputs": [],
   "source": [
    "oscars_short.filter(regex='\\_').head()"
   ]
  },
  {
   "cell_type": "markdown",
   "metadata": {
    "colab_type": "text",
    "id": "jJhyh3r2FSfR"
   },
   "source": [
    "Lastly, using items parameter we can indicate the list of columns to select:\n"
   ]
  },
  {
   "cell_type": "code",
   "execution_count": null,
   "metadata": {
    "colab": {
     "base_uri": "https://localhost:8080/",
     "height": 202
    },
    "colab_type": "code",
    "id": "X96AseAnFSfR",
    "outputId": "94a65a32-c873-4a0c-f5bc-65e8f266e586"
   },
   "outputs": [],
   "source": [
    "oscars_short.filter(items=['person']).head()"
   ]
  },
  {
   "cell_type": "markdown",
   "metadata": {
    "colab_type": "text",
    "id": "RCtsUTf1FSfS"
   },
   "source": [
    "### Ordering Columns"
   ]
  },
  {
   "cell_type": "code",
   "execution_count": null,
   "metadata": {
    "colab": {
     "base_uri": "https://localhost:8080/",
     "height": 69
    },
    "colab_type": "code",
    "id": "XqdmAlUkFSfT",
    "outputId": "bcadf9bd-4c57-4ecf-ca12-1eae56f6631a"
   },
   "outputs": [],
   "source": [
    "oscars_short.columns"
   ]
  },
  {
   "cell_type": "markdown",
   "metadata": {
    "colab_type": "text",
    "id": "xbH7HCOZFSfU"
   },
   "source": [
    "Let´s imagine we want to have the name of the person at the beginning..."
   ]
  },
  {
   "cell_type": "code",
   "execution_count": null,
   "metadata": {
    "colab": {
     "base_uri": "https://localhost:8080/",
     "height": 289
    },
    "colab_type": "code",
    "id": "rlngOsq7FSfU",
    "outputId": "efab2571-39f7-4379-c5aa-75335bd6160d"
   },
   "outputs": [],
   "source": [
    "new_col_order = ['person', 'birthplace', 'date_of_birth', 'race_ethnicity', 'religion','sexual_orientation', 'year_of_award', 'award', 'movie']\n",
    "\n",
    "oscars_new_col_order = oscars_short[new_col_order]\n",
    "oscars_new_col_order.head()"
   ]
  },
  {
   "cell_type": "markdown",
   "metadata": {
    "colab_type": "text",
    "id": "9W6rJ_giFSfY"
   },
   "source": [
    "#  \n",
    "## Selecting subsets of data\n",
    "\n",
    "* Selecting Series data \n",
    "* Selecting DataFrame rows \n",
    "* Selecting DataFrame rows and columns simultaneously \n",
    "* Selecting data with both integers and labels \n",
    "* Speeding up scalar selection \n",
    "* Slicing rows lazily \n",
    "* Slicing lexicographically\n",
    "\n",
    " "
   ]
  },
  {
   "cell_type": "code",
   "execution_count": null,
   "metadata": {
    "colab": {
     "base_uri": "https://localhost:8080/",
     "height": 529
    },
    "colab_type": "code",
    "id": "S1AC497SFSfY",
    "outputId": "3f03f3ce-3031-46b0-db99-a4e12f27b81e"
   },
   "outputs": [],
   "source": [
    "oscars_short.head(10)"
   ]
  },
  {
   "cell_type": "code",
   "execution_count": null,
   "metadata": {
    "colab": {
     "base_uri": "https://localhost:8080/",
     "height": 191
    },
    "colab_type": "code",
    "id": "jDlHvUACFSfa",
    "outputId": "6dbba3e7-19aa-4ccd-af4e-89c2f835bc21"
   },
   "outputs": [],
   "source": [
    "oscars_short.iloc[5]"
   ]
  },
  {
   "cell_type": "code",
   "execution_count": null,
   "metadata": {
    "colab": {
     "base_uri": "https://localhost:8080/",
     "height": 337
    },
    "colab_type": "code",
    "id": "-524hTBqFSfi",
    "outputId": "72c94a09-b12d-4633-d106-ea66abde2eb9",
    "scrolled": true
   },
   "outputs": [],
   "source": [
    "oscars_short.iloc[0:6]"
   ]
  },
  {
   "cell_type": "code",
   "execution_count": null,
   "metadata": {
    "colab": {
     "base_uri": "https://localhost:8080/",
     "height": 202
    },
    "colab_type": "code",
    "id": "B5RAk-RkFSfj",
    "outputId": "85a24a15-4b52-4e89-f324-4aca7669b896"
   },
   "outputs": [],
   "source": [
    "oscars_short.iloc[5:10]"
   ]
  },
  {
   "cell_type": "code",
   "execution_count": null,
   "metadata": {
    "colab": {
     "base_uri": "https://localhost:8080/",
     "height": 289
    },
    "colab_type": "code",
    "id": "WNkGvXawFSfm",
    "outputId": "f52304a5-aee2-41c7-d217-931d1613028b"
   },
   "outputs": [],
   "source": [
    "oscars_short.iloc[10:20:2]"
   ]
  },
  {
   "cell_type": "code",
   "execution_count": null,
   "metadata": {
    "colab": {
     "base_uri": "https://localhost:8080/",
     "height": 191
    },
    "colab_type": "code",
    "id": "pUrdCc5IFSfo",
    "outputId": "f3f4cd85-a5d2-4cc3-ac2a-fbb885f5c12b"
   },
   "outputs": [],
   "source": [
    "oscars_short.iloc[5]"
   ]
  },
  {
   "cell_type": "code",
   "execution_count": null,
   "metadata": {
    "colab": {
     "base_uri": "https://localhost:8080/",
     "height": 191
    },
    "colab_type": "code",
    "id": "RpzXYlhgFSfp",
    "outputId": "615327e4-7663-4137-e67c-08d23eac0f1c"
   },
   "outputs": [],
   "source": [
    "oscars_short.loc[5]"
   ]
  },
  {
   "cell_type": "code",
   "execution_count": null,
   "metadata": {
    "colab": {
     "base_uri": "https://localhost:8080/",
     "height": 145
    },
    "colab_type": "code",
    "id": "Zi7FOQTLFSfs",
    "outputId": "eb1094d9-e16c-4870-ca77-3f2f22ffb2c1"
   },
   "outputs": [],
   "source": [
    "oscars_short.loc[[5,10]]"
   ]
  },
  {
   "cell_type": "markdown",
   "metadata": {
    "colab_type": "text",
    "id": "2EfD-_vZFSfy"
   },
   "source": [
    "### Selecting Data Frame Columns and Rows simultaneously\n",
    "\n",
    "#### _loc_ and _iloc_ allows us to do it"
   ]
  },
  {
   "cell_type": "code",
   "execution_count": null,
   "metadata": {
    "colab": {
     "base_uri": "https://localhost:8080/",
     "height": 529
    },
    "colab_type": "code",
    "id": "1IGhvMetFSfy",
    "outputId": "a85d1485-c1c6-4acf-8107-6481ab900f73"
   },
   "outputs": [],
   "source": [
    "oscars_short.head(10)"
   ]
  },
  {
   "cell_type": "code",
   "execution_count": null,
   "metadata": {
    "colab": {
     "base_uri": "https://localhost:8080/",
     "height": 35
    },
    "colab_type": "code",
    "id": "1U-OzEvgFSf3",
    "outputId": "7e7a4b29-5ef6-440f-8342-14c2bf9b45ec"
   },
   "outputs": [],
   "source": [
    "oscars_short.iloc[1,5]"
   ]
  },
  {
   "cell_type": "code",
   "execution_count": null,
   "metadata": {
    "colab": {
     "base_uri": "https://localhost:8080/",
     "height": 141
    },
    "colab_type": "code",
    "id": "DJVw9JTvFSf4",
    "outputId": "79c685f0-81ba-4a1e-ccdb-c82cc85d8fa9"
   },
   "outputs": [],
   "source": [
    "oscars_short.iloc[:3,:5]"
   ]
  },
  {
   "cell_type": "code",
   "execution_count": null,
   "metadata": {
    "colab": {
     "base_uri": "https://localhost:8080/",
     "height": 415
    },
    "colab_type": "code",
    "id": "fzuioFUmFSf6",
    "outputId": "08fff8c0-7a0c-4071-dc15-50aa79f9f1d3"
   },
   "outputs": [],
   "source": [
    "oscars_short.iloc[:,[2,5]]"
   ]
  },
  {
   "cell_type": "code",
   "execution_count": null,
   "metadata": {
    "colab": {
     "base_uri": "https://localhost:8080/",
     "height": 415
    },
    "colab_type": "code",
    "id": "a1oDtQPlFSf9",
    "outputId": "199dab6a-93e6-4878-eadf-4d8219f3809a"
   },
   "outputs": [],
   "source": [
    "oscars_short.loc[:,['birthplace','date_of_birth']]"
   ]
  },
  {
   "cell_type": "code",
   "execution_count": null,
   "metadata": {
    "colab": {
     "base_uri": "https://localhost:8080/",
     "height": 529
    },
    "colab_type": "code",
    "id": "4-PXnzelFSgA",
    "outputId": "cccc4284-e19b-4a98-f8a6-773d5d28b744"
   },
   "outputs": [],
   "source": [
    "oscars_short.head(10)"
   ]
  },
  {
   "cell_type": "code",
   "execution_count": null,
   "metadata": {
    "colab": {
     "base_uri": "https://localhost:8080/",
     "height": 121
    },
    "colab_type": "code",
    "id": "J6WmJWP8FSgC",
    "outputId": "5992e8aa-7250-4db7-f709-8deabe4a5043"
   },
   "outputs": [],
   "source": [
    "oscars_short.iloc[1:10:2,1]"
   ]
  },
  {
   "cell_type": "code",
   "execution_count": null,
   "metadata": {
    "colab": {
     "base_uri": "https://localhost:8080/",
     "height": 121
    },
    "colab_type": "code",
    "id": "nGC1Tr2KFSgF",
    "outputId": "2d7c3ba7-8e29-4fc7-aa10-422307d5d126"
   },
   "outputs": [],
   "source": [
    "oscars_short.loc[1:10:2,'date_of_birth']"
   ]
  },
  {
   "cell_type": "markdown",
   "metadata": {
    "colab_type": "text",
    "id": "xGzavWA9FSgI"
   },
   "source": [
    "### Boolean indexing\n",
    "We will try to find out which of the business with more than 100 reviews. To do that, we will start by creating a serie with boolean elements for each of the business:"
   ]
  },
  {
   "cell_type": "code",
   "execution_count": null,
   "metadata": {
    "colab": {},
    "colab_type": "code",
    "id": "5YWGDC9mFSgJ"
   },
   "outputs": [],
   "source": [
    "oscars_last_20_years=oscars_short['year_of_award']>1999"
   ]
  },
  {
   "cell_type": "code",
   "execution_count": null,
   "metadata": {
    "colab": {
     "base_uri": "https://localhost:8080/",
     "height": 225
    },
    "colab_type": "code",
    "id": "SWt0j5wuFSgL",
    "outputId": "66c530aa-c23e-4bd0-86dc-2bc746d4c703"
   },
   "outputs": [],
   "source": [
    "oscars_last_20_years"
   ]
  },
  {
   "cell_type": "markdown",
   "metadata": {
    "colab_type": "text",
    "id": "tiVc-PbsFSgN"
   },
   "source": [
    "As we saw, we can _sum_ boolean values, adding 1 if it is True and 0 if False. So if we want to know how many of them are dated in the last 20years, all we need to know is to sum up the values:"
   ]
  },
  {
   "cell_type": "code",
   "execution_count": null,
   "metadata": {
    "colab": {
     "base_uri": "https://localhost:8080/",
     "height": 35
    },
    "colab_type": "code",
    "id": "5GfP7WFmFSgO",
    "outputId": "5db44d72-1ba5-453c-e298-d61169e207b3"
   },
   "outputs": [],
   "source": [
    "oscars_last_20_years.sum()"
   ]
  },
  {
   "cell_type": "markdown",
   "metadata": {
    "colab_type": "text",
    "id": "PgyvNLKfFSgP"
   },
   "source": [
    "If we want to know the % we can use _mean_ and multiply by 100:"
   ]
  },
  {
   "cell_type": "code",
   "execution_count": null,
   "metadata": {
    "colab": {
     "base_uri": "https://localhost:8080/",
     "height": 35
    },
    "colab_type": "code",
    "id": "gVGIbj5mFSgQ",
    "outputId": "700b6364-f16c-44d9-81ee-07a1251aae9a"
   },
   "outputs": [],
   "source": [
    "oscars_last_20_years.mean() * 100"
   ]
  },
  {
   "cell_type": "code",
   "execution_count": null,
   "metadata": {
    "colab": {
     "base_uri": "https://localhost:8080/",
     "height": 104
    },
    "colab_type": "code",
    "id": "IWRasArSFSgU",
    "outputId": "90936c4e-c273-4eac-d7d0-f630bc3656b0"
   },
   "outputs": [],
   "source": [
    "oscars_last_20_years.describe()"
   ]
  },
  {
   "cell_type": "code",
   "execution_count": null,
   "metadata": {
    "colab": {
     "base_uri": "https://localhost:8080/",
     "height": 69
    },
    "colab_type": "code",
    "id": "OVUlH0sHFSgV",
    "outputId": "fdfc393b-55d1-4f7d-9db9-457b86e1e77d"
   },
   "outputs": [],
   "source": [
    "oscars_last_20_years.value_counts()"
   ]
  },
  {
   "cell_type": "markdown",
   "metadata": {
    "colab_type": "text",
    "id": "yYoaE1qTFSgX"
   },
   "source": [
    "We just created a boolean series by comparing a column with a condition. We can also create a series based on two different columns."
   ]
  },
  {
   "cell_type": "code",
   "execution_count": null,
   "metadata": {
    "colab": {},
    "colab_type": "code",
    "id": "6d24ssMzFSgY"
   },
   "outputs": [],
   "source": [
    "oscars_best_director=oscars_short.award.str.contains('Best Director')"
   ]
  },
  {
   "cell_type": "code",
   "execution_count": null,
   "metadata": {
    "colab": {
     "base_uri": "https://localhost:8080/",
     "height": 121
    },
    "colab_type": "code",
    "id": "C5sQB-O1FSga",
    "outputId": "6d4de36b-f3dc-484c-f7ca-3b4f7ebf2a4b"
   },
   "outputs": [],
   "source": [
    "oscars_best_director.head()"
   ]
  },
  {
   "cell_type": "code",
   "execution_count": null,
   "metadata": {
    "colab": {
     "base_uri": "https://localhost:8080/",
     "height": 69
    },
    "colab_type": "code",
    "id": "CV-c410fFSgd",
    "outputId": "06156981-7f67-474d-d85b-7acb4533240e"
   },
   "outputs": [],
   "source": [
    "oscars_best_director.value_counts()"
   ]
  },
  {
   "cell_type": "markdown",
   "metadata": {
    "colab_type": "text",
    "id": "FNecVtQSFSgf"
   },
   "source": [
    "we can combine both:"
   ]
  },
  {
   "cell_type": "code",
   "execution_count": null,
   "metadata": {
    "colab": {
     "base_uri": "https://localhost:8080/",
     "height": 225
    },
    "colab_type": "code",
    "id": "_DOFkt7iFSgf",
    "outputId": "be87cd67-3f74-4dc3-c21c-bf069db56210"
   },
   "outputs": [],
   "source": [
    "oscars_last_20_years & oscars_best_director"
   ]
  },
  {
   "cell_type": "code",
   "execution_count": null,
   "metadata": {
    "colab": {
     "base_uri": "https://localhost:8080/",
     "height": 69
    },
    "colab_type": "code",
    "id": "uGX3N4bqFSgh",
    "outputId": "d5caed9e-59b3-4b62-a5ae-0b87ff25befb"
   },
   "outputs": [],
   "source": [
    "(oscars_last_20_years & oscars_best_director).value_counts()"
   ]
  },
  {
   "cell_type": "markdown",
   "metadata": {
    "colab_type": "text",
    "id": "R3J_SNakFSgj"
   },
   "source": [
    "### Filtering with boolean indexing\n",
    "\n",
    "We will use the boolean series created to filter the information of the records that match the conditions"
   ]
  },
  {
   "cell_type": "code",
   "execution_count": null,
   "metadata": {
    "colab": {
     "base_uri": "https://localhost:8080/",
     "height": 571
    },
    "colab_type": "code",
    "id": "chlKRRiCFSgk",
    "outputId": "d9b25f64-a6f6-4980-aa40-fc573f98c461"
   },
   "outputs": [],
   "source": [
    "oscars_short[oscars_last_20_years]"
   ]
  },
  {
   "cell_type": "code",
   "execution_count": null,
   "metadata": {
    "colab": {
     "base_uri": "https://localhost:8080/",
     "height": 589
    },
    "colab_type": "code",
    "id": "kKkZrr7gFSgn",
    "outputId": "f9b0b058-ce4b-48b3-c5ce-4ab878729e51"
   },
   "outputs": [],
   "source": [
    "oscars_short[oscars_best_director]"
   ]
  },
  {
   "cell_type": "code",
   "execution_count": null,
   "metadata": {
    "colab": {
     "base_uri": "https://localhost:8080/",
     "height": 817
    },
    "colab_type": "code",
    "id": "T0JecZ8iFShA",
    "outputId": "24ff3925-d25c-424c-9869-8a855b61a632",
    "scrolled": false
   },
   "outputs": [],
   "source": [
    "oscars_short[(oscars_last_20_years&oscars_best_director)]"
   ]
  },
  {
   "cell_type": "code",
   "execution_count": null,
   "metadata": {
    "colab": {
     "base_uri": "https://localhost:8080/",
     "height": 191
    },
    "colab_type": "code",
    "id": "rSzqBVgQFShC",
    "outputId": "47070a22-c408-4fb2-a0ef-4824a19e1ebd"
   },
   "outputs": [],
   "source": [
    "oscars_short.count()"
   ]
  },
  {
   "cell_type": "code",
   "execution_count": null,
   "metadata": {
    "colab": {},
    "colab_type": "code",
    "id": "9mUnOOTXFShE"
   },
   "outputs": [],
   "source": [
    "oscars_short.drop_duplicates(inplace=True)"
   ]
  },
  {
   "cell_type": "markdown",
   "metadata": {
    "colab_type": "text",
    "id": "rMmBBOO9FShJ"
   },
   "source": [
    "#  \n",
    "#  \n",
    "#  \n",
    "#  Data Visualization \n",
    "\n",
    "* Analizing viariables\n"
   ]
  },
  {
   "cell_type": "markdown",
   "metadata": {
    "colab_type": "text",
    "id": "mo9cS-eUFShK"
   },
   "source": [
    "### Histograms"
   ]
  },
  {
   "cell_type": "code",
   "execution_count": null,
   "metadata": {
    "colab": {
     "base_uri": "https://localhost:8080/",
     "height": 297
    },
    "colab_type": "code",
    "id": "QxbbwVoNFShL",
    "outputId": "bcb30dbe-f3c9-42f6-ab4e-c4acc4dd1f41"
   },
   "outputs": [],
   "source": [
    "fig=plt.figure()\n",
    "ax = fig.add_subplot(111)\n",
    "\n",
    "plt.title('Year of Award variable: Histogram',fontsize=16,fontweight='bold')\n",
    "ax.set_xlabel('year of award')\n",
    "oscars_short['year_of_award'].plot.hist(color='darksalmon', figsize=(8, 4))\n",
    "\n",
    "plt.show()"
   ]
  },
  {
   "cell_type": "code",
   "execution_count": null,
   "metadata": {
    "colab": {
     "base_uri": "https://localhost:8080/",
     "height": 297
    },
    "colab_type": "code",
    "id": "lRilpHkkFShN",
    "outputId": "3035b777-3f61-4ac5-8a68-570b9753dd79"
   },
   "outputs": [],
   "source": [
    "# the same, but horizontal\n",
    "fig=plt.figure()\n",
    "ax = fig.add_subplot(111)\n",
    "\n",
    "plt.title('Year of Award variable: Histogram',fontsize=16,fontweight='bold')\n",
    "ax.set_xlabel('year of award')\n",
    "oscars_short['year_of_award'].plot.hist(orientation='horizontal',color='lightblue', figsize=(8, 4))\n",
    "\n",
    "plt.show()"
   ]
  },
  {
   "cell_type": "markdown",
   "metadata": {
    "colab_type": "text",
    "id": "kdRpAfukFShP"
   },
   "source": [
    "### Density Plots"
   ]
  },
  {
   "cell_type": "code",
   "execution_count": null,
   "metadata": {
    "colab": {
     "base_uri": "https://localhost:8080/",
     "height": 297
    },
    "colab_type": "code",
    "id": "7EDGonbYFShP",
    "outputId": "4058b1b0-caa4-4312-be3c-360d44a9cc41"
   },
   "outputs": [],
   "source": [
    "fig=plt.figure()\n",
    "ax = fig.add_subplot(111)\n",
    "\n",
    "plt.title('Year of Award variable: Histogram',fontsize=16,fontweight='bold')\n",
    "ax.set_xlabel('year of award')\n",
    "oscars_short['year_of_award'].plot.kde(color='lightgreen', figsize=(8, 4))\n",
    "\n",
    "plt.show()"
   ]
  },
  {
   "cell_type": "code",
   "execution_count": null,
   "metadata": {
    "colab": {
     "base_uri": "https://localhost:8080/",
     "height": 297
    },
    "colab_type": "code",
    "id": "kLMOkd-rFShR",
    "outputId": "dd9e4ee0-94af-449f-c670-0b26a1847da6"
   },
   "outputs": [],
   "source": [
    "fig=plt.figure()\n",
    "ax = fig.add_subplot(111)\n",
    "\n",
    "plt.title('Year of Award variable: Histogram & KDE',fontsize=16,fontweight='bold')\n",
    "ax.set_xlabel('year of award')\n",
    "oscars_short['year_of_award'].plot.hist(color='lightsteelblue', figsize=(8, 4), density=True)\n",
    "oscars_short['year_of_award'].plot.kde(color='darkblue', ax=ax, secondary_y=True)\n",
    "\n",
    "ax.set_ylabel('Density')\n",
    "plt.show()\n"
   ]
  },
  {
   "cell_type": "code",
   "execution_count": null,
   "metadata": {
    "colab": {
     "base_uri": "https://localhost:8080/",
     "height": 313
    },
    "colab_type": "code",
    "id": "bzFHYsV_FShY",
    "outputId": "1ebcf7ef-d6d5-499f-c66c-02c1d060248f"
   },
   "outputs": [],
   "source": [
    "# Density Plot and Histogram using sns\n",
    "sns.distplot(oscars_short['year_of_award'], hist=True, kde=True, \n",
    "             bins=int(180/5), color = 'lightblue', \n",
    "             hist_kws={'edgecolor':'grey'},\n",
    "             kde_kws={'linewidth': 4})\n",
    "\n",
    "plt.xlabel('Year of Award')\n",
    "plt.ylabel('Density')\n",
    "plt.title('Other histogram & dencity plot')\n"
   ]
  },
  {
   "cell_type": "markdown",
   "metadata": {
    "colab_type": "text",
    "id": "siyNxVeaFSha"
   },
   "source": [
    "### Bar Plot"
   ]
  },
  {
   "cell_type": "code",
   "execution_count": null,
   "metadata": {
    "colab": {
     "base_uri": "https://localhost:8080/",
     "height": 225
    },
    "colab_type": "code",
    "id": "JZTVNhRSFSha",
    "outputId": "23c47323-39f3-49c9-d00f-b7f84615020e"
   },
   "outputs": [],
   "source": [
    "oscars_per_person=oscars_short['person'].value_counts()\n",
    "oscars_per_person"
   ]
  },
  {
   "cell_type": "code",
   "execution_count": null,
   "metadata": {
    "colab": {
     "base_uri": "https://localhost:8080/",
     "height": 35
    },
    "colab_type": "code",
    "id": "oD9_R4Y0FShc",
    "outputId": "028531c2-a3df-496b-c104-ad166ada5537"
   },
   "outputs": [],
   "source": [
    "type(oscars_per_person)"
   ]
  },
  {
   "cell_type": "code",
   "execution_count": null,
   "metadata": {
    "colab": {
     "base_uri": "https://localhost:8080/",
     "height": 415
    },
    "colab_type": "code",
    "id": "4kaXE95KFShf",
    "outputId": "a0981542-c585-437a-8ae6-58946f83cfd2"
   },
   "outputs": [],
   "source": [
    "oscars_per_person_df=oscars_per_person.to_frame()\n",
    "oscars_per_person_df"
   ]
  },
  {
   "cell_type": "code",
   "execution_count": null,
   "metadata": {
    "colab": {
     "base_uri": "https://localhost:8080/",
     "height": 615
    },
    "colab_type": "code",
    "id": "HB9m58tzFShl",
    "outputId": "67221b45-3b7f-429c-ae56-00828468b330"
   },
   "outputs": [],
   "source": [
    "oscars_per_person_df.head(20).plot(kind='bar',figsize=(16,8),rot=85,title='Top Award Winners',color=(0.7, 0.2, 0.4, 0.6));\n",
    "ax=plt.gca()\n",
    "ax.set_ylabel('Oscars');\n",
    "ax.set_xlabel('Name')"
   ]
  },
  {
   "cell_type": "markdown",
   "metadata": {
    "colab_type": "text",
    "id": "oaiNUk7BFShn"
   },
   "source": [
    "### Scatter Plot"
   ]
  },
  {
   "cell_type": "code",
   "execution_count": null,
   "metadata": {
    "colab": {
     "base_uri": "https://localhost:8080/",
     "height": 295
    },
    "colab_type": "code",
    "id": "fvFTjd36FSho",
    "outputId": "f9ebf45b-a86f-4681-b592-6dad9692b2fb"
   },
   "outputs": [],
   "source": [
    "oscars_short.info()"
   ]
  },
  {
   "cell_type": "code",
   "execution_count": null,
   "metadata": {
    "colab": {},
    "colab_type": "code",
    "id": "yG73pH8uFShq"
   },
   "outputs": [],
   "source": [
    "oscars_short['age_at_award']=oscars_short['year_of_award']-(oscars_short['date_of_birth'].dt.year)"
   ]
  },
  {
   "cell_type": "code",
   "execution_count": null,
   "metadata": {
    "colab": {
     "base_uri": "https://localhost:8080/",
     "height": 675
    },
    "colab_type": "code",
    "id": "yeqYnRGGFSht",
    "outputId": "30c3ea52-132d-468d-c228-5ffae30c04a3"
   },
   "outputs": [],
   "source": [
    "oscars_short"
   ]
  },
  {
   "cell_type": "code",
   "execution_count": null,
   "metadata": {
    "colab": {
     "base_uri": "https://localhost:8080/",
     "height": 69
    },
    "colab_type": "code",
    "id": "nzA7enDOFShw",
    "outputId": "c3349d18-b731-4a06-e399-6c4b4f60fb3a"
   },
   "outputs": [],
   "source": [
    "(oscars_short['age_at_award']>0).value_counts()"
   ]
  },
  {
   "cell_type": "code",
   "execution_count": null,
   "metadata": {
    "colab": {
     "base_uri": "https://localhost:8080/",
     "height": 35
    },
    "colab_type": "code",
    "id": "IwqejZ4hFShy",
    "outputId": "89342de7-2f95-44c3-ae15-208b793d1128"
   },
   "outputs": [],
   "source": [
    "from datetime import datetime\n",
    "hundred_years=datetime.strptime('0100-01-01','%Y-%m-%d')\n",
    "print(hundred_years)"
   ]
  },
  {
   "cell_type": "code",
   "execution_count": null,
   "metadata": {
    "colab": {},
    "colab_type": "code",
    "id": "ZVGDEQ9hFSh1"
   },
   "outputs": [],
   "source": [
    "oscars_short['year_of_birth']=oscars_short.loc[:,'date_of_birth'].dt.year\n",
    "oscars_short['age_at_award']=oscars_short['year_of_award']-(oscars_short['date_of_birth'].dt.year)\n",
    "oscars_short.loc[oscars_short['age_at_award']<1,'year_of_birth'] = oscars_short.loc[oscars_short['age_at_award']<1,'year_of_birth'] - 100"
   ]
  },
  {
   "cell_type": "code",
   "execution_count": null,
   "metadata": {
    "colab": {},
    "colab_type": "code",
    "id": "fxbEcTABFSh5"
   },
   "outputs": [],
   "source": [
    "oscars_short['age_at_award']=oscars_short['year_of_award']-(oscars_short['year_of_birth'])"
   ]
  },
  {
   "cell_type": "code",
   "execution_count": null,
   "metadata": {
    "colab": {
     "base_uri": "https://localhost:8080/",
     "height": 49
    },
    "colab_type": "code",
    "id": "cjo740-tFSh7",
    "outputId": "e2367f67-60f1-4a35-ac18-7151a72a53c1"
   },
   "outputs": [],
   "source": [
    "oscars_short.loc[(oscars_short['age_at_award']<1),:]"
   ]
  },
  {
   "cell_type": "code",
   "execution_count": null,
   "metadata": {
    "colab": {
     "base_uri": "https://localhost:8080/",
     "height": 747
    },
    "colab_type": "code",
    "id": "XWy2fdRCFSh9",
    "outputId": "7669dbf7-6207-4a42-c208-597c8b0f66e3"
   },
   "outputs": [],
   "source": [
    "oscars_short"
   ]
  },
  {
   "cell_type": "code",
   "execution_count": null,
   "metadata": {
    "colab": {
     "base_uri": "https://localhost:8080/",
     "height": 513
    },
    "colab_type": "code",
    "id": "O4LYS1aaFSh_",
    "outputId": "a04bde93-ecc3-4f00-88da-90aedf94ea12",
    "scrolled": false
   },
   "outputs": [],
   "source": [
    "oscars_short.plot.scatter('year_of_award','age_at_award', title='Relationship between Year of Award and Age',alpha=0.25,figsize=(12,8));\n",
    "ax=plt.gca()\n",
    "ax.set_ylabel('Age')\n",
    "ax.set_xlabel('Year');"
   ]
  },
  {
   "cell_type": "code",
   "execution_count": null,
   "metadata": {
    "colab": {
     "base_uri": "https://localhost:8080/",
     "height": 141
    },
    "colab_type": "code",
    "id": "EnXxl5L1FSiF",
    "outputId": "09ec4f4d-e8e0-42cc-db8b-21a00b9376af"
   },
   "outputs": [],
   "source": [
    "oscars_short.corr()"
   ]
  },
  {
   "cell_type": "code",
   "execution_count": null,
   "metadata": {
    "colab": {
     "base_uri": "https://localhost:8080/",
     "height": 549
    },
    "colab_type": "code",
    "id": "KCw7Y_JfFSiL",
    "outputId": "65f701b3-a02f-4d19-9a81-b719a9f72b26"
   },
   "outputs": [],
   "source": [
    "cor = oscars_short.corr().abs()\n",
    "\n",
    "import matplotlib.ticker as ticker\n",
    "import matplotlib.cm as cm\n",
    "import matplotlib as mpl\n",
    "\n",
    "\n",
    "\n",
    "fig = plt.figure()\n",
    "fig, ax = plt.subplots(1,1, figsize=(8,8))\n",
    "heatplot = ax.imshow(cor, cmap='BuPu')\n",
    "ax.set_xticklabels(cor.columns)\n",
    "ax.set_yticklabels(cor.index)\n",
    "\n",
    "tick_spacing = 1\n",
    "ax.xaxis.set_major_locator(ticker.MultipleLocator(tick_spacing))\n",
    "ax.yaxis.set_major_locator(ticker.MultipleLocator(tick_spacing))\n",
    "ax.set_title(\"Relationship between numeric columns\")\n",
    "ax.set_xlabel('Columns')\n",
    "ax.set_ylabel('Columns')"
   ]
  },
  {
   "cell_type": "markdown",
   "metadata": {
    "colab_type": "text",
    "id": "9YnZAMCtFSiO"
   },
   "source": [
    "#  \n",
    "#  \n",
    "#  \n",
    "#  \n",
    "##  Grouping for Aggregation, filtration and transformation"
   ]
  },
  {
   "cell_type": "markdown",
   "metadata": {
    "colab_type": "text",
    "id": "xtuNahOAFSiO"
   },
   "source": [
    "The most common use of a _groupby_ is performing an aggregation (which takes several values and converts them in one single value). \n",
    "\n",
    "In order to do this, we will define an __aggregating column__ (from where we take the value to aggregate) and an __aggregating function__ (how do we aggregate). \n",
    "\n",
    "Some common aggregating functions are _mean, sum, max, min, count_, etc..."
   ]
  },
  {
   "cell_type": "markdown",
   "metadata": {
    "colab_type": "text",
    "id": "_VdnrzxyFSiO"
   },
   "source": [
    "The easiest way to do it, groupby + apply:"
   ]
  },
  {
   "cell_type": "code",
   "execution_count": null,
   "metadata": {
    "colab": {
     "base_uri": "https://localhost:8080/",
     "height": 747
    },
    "colab_type": "code",
    "id": "-EOp5TnoFSiS",
    "outputId": "64f755ad-3fbd-419e-8510-21858a0c6d3a"
   },
   "outputs": [],
   "source": [
    "oscars_short "
   ]
  },
  {
   "cell_type": "code",
   "execution_count": null,
   "metadata": {
    "colab": {
     "base_uri": "https://localhost:8080/",
     "height": 263
    },
    "colab_type": "code",
    "id": "1cte_4oKFSiU",
    "outputId": "9fdc9504-99f5-4695-b357-590360b9c777"
   },
   "outputs": [],
   "source": [
    "grouped=oscars_short.groupby(['award']).agg({'age_at_award':['mean','count']}) \n",
    "grouped"
   ]
  },
  {
   "cell_type": "code",
   "execution_count": null,
   "metadata": {
    "colab": {
     "base_uri": "https://localhost:8080/",
     "height": 477
    },
    "colab_type": "code",
    "id": "MXJKL5PWFSiX",
    "outputId": "7351eabc-2312-4558-c39e-74ffa71efb5d"
   },
   "outputs": [],
   "source": [
    "grouped=oscars_short.groupby(['year_of_award']).agg({'age_at_award':['mean','count']}) \n",
    "grouped"
   ]
  },
  {
   "cell_type": "code",
   "execution_count": null,
   "metadata": {
    "colab": {
     "base_uri": "https://localhost:8080/",
     "height": 417
    },
    "colab_type": "code",
    "id": "94EA_zq-FSib",
    "outputId": "84381821-70e9-4135-9330-3ec5cc85026d"
   },
   "outputs": [],
   "source": [
    "grouped.loc[grouped[('age_at_award','count')]>5,:].sort_values(('age_at_award','mean'),ascending=False).head(10)"
   ]
  },
  {
   "cell_type": "code",
   "execution_count": null,
   "metadata": {
    "colab": {
     "base_uri": "https://localhost:8080/",
     "height": 531
    },
    "colab_type": "code",
    "id": "-Kk0isk2FSid",
    "outputId": "c2de8803-be47-42ca-9af2-c9717cfb5650"
   },
   "outputs": [],
   "source": [
    "oscars_short.groupby('award').mean().loc[:,'age_at_award'].plot(kind='bar',title='Average age by Award category',linewidth=2,figsize=(10,6), color='lightpink');\n",
    "ax=plt.gca()\n",
    "ax.set_ylabel('Average Age');\n",
    "ax.set_xlabel('Category')"
   ]
  },
  {
   "cell_type": "code",
   "execution_count": null,
   "metadata": {
    "colab": {
     "base_uri": "https://localhost:8080/",
     "height": 747
    },
    "colab_type": "code",
    "id": "Iq6fgamNFSig",
    "outputId": "771d4556-b3c4-4460-d89e-53dcdb841b49"
   },
   "outputs": [],
   "source": [
    "grouped=oscars_short.groupby(['movie'])\n",
    "grouped.head()"
   ]
  },
  {
   "cell_type": "code",
   "execution_count": null,
   "metadata": {
    "colab": {
     "base_uri": "https://localhost:8080/",
     "height": 210
    },
    "colab_type": "code",
    "id": "gJuJF7u4FSih",
    "outputId": "abf8a564-8d33-47ba-9274-a9950ed2fe1a"
   },
   "outputs": [],
   "source": [
    "grouped.get_group('Cabaret')"
   ]
  },
  {
   "cell_type": "markdown",
   "metadata": {
    "colab_type": "text",
    "id": "BKUBeQGFFSim"
   },
   "source": [
    "#  \n",
    "###  Grouping by multiple columns"
   ]
  },
  {
   "cell_type": "code",
   "execution_count": null,
   "metadata": {
    "colab": {
     "base_uri": "https://localhost:8080/",
     "height": 243
    },
    "colab_type": "code",
    "id": "HC25N4HlFSim",
    "outputId": "39dae0a9-aa7e-4ff6-bb77-18d9cf015d0f"
   },
   "outputs": [],
   "source": [
    "grouped=oscars_short.groupby(['person','award']).size()\n",
    "grouped"
   ]
  },
  {
   "cell_type": "code",
   "execution_count": null,
   "metadata": {
    "colab": {
     "base_uri": "https://localhost:8080/",
     "height": 243
    },
    "colab_type": "code",
    "id": "9K2yQXJQFSio",
    "outputId": "96a2289d-20ed-4ea4-9ace-3775dd061adf"
   },
   "outputs": [],
   "source": [
    "grouped=oscars_short.groupby(['person','award']).size().sort_values(ascending=False)\n",
    "grouped\n"
   ]
  },
  {
   "cell_type": "code",
   "execution_count": null,
   "metadata": {
    "colab": {
     "base_uri": "https://localhost:8080/",
     "height": 399
    },
    "colab_type": "code",
    "id": "7VmpTwHMFSiv",
    "outputId": "69d8f92b-4614-4cc1-b578-b0271bcefcde"
   },
   "outputs": [],
   "source": [
    "grouped=oscars_short.groupby(['person','award']).size().nlargest(20)\n",
    "grouped"
   ]
  },
  {
   "cell_type": "code",
   "execution_count": null,
   "metadata": {
    "colab": {
     "base_uri": "https://localhost:8080/",
     "height": 208
    },
    "colab_type": "code",
    "id": "OSwzcpm9FSiw",
    "outputId": "02bc6543-672d-452e-e9e1-2d5e8f639d91"
   },
   "outputs": [],
   "source": [
    "#other alternative, without group by\n",
    "oscars_short['person'].value_counts().nlargest(10)"
   ]
  },
  {
   "cell_type": "code",
   "execution_count": null,
   "metadata": {
    "colab": {
     "base_uri": "https://localhost:8080/",
     "height": 121
    },
    "colab_type": "code",
    "id": "d4N0Z-e9FSiz",
    "outputId": "a9411a4e-9ca0-45fb-cd4e-be3d76fd5533"
   },
   "outputs": [],
   "source": [
    "#other alternative, without group by\n",
    "oscars_short['person'].value_counts().nsmallest(5)"
   ]
  },
  {
   "cell_type": "markdown",
   "metadata": {
    "colab_type": "text",
    "id": "86i8pkGUFSi2"
   },
   "source": [
    "If we want to create a dataframe, with the total number of elements per group (size), we can reset the index like following..."
   ]
  },
  {
   "cell_type": "code",
   "execution_count": null,
   "metadata": {
    "colab": {
     "base_uri": "https://localhost:8080/",
     "height": 1000
    },
    "colab_type": "code",
    "id": "I4mVw6HYFSi2",
    "outputId": "f7923305-2ccd-483c-c74c-b9751382b211"
   },
   "outputs": [],
   "source": [
    "oscars_short_by_religion=oscars_short.groupby(['award','religion']).size()\n",
    "oscars_short_by_religion=oscars_short_by_religion.reset_index()\n",
    "oscars_short_by_religion\n",
    "col_rename={0:'count_religion'}\n",
    "oscars_short_by_religion=oscars_short_by_religion.rename(columns=col_rename)\n",
    "oscars_short_by_religion"
   ]
  },
  {
   "cell_type": "markdown",
   "metadata": {
    "colab_type": "text",
    "id": "rrfDJ1GsFSi4"
   },
   "source": [
    "#### As we saw before, we can apply more than one operation at the same time"
   ]
  },
  {
   "cell_type": "code",
   "execution_count": null,
   "metadata": {
    "colab": {
     "base_uri": "https://localhost:8080/",
     "height": 263
    },
    "colab_type": "code",
    "id": "Vpo_zG-DFSi4",
    "outputId": "13f27eb4-2bd5-42e7-813a-b2bc238cc8b7"
   },
   "outputs": [],
   "source": [
    "grouped=oscars_short.groupby(['year_of_award']).agg({'age_at_award':['mean','count']}) \n",
    "grouped.head(5)"
   ]
  },
  {
   "cell_type": "markdown",
   "metadata": {
    "colab_type": "text",
    "id": "wWUu2Y6xFSi6"
   },
   "source": [
    "####  We can even apply different operations to different columns"
   ]
  },
  {
   "cell_type": "code",
   "execution_count": null,
   "metadata": {
    "colab": {
     "base_uri": "https://localhost:8080/",
     "height": 723
    },
    "colab_type": "code",
    "id": "AYSlWMSoFSi7",
    "outputId": "7fbe8915-2243-4131-b239-0c2bd8cb1ef4"
   },
   "outputs": [],
   "source": [
    "grouped=oscars_short.groupby(['year_of_award']).agg({'age_at_award':['mean','count'],'year_of_birth':'min','religion':['max','min']}) \n",
    "grouped.head(20)"
   ]
  },
  {
   "cell_type": "markdown",
   "metadata": {
    "colab_type": "text",
    "id": "F7xuH48kFSi8"
   },
   "source": [
    "Inevitably, when using groupby, you will likely create a __MultiIndex__ in the columns or rows or both. DataFrames with MultiIndexes are more difficult to navigate and occasionally have confusing column names as well."
   ]
  },
  {
   "cell_type": "markdown",
   "metadata": {
    "colab_type": "text",
    "id": "wo6adUDIFSi-"
   },
   "source": [
    "Doing this, we obtain a structure with two level of indexes. This difficults the access to the data.\n",
    "\n",
    "Because of that we will try to simplify the structure.\n",
    "\n",
    "Let's start by understanding how the index is presented at each level:"
   ]
  },
  {
   "cell_type": "code",
   "execution_count": null,
   "metadata": {
    "colab": {},
    "colab_type": "code",
    "id": "uHdu-GHUFSi_"
   },
   "outputs": [],
   "source": [
    "level0=grouped.columns.get_level_values(0)"
   ]
  },
  {
   "cell_type": "code",
   "execution_count": null,
   "metadata": {
    "colab": {
     "base_uri": "https://localhost:8080/",
     "height": 69
    },
    "colab_type": "code",
    "id": "09hY2z6sFSjA",
    "outputId": "c8b7862b-f6c7-4557-a453-bb40f511bfbe"
   },
   "outputs": [],
   "source": [
    "level0"
   ]
  },
  {
   "cell_type": "code",
   "execution_count": null,
   "metadata": {
    "colab": {},
    "colab_type": "code",
    "id": "ZGgwcigmFSjB"
   },
   "outputs": [],
   "source": [
    "level1=grouped.columns.get_level_values(1)"
   ]
  },
  {
   "cell_type": "code",
   "execution_count": null,
   "metadata": {
    "colab": {
     "base_uri": "https://localhost:8080/",
     "height": 35
    },
    "colab_type": "code",
    "id": "pN50VkqDFSjD",
    "outputId": "2730e266-c717-47d9-8cd3-69a9b8241255"
   },
   "outputs": [],
   "source": [
    "level1"
   ]
  },
  {
   "cell_type": "markdown",
   "metadata": {
    "colab_type": "text",
    "id": "8HBOqTswFSjE"
   },
   "source": [
    "We can see that we have two columns called min. We can only differenciate them by using both index levels (the sum of stars or the sum of reviews)\n",
    "\n",
    "We will try to reduce this structure, by concatenating both levels in the same column name."
   ]
  },
  {
   "cell_type": "code",
   "execution_count": null,
   "metadata": {
    "colab": {},
    "colab_type": "code",
    "id": "5ZpxV3UTFSjF"
   },
   "outputs": [],
   "source": [
    "grouped.columns = level0 + '_' + level1"
   ]
  },
  {
   "cell_type": "markdown",
   "metadata": {
    "colab_type": "text",
    "id": "YkToN8NiFSjH"
   },
   "source": [
    "Doing this, we now have 5 different columns with one index level:"
   ]
  },
  {
   "cell_type": "code",
   "execution_count": null,
   "metadata": {
    "colab": {
     "base_uri": "https://localhost:8080/",
     "height": 446
    },
    "colab_type": "code",
    "id": "F3fTgVJJFSjH",
    "outputId": "61cc0ae6-be9c-4b1c-b026-4dafedc62d0a"
   },
   "outputs": [],
   "source": [
    "grouped"
   ]
  },
  {
   "cell_type": "markdown",
   "metadata": {
    "colab_type": "text",
    "id": "g6hoIGzmFSjJ"
   },
   "source": [
    "We can see that we still have 2 levels in the row index. We can reduce this using _reset_index()_"
   ]
  },
  {
   "cell_type": "code",
   "execution_count": null,
   "metadata": {
    "colab": {},
    "colab_type": "code",
    "id": "Lw17gLOsFSjJ"
   },
   "outputs": [],
   "source": [
    "grouped.reset_index(inplace=True)"
   ]
  },
  {
   "cell_type": "code",
   "execution_count": null,
   "metadata": {
    "colab": {
     "base_uri": "https://localhost:8080/",
     "height": 415
    },
    "colab_type": "code",
    "id": "6yZ1m8adFSjK",
    "outputId": "b8d9f705-a901-459a-b4a7-1416f070f520"
   },
   "outputs": [],
   "source": [
    "grouped"
   ]
  },
  {
   "cell_type": "markdown",
   "metadata": {
    "colab_type": "text",
    "id": "ylLc0n5YFSjN"
   },
   "source": [
    "Pandas also allows us to define our own aggregate functions:"
   ]
  },
  {
   "cell_type": "code",
   "execution_count": null,
   "metadata": {
    "colab": {
     "base_uri": "https://localhost:8080/",
     "height": 263
    },
    "colab_type": "code",
    "id": "nNJsdNQOFSjN",
    "outputId": "19281f32-e3b3-4309-b8f1-06e9cf45fffd"
   },
   "outputs": [],
   "source": [
    "def add_one(x):\n",
    "    return x.mean()+1 \n",
    "     \n",
    "oscars_short.groupby('award').agg({'age_at_award': ['mean', add_one]})"
   ]
  },
  {
   "cell_type": "code",
   "execution_count": null,
   "metadata": {
    "colab": {
     "base_uri": "https://localhost:8080/",
     "height": 263
    },
    "colab_type": "code",
    "id": "Rmi-oiz4FSjR",
    "outputId": "9f94f19c-91fd-4e5c-e7c6-8ffc14c27927"
   },
   "outputs": [],
   "source": [
    "add_one.__name__='PlusOne'\n",
    "grouped=oscars_short.groupby('award').agg({'age_at_award': ['mean', add_one]})\n",
    "grouped"
   ]
  },
  {
   "cell_type": "code",
   "execution_count": null,
   "metadata": {
    "colab": {
     "base_uri": "https://localhost:8080/",
     "height": 35
    },
    "colab_type": "code",
    "id": "CrIdRRKdFSjT",
    "outputId": "510b25e3-66b5-415a-a538-d0ed6f1148fb"
   },
   "outputs": [],
   "source": [
    "grouped=oscars_short.groupby('award')\n",
    "print(type(grouped))"
   ]
  },
  {
   "cell_type": "code",
   "execution_count": null,
   "metadata": {
    "colab": {
     "base_uri": "https://localhost:8080/",
     "height": 35
    },
    "colab_type": "code",
    "id": "l_IndnvoFSjV",
    "outputId": "8cf264e6-c947-4890-a3a2-d9f697ddd10a"
   },
   "outputs": [],
   "source": [
    "grouped.ngroups"
   ]
  },
  {
   "cell_type": "code",
   "execution_count": null,
   "metadata": {
    "colab": {
     "base_uri": "https://localhost:8080/",
     "height": 695
    },
    "colab_type": "code",
    "id": "Qugev8COFSjW",
    "outputId": "456e6008-8d65-4f17-d115-56f6fe205cce"
   },
   "outputs": [],
   "source": [
    "grouped.get_group('Best Actor')"
   ]
  },
  {
   "cell_type": "code",
   "execution_count": null,
   "metadata": {
    "colab": {
     "base_uri": "https://localhost:8080/",
     "height": 1000
    },
    "colab_type": "code",
    "id": "YzbLIQBAFSjY",
    "outputId": "656a547a-34af-4add-98b0-5960ef36a607"
   },
   "outputs": [],
   "source": [
    "from IPython.display import display\n",
    "\n",
    "for name, group in grouped:\n",
    "        print(name)\n",
    "        display(group.head(3))"
   ]
  },
  {
   "cell_type": "code",
   "execution_count": null,
   "metadata": {
    "colab": {
     "base_uri": "https://localhost:8080/",
     "height": 139
    },
    "colab_type": "code",
    "id": "KLPbtlhVFSjZ",
    "outputId": "c4e23c1c-32fd-43e6-b180-0d47dd9334d1"
   },
   "outputs": [],
   "source": [
    "grouped['race_ethnicity'].max()"
   ]
  },
  {
   "cell_type": "code",
   "execution_count": null,
   "metadata": {
    "colab": {
     "base_uri": "https://localhost:8080/",
     "height": 1000
    },
    "colab_type": "code",
    "id": "uppM5TFCFSjb",
    "outputId": "79b6a2fe-fb21-424d-e92b-4d0fc5de1299"
   },
   "outputs": [],
   "source": [
    "for age_at_award, group in grouped:\n",
    "        print(age_at_award)\n",
    "        display(group.sort_values('age_at_award',ascending=False).head(3))"
   ]
  },
  {
   "cell_type": "markdown",
   "metadata": {
    "colab_type": "text",
    "id": "hRePPxGDFSje"
   },
   "source": [
    "\n",
    "#  \n",
    "###  Transform\n",
    "#   "
   ]
  },
  {
   "cell_type": "code",
   "execution_count": null,
   "metadata": {
    "colab": {
     "base_uri": "https://localhost:8080/",
     "height": 210
    },
    "colab_type": "code",
    "id": "QkuwhWB7FSjf",
    "outputId": "db5965ae-f657-4bff-b085-ecfdb715a55c"
   },
   "outputs": [],
   "source": [
    "oscars_short.head(3)"
   ]
  },
  {
   "cell_type": "code",
   "execution_count": null,
   "metadata": {
    "colab": {},
    "colab_type": "code",
    "id": "zo5UBgctFSjg"
   },
   "outputs": [],
   "source": []
  },
  {
   "cell_type": "code",
   "execution_count": null,
   "metadata": {
    "colab": {
     "base_uri": "https://localhost:8080/",
     "height": 139
    },
    "colab_type": "code",
    "id": "sLUzbwSzFSji",
    "outputId": "c4cac04d-204b-448f-d9b1-a3390b7b87ae"
   },
   "outputs": [],
   "source": [
    "grouped=oscars_short.groupby('award')\n",
    "grouped['age_at_award'].mean()"
   ]
  },
  {
   "cell_type": "code",
   "execution_count": null,
   "metadata": {
    "colab": {
     "base_uri": "https://localhost:8080/",
     "height": 381
    },
    "colab_type": "code",
    "id": "eeccIyRvFSjp",
    "outputId": "e477d6ea-8059-49e8-8766-38164cda1d17"
   },
   "outputs": [],
   "source": [
    "grouped['age_at_award'].transform('mean').head(20)"
   ]
  },
  {
   "cell_type": "code",
   "execution_count": null,
   "metadata": {
    "colab": {},
    "colab_type": "code",
    "id": "XMQ0PurrFSjr"
   },
   "outputs": [],
   "source": [
    "oscars_short['avg_age_at_award'] = oscars_short.groupby('award')['age_at_award'].transform('mean')\n",
    "oscars_short['is_above_avg_age'] = oscars_short['avg_age_at_award'] < oscars_short['age_at_award']"
   ]
  },
  {
   "cell_type": "code",
   "execution_count": null,
   "metadata": {
    "colab": {
     "base_uri": "https://localhost:8080/",
     "height": 1000
    },
    "colab_type": "code",
    "id": "AaEETyi3FSjt",
    "outputId": "b87d1362-45a9-40ae-d730-d4c4c40832ff"
   },
   "outputs": [],
   "source": [
    "oscars_short.head(20)"
   ]
  },
  {
   "cell_type": "markdown",
   "metadata": {
    "colab_type": "text",
    "id": "6l9HabIwFSjw"
   },
   "source": [
    "Transform can also be used to do transformations to a dataframe, in combination with apply"
   ]
  },
  {
   "cell_type": "code",
   "execution_count": null,
   "metadata": {
    "colab": {
     "base_uri": "https://localhost:8080/",
     "height": 225
    },
    "colab_type": "code",
    "id": "7FDs0QynFSjw",
    "outputId": "822ee053-636f-4a3d-f029-9aaf00632e7e"
   },
   "outputs": [],
   "source": [
    "#Let´s imagine we want to add 1 to the year of birth (just to see how to do it)\n",
    "oscars_short['year_of_birth'].transform(func = lambda x : x + 1)"
   ]
  },
  {
   "cell_type": "markdown",
   "metadata": {
    "colab_type": "text",
    "id": "VCjCR3ouFSjy"
   },
   "source": [
    "We can then assign this serie to the old year_of_birth column, or to a new one.\n",
    "\n",
    "Transform comes in handy during feature extraction. It can replace groupby + merge operation, all in one."
   ]
  },
  {
   "cell_type": "markdown",
   "metadata": {
    "colab_type": "text",
    "id": "EZNfEQqvFSjy"
   },
   "source": [
    "#  \n",
    "#   \n",
    "#   \n",
    "#   \n",
    "# Combining Pandas Objects\n",
    "#   \n",
    "To do this, we will work with _append, concat, join_ and _merge_\n",
    "\n",
    "The first one we will use is append, which allows us to add one or more rows to a dataframe. We can manually add one row at a time with .loc, but we will be able to add several rows (or even indicate them with a second df) using append"
   ]
  },
  {
   "cell_type": "code",
   "execution_count": null,
   "metadata": {
    "colab": {},
    "colab_type": "code",
    "id": "EY0Kh3rlFSjy"
   },
   "outputs": [],
   "source": [
    "oscars_short_BestActress=oscars_short.loc[oscars_short['award'].str.contains('Best Actress'),:]\n",
    "oscars_short_BestActor=oscars_short.loc[oscars_short['award'].str.contains('Best Actor'),:]"
   ]
  },
  {
   "cell_type": "code",
   "execution_count": null,
   "metadata": {
    "colab": {
     "base_uri": "https://localhost:8080/",
     "height": 395
    },
    "colab_type": "code",
    "id": "VydsTw50FSj1",
    "outputId": "28798be6-cf78-46e3-88eb-337d263deaa0"
   },
   "outputs": [],
   "source": [
    "oscars_short_BestActress.head()"
   ]
  },
  {
   "cell_type": "code",
   "execution_count": null,
   "metadata": {
    "colab": {
     "base_uri": "https://localhost:8080/",
     "height": 309
    },
    "colab_type": "code",
    "id": "rKCDRDOFFSj3",
    "outputId": "6f413f30-efc7-4a02-b5a4-9b2ed4212703"
   },
   "outputs": [],
   "source": [
    "oscars_short_BestActor.head()"
   ]
  },
  {
   "cell_type": "code",
   "execution_count": null,
   "metadata": {
    "colab": {},
    "colab_type": "code",
    "id": "qOuzNrY0FSj7"
   },
   "outputs": [],
   "source": [
    "oscars_short_Best_ActorandActress=oscars_short_BestActor.append(oscars_short_BestActress)"
   ]
  },
  {
   "cell_type": "code",
   "execution_count": null,
   "metadata": {
    "colab": {
     "base_uri": "https://localhost:8080/",
     "height": 643
    },
    "colab_type": "code",
    "id": "-S42dhH3FSj8",
    "outputId": "09515e60-fbaf-4358-f5af-a218bbb81901"
   },
   "outputs": [],
   "source": [
    "oscars_short_Best_ActorandActress"
   ]
  },
  {
   "cell_type": "code",
   "execution_count": null,
   "metadata": {
    "colab": {
     "base_uri": "https://localhost:8080/",
     "height": 35
    },
    "colab_type": "code",
    "id": "tLZKEOqZFSj-",
    "outputId": "9a9b29f0-e795-4a1a-e7c2-cd4b6d161f17"
   },
   "outputs": [],
   "source": [
    "len(oscars_short_BestActor)"
   ]
  },
  {
   "cell_type": "code",
   "execution_count": null,
   "metadata": {
    "colab": {
     "base_uri": "https://localhost:8080/",
     "height": 35
    },
    "colab_type": "code",
    "id": "ruxSjMFnFSkA",
    "outputId": "41c0c36e-3d9a-487e-917f-0bf040f1724f"
   },
   "outputs": [],
   "source": [
    "len(oscars_short_BestActress)"
   ]
  },
  {
   "cell_type": "code",
   "execution_count": null,
   "metadata": {
    "colab": {
     "base_uri": "https://localhost:8080/",
     "height": 35
    },
    "colab_type": "code",
    "id": "U7tQ-kckFSkB",
    "outputId": "2086f4a6-0b8a-408e-cb5f-e6cb00b1fb12"
   },
   "outputs": [],
   "source": [
    "86+87"
   ]
  },
  {
   "cell_type": "markdown",
   "metadata": {
    "colab_type": "text",
    "id": "yn89U1ocFSkC"
   },
   "source": [
    "### Concat\n",
    "\n",
    "We will see how to do the same (and more) using concat"
   ]
  },
  {
   "cell_type": "code",
   "execution_count": null,
   "metadata": {
    "colab": {
     "base_uri": "https://localhost:8080/",
     "height": 395
    },
    "colab_type": "code",
    "id": "-wHaept-FSkD",
    "outputId": "fb31a2fe-ffaa-4a5b-9982-4de4526c1219"
   },
   "outputs": [],
   "source": [
    "oscars_short_BestActress.head()"
   ]
  },
  {
   "cell_type": "code",
   "execution_count": null,
   "metadata": {
    "colab": {},
    "colab_type": "code",
    "id": "TOYaQStCFSkF"
   },
   "outputs": [],
   "source": [
    "oscars_short_Best_ActorandActress_concat=pd.concat([oscars_short_BestActor,oscars_short_BestActress])"
   ]
  },
  {
   "cell_type": "code",
   "execution_count": null,
   "metadata": {
    "colab": {
     "base_uri": "https://localhost:8080/",
     "height": 643
    },
    "colab_type": "code",
    "id": "JvqXS6MGFSkG",
    "outputId": "6ade87bb-b00d-4fcc-caca-d499638ccf2b"
   },
   "outputs": [],
   "source": [
    "oscars_short_Best_ActorandActress_concat"
   ]
  },
  {
   "cell_type": "markdown",
   "metadata": {
    "colab_type": "text",
    "id": "AkvXt5PxFSkH"
   },
   "source": [
    "![](Data/Yelp/join-or-merge-in-python-pandas-1.png)"
   ]
  },
  {
   "cell_type": "code",
   "execution_count": null,
   "metadata": {
    "colab": {},
    "colab_type": "code",
    "id": "oSeHEd_-FSkI"
   },
   "outputs": [],
   "source": [
    "grouped=oscars_short.groupby(['year_of_award']).agg({'age_at_award':['mean','count']})\n",
    "level0=grouped.columns.get_level_values(0)\n",
    "level1=grouped.columns.get_level_values(1)\n",
    "grouped.columns = level0 + '_' + level1\n",
    "grouped.reset_index(inplace=True) "
   ]
  },
  {
   "cell_type": "code",
   "execution_count": null,
   "metadata": {
    "colab": {
     "base_uri": "https://localhost:8080/",
     "height": 415
    },
    "colab_type": "code",
    "id": "L_C-W-nhFSkJ",
    "outputId": "077cdee5-5fdf-4c47-aa90-33e88f5bbc88"
   },
   "outputs": [],
   "source": [
    "grouped"
   ]
  },
  {
   "cell_type": "markdown",
   "metadata": {
    "colab_type": "text",
    "id": "57SuAEynFSkL"
   },
   "source": [
    "As we want the records of both dataframes, we will use outer join"
   ]
  },
  {
   "cell_type": "code",
   "execution_count": null,
   "metadata": {
    "colab": {},
    "colab_type": "code",
    "id": "Z6NE2MNTFSkL"
   },
   "outputs": [],
   "source": [
    "oscars_short_perYear=oscars_short.merge(grouped, left_on='year_of_award', right_on='year_of_award',how='outer')"
   ]
  },
  {
   "cell_type": "code",
   "execution_count": null,
   "metadata": {
    "colab": {
     "base_uri": "https://localhost:8080/",
     "height": 361
    },
    "colab_type": "code",
    "id": "iHAR2W2hFSkN",
    "outputId": "fe03282c-1a6d-4b1e-b573-440022bdaf4d"
   },
   "outputs": [],
   "source": [
    "oscars_short_perYear.head()"
   ]
  },
  {
   "cell_type": "markdown",
   "metadata": {
    "colab_type": "text",
    "id": "tLApPpRjFSkO"
   },
   "source": [
    "If we want to obtain only the awards for the years when the average age was less than 40 we can do..."
   ]
  },
  {
   "cell_type": "code",
   "execution_count": null,
   "metadata": {
    "colab": {},
    "colab_type": "code",
    "id": "PBIomZ2CFSkO"
   },
   "outputs": [],
   "source": [
    "year_less_than_40=grouped.loc[grouped['age_at_award_mean']<40,:]"
   ]
  },
  {
   "cell_type": "code",
   "execution_count": null,
   "metadata": {
    "colab": {
     "base_uri": "https://localhost:8080/",
     "height": 785
    },
    "colab_type": "code",
    "id": "YBwMhUq9FSkQ",
    "outputId": "c4250db6-35fb-4c6f-eae3-27f806fc6bf4"
   },
   "outputs": [],
   "source": [
    "year_less_than_40"
   ]
  },
  {
   "cell_type": "markdown",
   "metadata": {
    "colab_type": "text",
    "id": "SPJaXpaPFSkR"
   },
   "source": [
    "Merge operation, by default is inner "
   ]
  },
  {
   "cell_type": "code",
   "execution_count": null,
   "metadata": {
    "colab": {
     "base_uri": "https://localhost:8080/",
     "height": 678
    },
    "colab_type": "code",
    "id": "rb3A4Lz2FSkV",
    "outputId": "becdf291-9d0b-4254-993d-6dabe5e85870"
   },
   "outputs": [],
   "source": [
    "oscars_short.merge(year_less_than_40, left_on='year_of_award', right_on='year_of_award')"
   ]
  },
  {
   "cell_type": "code",
   "execution_count": null,
   "metadata": {
    "colab": {},
    "colab_type": "code",
    "id": "bVAaJy6AFSkW"
   },
   "outputs": [],
   "source": []
  },
  {
   "cell_type": "code",
   "execution_count": null,
   "metadata": {
    "colab": {},
    "colab_type": "code",
    "id": "aLjDxDCGFSkX"
   },
   "outputs": [],
   "source": []
  },
  {
   "cell_type": "code",
   "execution_count": null,
   "metadata": {
    "colab": {},
    "colab_type": "code",
    "id": "0d81JusNFSkZ"
   },
   "outputs": [],
   "source": []
  }
 ],
 "metadata": {
  "colab": {
   "name": "Demographics of Oscars Winners.ipynb",
   "provenance": []
  },
  "kernelspec": {
   "display_name": "Python 3",
   "language": "python",
   "name": "python3"
  },
  "language_info": {
   "codemirror_mode": {
    "name": "ipython",
    "version": 3
   },
   "file_extension": ".py",
   "mimetype": "text/x-python",
   "name": "python",
   "nbconvert_exporter": "python",
   "pygments_lexer": "ipython3",
   "version": "3.7.6"
  }
 },
 "nbformat": 4,
 "nbformat_minor": 1
}
