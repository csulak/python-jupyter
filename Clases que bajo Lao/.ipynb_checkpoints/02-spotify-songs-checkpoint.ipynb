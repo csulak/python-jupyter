{
 "cells": [
  {
   "cell_type": "markdown",
   "metadata": {
    "colab_type": "text",
    "id": "g3Z1D9NlMeQ5"
   },
   "source": [
    "# Introducción al Análisis Exploratorio de Datos con Pandas\n",
    "\n",
    "Es un enfoque que comprende un conjunto de tareas para analizar conjuntos de datos para poder encontrar sus principales caracteristicas.\n",
    "\n",
    "Estas tareas en general comprenden todo lo que tenemos que hacer desde que se formula una pregunta interesante, se reunen los datos y se desarrolla el proceso necesario para **poder responder esa pregunta**.\n",
    "\n",
    "Su Objetivo es:\n",
    "\n",
    "- Entender los datos.\n",
    "- Ver caracteristicas de los datos.\n",
    "- Detectar irregularidades (outliers) de los datos.\n",
    "- Obtener valores estadisticos de los datos.\n",
    "- Realizar visualizaciones rapidas que faciliten el proceso de exploracion.\n",
    "\n",
    "Usualmente el resultado del mismo suele ser un reporte o un notebook, que reune codigo y visualizaciones para llegar a ciertas **conclusiones o insights**.\n",
    "\n",
    "Es un proceso iterativo, que se retroalimenta.\n",
    "\n",
    "En general realizaremos el análisis del mismo sobre uno o varios Dataframes."
   ]
  },
  {
   "cell_type": "markdown",
   "metadata": {
    "colab_type": "text",
    "id": "MD9tC3-7MeQ7"
   },
   "source": [
    "## Temario\n",
    "\n",
    "Estos son algunos de los temas que intentaremos revisar a lo largo del analisis propuesto\n",
    "\n",
    "- Carga de informacion en un DataFrame\n",
    "- Analizando propiedades especificas del set de datos\n",
    "- Verificacion de Calidad de Datos\n",
    "- Utilizando Visualizaciones para nuestro Analisis exploratorio\n",
    "    - Examinando la distribucion de una variables\n",
    "        - Histograma\n",
    "        - Density Plot\n",
    "    - Explorando relacion entre variables\n",
    "        - Overlaid Histogram\n",
    "        - Scatter Plot\n",
    "        - Paiplot\n",
    "    - Comparando Grupos o categorias\n",
    "        - Box Plot\n",
    "        - Bar Plot\n"
   ]
  },
  {
   "cell_type": "code",
   "execution_count": 1,
   "metadata": {
    "colab": {
     "base_uri": "https://localhost:8080/",
     "height": 52
    },
    "colab_type": "code",
    "executionInfo": {
     "elapsed": 1082,
     "status": "ok",
     "timestamp": 1587664820195,
     "user": {
      "displayName": "Martin Ramos Mejía",
      "photoUrl": "https://lh3.googleusercontent.com/a-/AOh14GgbpDnPjShOpPH8-P0a8AIZrUcpSYNQwHsEfsDQ8w=s64",
      "userId": "08591007000103530707"
     },
     "user_tz": 180
    },
    "id": "qS_ZIDahMeQ-",
    "outputId": "bad03722-0958-42e6-ccf9-c07204c04a1e"
   },
   "outputs": [
    {
     "name": "stderr",
     "output_type": "stream",
     "text": [
      "/usr/local/lib/python3.6/dist-packages/statsmodels/tools/_testing.py:19: FutureWarning: pandas.util.testing is deprecated. Use the functions in the public API at pandas.testing instead.\n",
      "  import pandas.util.testing as tm\n"
     ]
    }
   ],
   "source": [
    "# importacion general de librerias y de visualizacion (matplotlib y seaborn)\n",
    "import pandas as pd\n",
    "import numpy as np\n",
    "import matplotlib.pyplot as plt\n",
    "import seaborn as sns\n",
    "\n",
    "%matplotlib inline\n",
    "\n",
    "plt.style.use('default') # haciendo los graficos un poco mas bonitos en matplotlib\n",
    "#plt.rcParams['figure.figsize'] = (20, 10)\n",
    "\n",
    "sns.set(style=\"whitegrid\") # seteando tipo de grid en seaborn\n",
    "\n",
    "pd.options.display.float_format = '{:20,.2f}'.format # suprimimos la notacion cientifica en los outputs\n",
    "\n",
    "import warnings\n",
    "warnings.filterwarnings('ignore')"
   ]
  },
  {
   "cell_type": "markdown",
   "metadata": {
    "colab_type": "text",
    "id": "jUNAT-oRMeRL"
   },
   "source": [
    "## Analisis Exploratorio de Datos: Spotify - All Time Top 2000s Mega Dataset\n",
    "\n",
    "Para comenzar a trabajar en la distintas operaciones que podemos realizar con un data frame vamos a trabajar con el siguiente set de datos:\n",
    "\n",
    "[https://www.kaggle.com/iamsumat/spotify-top-2000s-mega-dataset](https://www.kaggle.com/iamsumat/spotify-top-2000s-mega-dataset)\n",
    "\n",
    "Este set contiene informacion de aquellas canciones que 2000 canciones que son consideradas las canciones mas populares por toda la comunidad que utiliza spotify en su playlist \"All Time Top 2000s\". Las canciones segun la descripcion pueden estar comprendidas entre 1956 a 2019. A su vez el set brinda una gran cantidad de muchas estadisticas y audio features que nos permitiran hacer una analisis interesante sobre el mismo.\n"
   ]
  },
  {
   "cell_type": "markdown",
   "metadata": {
    "colab_type": "text",
    "id": "0eDY9smjMeRM"
   },
   "source": [
    "### Carga de Informacion en un Dataframe\n",
    "\n",
    "Pandas soporta distintas fuentes de informacion en distintos formatos (desde archivos de csv, excel, hasta fuentes remotas como urls o bases de datos, etc.). En este caso vamos a cargar la informacion desde un CSV que hemos descargado previamente de kaggle. Esto lo podemos hacer con pandas con ```read_csv```. \n",
    "\n",
    "Inicialmente podremos ver parte del data frame para tener idea de la estructura del mismo."
   ]
  },
  {
   "cell_type": "code",
   "execution_count": 4,
   "metadata": {
    "colab": {
     "base_uri": "https://localhost:8080/",
     "height": 260
    },
    "colab_type": "code",
    "executionInfo": {
     "elapsed": 5044,
     "status": "ok",
     "timestamp": 1587665282304,
     "user": {
      "displayName": "Martin Ramos Mejía",
      "photoUrl": "https://lh3.googleusercontent.com/a-/AOh14GgbpDnPjShOpPH8-P0a8AIZrUcpSYNQwHsEfsDQ8w=s64",
      "userId": "08591007000103530707"
     },
     "user_tz": 180
    },
    "id": "Ol00ep6yOYSB",
    "outputId": "6a48d889-25e8-4d00-f714-e9379c591364"
   },
   "outputs": [
    {
     "name": "stdout",
     "output_type": "stream",
     "text": [
      "Requirement already satisfied: PyDrive in /usr/local/lib/python3.6/dist-packages (1.3.1)\n",
      "Requirement already satisfied: google-api-python-client>=1.2 in /usr/local/lib/python3.6/dist-packages (from PyDrive) (1.7.12)\n",
      "Requirement already satisfied: PyYAML>=3.0 in /usr/local/lib/python3.6/dist-packages (from PyDrive) (3.13)\n",
      "Requirement already satisfied: oauth2client>=4.0.0 in /usr/local/lib/python3.6/dist-packages (from PyDrive) (4.1.3)\n",
      "Requirement already satisfied: google-auth>=1.4.1 in /usr/local/lib/python3.6/dist-packages (from google-api-python-client>=1.2->PyDrive) (1.7.2)\n",
      "Requirement already satisfied: uritemplate<4dev,>=3.0.0 in /usr/local/lib/python3.6/dist-packages (from google-api-python-client>=1.2->PyDrive) (3.0.1)\n",
      "Requirement already satisfied: six<2dev,>=1.6.1 in /usr/local/lib/python3.6/dist-packages (from google-api-python-client>=1.2->PyDrive) (1.12.0)\n",
      "Requirement already satisfied: google-auth-httplib2>=0.0.3 in /usr/local/lib/python3.6/dist-packages (from google-api-python-client>=1.2->PyDrive) (0.0.3)\n",
      "Requirement already satisfied: httplib2<1dev,>=0.17.0 in /usr/local/lib/python3.6/dist-packages (from google-api-python-client>=1.2->PyDrive) (0.17.2)\n",
      "Requirement already satisfied: rsa>=3.1.4 in /usr/local/lib/python3.6/dist-packages (from oauth2client>=4.0.0->PyDrive) (4.0)\n",
      "Requirement already satisfied: pyasn1-modules>=0.0.5 in /usr/local/lib/python3.6/dist-packages (from oauth2client>=4.0.0->PyDrive) (0.2.8)\n",
      "Requirement already satisfied: pyasn1>=0.1.7 in /usr/local/lib/python3.6/dist-packages (from oauth2client>=4.0.0->PyDrive) (0.4.8)\n",
      "Requirement already satisfied: cachetools<3.2,>=2.0.0 in /usr/local/lib/python3.6/dist-packages (from google-auth>=1.4.1->google-api-python-client>=1.2->PyDrive) (3.1.1)\n",
      "Requirement already satisfied: setuptools>=40.3.0 in /usr/local/lib/python3.6/dist-packages (from google-auth>=1.4.1->google-api-python-client>=1.2->PyDrive) (46.1.3)\n"
     ]
    }
   ],
   "source": [
    "!pip install PyDrive"
   ]
  },
  {
   "cell_type": "code",
   "execution_count": 0,
   "metadata": {
    "colab": {},
    "colab_type": "code",
    "id": "mPE61bBVOcor"
   },
   "outputs": [],
   "source": [
    "from pydrive.auth import GoogleAuth\n",
    "from pydrive.drive import GoogleDrive\n",
    "from google.colab import auth\n",
    "from oauth2client.client import GoogleCredentials"
   ]
  },
  {
   "cell_type": "code",
   "execution_count": 0,
   "metadata": {
    "colab": {},
    "colab_type": "code",
    "id": "zy3GDu4fOef9"
   },
   "outputs": [],
   "source": [
    "auth.authenticate_user()\n",
    "gauth = GoogleAuth()\n",
    "gauth.credentials = GoogleCredentials.get_application_default()\n",
    "drive = GoogleDrive(gauth)"
   ]
  },
  {
   "cell_type": "code",
   "execution_count": 0,
   "metadata": {
    "colab": {},
    "colab_type": "code",
    "id": "okbuqwOJNoM-"
   },
   "outputs": [],
   "source": [
    "id='16-ueDfnUj8P-WILb0sf0bUVIhjxIZqaX'\n",
    "downloaded = drive.CreateFile({'id': id})\n",
    "downloaded.GetContentFile('Spotify-2000.csv')"
   ]
  },
  {
   "cell_type": "code",
   "execution_count": 8,
   "metadata": {
    "colab": {
     "base_uri": "https://localhost:8080/",
     "height": 206
    },
    "colab_type": "code",
    "executionInfo": {
     "elapsed": 729,
     "status": "ok",
     "timestamp": 1587665354323,
     "user": {
      "displayName": "Martin Ramos Mejía",
      "photoUrl": "https://lh3.googleusercontent.com/a-/AOh14GgbpDnPjShOpPH8-P0a8AIZrUcpSYNQwHsEfsDQ8w=s64",
      "userId": "08591007000103530707"
     },
     "user_tz": 180
    },
    "id": "XJ93E6lbN3Ef",
    "outputId": "8ce16f7e-0b1c-4bf1-9343-5d4a0b796e78"
   },
   "outputs": [
    {
     "data": {
      "text/html": [
       "<div>\n",
       "<style scoped>\n",
       "    .dataframe tbody tr th:only-of-type {\n",
       "        vertical-align: middle;\n",
       "    }\n",
       "\n",
       "    .dataframe tbody tr th {\n",
       "        vertical-align: top;\n",
       "    }\n",
       "\n",
       "    .dataframe thead th {\n",
       "        text-align: right;\n",
       "    }\n",
       "</style>\n",
       "<table border=\"1\" class=\"dataframe\">\n",
       "  <thead>\n",
       "    <tr style=\"text-align: right;\">\n",
       "      <th></th>\n",
       "      <th>Index</th>\n",
       "      <th>Title</th>\n",
       "      <th>Artist</th>\n",
       "      <th>Top Genre</th>\n",
       "      <th>Year</th>\n",
       "      <th>Beats Per Minute (BPM)</th>\n",
       "      <th>Energy</th>\n",
       "      <th>Danceability</th>\n",
       "      <th>Loudness (dB)</th>\n",
       "      <th>Liveness</th>\n",
       "      <th>Valence</th>\n",
       "      <th>Length (Duration)</th>\n",
       "      <th>Acousticness</th>\n",
       "      <th>Speechiness</th>\n",
       "      <th>Popularity</th>\n",
       "    </tr>\n",
       "  </thead>\n",
       "  <tbody>\n",
       "    <tr>\n",
       "      <th>0</th>\n",
       "      <td>1</td>\n",
       "      <td>Sunrise</td>\n",
       "      <td>Norah Jones</td>\n",
       "      <td>adult standards</td>\n",
       "      <td>2004</td>\n",
       "      <td>157</td>\n",
       "      <td>30</td>\n",
       "      <td>53</td>\n",
       "      <td>-14</td>\n",
       "      <td>11</td>\n",
       "      <td>68</td>\n",
       "      <td>201</td>\n",
       "      <td>94</td>\n",
       "      <td>3</td>\n",
       "      <td>71</td>\n",
       "    </tr>\n",
       "    <tr>\n",
       "      <th>1</th>\n",
       "      <td>2</td>\n",
       "      <td>Black Night</td>\n",
       "      <td>Deep Purple</td>\n",
       "      <td>album rock</td>\n",
       "      <td>2000</td>\n",
       "      <td>135</td>\n",
       "      <td>79</td>\n",
       "      <td>50</td>\n",
       "      <td>-11</td>\n",
       "      <td>17</td>\n",
       "      <td>81</td>\n",
       "      <td>207</td>\n",
       "      <td>17</td>\n",
       "      <td>7</td>\n",
       "      <td>39</td>\n",
       "    </tr>\n",
       "    <tr>\n",
       "      <th>2</th>\n",
       "      <td>3</td>\n",
       "      <td>Clint Eastwood</td>\n",
       "      <td>Gorillaz</td>\n",
       "      <td>alternative hip hop</td>\n",
       "      <td>2001</td>\n",
       "      <td>168</td>\n",
       "      <td>69</td>\n",
       "      <td>66</td>\n",
       "      <td>-9</td>\n",
       "      <td>7</td>\n",
       "      <td>52</td>\n",
       "      <td>341</td>\n",
       "      <td>2</td>\n",
       "      <td>17</td>\n",
       "      <td>69</td>\n",
       "    </tr>\n",
       "    <tr>\n",
       "      <th>3</th>\n",
       "      <td>4</td>\n",
       "      <td>The Pretender</td>\n",
       "      <td>Foo Fighters</td>\n",
       "      <td>alternative metal</td>\n",
       "      <td>2007</td>\n",
       "      <td>173</td>\n",
       "      <td>96</td>\n",
       "      <td>43</td>\n",
       "      <td>-4</td>\n",
       "      <td>3</td>\n",
       "      <td>37</td>\n",
       "      <td>269</td>\n",
       "      <td>0</td>\n",
       "      <td>4</td>\n",
       "      <td>76</td>\n",
       "    </tr>\n",
       "    <tr>\n",
       "      <th>4</th>\n",
       "      <td>5</td>\n",
       "      <td>Waitin' On A Sunny Day</td>\n",
       "      <td>Bruce Springsteen</td>\n",
       "      <td>classic rock</td>\n",
       "      <td>2002</td>\n",
       "      <td>106</td>\n",
       "      <td>82</td>\n",
       "      <td>58</td>\n",
       "      <td>-5</td>\n",
       "      <td>10</td>\n",
       "      <td>87</td>\n",
       "      <td>256</td>\n",
       "      <td>1</td>\n",
       "      <td>3</td>\n",
       "      <td>59</td>\n",
       "    </tr>\n",
       "  </tbody>\n",
       "</table>\n",
       "</div>"
      ],
      "text/plain": [
       "   Index                   Title  ... Speechiness Popularity\n",
       "0      1                 Sunrise  ...           3         71\n",
       "1      2             Black Night  ...           7         39\n",
       "2      3          Clint Eastwood  ...          17         69\n",
       "3      4           The Pretender  ...           4         76\n",
       "4      5  Waitin' On A Sunny Day  ...           3         59\n",
       "\n",
       "[5 rows x 15 columns]"
      ]
     },
     "execution_count": 8,
     "metadata": {
      "tags": []
     },
     "output_type": "execute_result"
    }
   ],
   "source": [
    "# %timeit sirve para evaluar el tiempo de ejecucion\n",
    "spotify_songs = pd.read_csv('Spotify-2000.csv')\n",
    "spotify_songs.head()\n"
   ]
  },
  {
   "cell_type": "code",
   "execution_count": 9,
   "metadata": {
    "colab": {
     "base_uri": "https://localhost:8080/",
     "height": 206
    },
    "colab_type": "code",
    "executionInfo": {
     "elapsed": 802,
     "status": "ok",
     "timestamp": 1587665357861,
     "user": {
      "displayName": "Martin Ramos Mejía",
      "photoUrl": "https://lh3.googleusercontent.com/a-/AOh14GgbpDnPjShOpPH8-P0a8AIZrUcpSYNQwHsEfsDQ8w=s64",
      "userId": "08591007000103530707"
     },
     "user_tz": 180
    },
    "id": "Y8_WW-uGMeRO",
    "outputId": "a6541e4f-ee6f-460e-bc84-a4716288aec5"
   },
   "outputs": [
    {
     "data": {
      "text/html": [
       "<div>\n",
       "<style scoped>\n",
       "    .dataframe tbody tr th:only-of-type {\n",
       "        vertical-align: middle;\n",
       "    }\n",
       "\n",
       "    .dataframe tbody tr th {\n",
       "        vertical-align: top;\n",
       "    }\n",
       "\n",
       "    .dataframe thead th {\n",
       "        text-align: right;\n",
       "    }\n",
       "</style>\n",
       "<table border=\"1\" class=\"dataframe\">\n",
       "  <thead>\n",
       "    <tr style=\"text-align: right;\">\n",
       "      <th></th>\n",
       "      <th>Index</th>\n",
       "      <th>Title</th>\n",
       "      <th>Artist</th>\n",
       "      <th>Top Genre</th>\n",
       "      <th>Year</th>\n",
       "      <th>Beats Per Minute (BPM)</th>\n",
       "      <th>Energy</th>\n",
       "      <th>Danceability</th>\n",
       "      <th>Loudness (dB)</th>\n",
       "      <th>Liveness</th>\n",
       "      <th>Valence</th>\n",
       "      <th>Length (Duration)</th>\n",
       "      <th>Acousticness</th>\n",
       "      <th>Speechiness</th>\n",
       "      <th>Popularity</th>\n",
       "    </tr>\n",
       "  </thead>\n",
       "  <tbody>\n",
       "    <tr>\n",
       "      <th>0</th>\n",
       "      <td>1</td>\n",
       "      <td>Sunrise</td>\n",
       "      <td>Norah Jones</td>\n",
       "      <td>adult standards</td>\n",
       "      <td>2004</td>\n",
       "      <td>157</td>\n",
       "      <td>30</td>\n",
       "      <td>53</td>\n",
       "      <td>-14</td>\n",
       "      <td>11</td>\n",
       "      <td>68</td>\n",
       "      <td>201</td>\n",
       "      <td>94</td>\n",
       "      <td>3</td>\n",
       "      <td>71</td>\n",
       "    </tr>\n",
       "    <tr>\n",
       "      <th>1</th>\n",
       "      <td>2</td>\n",
       "      <td>Black Night</td>\n",
       "      <td>Deep Purple</td>\n",
       "      <td>album rock</td>\n",
       "      <td>2000</td>\n",
       "      <td>135</td>\n",
       "      <td>79</td>\n",
       "      <td>50</td>\n",
       "      <td>-11</td>\n",
       "      <td>17</td>\n",
       "      <td>81</td>\n",
       "      <td>207</td>\n",
       "      <td>17</td>\n",
       "      <td>7</td>\n",
       "      <td>39</td>\n",
       "    </tr>\n",
       "    <tr>\n",
       "      <th>2</th>\n",
       "      <td>3</td>\n",
       "      <td>Clint Eastwood</td>\n",
       "      <td>Gorillaz</td>\n",
       "      <td>alternative hip hop</td>\n",
       "      <td>2001</td>\n",
       "      <td>168</td>\n",
       "      <td>69</td>\n",
       "      <td>66</td>\n",
       "      <td>-9</td>\n",
       "      <td>7</td>\n",
       "      <td>52</td>\n",
       "      <td>341</td>\n",
       "      <td>2</td>\n",
       "      <td>17</td>\n",
       "      <td>69</td>\n",
       "    </tr>\n",
       "    <tr>\n",
       "      <th>3</th>\n",
       "      <td>4</td>\n",
       "      <td>The Pretender</td>\n",
       "      <td>Foo Fighters</td>\n",
       "      <td>alternative metal</td>\n",
       "      <td>2007</td>\n",
       "      <td>173</td>\n",
       "      <td>96</td>\n",
       "      <td>43</td>\n",
       "      <td>-4</td>\n",
       "      <td>3</td>\n",
       "      <td>37</td>\n",
       "      <td>269</td>\n",
       "      <td>0</td>\n",
       "      <td>4</td>\n",
       "      <td>76</td>\n",
       "    </tr>\n",
       "    <tr>\n",
       "      <th>4</th>\n",
       "      <td>5</td>\n",
       "      <td>Waitin' On A Sunny Day</td>\n",
       "      <td>Bruce Springsteen</td>\n",
       "      <td>classic rock</td>\n",
       "      <td>2002</td>\n",
       "      <td>106</td>\n",
       "      <td>82</td>\n",
       "      <td>58</td>\n",
       "      <td>-5</td>\n",
       "      <td>10</td>\n",
       "      <td>87</td>\n",
       "      <td>256</td>\n",
       "      <td>1</td>\n",
       "      <td>3</td>\n",
       "      <td>59</td>\n",
       "    </tr>\n",
       "  </tbody>\n",
       "</table>\n",
       "</div>"
      ],
      "text/plain": [
       "   Index                   Title  ... Speechiness Popularity\n",
       "0      1                 Sunrise  ...           3         71\n",
       "1      2             Black Night  ...           7         39\n",
       "2      3          Clint Eastwood  ...          17         69\n",
       "3      4           The Pretender  ...           4         76\n",
       "4      5  Waitin' On A Sunny Day  ...           3         59\n",
       "\n",
       "[5 rows x 15 columns]"
      ]
     },
     "execution_count": 9,
     "metadata": {
      "tags": []
     },
     "output_type": "execute_result"
    }
   ],
   "source": [
    "# %timeit sirve para evaluar el tiempo de ejecucion\n",
    "spotify_songs = pd.read_csv('Spotify-2000.csv')\n",
    "spotify_songs.head()\n"
   ]
  },
  {
   "cell_type": "code",
   "execution_count": 10,
   "metadata": {
    "colab": {
     "base_uri": "https://localhost:8080/",
     "height": 399
    },
    "colab_type": "code",
    "executionInfo": {
     "elapsed": 1131,
     "status": "ok",
     "timestamp": 1587665359786,
     "user": {
      "displayName": "Martin Ramos Mejía",
      "photoUrl": "https://lh3.googleusercontent.com/a-/AOh14GgbpDnPjShOpPH8-P0a8AIZrUcpSYNQwHsEfsDQ8w=s64",
      "userId": "08591007000103530707"
     },
     "user_tz": 180
    },
    "id": "C_v_OaXFMeRV",
    "outputId": "1d85c791-7b80-436a-d4fd-14ea26c2e01c"
   },
   "outputs": [
    {
     "name": "stdout",
     "output_type": "stream",
     "text": [
      "<class 'pandas.core.frame.DataFrame'>\n",
      "RangeIndex: 1994 entries, 0 to 1993\n",
      "Data columns (total 15 columns):\n",
      " #   Column                  Non-Null Count  Dtype \n",
      "---  ------                  --------------  ----- \n",
      " 0   Index                   1994 non-null   int64 \n",
      " 1   Title                   1994 non-null   object\n",
      " 2   Artist                  1994 non-null   object\n",
      " 3   Top Genre               1994 non-null   object\n",
      " 4   Year                    1994 non-null   int64 \n",
      " 5   Beats Per Minute (BPM)  1994 non-null   int64 \n",
      " 6   Energy                  1994 non-null   int64 \n",
      " 7   Danceability            1994 non-null   int64 \n",
      " 8   Loudness (dB)           1994 non-null   int64 \n",
      " 9   Liveness                1994 non-null   int64 \n",
      " 10  Valence                 1994 non-null   int64 \n",
      " 11  Length (Duration)       1994 non-null   object\n",
      " 12  Acousticness            1994 non-null   int64 \n",
      " 13  Speechiness             1994 non-null   int64 \n",
      " 14  Popularity              1994 non-null   int64 \n",
      "dtypes: int64(11), object(4)\n",
      "memory usage: 233.8+ KB\n"
     ]
    }
   ],
   "source": [
    "# al mismo tiempo podemos ver informacion de las distintas columnas o atributos que tenemos en el dataframe\n",
    "spotify_songs.info()"
   ]
  },
  {
   "cell_type": "code",
   "execution_count": 11,
   "metadata": {
    "colab": {
     "base_uri": "https://localhost:8080/",
     "height": 34
    },
    "colab_type": "code",
    "executionInfo": {
     "elapsed": 908,
     "status": "ok",
     "timestamp": 1587665361381,
     "user": {
      "displayName": "Martin Ramos Mejía",
      "photoUrl": "https://lh3.googleusercontent.com/a-/AOh14GgbpDnPjShOpPH8-P0a8AIZrUcpSYNQwHsEfsDQ8w=s64",
      "userId": "08591007000103530707"
     },
     "user_tz": 180
    },
    "id": "cT6BdmJaMeRf",
    "outputId": "9af7c939-3e8f-4ceb-fe49-10a726865bd7"
   },
   "outputs": [
    {
     "name": "stdout",
     "output_type": "stream",
     "text": [
      "(1994, 15)\n"
     ]
    }
   ],
   "source": [
    "# nos da las dimensiones del data frame (rows x columns)\n",
    "print(spotify_songs.shape)"
   ]
  },
  {
   "cell_type": "code",
   "execution_count": 12,
   "metadata": {
    "colab": {
     "base_uri": "https://localhost:8080/",
     "height": 34
    },
    "colab_type": "code",
    "executionInfo": {
     "elapsed": 623,
     "status": "ok",
     "timestamp": 1587665362714,
     "user": {
      "displayName": "Martin Ramos Mejía",
      "photoUrl": "https://lh3.googleusercontent.com/a-/AOh14GgbpDnPjShOpPH8-P0a8AIZrUcpSYNQwHsEfsDQ8w=s64",
      "userId": "08591007000103530707"
     },
     "user_tz": 180
    },
    "id": "2_PsZJQoMeRm",
    "outputId": "f5de7e32-de71-49f2-8eff-1af45e2128f3"
   },
   "outputs": [
    {
     "data": {
      "text/plain": [
       "29910"
      ]
     },
     "execution_count": 12,
     "metadata": {
      "tags": []
     },
     "output_type": "execute_result"
    }
   ],
   "source": [
    "# en caso de ser una serie devuelve el numero de rows\n",
    "# en caso de ser un dataframe devuelve el numero de rows x el numero de columns \n",
    "spotify_songs.size"
   ]
  },
  {
   "cell_type": "code",
   "execution_count": 13,
   "metadata": {
    "colab": {
     "base_uri": "https://localhost:8080/",
     "height": 295
    },
    "colab_type": "code",
    "executionInfo": {
     "elapsed": 641,
     "status": "ok",
     "timestamp": 1587665364713,
     "user": {
      "displayName": "Martin Ramos Mejía",
      "photoUrl": "https://lh3.googleusercontent.com/a-/AOh14GgbpDnPjShOpPH8-P0a8AIZrUcpSYNQwHsEfsDQ8w=s64",
      "userId": "08591007000103530707"
     },
     "user_tz": 180
    },
    "id": "R4hZJigjMeRu",
    "outputId": "b41da072-8613-4992-90e6-987581e53cf8"
   },
   "outputs": [
    {
     "data": {
      "text/plain": [
       "Index                     1994\n",
       "Title                     1994\n",
       "Artist                    1994\n",
       "Top Genre                 1994\n",
       "Year                      1994\n",
       "Beats Per Minute (BPM)    1994\n",
       "Energy                    1994\n",
       "Danceability              1994\n",
       "Loudness (dB)             1994\n",
       "Liveness                  1994\n",
       "Valence                   1994\n",
       "Length (Duration)         1994\n",
       "Acousticness              1994\n",
       "Speechiness               1994\n",
       "Popularity                1994\n",
       "dtype: int64"
      ]
     },
     "execution_count": 13,
     "metadata": {
      "tags": []
     },
     "output_type": "execute_result"
    }
   ],
   "source": [
    "# podemos contar la cantidad de elementos elementos no nulos en el data frame\n",
    "spotify_songs.count()"
   ]
  },
  {
   "cell_type": "markdown",
   "metadata": {
    "colab_type": "text",
    "id": "EJgNUwWvMeRz"
   },
   "source": [
    "### Analizando propiedades especificas del set de datos"
   ]
  },
  {
   "cell_type": "markdown",
   "metadata": {
    "colab_type": "text",
    "id": "yI0MSMQ6MeR1"
   },
   "source": [
    "Para poder comenzar a orientar nuestro analisis podemos por ejemplo querer comenzar a analizar algunas variables que nos interesan para aplicar en nuestros analisis.\n",
    "Podemos por ejemplo comenzar las **Generos musicales** en la columna o atributo, ```Top Genre```"
   ]
  },
  {
   "cell_type": "code",
   "execution_count": 0,
   "metadata": {
    "colab": {},
    "colab_type": "code",
    "id": "nuRtxo1lMeR1"
   },
   "outputs": [],
   "source": [
    "genres = spotify_songs['Top Genre']"
   ]
  },
  {
   "cell_type": "code",
   "execution_count": 15,
   "metadata": {
    "colab": {
     "base_uri": "https://localhost:8080/",
     "height": 34
    },
    "colab_type": "code",
    "executionInfo": {
     "elapsed": 543,
     "status": "ok",
     "timestamp": 1587665367859,
     "user": {
      "displayName": "Martin Ramos Mejía",
      "photoUrl": "https://lh3.googleusercontent.com/a-/AOh14GgbpDnPjShOpPH8-P0a8AIZrUcpSYNQwHsEfsDQ8w=s64",
      "userId": "08591007000103530707"
     },
     "user_tz": 180
    },
    "id": "zhPPbpKDMeR6",
    "outputId": "7c47c00c-45d4-456a-8c67-ed9390e16064"
   },
   "outputs": [
    {
     "data": {
      "text/plain": [
       "pandas.core.series.Series"
      ]
     },
     "execution_count": 15,
     "metadata": {
      "tags": []
     },
     "output_type": "execute_result"
    }
   ],
   "source": [
    "type(genres)"
   ]
  },
  {
   "cell_type": "code",
   "execution_count": 16,
   "metadata": {
    "colab": {
     "base_uri": "https://localhost:8080/",
     "height": 225
    },
    "colab_type": "code",
    "executionInfo": {
     "elapsed": 1286,
     "status": "ok",
     "timestamp": 1587665369700,
     "user": {
      "displayName": "Martin Ramos Mejía",
      "photoUrl": "https://lh3.googleusercontent.com/a-/AOh14GgbpDnPjShOpPH8-P0a8AIZrUcpSYNQwHsEfsDQ8w=s64",
      "userId": "08591007000103530707"
     },
     "user_tz": 180
    },
    "id": "mmIMhIdvMeR_",
    "outputId": "593d1893-cb83-46bb-cb51-dfc9625d030e"
   },
   "outputs": [
    {
     "data": {
      "text/plain": [
       "album rock                     413\n",
       "adult standards                123\n",
       "dutch pop                       88\n",
       "alternative rock                86\n",
       "dance pop                       83\n",
       "                              ... \n",
       "ccm                              1\n",
       "hard rock                        1\n",
       "australian alternative rock      1\n",
       "laboratorio                      1\n",
       "compositional ambient            1\n",
       "Name: Top Genre, Length: 149, dtype: int64"
      ]
     },
     "execution_count": 16,
     "metadata": {
      "tags": []
     },
     "output_type": "execute_result"
    }
   ],
   "source": [
    "# de esta forma obtenemos la cantidad de valores que hay para cada una de las main_categories \n",
    "# contando los proyectos por categoria principal\n",
    "genres.value_counts()"
   ]
  },
  {
   "cell_type": "markdown",
   "metadata": {
    "colab_type": "text",
    "id": "w-oAT-RxMeSE"
   },
   "source": [
    "Tambien podemos interesarnos en ver los posibles valores que podemos tener de **Artistas**, para ver si tenemos artistas que tiene mayor representacion en el set de datos, y tal vez algunos one hit wonders."
   ]
  },
  {
   "cell_type": "code",
   "execution_count": 17,
   "metadata": {
    "colab": {
     "base_uri": "https://localhost:8080/",
     "height": 225
    },
    "colab_type": "code",
    "executionInfo": {
     "elapsed": 737,
     "status": "ok",
     "timestamp": 1587665371954,
     "user": {
      "displayName": "Martin Ramos Mejía",
      "photoUrl": "https://lh3.googleusercontent.com/a-/AOh14GgbpDnPjShOpPH8-P0a8AIZrUcpSYNQwHsEfsDQ8w=s64",
      "userId": "08591007000103530707"
     },
     "user_tz": 180
    },
    "id": "paN5l5kXMeSG",
    "outputId": "eb0046ba-95ee-4ac9-b5e7-9cd8d57fd473"
   },
   "outputs": [
    {
     "data": {
      "text/plain": [
       "Queen                 37\n",
       "The Beatles           36\n",
       "Coldplay              27\n",
       "U2                    26\n",
       "The Rolling Stones    24\n",
       "                      ..\n",
       "Killing Joke           1\n",
       "Emeli Sandé            1\n",
       "Patrick Hernandez      1\n",
       "Hozier                 1\n",
       "Hero                   1\n",
       "Name: Artist, Length: 731, dtype: int64"
      ]
     },
     "execution_count": 17,
     "metadata": {
      "tags": []
     },
     "output_type": "execute_result"
    }
   ],
   "source": [
    "artists = spotify_songs['Artist']\n",
    "artists.value_counts()"
   ]
  },
  {
   "cell_type": "markdown",
   "metadata": {
    "colab_type": "text",
    "id": "_PPKmNPWMeSL"
   },
   "source": [
    "En ambos casos, podemos considerar a las variables como categoricas que podremos usar para nuestro analisis, las cuales podremos utilizar para agrupar o dividir informacion, o filtrar informacion a considerar en el mismo. Sin embargo, tenemos que ver que tratamiento le damos a la misma ya que en ambos casos, al ser la clasificacion tal vez muy especifica, tenemos muchos Artistas o Generos con un unico elemento.\n",
    "\n",
    "Apliquemos ese analisis a los generos"
   ]
  },
  {
   "cell_type": "code",
   "execution_count": 18,
   "metadata": {
    "colab": {
     "base_uri": "https://localhost:8080/",
     "height": 34
    },
    "colab_type": "code",
    "executionInfo": {
     "elapsed": 1227,
     "status": "ok",
     "timestamp": 1587665374615,
     "user": {
      "displayName": "Martin Ramos Mejía",
      "photoUrl": "https://lh3.googleusercontent.com/a-/AOh14GgbpDnPjShOpPH8-P0a8AIZrUcpSYNQwHsEfsDQ8w=s64",
      "userId": "08591007000103530707"
     },
     "user_tz": 180
    },
    "id": "so9HMjNEMeSN",
    "outputId": "85add08d-dead-4816-bae1-0163b0723696"
   },
   "outputs": [
    {
     "data": {
      "text/plain": [
       "54"
      ]
     },
     "execution_count": 18,
     "metadata": {
      "tags": []
     },
     "output_type": "execute_result"
    }
   ],
   "source": [
    "# Analicemos los generos\n",
    "genres_counts = genres.value_counts()\n",
    "genres_with_one_song = genres_counts[genres_counts == 1]\n",
    "genres_with_one_song.count()"
   ]
  },
  {
   "cell_type": "code",
   "execution_count": 19,
   "metadata": {
    "colab": {
     "base_uri": "https://localhost:8080/",
     "height": 34
    },
    "colab_type": "code",
    "executionInfo": {
     "elapsed": 1131,
     "status": "ok",
     "timestamp": 1587665375307,
     "user": {
      "displayName": "Martin Ramos Mejía",
      "photoUrl": "https://lh3.googleusercontent.com/a-/AOh14GgbpDnPjShOpPH8-P0a8AIZrUcpSYNQwHsEfsDQ8w=s64",
      "userId": "08591007000103530707"
     },
     "user_tz": 180
    },
    "id": "gvTS9AGPMeSS",
    "outputId": "557ecbde-8f12-4df3-f861-f7d196005b1e"
   },
   "outputs": [
    {
     "data": {
      "text/plain": [
       "149"
      ]
     },
     "execution_count": 19,
     "metadata": {
      "tags": []
     },
     "output_type": "execute_result"
    }
   ],
   "source": [
    "len(genres.unique())"
   ]
  },
  {
   "cell_type": "markdown",
   "metadata": {
    "colab_type": "text",
    "id": "6Vcb4TQaMeSX"
   },
   "source": [
    "Esto nos indica que aproximamente 1/3 de los generos que tenemos tienen una unica cancion.\n",
    "Veamos ahora que sucede con los Artistas."
   ]
  },
  {
   "cell_type": "code",
   "execution_count": 20,
   "metadata": {
    "colab": {
     "base_uri": "https://localhost:8080/",
     "height": 34
    },
    "colab_type": "code",
    "executionInfo": {
     "elapsed": 935,
     "status": "ok",
     "timestamp": 1587665377093,
     "user": {
      "displayName": "Martin Ramos Mejía",
      "photoUrl": "https://lh3.googleusercontent.com/a-/AOh14GgbpDnPjShOpPH8-P0a8AIZrUcpSYNQwHsEfsDQ8w=s64",
      "userId": "08591007000103530707"
     },
     "user_tz": 180
    },
    "id": "ywpOs-dNMeSY",
    "outputId": "2ff3cf3b-6fe0-4712-81e7-05a629eb65ce"
   },
   "outputs": [
    {
     "data": {
      "text/plain": [
       "410"
      ]
     },
     "execution_count": 20,
     "metadata": {
      "tags": []
     },
     "output_type": "execute_result"
    }
   ],
   "source": [
    "# Analicemos los artistas\n",
    "artists_counts = artists.value_counts()\n",
    "artists_with_one_song = artists_counts[artists_counts==1]\n",
    "artists_with_one_song.count()"
   ]
  },
  {
   "cell_type": "code",
   "execution_count": 21,
   "metadata": {
    "colab": {
     "base_uri": "https://localhost:8080/",
     "height": 34
    },
    "colab_type": "code",
    "executionInfo": {
     "elapsed": 521,
     "status": "ok",
     "timestamp": 1587665378151,
     "user": {
      "displayName": "Martin Ramos Mejía",
      "photoUrl": "https://lh3.googleusercontent.com/a-/AOh14GgbpDnPjShOpPH8-P0a8AIZrUcpSYNQwHsEfsDQ8w=s64",
      "userId": "08591007000103530707"
     },
     "user_tz": 180
    },
    "id": "oSnEBhO0MeSe",
    "outputId": "49581157-76ae-4867-b266-c52e2043a9b8"
   },
   "outputs": [
    {
     "data": {
      "text/plain": [
       "731"
      ]
     },
     "execution_count": 21,
     "metadata": {
      "tags": []
     },
     "output_type": "execute_result"
    }
   ],
   "source": [
    "len(artists.unique())"
   ]
  },
  {
   "cell_type": "markdown",
   "metadata": {
    "colab_type": "text",
    "id": "UVi-cf05MeSk"
   },
   "source": [
    "Por lo que podemos ver que mas del 50% de los artistas que tenemos solamente tiene una cancion en el listado.\n",
    "Podemos tomar esto en consideracion esto luego para el analisis, usandolas como variables categoricas y al mismo tiempo considerando si o tenemos que considerarlas en grupos separados para el analisis (Por ejemplo en el caso de los artistas separar aquellos que tienen solamente una cancion popular, los *one hit wonders*)"
   ]
  },
  {
   "cell_type": "markdown",
   "metadata": {
    "colab_type": "text",
    "id": "mA6l_ng9MeSk"
   },
   "source": [
    "por otro lado podemos analizar la columna **Year** para entender su uso en el data set.\n"
   ]
  },
  {
   "cell_type": "code",
   "execution_count": 22,
   "metadata": {
    "colab": {
     "base_uri": "https://localhost:8080/",
     "height": 225
    },
    "colab_type": "code",
    "executionInfo": {
     "elapsed": 1215,
     "status": "ok",
     "timestamp": 1587665381380,
     "user": {
      "displayName": "Martin Ramos Mejía",
      "photoUrl": "https://lh3.googleusercontent.com/a-/AOh14GgbpDnPjShOpPH8-P0a8AIZrUcpSYNQwHsEfsDQ8w=s64",
      "userId": "08591007000103530707"
     },
     "user_tz": 180
    },
    "id": "fiFfa-dwMeSl",
    "outputId": "73187e8a-8f24-4bf2-b922-fe8c6a65a166"
   },
   "outputs": [
    {
     "data": {
      "text/plain": [
       "2008    54\n",
       "2018    52\n",
       "1991    52\n",
       "1977    51\n",
       "2002    47\n",
       "        ..\n",
       "1962     3\n",
       "1959     3\n",
       "1961     1\n",
       "1960     1\n",
       "1956     1\n",
       "Name: Year, Length: 63, dtype: int64"
      ]
     },
     "execution_count": 22,
     "metadata": {
      "tags": []
     },
     "output_type": "execute_result"
    }
   ],
   "source": [
    "spotify_songs['Year'].value_counts()"
   ]
  },
  {
   "cell_type": "code",
   "execution_count": 23,
   "metadata": {
    "colab": {
     "base_uri": "https://localhost:8080/",
     "height": 357
    },
    "colab_type": "code",
    "executionInfo": {
     "elapsed": 2814,
     "status": "ok",
     "timestamp": 1587665384722,
     "user": {
      "displayName": "Martin Ramos Mejía",
      "photoUrl": "https://lh3.googleusercontent.com/a-/AOh14GgbpDnPjShOpPH8-P0a8AIZrUcpSYNQwHsEfsDQ8w=s64",
      "userId": "08591007000103530707"
     },
     "user_tz": 180
    },
    "id": "54bscywPMeSp",
    "outputId": "b631fc73-3b0a-4992-e578-ccb848ff8354"
   },
   "outputs": [
    {
     "data": {
      "text/plain": [
       "<matplotlib.axes._subplots.AxesSubplot at 0x7fd27cc40ef0>"
      ]
     },
     "execution_count": 23,
     "metadata": {
      "tags": []
     },
     "output_type": "execute_result"
    },
    {
     "data": {
      "image/png": "[encoded data removed]",
      "text/plain": [
       "<Figure size 1080x360 with 1 Axes>"
      ]
     },
     "metadata": {
      "needs_background": "light",
      "tags": []
     },
     "output_type": "display_data"
    }
   ],
   "source": [
    "spotify_songs['Year'].value_counts().sort_index().plot(kind='bar', figsize=(15,5)) # ver layout"
   ]
  },
  {
   "cell_type": "markdown",
   "metadata": {
    "colab_type": "text",
    "id": "cAi6QG6cMeSt"
   },
   "source": [
    "En ese sentido podemos que en lineas generales tenemos de represetancion de todas las decadas musicales en los datos que estamos analizando."
   ]
  },
  {
   "cell_type": "markdown",
   "metadata": {
    "colab_type": "text",
    "id": "8ecL8gznMeSv"
   },
   "source": [
    "Por otro lado podemos analizar algunos de los campos numericos que tenemos en el set que nos indican informacion sobre la cancion, por ejemplo: ```Beats Per Minute (BPM)```. Usualmente se suele medir el Tiempo o Tempo de una cancion, que entendemos como la velocidad que tiene una cancion. Esto es de interesa al analizar generos musicales algunos Tempos promedio son usuales en ciertos generos musicales.\n",
    "\n",
    "Mas informacion aqui: https://learningmusic.ableton.com/make-beats/beat-and-tempo.html"
   ]
  },
  {
   "cell_type": "code",
   "execution_count": 24,
   "metadata": {
    "colab": {
     "base_uri": "https://localhost:8080/",
     "height": 225
    },
    "colab_type": "code",
    "executionInfo": {
     "elapsed": 689,
     "status": "ok",
     "timestamp": 1587665386851,
     "user": {
      "displayName": "Martin Ramos Mejía",
      "photoUrl": "https://lh3.googleusercontent.com/a-/AOh14GgbpDnPjShOpPH8-P0a8AIZrUcpSYNQwHsEfsDQ8w=s64",
      "userId": "08591007000103530707"
     },
     "user_tz": 180
    },
    "id": "2kPDFzJ1MeSv",
    "outputId": "eca7c8ea-df53-486b-d23b-ea8850d59419"
   },
   "outputs": [
    {
     "data": {
      "text/plain": [
       "0       157\n",
       "1       135\n",
       "2       168\n",
       "3       173\n",
       "4       106\n",
       "       ... \n",
       "1989     94\n",
       "1990    175\n",
       "1991    168\n",
       "1992    174\n",
       "1993    133\n",
       "Name: Beats Per Minute (BPM), Length: 1994, dtype: int64"
      ]
     },
     "execution_count": 24,
     "metadata": {
      "tags": []
     },
     "output_type": "execute_result"
    }
   ],
   "source": [
    "spotify_songs['Beats Per Minute (BPM)']"
   ]
  },
  {
   "cell_type": "markdown",
   "metadata": {
    "colab_type": "text",
    "id": "gxyRisUzMeSz"
   },
   "source": [
    "Sobre este tipo de variables podemos realizar algunos plots rapidos por ejemplo para entender en nuestros datos como se encuentran distribuidos, por ejemplo podriamos querer la distribucion de estos datos, haciendolo con un histograma."
   ]
  },
  {
   "cell_type": "code",
   "execution_count": 25,
   "metadata": {
    "colab": {
     "base_uri": "https://localhost:8080/",
     "height": 285
    },
    "colab_type": "code",
    "executionInfo": {
     "elapsed": 1099,
     "status": "ok",
     "timestamp": 1587665407031,
     "user": {
      "displayName": "Martin Ramos Mejía",
      "photoUrl": "https://lh3.googleusercontent.com/a-/AOh14GgbpDnPjShOpPH8-P0a8AIZrUcpSYNQwHsEfsDQ8w=s64",
      "userId": "08591007000103530707"
     },
     "user_tz": 180
    },
    "id": "Xqp_m9zgMeS0",
    "outputId": "c46ae184-d785-4c6e-80da-6b55d1307edd"
   },
   "outputs": [
    {
     "data": {
      "text/plain": [
       "<matplotlib.axes._subplots.AxesSubplot at 0x7fd27cc74b38>"
      ]
     },
     "execution_count": 25,
     "metadata": {
      "tags": []
     },
     "output_type": "execute_result"
    },
    {
     "data": {
      "image/png": "[encoded data removed]",
      "text/plain": [
       "<Figure size 432x288 with 1 Axes>"
      ]
     },
     "metadata": {
      "needs_background": "light",
      "tags": []
     },
     "output_type": "display_data"
    }
   ],
   "source": [
    "spotify_songs['Beats Per Minute (BPM)'].plot(kind='hist', bins=80)"
   ]
  },
  {
   "cell_type": "markdown",
   "metadata": {
    "colab_type": "text",
    "id": "Xz1S_bavMeS4"
   },
   "source": [
    "Otro atributo o columna que puede resultarnos interesante es el de duracion de las canciones en la columna ```Length```, pudiendo hacer un analisis similar al anterior."
   ]
  },
  {
   "cell_type": "markdown",
   "metadata": {
    "colab_type": "text",
    "id": "lfbu7H4lMeS5"
   },
   "source": [
    "### Analizando utilizacion de memoria del dataframe\n",
    "\n",
    "Es posible realizar un analisis de utilizacion de memoria del data frame para poder realizar mejoras en el uso de recursos."
   ]
  },
  {
   "cell_type": "code",
   "execution_count": 26,
   "metadata": {
    "colab": {
     "base_uri": "https://localhost:8080/",
     "height": 295
    },
    "colab_type": "code",
    "executionInfo": {
     "elapsed": 1129,
     "status": "ok",
     "timestamp": 1587665412226,
     "user": {
      "displayName": "Martin Ramos Mejía",
      "photoUrl": "https://lh3.googleusercontent.com/a-/AOh14GgbpDnPjShOpPH8-P0a8AIZrUcpSYNQwHsEfsDQ8w=s64",
      "userId": "08591007000103530707"
     },
     "user_tz": 180
    },
    "id": "xqrc5kezMeS6",
    "outputId": "72989969-401e-43dd-d2e6-fff03295a235"
   },
   "outputs": [
    {
     "data": {
      "text/plain": [
       "Index                      int64\n",
       "Title                     object\n",
       "Artist                    object\n",
       "Top Genre                 object\n",
       "Year                       int64\n",
       "Beats Per Minute (BPM)     int64\n",
       "Energy                     int64\n",
       "Danceability               int64\n",
       "Loudness (dB)              int64\n",
       "Liveness                   int64\n",
       "Valence                    int64\n",
       "Length (Duration)         object\n",
       "Acousticness               int64\n",
       "Speechiness                int64\n",
       "Popularity                 int64\n",
       "dtype: object"
      ]
     },
     "execution_count": 26,
     "metadata": {
      "tags": []
     },
     "output_type": "execute_result"
    }
   ],
   "source": [
    "# si especificamente queremos saber los datatypes que estamos utilizando.\n",
    "# y por ejemplo decidir setear algunos especificamente en carga\n",
    "spotify_songs.dtypes"
   ]
  },
  {
   "cell_type": "code",
   "execution_count": 27,
   "metadata": {
    "colab": {
     "base_uri": "https://localhost:8080/",
     "height": 399
    },
    "colab_type": "code",
    "executionInfo": {
     "elapsed": 718,
     "status": "ok",
     "timestamp": 1587665413520,
     "user": {
      "displayName": "Martin Ramos Mejía",
      "photoUrl": "https://lh3.googleusercontent.com/a-/AOh14GgbpDnPjShOpPH8-P0a8AIZrUcpSYNQwHsEfsDQ8w=s64",
      "userId": "08591007000103530707"
     },
     "user_tz": 180
    },
    "id": "q2f9OrnGMeS_",
    "outputId": "141d6e2f-598b-4165-af45-7ddc2c251d02"
   },
   "outputs": [
    {
     "name": "stdout",
     "output_type": "stream",
     "text": [
      "<class 'pandas.core.frame.DataFrame'>\n",
      "RangeIndex: 1994 entries, 0 to 1993\n",
      "Data columns (total 15 columns):\n",
      " #   Column                  Non-Null Count  Dtype \n",
      "---  ------                  --------------  ----- \n",
      " 0   Index                   1994 non-null   int64 \n",
      " 1   Title                   1994 non-null   object\n",
      " 2   Artist                  1994 non-null   object\n",
      " 3   Top Genre               1994 non-null   object\n",
      " 4   Year                    1994 non-null   int64 \n",
      " 5   Beats Per Minute (BPM)  1994 non-null   int64 \n",
      " 6   Energy                  1994 non-null   int64 \n",
      " 7   Danceability            1994 non-null   int64 \n",
      " 8   Loudness (dB)           1994 non-null   int64 \n",
      " 9   Liveness                1994 non-null   int64 \n",
      " 10  Valence                 1994 non-null   int64 \n",
      " 11  Length (Duration)       1994 non-null   object\n",
      " 12  Acousticness            1994 non-null   int64 \n",
      " 13  Speechiness             1994 non-null   int64 \n",
      " 14  Popularity              1994 non-null   int64 \n",
      "dtypes: int64(11), object(4)\n",
      "memory usage: 233.8+ KB\n"
     ]
    }
   ],
   "source": [
    "# veamos la informacion general del dataframe con info()\n",
    "# nos brinda informacion de la cantidad de rows, si tiene campos nulos y el tipo\n",
    "spotify_songs.info()"
   ]
  },
  {
   "cell_type": "code",
   "execution_count": 28,
   "metadata": {
    "colab": {
     "base_uri": "https://localhost:8080/",
     "height": 34
    },
    "colab_type": "code",
    "executionInfo": {
     "elapsed": 564,
     "status": "ok",
     "timestamp": 1587665414671,
     "user": {
      "displayName": "Martin Ramos Mejía",
      "photoUrl": "https://lh3.googleusercontent.com/a-/AOh14GgbpDnPjShOpPH8-P0a8AIZrUcpSYNQwHsEfsDQ8w=s64",
      "userId": "08591007000103530707"
     },
     "user_tz": 180
    },
    "id": "fEZGHchxMeTD",
    "outputId": "55832ec0-65d1-40b4-fffe-404c1ad39134"
   },
   "outputs": [
    {
     "data": {
      "text/plain": [
       "233.796875"
      ]
     },
     "execution_count": 28,
     "metadata": {
      "tags": []
     },
     "output_type": "execute_result"
    }
   ],
   "source": [
    "# indica el uso en bytes de cada columna en bytes\n",
    "# la opcion deep no permite analizar en profundidad el uso que se esta haciendo de memoria a nivel sistema\n",
    "#projects_2017.memory_usage(deep=False)\n",
    "(spotify_songs.memory_usage() / (1024)).sum()"
   ]
  },
  {
   "cell_type": "markdown",
   "metadata": {
    "colab_type": "text",
    "id": "DiQO4TSLMeTI"
   },
   "source": [
    "Al contar con informacion sobre las columnas del dataframe o analizandolas podemos hacer mejoras en el uso de los tipos del dataframe de tal forma de optimizar el uso de memoria. Los dtypes usados por pandas son esencialmente los dtypes de NumPy."
   ]
  },
  {
   "cell_type": "markdown",
   "metadata": {
    "colab_type": "text",
    "id": "ItdsTBKDMeTJ"
   },
   "source": [
    "### Verificacion de Calidad de Datos\n",
    "\n",
    "Algunas verificaciones que son utiles para ver la consistencia de los datos, en particular si vienen de una fuente de ese tipo.\n",
    "\n",
    "Podemos verificar las dimensiones del data frame (via ```.shape```), si existen valores nulos (via ```.insnull```) en el mismo y metricas generales de las columnas o features del data frame que podemos analizar via ```.describe```"
   ]
  },
  {
   "cell_type": "code",
   "execution_count": 29,
   "metadata": {
    "colab": {
     "base_uri": "https://localhost:8080/",
     "height": 295
    },
    "colab_type": "code",
    "executionInfo": {
     "elapsed": 691,
     "status": "ok",
     "timestamp": 1587665418063,
     "user": {
      "displayName": "Martin Ramos Mejía",
      "photoUrl": "https://lh3.googleusercontent.com/a-/AOh14GgbpDnPjShOpPH8-P0a8AIZrUcpSYNQwHsEfsDQ8w=s64",
      "userId": "08591007000103530707"
     },
     "user_tz": 180
    },
    "id": "8GqpR_bHMeTM",
    "outputId": "0ba0dbe0-ba75-43a7-cd76-8777e23fcddd"
   },
   "outputs": [
    {
     "data": {
      "text/plain": [
       "Index                     False\n",
       "Title                     False\n",
       "Artist                    False\n",
       "Top Genre                 False\n",
       "Year                      False\n",
       "Beats Per Minute (BPM)    False\n",
       "Energy                    False\n",
       "Danceability              False\n",
       "Loudness (dB)             False\n",
       "Liveness                  False\n",
       "Valence                   False\n",
       "Length (Duration)         False\n",
       "Acousticness              False\n",
       "Speechiness               False\n",
       "Popularity                False\n",
       "dtype: bool"
      ]
     },
     "execution_count": 29,
     "metadata": {
      "tags": []
     },
     "output_type": "execute_result"
    }
   ],
   "source": [
    "# por ejemplo de la siguiente forma podemos ver los nulos si existen\n",
    "spotify_songs.isnull().any()"
   ]
  },
  {
   "cell_type": "code",
   "execution_count": 30,
   "metadata": {
    "colab": {
     "base_uri": "https://localhost:8080/",
     "height": 295
    },
    "colab_type": "code",
    "executionInfo": {
     "elapsed": 1123,
     "status": "ok",
     "timestamp": 1587665419377,
     "user": {
      "displayName": "Martin Ramos Mejía",
      "photoUrl": "https://lh3.googleusercontent.com/a-/AOh14GgbpDnPjShOpPH8-P0a8AIZrUcpSYNQwHsEfsDQ8w=s64",
      "userId": "08591007000103530707"
     },
     "user_tz": 180
    },
    "id": "FZQ0JMNLMeTQ",
    "outputId": "50f0090f-e323-4442-940c-e0e207bf1750"
   },
   "outputs": [
    {
     "data": {
      "text/plain": [
       "Index                     0\n",
       "Title                     0\n",
       "Artist                    0\n",
       "Top Genre                 0\n",
       "Year                      0\n",
       "Beats Per Minute (BPM)    0\n",
       "Energy                    0\n",
       "Danceability              0\n",
       "Loudness (dB)             0\n",
       "Liveness                  0\n",
       "Valence                   0\n",
       "Length (Duration)         0\n",
       "Acousticness              0\n",
       "Speechiness               0\n",
       "Popularity                0\n",
       "dtype: int64"
      ]
     },
     "execution_count": 30,
     "metadata": {
      "tags": []
     },
     "output_type": "execute_result"
    }
   ],
   "source": [
    "spotify_songs.isnull().sum()"
   ]
  },
  {
   "cell_type": "markdown",
   "metadata": {
    "colab_type": "text",
    "id": "E3XkCfMPMeTW"
   },
   "source": [
    "La informacion que podemos considerar en relacion a los nulos nos permite guiarnos sobre la calidad del set de datos que tenemos y casos en los que podemos ver por ejemplo que datos utilizar o no sobre nuestros analisis o si eventualmente tenemos que realizar algun otro tipo de informacion"
   ]
  },
  {
   "cell_type": "code",
   "execution_count": 31,
   "metadata": {
    "colab": {
     "base_uri": "https://localhost:8080/",
     "height": 300
    },
    "colab_type": "code",
    "executionInfo": {
     "elapsed": 725,
     "status": "ok",
     "timestamp": 1587665421476,
     "user": {
      "displayName": "Martin Ramos Mejía",
      "photoUrl": "https://lh3.googleusercontent.com/a-/AOh14GgbpDnPjShOpPH8-P0a8AIZrUcpSYNQwHsEfsDQ8w=s64",
      "userId": "08591007000103530707"
     },
     "user_tz": 180
    },
    "id": "6_8_pWxOMeTW",
    "outputId": "9f0da31f-a673-41a1-a665-bc521d6eed86"
   },
   "outputs": [
    {
     "data": {
      "text/html": [
       "<div>\n",
       "<style scoped>\n",
       "    .dataframe tbody tr th:only-of-type {\n",
       "        vertical-align: middle;\n",
       "    }\n",
       "\n",
       "    .dataframe tbody tr th {\n",
       "        vertical-align: top;\n",
       "    }\n",
       "\n",
       "    .dataframe thead th {\n",
       "        text-align: right;\n",
       "    }\n",
       "</style>\n",
       "<table border=\"1\" class=\"dataframe\">\n",
       "  <thead>\n",
       "    <tr style=\"text-align: right;\">\n",
       "      <th></th>\n",
       "      <th>Index</th>\n",
       "      <th>Year</th>\n",
       "      <th>Beats Per Minute (BPM)</th>\n",
       "      <th>Energy</th>\n",
       "      <th>Danceability</th>\n",
       "      <th>Loudness (dB)</th>\n",
       "      <th>Liveness</th>\n",
       "      <th>Valence</th>\n",
       "      <th>Acousticness</th>\n",
       "      <th>Speechiness</th>\n",
       "      <th>Popularity</th>\n",
       "    </tr>\n",
       "  </thead>\n",
       "  <tbody>\n",
       "    <tr>\n",
       "      <th>count</th>\n",
       "      <td>1,994.00</td>\n",
       "      <td>1,994.00</td>\n",
       "      <td>1,994.00</td>\n",
       "      <td>1,994.00</td>\n",
       "      <td>1,994.00</td>\n",
       "      <td>1,994.00</td>\n",
       "      <td>1,994.00</td>\n",
       "      <td>1,994.00</td>\n",
       "      <td>1,994.00</td>\n",
       "      <td>1,994.00</td>\n",
       "      <td>1,994.00</td>\n",
       "    </tr>\n",
       "    <tr>\n",
       "      <th>mean</th>\n",
       "      <td>997.50</td>\n",
       "      <td>1,992.99</td>\n",
       "      <td>120.22</td>\n",
       "      <td>59.68</td>\n",
       "      <td>53.24</td>\n",
       "      <td>-9.01</td>\n",
       "      <td>19.01</td>\n",
       "      <td>49.41</td>\n",
       "      <td>28.86</td>\n",
       "      <td>4.99</td>\n",
       "      <td>59.53</td>\n",
       "    </tr>\n",
       "    <tr>\n",
       "      <th>std</th>\n",
       "      <td>575.76</td>\n",
       "      <td>16.12</td>\n",
       "      <td>28.03</td>\n",
       "      <td>22.15</td>\n",
       "      <td>15.35</td>\n",
       "      <td>3.65</td>\n",
       "      <td>16.73</td>\n",
       "      <td>24.86</td>\n",
       "      <td>29.01</td>\n",
       "      <td>4.40</td>\n",
       "      <td>14.35</td>\n",
       "    </tr>\n",
       "    <tr>\n",
       "      <th>min</th>\n",
       "      <td>1.00</td>\n",
       "      <td>1,956.00</td>\n",
       "      <td>37.00</td>\n",
       "      <td>3.00</td>\n",
       "      <td>10.00</td>\n",
       "      <td>-27.00</td>\n",
       "      <td>2.00</td>\n",
       "      <td>3.00</td>\n",
       "      <td>0.00</td>\n",
       "      <td>2.00</td>\n",
       "      <td>11.00</td>\n",
       "    </tr>\n",
       "    <tr>\n",
       "      <th>25%</th>\n",
       "      <td>499.25</td>\n",
       "      <td>1,979.00</td>\n",
       "      <td>99.00</td>\n",
       "      <td>42.00</td>\n",
       "      <td>43.00</td>\n",
       "      <td>-11.00</td>\n",
       "      <td>9.00</td>\n",
       "      <td>29.00</td>\n",
       "      <td>3.00</td>\n",
       "      <td>3.00</td>\n",
       "      <td>49.25</td>\n",
       "    </tr>\n",
       "    <tr>\n",
       "      <th>50%</th>\n",
       "      <td>997.50</td>\n",
       "      <td>1,993.00</td>\n",
       "      <td>119.00</td>\n",
       "      <td>61.00</td>\n",
       "      <td>53.00</td>\n",
       "      <td>-8.00</td>\n",
       "      <td>12.00</td>\n",
       "      <td>47.00</td>\n",
       "      <td>18.00</td>\n",
       "      <td>4.00</td>\n",
       "      <td>62.00</td>\n",
       "    </tr>\n",
       "    <tr>\n",
       "      <th>75%</th>\n",
       "      <td>1,495.75</td>\n",
       "      <td>2,007.00</td>\n",
       "      <td>136.00</td>\n",
       "      <td>78.00</td>\n",
       "      <td>64.00</td>\n",
       "      <td>-6.00</td>\n",
       "      <td>23.00</td>\n",
       "      <td>69.75</td>\n",
       "      <td>50.00</td>\n",
       "      <td>5.00</td>\n",
       "      <td>71.00</td>\n",
       "    </tr>\n",
       "    <tr>\n",
       "      <th>max</th>\n",
       "      <td>1,994.00</td>\n",
       "      <td>2,019.00</td>\n",
       "      <td>206.00</td>\n",
       "      <td>100.00</td>\n",
       "      <td>96.00</td>\n",
       "      <td>-2.00</td>\n",
       "      <td>99.00</td>\n",
       "      <td>99.00</td>\n",
       "      <td>99.00</td>\n",
       "      <td>55.00</td>\n",
       "      <td>100.00</td>\n",
       "    </tr>\n",
       "  </tbody>\n",
       "</table>\n",
       "</div>"
      ],
      "text/plain": [
       "                     Index  ...           Popularity\n",
       "count             1,994.00  ...             1,994.00\n",
       "mean                997.50  ...                59.53\n",
       "std                 575.76  ...                14.35\n",
       "min                   1.00  ...                11.00\n",
       "25%                 499.25  ...                49.25\n",
       "50%                 997.50  ...                62.00\n",
       "75%               1,495.75  ...                71.00\n",
       "max               1,994.00  ...               100.00\n",
       "\n",
       "[8 rows x 11 columns]"
      ]
     },
     "execution_count": 31,
     "metadata": {
      "tags": []
     },
     "output_type": "execute_result"
    }
   ],
   "source": [
    "# metricas generales de las columnas o features numericos del data frame que podemos analizar via .describe\n",
    "spotify_songs.describe()"
   ]
  },
  {
   "cell_type": "markdown",
   "metadata": {
    "colab_type": "text",
    "id": "lCTjinFjMeTZ"
   },
   "source": [
    "Para nuestros analisis y considerando los valores de media y desviacion sacar algunas conclusiones:\n",
    "\n",
    "- Podemos ver que la media es de aproximadamente de 120 BPMs, sin demasiada dispersion. Notar que 120 BPMs es un valor bastante standard de tempo de canciones.\n",
    "- Por alguna razon no vemos informacion estadistica sobre la de duracion de la cancion, punto que deberiamos indagar.\n",
    "- Hay distintos niveles de variacion en los otros atributos qe tenemos del set de datos y podriamos utilizarlos para analisis de distintos tipos si quisieramos por ejemplo explorar distintas caracteristicas que pueden tener los mismos."
   ]
  },
  {
   "cell_type": "code",
   "execution_count": 32,
   "metadata": {
    "colab": {
     "base_uri": "https://localhost:8080/",
     "height": 394
    },
    "colab_type": "code",
    "executionInfo": {
     "elapsed": 690,
     "status": "ok",
     "timestamp": 1587665423447,
     "user": {
      "displayName": "Martin Ramos Mejía",
      "photoUrl": "https://lh3.googleusercontent.com/a-/AOh14GgbpDnPjShOpPH8-P0a8AIZrUcpSYNQwHsEfsDQ8w=s64",
      "userId": "08591007000103530707"
     },
     "user_tz": 180
    },
    "id": "T1XZBMtEMeTb",
    "outputId": "b37cc936-e210-4503-e7b1-29da637e9081"
   },
   "outputs": [
    {
     "data": {
      "text/html": [
       "<div>\n",
       "<style scoped>\n",
       "    .dataframe tbody tr th:only-of-type {\n",
       "        vertical-align: middle;\n",
       "    }\n",
       "\n",
       "    .dataframe tbody tr th {\n",
       "        vertical-align: top;\n",
       "    }\n",
       "\n",
       "    .dataframe thead th {\n",
       "        text-align: right;\n",
       "    }\n",
       "</style>\n",
       "<table border=\"1\" class=\"dataframe\">\n",
       "  <thead>\n",
       "    <tr style=\"text-align: right;\">\n",
       "      <th></th>\n",
       "      <th>Index</th>\n",
       "      <th>Title</th>\n",
       "      <th>Artist</th>\n",
       "      <th>Top Genre</th>\n",
       "      <th>Year</th>\n",
       "      <th>Beats Per Minute (BPM)</th>\n",
       "      <th>Energy</th>\n",
       "      <th>Danceability</th>\n",
       "      <th>Loudness (dB)</th>\n",
       "      <th>Liveness</th>\n",
       "      <th>Valence</th>\n",
       "      <th>Length (Duration)</th>\n",
       "      <th>Acousticness</th>\n",
       "      <th>Speechiness</th>\n",
       "      <th>Popularity</th>\n",
       "    </tr>\n",
       "  </thead>\n",
       "  <tbody>\n",
       "    <tr>\n",
       "      <th>count</th>\n",
       "      <td>1,994.00</td>\n",
       "      <td>1994</td>\n",
       "      <td>1994</td>\n",
       "      <td>1994</td>\n",
       "      <td>1,994.00</td>\n",
       "      <td>1,994.00</td>\n",
       "      <td>1,994.00</td>\n",
       "      <td>1,994.00</td>\n",
       "      <td>1,994.00</td>\n",
       "      <td>1,994.00</td>\n",
       "      <td>1,994.00</td>\n",
       "      <td>1994</td>\n",
       "      <td>1,994.00</td>\n",
       "      <td>1,994.00</td>\n",
       "      <td>1,994.00</td>\n",
       "    </tr>\n",
       "    <tr>\n",
       "      <th>unique</th>\n",
       "      <td>nan</td>\n",
       "      <td>1958</td>\n",
       "      <td>731</td>\n",
       "      <td>149</td>\n",
       "      <td>nan</td>\n",
       "      <td>nan</td>\n",
       "      <td>nan</td>\n",
       "      <td>nan</td>\n",
       "      <td>nan</td>\n",
       "      <td>nan</td>\n",
       "      <td>nan</td>\n",
       "      <td>350</td>\n",
       "      <td>nan</td>\n",
       "      <td>nan</td>\n",
       "      <td>nan</td>\n",
       "    </tr>\n",
       "    <tr>\n",
       "      <th>top</th>\n",
       "      <td>nan</td>\n",
       "      <td>One</td>\n",
       "      <td>Queen</td>\n",
       "      <td>album rock</td>\n",
       "      <td>nan</td>\n",
       "      <td>nan</td>\n",
       "      <td>nan</td>\n",
       "      <td>nan</td>\n",
       "      <td>nan</td>\n",
       "      <td>nan</td>\n",
       "      <td>nan</td>\n",
       "      <td>215</td>\n",
       "      <td>nan</td>\n",
       "      <td>nan</td>\n",
       "      <td>nan</td>\n",
       "    </tr>\n",
       "    <tr>\n",
       "      <th>freq</th>\n",
       "      <td>nan</td>\n",
       "      <td>3</td>\n",
       "      <td>37</td>\n",
       "      <td>413</td>\n",
       "      <td>nan</td>\n",
       "      <td>nan</td>\n",
       "      <td>nan</td>\n",
       "      <td>nan</td>\n",
       "      <td>nan</td>\n",
       "      <td>nan</td>\n",
       "      <td>nan</td>\n",
       "      <td>23</td>\n",
       "      <td>nan</td>\n",
       "      <td>nan</td>\n",
       "      <td>nan</td>\n",
       "    </tr>\n",
       "    <tr>\n",
       "      <th>mean</th>\n",
       "      <td>997.50</td>\n",
       "      <td>NaN</td>\n",
       "      <td>NaN</td>\n",
       "      <td>NaN</td>\n",
       "      <td>1,992.99</td>\n",
       "      <td>120.22</td>\n",
       "      <td>59.68</td>\n",
       "      <td>53.24</td>\n",
       "      <td>-9.01</td>\n",
       "      <td>19.01</td>\n",
       "      <td>49.41</td>\n",
       "      <td>NaN</td>\n",
       "      <td>28.86</td>\n",
       "      <td>4.99</td>\n",
       "      <td>59.53</td>\n",
       "    </tr>\n",
       "    <tr>\n",
       "      <th>std</th>\n",
       "      <td>575.76</td>\n",
       "      <td>NaN</td>\n",
       "      <td>NaN</td>\n",
       "      <td>NaN</td>\n",
       "      <td>16.12</td>\n",
       "      <td>28.03</td>\n",
       "      <td>22.15</td>\n",
       "      <td>15.35</td>\n",
       "      <td>3.65</td>\n",
       "      <td>16.73</td>\n",
       "      <td>24.86</td>\n",
       "      <td>NaN</td>\n",
       "      <td>29.01</td>\n",
       "      <td>4.40</td>\n",
       "      <td>14.35</td>\n",
       "    </tr>\n",
       "    <tr>\n",
       "      <th>min</th>\n",
       "      <td>1.00</td>\n",
       "      <td>NaN</td>\n",
       "      <td>NaN</td>\n",
       "      <td>NaN</td>\n",
       "      <td>1,956.00</td>\n",
       "      <td>37.00</td>\n",
       "      <td>3.00</td>\n",
       "      <td>10.00</td>\n",
       "      <td>-27.00</td>\n",
       "      <td>2.00</td>\n",
       "      <td>3.00</td>\n",
       "      <td>NaN</td>\n",
       "      <td>0.00</td>\n",
       "      <td>2.00</td>\n",
       "      <td>11.00</td>\n",
       "    </tr>\n",
       "    <tr>\n",
       "      <th>25%</th>\n",
       "      <td>499.25</td>\n",
       "      <td>NaN</td>\n",
       "      <td>NaN</td>\n",
       "      <td>NaN</td>\n",
       "      <td>1,979.00</td>\n",
       "      <td>99.00</td>\n",
       "      <td>42.00</td>\n",
       "      <td>43.00</td>\n",
       "      <td>-11.00</td>\n",
       "      <td>9.00</td>\n",
       "      <td>29.00</td>\n",
       "      <td>NaN</td>\n",
       "      <td>3.00</td>\n",
       "      <td>3.00</td>\n",
       "      <td>49.25</td>\n",
       "    </tr>\n",
       "    <tr>\n",
       "      <th>50%</th>\n",
       "      <td>997.50</td>\n",
       "      <td>NaN</td>\n",
       "      <td>NaN</td>\n",
       "      <td>NaN</td>\n",
       "      <td>1,993.00</td>\n",
       "      <td>119.00</td>\n",
       "      <td>61.00</td>\n",
       "      <td>53.00</td>\n",
       "      <td>-8.00</td>\n",
       "      <td>12.00</td>\n",
       "      <td>47.00</td>\n",
       "      <td>NaN</td>\n",
       "      <td>18.00</td>\n",
       "      <td>4.00</td>\n",
       "      <td>62.00</td>\n",
       "    </tr>\n",
       "    <tr>\n",
       "      <th>75%</th>\n",
       "      <td>1,495.75</td>\n",
       "      <td>NaN</td>\n",
       "      <td>NaN</td>\n",
       "      <td>NaN</td>\n",
       "      <td>2,007.00</td>\n",
       "      <td>136.00</td>\n",
       "      <td>78.00</td>\n",
       "      <td>64.00</td>\n",
       "      <td>-6.00</td>\n",
       "      <td>23.00</td>\n",
       "      <td>69.75</td>\n",
       "      <td>NaN</td>\n",
       "      <td>50.00</td>\n",
       "      <td>5.00</td>\n",
       "      <td>71.00</td>\n",
       "    </tr>\n",
       "    <tr>\n",
       "      <th>max</th>\n",
       "      <td>1,994.00</td>\n",
       "      <td>NaN</td>\n",
       "      <td>NaN</td>\n",
       "      <td>NaN</td>\n",
       "      <td>2,019.00</td>\n",
       "      <td>206.00</td>\n",
       "      <td>100.00</td>\n",
       "      <td>96.00</td>\n",
       "      <td>-2.00</td>\n",
       "      <td>99.00</td>\n",
       "      <td>99.00</td>\n",
       "      <td>NaN</td>\n",
       "      <td>99.00</td>\n",
       "      <td>55.00</td>\n",
       "      <td>100.00</td>\n",
       "    </tr>\n",
       "  </tbody>\n",
       "</table>\n",
       "</div>"
      ],
      "text/plain": [
       "                      Index Title  ...          Speechiness           Popularity\n",
       "count              1,994.00  1994  ...             1,994.00             1,994.00\n",
       "unique                  nan  1958  ...                  nan                  nan\n",
       "top                     nan   One  ...                  nan                  nan\n",
       "freq                    nan     3  ...                  nan                  nan\n",
       "mean                 997.50   NaN  ...                 4.99                59.53\n",
       "std                  575.76   NaN  ...                 4.40                14.35\n",
       "min                    1.00   NaN  ...                 2.00                11.00\n",
       "25%                  499.25   NaN  ...                 3.00                49.25\n",
       "50%                  997.50   NaN  ...                 4.00                62.00\n",
       "75%                1,495.75   NaN  ...                 5.00                71.00\n",
       "max                1,994.00   NaN  ...                55.00               100.00\n",
       "\n",
       "[11 rows x 15 columns]"
      ]
     },
     "execution_count": 32,
     "metadata": {
      "tags": []
     },
     "output_type": "execute_result"
    }
   ],
   "source": [
    "# podemos con include='all'\n",
    "spotify_songs.describe(include='all')"
   ]
  },
  {
   "cell_type": "markdown",
   "metadata": {
    "colab_type": "text",
    "id": "R3iee9ZrMeTe"
   },
   "source": [
    "Evidentemente existe algun problema sobre el campo que nos da informacion de la duracion de la cancion, dado que no se pueden calcular estadisticas sobre el mismo. Veamos nuevamente la salida de ```.info``` para tener mas detalles del tratamiento que le esta dando pandas al respecto."
   ]
  },
  {
   "cell_type": "code",
   "execution_count": 33,
   "metadata": {
    "colab": {
     "base_uri": "https://localhost:8080/",
     "height": 399
    },
    "colab_type": "code",
    "executionInfo": {
     "elapsed": 708,
     "status": "ok",
     "timestamp": 1587665425276,
     "user": {
      "displayName": "Martin Ramos Mejía",
      "photoUrl": "https://lh3.googleusercontent.com/a-/AOh14GgbpDnPjShOpPH8-P0a8AIZrUcpSYNQwHsEfsDQ8w=s64",
      "userId": "08591007000103530707"
     },
     "user_tz": 180
    },
    "id": "K6AeP3-AMeTf",
    "outputId": "f28be14f-5397-477a-ddf7-b5a681c43960"
   },
   "outputs": [
    {
     "name": "stdout",
     "output_type": "stream",
     "text": [
      "<class 'pandas.core.frame.DataFrame'>\n",
      "RangeIndex: 1994 entries, 0 to 1993\n",
      "Data columns (total 15 columns):\n",
      " #   Column                  Non-Null Count  Dtype \n",
      "---  ------                  --------------  ----- \n",
      " 0   Index                   1994 non-null   int64 \n",
      " 1   Title                   1994 non-null   object\n",
      " 2   Artist                  1994 non-null   object\n",
      " 3   Top Genre               1994 non-null   object\n",
      " 4   Year                    1994 non-null   int64 \n",
      " 5   Beats Per Minute (BPM)  1994 non-null   int64 \n",
      " 6   Energy                  1994 non-null   int64 \n",
      " 7   Danceability            1994 non-null   int64 \n",
      " 8   Loudness (dB)           1994 non-null   int64 \n",
      " 9   Liveness                1994 non-null   int64 \n",
      " 10  Valence                 1994 non-null   int64 \n",
      " 11  Length (Duration)       1994 non-null   object\n",
      " 12  Acousticness            1994 non-null   int64 \n",
      " 13  Speechiness             1994 non-null   int64 \n",
      " 14  Popularity              1994 non-null   int64 \n",
      "dtypes: int64(11), object(4)\n",
      "memory usage: 233.8+ KB\n"
     ]
    }
   ],
   "source": [
    "spotify_songs.info()"
   ]
  },
  {
   "cell_type": "code",
   "execution_count": 34,
   "metadata": {
    "colab": {
     "base_uri": "https://localhost:8080/",
     "height": 34
    },
    "colab_type": "code",
    "executionInfo": {
     "elapsed": 533,
     "status": "ok",
     "timestamp": 1587665426340,
     "user": {
      "displayName": "Martin Ramos Mejía",
      "photoUrl": "https://lh3.googleusercontent.com/a-/AOh14GgbpDnPjShOpPH8-P0a8AIZrUcpSYNQwHsEfsDQ8w=s64",
      "userId": "08591007000103530707"
     },
     "user_tz": 180
    },
    "id": "aEhxw4pdMeTj",
    "outputId": "91470bf1-dcb1-47a9-c129-c2b3f19824be"
   },
   "outputs": [
    {
     "data": {
      "text/plain": [
       "262.4433299899699"
      ]
     },
     "execution_count": 34,
     "metadata": {
      "tags": []
     },
     "output_type": "execute_result"
    }
   ],
   "source": [
    "# vemos que la columna es de Dtype object lo cual nos indica que es posible que haya algun tipo de problema con el campo.\n",
    "spotify_songs[\"Length (Duration)\"].str.replace(',','').astype('int64').mean()"
   ]
  },
  {
   "cell_type": "code",
   "execution_count": 0,
   "metadata": {
    "colab": {},
    "colab_type": "code",
    "id": "TGkeV561MeTn"
   },
   "outputs": [],
   "source": [
    "spotify_songs[\"Length (Duration)\"] = spotify_songs[\"Length (Duration)\"].str.replace(',','').astype('int64')"
   ]
  },
  {
   "cell_type": "code",
   "execution_count": 36,
   "metadata": {
    "colab": {
     "base_uri": "https://localhost:8080/",
     "height": 399
    },
    "colab_type": "code",
    "executionInfo": {
     "elapsed": 1060,
     "status": "ok",
     "timestamp": 1587665429173,
     "user": {
      "displayName": "Martin Ramos Mejía",
      "photoUrl": "https://lh3.googleusercontent.com/a-/AOh14GgbpDnPjShOpPH8-P0a8AIZrUcpSYNQwHsEfsDQ8w=s64",
      "userId": "08591007000103530707"
     },
     "user_tz": 180
    },
    "id": "KlgRhdGeMeTq",
    "outputId": "009c864f-02fd-4b8b-8ca0-efdbe16662a8"
   },
   "outputs": [
    {
     "name": "stdout",
     "output_type": "stream",
     "text": [
      "<class 'pandas.core.frame.DataFrame'>\n",
      "RangeIndex: 1994 entries, 0 to 1993\n",
      "Data columns (total 15 columns):\n",
      " #   Column                  Non-Null Count  Dtype \n",
      "---  ------                  --------------  ----- \n",
      " 0   Index                   1994 non-null   int64 \n",
      " 1   Title                   1994 non-null   object\n",
      " 2   Artist                  1994 non-null   object\n",
      " 3   Top Genre               1994 non-null   object\n",
      " 4   Year                    1994 non-null   int64 \n",
      " 5   Beats Per Minute (BPM)  1994 non-null   int64 \n",
      " 6   Energy                  1994 non-null   int64 \n",
      " 7   Danceability            1994 non-null   int64 \n",
      " 8   Loudness (dB)           1994 non-null   int64 \n",
      " 9   Liveness                1994 non-null   int64 \n",
      " 10  Valence                 1994 non-null   int64 \n",
      " 11  Length (Duration)       1994 non-null   int64 \n",
      " 12  Acousticness            1994 non-null   int64 \n",
      " 13  Speechiness             1994 non-null   int64 \n",
      " 14  Popularity              1994 non-null   int64 \n",
      "dtypes: int64(12), object(3)\n",
      "memory usage: 233.8+ KB\n"
     ]
    }
   ],
   "source": [
    "spotify_songs.info()"
   ]
  },
  {
   "cell_type": "code",
   "execution_count": 37,
   "metadata": {
    "colab": {
     "base_uri": "https://localhost:8080/",
     "height": 285
    },
    "colab_type": "code",
    "executionInfo": {
     "elapsed": 967,
     "status": "ok",
     "timestamp": 1587665431579,
     "user": {
      "displayName": "Martin Ramos Mejía",
      "photoUrl": "https://lh3.googleusercontent.com/a-/AOh14GgbpDnPjShOpPH8-P0a8AIZrUcpSYNQwHsEfsDQ8w=s64",
      "userId": "08591007000103530707"
     },
     "user_tz": 180
    },
    "id": "C3pEpQhLMeTu",
    "outputId": "b03bdc96-51d4-4997-b833-91fbc57547ee"
   },
   "outputs": [
    {
     "data": {
      "text/plain": [
       "<matplotlib.axes._subplots.AxesSubplot at 0x7fd27b1e04a8>"
      ]
     },
     "execution_count": 37,
     "metadata": {
      "tags": []
     },
     "output_type": "execute_result"
    },
    {
     "data": {
      "image/png": "[encoded data removed]",
      "text/plain": [
       "<Figure size 432x288 with 1 Axes>"
      ]
     },
     "metadata": {
      "needs_background": "light",
      "tags": []
     },
     "output_type": "display_data"
    }
   ],
   "source": [
    "spotify_songs[\"Length (Duration)\"].plot(kind='hist', bins=25)"
   ]
  },
  {
   "cell_type": "code",
   "execution_count": 38,
   "metadata": {
    "colab": {
     "base_uri": "https://localhost:8080/",
     "height": 300
    },
    "colab_type": "code",
    "executionInfo": {
     "elapsed": 690,
     "status": "ok",
     "timestamp": 1587665433276,
     "user": {
      "displayName": "Martin Ramos Mejía",
      "photoUrl": "https://lh3.googleusercontent.com/a-/AOh14GgbpDnPjShOpPH8-P0a8AIZrUcpSYNQwHsEfsDQ8w=s64",
      "userId": "08591007000103530707"
     },
     "user_tz": 180
    },
    "id": "C6x0DjxeMeTw",
    "outputId": "a6d02e6f-b1c0-47f8-8b93-0651fbe23e31"
   },
   "outputs": [
    {
     "data": {
      "text/html": [
       "<div>\n",
       "<style scoped>\n",
       "    .dataframe tbody tr th:only-of-type {\n",
       "        vertical-align: middle;\n",
       "    }\n",
       "\n",
       "    .dataframe tbody tr th {\n",
       "        vertical-align: top;\n",
       "    }\n",
       "\n",
       "    .dataframe thead th {\n",
       "        text-align: right;\n",
       "    }\n",
       "</style>\n",
       "<table border=\"1\" class=\"dataframe\">\n",
       "  <thead>\n",
       "    <tr style=\"text-align: right;\">\n",
       "      <th></th>\n",
       "      <th>Index</th>\n",
       "      <th>Year</th>\n",
       "      <th>Beats Per Minute (BPM)</th>\n",
       "      <th>Energy</th>\n",
       "      <th>Danceability</th>\n",
       "      <th>Loudness (dB)</th>\n",
       "      <th>Liveness</th>\n",
       "      <th>Valence</th>\n",
       "      <th>Length (Duration)</th>\n",
       "      <th>Acousticness</th>\n",
       "      <th>Speechiness</th>\n",
       "      <th>Popularity</th>\n",
       "    </tr>\n",
       "  </thead>\n",
       "  <tbody>\n",
       "    <tr>\n",
       "      <th>count</th>\n",
       "      <td>1,994.00</td>\n",
       "      <td>1,994.00</td>\n",
       "      <td>1,994.00</td>\n",
       "      <td>1,994.00</td>\n",
       "      <td>1,994.00</td>\n",
       "      <td>1,994.00</td>\n",
       "      <td>1,994.00</td>\n",
       "      <td>1,994.00</td>\n",
       "      <td>1,994.00</td>\n",
       "      <td>1,994.00</td>\n",
       "      <td>1,994.00</td>\n",
       "      <td>1,994.00</td>\n",
       "    </tr>\n",
       "    <tr>\n",
       "      <th>mean</th>\n",
       "      <td>997.50</td>\n",
       "      <td>1,992.99</td>\n",
       "      <td>120.22</td>\n",
       "      <td>59.68</td>\n",
       "      <td>53.24</td>\n",
       "      <td>-9.01</td>\n",
       "      <td>19.01</td>\n",
       "      <td>49.41</td>\n",
       "      <td>262.44</td>\n",
       "      <td>28.86</td>\n",
       "      <td>4.99</td>\n",
       "      <td>59.53</td>\n",
       "    </tr>\n",
       "    <tr>\n",
       "      <th>std</th>\n",
       "      <td>575.76</td>\n",
       "      <td>16.12</td>\n",
       "      <td>28.03</td>\n",
       "      <td>22.15</td>\n",
       "      <td>15.35</td>\n",
       "      <td>3.65</td>\n",
       "      <td>16.73</td>\n",
       "      <td>24.86</td>\n",
       "      <td>93.60</td>\n",
       "      <td>29.01</td>\n",
       "      <td>4.40</td>\n",
       "      <td>14.35</td>\n",
       "    </tr>\n",
       "    <tr>\n",
       "      <th>min</th>\n",
       "      <td>1.00</td>\n",
       "      <td>1,956.00</td>\n",
       "      <td>37.00</td>\n",
       "      <td>3.00</td>\n",
       "      <td>10.00</td>\n",
       "      <td>-27.00</td>\n",
       "      <td>2.00</td>\n",
       "      <td>3.00</td>\n",
       "      <td>93.00</td>\n",
       "      <td>0.00</td>\n",
       "      <td>2.00</td>\n",
       "      <td>11.00</td>\n",
       "    </tr>\n",
       "    <tr>\n",
       "      <th>25%</th>\n",
       "      <td>499.25</td>\n",
       "      <td>1,979.00</td>\n",
       "      <td>99.00</td>\n",
       "      <td>42.00</td>\n",
       "      <td>43.00</td>\n",
       "      <td>-11.00</td>\n",
       "      <td>9.00</td>\n",
       "      <td>29.00</td>\n",
       "      <td>212.00</td>\n",
       "      <td>3.00</td>\n",
       "      <td>3.00</td>\n",
       "      <td>49.25</td>\n",
       "    </tr>\n",
       "    <tr>\n",
       "      <th>50%</th>\n",
       "      <td>997.50</td>\n",
       "      <td>1,993.00</td>\n",
       "      <td>119.00</td>\n",
       "      <td>61.00</td>\n",
       "      <td>53.00</td>\n",
       "      <td>-8.00</td>\n",
       "      <td>12.00</td>\n",
       "      <td>47.00</td>\n",
       "      <td>245.00</td>\n",
       "      <td>18.00</td>\n",
       "      <td>4.00</td>\n",
       "      <td>62.00</td>\n",
       "    </tr>\n",
       "    <tr>\n",
       "      <th>75%</th>\n",
       "      <td>1,495.75</td>\n",
       "      <td>2,007.00</td>\n",
       "      <td>136.00</td>\n",
       "      <td>78.00</td>\n",
       "      <td>64.00</td>\n",
       "      <td>-6.00</td>\n",
       "      <td>23.00</td>\n",
       "      <td>69.75</td>\n",
       "      <td>289.00</td>\n",
       "      <td>50.00</td>\n",
       "      <td>5.00</td>\n",
       "      <td>71.00</td>\n",
       "    </tr>\n",
       "    <tr>\n",
       "      <th>max</th>\n",
       "      <td>1,994.00</td>\n",
       "      <td>2,019.00</td>\n",
       "      <td>206.00</td>\n",
       "      <td>100.00</td>\n",
       "      <td>96.00</td>\n",
       "      <td>-2.00</td>\n",
       "      <td>99.00</td>\n",
       "      <td>99.00</td>\n",
       "      <td>1,412.00</td>\n",
       "      <td>99.00</td>\n",
       "      <td>55.00</td>\n",
       "      <td>100.00</td>\n",
       "    </tr>\n",
       "  </tbody>\n",
       "</table>\n",
       "</div>"
      ],
      "text/plain": [
       "                     Index  ...           Popularity\n",
       "count             1,994.00  ...             1,994.00\n",
       "mean                997.50  ...                59.53\n",
       "std                 575.76  ...                14.35\n",
       "min                   1.00  ...                11.00\n",
       "25%                 499.25  ...                49.25\n",
       "50%                 997.50  ...                62.00\n",
       "75%               1,495.75  ...                71.00\n",
       "max               1,994.00  ...               100.00\n",
       "\n",
       "[8 rows x 12 columns]"
      ]
     },
     "execution_count": 38,
     "metadata": {
      "tags": []
     },
     "output_type": "execute_result"
    }
   ],
   "source": [
    "spotify_songs.describe()"
   ]
  },
  {
   "cell_type": "markdown",
   "metadata": {
    "colab_type": "text",
    "id": "dqDYV6g4MeT4"
   },
   "source": [
    "Por ultimo podemos hacer una verificacion de valores nulos para tomar la decision si tenes que hacer algun tipo de tratamiento extra para los mismos."
   ]
  },
  {
   "cell_type": "code",
   "execution_count": 39,
   "metadata": {
    "colab": {
     "base_uri": "https://localhost:8080/",
     "height": 295
    },
    "colab_type": "code",
    "executionInfo": {
     "elapsed": 691,
     "status": "ok",
     "timestamp": 1587665435750,
     "user": {
      "displayName": "Martin Ramos Mejía",
      "photoUrl": "https://lh3.googleusercontent.com/a-/AOh14GgbpDnPjShOpPH8-P0a8AIZrUcpSYNQwHsEfsDQ8w=s64",
      "userId": "08591007000103530707"
     },
     "user_tz": 180
    },
    "id": "wAFDlp_xMeT4",
    "outputId": "0a5b73c1-dd4f-4575-90e9-25c829e5697f"
   },
   "outputs": [
    {
     "data": {
      "text/plain": [
       "Index                     False\n",
       "Title                     False\n",
       "Artist                    False\n",
       "Top Genre                 False\n",
       "Year                      False\n",
       "Beats Per Minute (BPM)    False\n",
       "Energy                    False\n",
       "Danceability              False\n",
       "Loudness (dB)             False\n",
       "Liveness                  False\n",
       "Valence                   False\n",
       "Length (Duration)         False\n",
       "Acousticness              False\n",
       "Speechiness               False\n",
       "Popularity                False\n",
       "dtype: bool"
      ]
     },
     "execution_count": 39,
     "metadata": {
      "tags": []
     },
     "output_type": "execute_result"
    }
   ],
   "source": [
    "spotify_songs.isnull().any()"
   ]
  },
  {
   "cell_type": "markdown",
   "metadata": {
    "colab_type": "text",
    "id": "T-v3yFrsMeT9"
   },
   "source": [
    "# Visualizacion"
   ]
  },
  {
   "cell_type": "markdown",
   "metadata": {
    "colab_type": "text",
    "id": "CZOj6J03MeT-"
   },
   "source": [
    "## Analizando la distribucion de variables"
   ]
  },
  {
   "cell_type": "markdown",
   "metadata": {
    "colab_type": "text",
    "id": "cxqVlbDPMeT_"
   },
   "source": [
    "Un forma de comenzar con nuestros analisis como hicimos en parte en el apartado anterior es intentar comprender la distribucion los distintos valores de cada columna o feature que tenemos en nuestro data frame que queramos analizar.\n",
    "\n",
    "Entendemos como distribucion a la cantidad de veces que la variable toma determinados valores."
   ]
  },
  {
   "cell_type": "code",
   "execution_count": 40,
   "metadata": {
    "colab": {
     "base_uri": "https://localhost:8080/",
     "height": 300
    },
    "colab_type": "code",
    "executionInfo": {
     "elapsed": 828,
     "status": "ok",
     "timestamp": 1587665464691,
     "user": {
      "displayName": "Martin Ramos Mejía",
      "photoUrl": "https://lh3.googleusercontent.com/a-/AOh14GgbpDnPjShOpPH8-P0a8AIZrUcpSYNQwHsEfsDQ8w=s64",
      "userId": "08591007000103530707"
     },
     "user_tz": 180
    },
    "id": "t8YbSFe1MeUA",
    "outputId": "cff56a18-faae-4d72-91e9-f2ce154f560e"
   },
   "outputs": [
    {
     "data": {
      "text/html": [
       "<div>\n",
       "<style scoped>\n",
       "    .dataframe tbody tr th:only-of-type {\n",
       "        vertical-align: middle;\n",
       "    }\n",
       "\n",
       "    .dataframe tbody tr th {\n",
       "        vertical-align: top;\n",
       "    }\n",
       "\n",
       "    .dataframe thead th {\n",
       "        text-align: right;\n",
       "    }\n",
       "</style>\n",
       "<table border=\"1\" class=\"dataframe\">\n",
       "  <thead>\n",
       "    <tr style=\"text-align: right;\">\n",
       "      <th></th>\n",
       "      <th>Index</th>\n",
       "      <th>Year</th>\n",
       "      <th>Beats Per Minute (BPM)</th>\n",
       "      <th>Energy</th>\n",
       "      <th>Danceability</th>\n",
       "      <th>Loudness (dB)</th>\n",
       "      <th>Liveness</th>\n",
       "      <th>Valence</th>\n",
       "      <th>Length (Duration)</th>\n",
       "      <th>Acousticness</th>\n",
       "      <th>Speechiness</th>\n",
       "      <th>Popularity</th>\n",
       "    </tr>\n",
       "  </thead>\n",
       "  <tbody>\n",
       "    <tr>\n",
       "      <th>count</th>\n",
       "      <td>1,994.00</td>\n",
       "      <td>1,994.00</td>\n",
       "      <td>1,994.00</td>\n",
       "      <td>1,994.00</td>\n",
       "      <td>1,994.00</td>\n",
       "      <td>1,994.00</td>\n",
       "      <td>1,994.00</td>\n",
       "      <td>1,994.00</td>\n",
       "      <td>1,994.00</td>\n",
       "      <td>1,994.00</td>\n",
       "      <td>1,994.00</td>\n",
       "      <td>1,994.00</td>\n",
       "    </tr>\n",
       "    <tr>\n",
       "      <th>mean</th>\n",
       "      <td>997.50</td>\n",
       "      <td>1,992.99</td>\n",
       "      <td>120.22</td>\n",
       "      <td>59.68</td>\n",
       "      <td>53.24</td>\n",
       "      <td>-9.01</td>\n",
       "      <td>19.01</td>\n",
       "      <td>49.41</td>\n",
       "      <td>262.44</td>\n",
       "      <td>28.86</td>\n",
       "      <td>4.99</td>\n",
       "      <td>59.53</td>\n",
       "    </tr>\n",
       "    <tr>\n",
       "      <th>std</th>\n",
       "      <td>575.76</td>\n",
       "      <td>16.12</td>\n",
       "      <td>28.03</td>\n",
       "      <td>22.15</td>\n",
       "      <td>15.35</td>\n",
       "      <td>3.65</td>\n",
       "      <td>16.73</td>\n",
       "      <td>24.86</td>\n",
       "      <td>93.60</td>\n",
       "      <td>29.01</td>\n",
       "      <td>4.40</td>\n",
       "      <td>14.35</td>\n",
       "    </tr>\n",
       "    <tr>\n",
       "      <th>min</th>\n",
       "      <td>1.00</td>\n",
       "      <td>1,956.00</td>\n",
       "      <td>37.00</td>\n",
       "      <td>3.00</td>\n",
       "      <td>10.00</td>\n",
       "      <td>-27.00</td>\n",
       "      <td>2.00</td>\n",
       "      <td>3.00</td>\n",
       "      <td>93.00</td>\n",
       "      <td>0.00</td>\n",
       "      <td>2.00</td>\n",
       "      <td>11.00</td>\n",
       "    </tr>\n",
       "    <tr>\n",
       "      <th>25%</th>\n",
       "      <td>499.25</td>\n",
       "      <td>1,979.00</td>\n",
       "      <td>99.00</td>\n",
       "      <td>42.00</td>\n",
       "      <td>43.00</td>\n",
       "      <td>-11.00</td>\n",
       "      <td>9.00</td>\n",
       "      <td>29.00</td>\n",
       "      <td>212.00</td>\n",
       "      <td>3.00</td>\n",
       "      <td>3.00</td>\n",
       "      <td>49.25</td>\n",
       "    </tr>\n",
       "    <tr>\n",
       "      <th>50%</th>\n",
       "      <td>997.50</td>\n",
       "      <td>1,993.00</td>\n",
       "      <td>119.00</td>\n",
       "      <td>61.00</td>\n",
       "      <td>53.00</td>\n",
       "      <td>-8.00</td>\n",
       "      <td>12.00</td>\n",
       "      <td>47.00</td>\n",
       "      <td>245.00</td>\n",
       "      <td>18.00</td>\n",
       "      <td>4.00</td>\n",
       "      <td>62.00</td>\n",
       "    </tr>\n",
       "    <tr>\n",
       "      <th>75%</th>\n",
       "      <td>1,495.75</td>\n",
       "      <td>2,007.00</td>\n",
       "      <td>136.00</td>\n",
       "      <td>78.00</td>\n",
       "      <td>64.00</td>\n",
       "      <td>-6.00</td>\n",
       "      <td>23.00</td>\n",
       "      <td>69.75</td>\n",
       "      <td>289.00</td>\n",
       "      <td>50.00</td>\n",
       "      <td>5.00</td>\n",
       "      <td>71.00</td>\n",
       "    </tr>\n",
       "    <tr>\n",
       "      <th>max</th>\n",
       "      <td>1,994.00</td>\n",
       "      <td>2,019.00</td>\n",
       "      <td>206.00</td>\n",
       "      <td>100.00</td>\n",
       "      <td>96.00</td>\n",
       "      <td>-2.00</td>\n",
       "      <td>99.00</td>\n",
       "      <td>99.00</td>\n",
       "      <td>1,412.00</td>\n",
       "      <td>99.00</td>\n",
       "      <td>55.00</td>\n",
       "      <td>100.00</td>\n",
       "    </tr>\n",
       "  </tbody>\n",
       "</table>\n",
       "</div>"
      ],
      "text/plain": [
       "                     Index  ...           Popularity\n",
       "count             1,994.00  ...             1,994.00\n",
       "mean                997.50  ...                59.53\n",
       "std                 575.76  ...                14.35\n",
       "min                   1.00  ...                11.00\n",
       "25%                 499.25  ...                49.25\n",
       "50%                 997.50  ...                62.00\n",
       "75%               1,495.75  ...                71.00\n",
       "max               1,994.00  ...               100.00\n",
       "\n",
       "[8 rows x 12 columns]"
      ]
     },
     "execution_count": 40,
     "metadata": {
      "tags": []
     },
     "output_type": "execute_result"
    }
   ],
   "source": [
    "spotify_songs.describe()"
   ]
  },
  {
   "cell_type": "markdown",
   "metadata": {
    "colab_type": "text",
    "id": "bif3av5pMeUQ"
   },
   "source": [
    "### Histograma\n",
    "\n",
    "Un histograma sirve para mostrar la distribucion de una determinada variable. Para construirlo hacen falta dos parametros: la variable en cuestion que tiene que ser numerica (continua o discreta) y el ancho que van a tener las columnas del histograma. Este valor se fija en matplotlib con el valor de bins, que indica cuanto discretizamos los intervalos.\n"
   ]
  },
  {
   "cell_type": "code",
   "execution_count": 41,
   "metadata": {
    "colab": {
     "base_uri": "https://localhost:8080/",
     "height": 325
    },
    "colab_type": "code",
    "executionInfo": {
     "elapsed": 1151,
     "status": "ok",
     "timestamp": 1587665467733,
     "user": {
      "displayName": "Martin Ramos Mejía",
      "photoUrl": "https://lh3.googleusercontent.com/a-/AOh14GgbpDnPjShOpPH8-P0a8AIZrUcpSYNQwHsEfsDQ8w=s64",
      "userId": "08591007000103530707"
     },
     "user_tz": 180
    },
    "id": "FeJfXHqiMeUR",
    "outputId": "5d69df13-a75b-4baf-e4dd-dd4f59b49987"
   },
   "outputs": [
    {
     "data": {
      "text/plain": [
       "Text(0, 0.5, 'Frecuencia')"
      ]
     },
     "execution_count": 41,
     "metadata": {
      "tags": []
     },
     "output_type": "execute_result"
    },
    {
     "data": {
      "image/png": "[encoded data removed]",
      "text/plain": [
       "<Figure size 432x288 with 1 Axes>"
      ]
     },
     "metadata": {
      "needs_background": "light",
      "tags": []
     },
     "output_type": "display_data"
    }
   ],
   "source": [
    "# es importante que el grafico tenga un correcto titulo y valores descriptivos en barras\n",
    "# https://matplotlib.org/api/_as_gen/matplotlib.pyplot.hist.html\n",
    "g = spotify_songs[\"Beats Per Minute (BPM)\"].plot.hist(bins=75, color='lightblue')\n",
    "g.set_title(\"Histograma de Beats Per Minute [Tempo] de las 2000 All Time Top Songs de Spotify\", fontsize=16)\n",
    "g.set_xlabel(\"BPM\",fontsize=18)\n",
    "g.set_ylabel(\"Frecuencia\", fontsize=18)"
   ]
  },
  {
   "cell_type": "code",
   "execution_count": 42,
   "metadata": {
    "colab": {
     "base_uri": "https://localhost:8080/",
     "height": 325
    },
    "colab_type": "code",
    "executionInfo": {
     "elapsed": 1289,
     "status": "ok",
     "timestamp": 1587665469849,
     "user": {
      "displayName": "Martin Ramos Mejía",
      "photoUrl": "https://lh3.googleusercontent.com/a-/AOh14GgbpDnPjShOpPH8-P0a8AIZrUcpSYNQwHsEfsDQ8w=s64",
      "userId": "08591007000103530707"
     },
     "user_tz": 180
    },
    "id": "PfkFg7uSMeUU",
    "outputId": "c65cf6f4-f37f-41b1-9f3e-f4345026c92b"
   },
   "outputs": [
    {
     "data": {
      "text/plain": [
       "Text(0, 0.5, 'Frecuencia')"
      ]
     },
     "execution_count": 42,
     "metadata": {
      "tags": []
     },
     "output_type": "execute_result"
    },
    {
     "data": {
      "image/png": "[encoded data removed]",
      "text/plain": [
       "<Figure size 432x288 with 1 Axes>"
      ]
     },
     "metadata": {
      "needs_background": "light",
      "tags": []
     },
     "output_type": "display_data"
    }
   ],
   "source": [
    "g = spotify_songs[\"Length (Duration)\"].plot.hist(bins=25, color='goldenrod')\n",
    "g.set_title(\"Histograma de Duracion de la Cancion [En segundos] de las 2000 All Time Top Songs de Spotify\", fontsize=16)\n",
    "g.set_xlabel(\"Duracion en segundos\",fontsize=18)\n",
    "g.set_ylabel(\"Frecuencia\", fontsize=18)"
   ]
  },
  {
   "cell_type": "markdown",
   "metadata": {
    "colab_type": "text",
    "id": "YngNJstcMeUW"
   },
   "source": [
    "### Density Plot\n",
    "\n",
    "Un plot de densidad es una version continua de un histograma (no es necesario indicar el tamaño de los bins). Lo que se muestra es como se distribuye la densidad de la variable numerica a lo largo de todos sus valores posibles."
   ]
  },
  {
   "cell_type": "code",
   "execution_count": 43,
   "metadata": {
    "colab": {
     "base_uri": "https://localhost:8080/",
     "height": 327
    },
    "colab_type": "code",
    "executionInfo": {
     "elapsed": 1228,
     "status": "ok",
     "timestamp": 1587665473686,
     "user": {
      "displayName": "Martin Ramos Mejía",
      "photoUrl": "https://lh3.googleusercontent.com/a-/AOh14GgbpDnPjShOpPH8-P0a8AIZrUcpSYNQwHsEfsDQ8w=s64",
      "userId": "08591007000103530707"
     },
     "user_tz": 180
    },
    "id": "iTTgeO7XMeUX",
    "outputId": "336ce41b-dd8e-4b60-8be4-c3b36c7ad986"
   },
   "outputs": [
    {
     "data": {
      "text/plain": [
       "Text(0, 0.5, 'Densidad')"
      ]
     },
     "execution_count": 43,
     "metadata": {
      "tags": []
     },
     "output_type": "execute_result"
    },
    {
     "data": {
      "image/png": "[encoded data removed]",
      "text/plain": [
       "<Figure size 432x288 with 1 Axes>"
      ]
     },
     "metadata": {
      "needs_background": "light",
      "tags": []
     },
     "output_type": "display_data"
    }
   ],
   "source": [
    "# https://seaborn.pydata.org/generated/seaborn.distplot.html\n",
    "g = sns.distplot(spotify_songs[\"Beats Per Minute (BPM)\"], hist=False)\n",
    "g.set_title(\"Densidad de Beats Per Minute [Tempo] de las 2000 All Time Top Songs de Spotify\", fontsize=18)\n",
    "g.set_xlabel(\"BPM\",fontsize=18)\n",
    "g.set_ylabel(\"Densidad\", fontsize=18)"
   ]
  },
  {
   "cell_type": "code",
   "execution_count": 44,
   "metadata": {
    "colab": {
     "base_uri": "https://localhost:8080/",
     "height": 327
    },
    "colab_type": "code",
    "executionInfo": {
     "elapsed": 1188,
     "status": "ok",
     "timestamp": 1587665476848,
     "user": {
      "displayName": "Martin Ramos Mejía",
      "photoUrl": "https://lh3.googleusercontent.com/a-/AOh14GgbpDnPjShOpPH8-P0a8AIZrUcpSYNQwHsEfsDQ8w=s64",
      "userId": "08591007000103530707"
     },
     "user_tz": 180
    },
    "id": "yJ3ok2FzMeUa",
    "outputId": "7d3c35b9-948e-46fc-dfd1-cc68e5ebbd54"
   },
   "outputs": [
    {
     "data": {
      "text/plain": [
       "Text(0, 0.5, 'Densidad')"
      ]
     },
     "execution_count": 44,
     "metadata": {
      "tags": []
     },
     "output_type": "execute_result"
    },
    {
     "data": {
      "image/png": "[encoded data removed]",
      "text/plain": [
       "<Figure size 432x288 with 1 Axes>"
      ]
     },
     "metadata": {
      "needs_background": "light",
      "tags": []
     },
     "output_type": "display_data"
    }
   ],
   "source": [
    "g = sns.distplot(spotify_songs[\"Length (Duration)\"], color='goldenrod', hist=False)\n",
    "g.set_title(\"Densidad de Duracion de la Cancion [En segundos] de las 2000 All Time Top Songs de Spotify\", fontsize=18)\n",
    "g.set_xlabel(\"Duracion en segundos\",fontsize=18)\n",
    "g.set_ylabel(\"Densidad\", fontsize=18)"
   ]
  },
  {
   "cell_type": "markdown",
   "metadata": {
    "colab_type": "text",
    "id": "HcN12CrrMeUe"
   },
   "source": [
    "## Overlaid Histogram y Overlaid Density Plots\n",
    "\n",
    "Una forma de comparar distribuciones sobre una misma base es realizar un overlay de distintos histogramas o funciones de densidad.\n",
    "\n",
    "En este set de datos no contamos con atributos directamente comparables pero podriamos por ejemplo para distintos generos musicales calcular sus funciones de densidad y realizar una comparativa de las mismas para entender si su comportamiento es similar.\n",
    "\n",
    "Por ejemplo podriamos analizar ese comportamiento respecto al Tempo (BPM) que hemos analizado anteriormente para distintos generos musicales."
   ]
  },
  {
   "cell_type": "code",
   "execution_count": 45,
   "metadata": {
    "colab": {
     "base_uri": "https://localhost:8080/",
     "height": 503
    },
    "colab_type": "code",
    "executionInfo": {
     "elapsed": 690,
     "status": "ok",
     "timestamp": 1587665480638,
     "user": {
      "displayName": "Martin Ramos Mejía",
      "photoUrl": "https://lh3.googleusercontent.com/a-/AOh14GgbpDnPjShOpPH8-P0a8AIZrUcpSYNQwHsEfsDQ8w=s64",
      "userId": "08591007000103530707"
     },
     "user_tz": 180
    },
    "id": "-gpZurp_MeUe",
    "outputId": "64c35c9a-532b-46b0-8a23-2354531ae62e"
   },
   "outputs": [
    {
     "data": {
      "text/plain": [
       "album rock           413\n",
       "adult standards      123\n",
       "dutch pop             88\n",
       "alternative rock      86\n",
       "dance pop             83\n",
       "dutch indie           75\n",
       "alternative metal     70\n",
       "dance rock            52\n",
       "classic rock          51\n",
       "dutch cabaret         51\n",
       "modern rock           49\n",
       "glam rock             49\n",
       "pop                   47\n",
       "art rock              40\n",
       "permanent wave        38\n",
       "british invasion      36\n",
       "irish rock            34\n",
       "british soul          31\n",
       "europop               27\n",
       "classic uk pop        22\n",
       "disco                 18\n",
       "dutch rock            18\n",
       "glam metal            17\n",
       "neo mellow            17\n",
       "blues rock            15\n",
       "alternative dance     15\n",
       "art pop               14\n",
       "Name: Top Genre, dtype: int64"
      ]
     },
     "execution_count": 45,
     "metadata": {
      "tags": []
     },
     "output_type": "execute_result"
    }
   ],
   "source": [
    "genres_counts = spotify_songs['Top Genre'].value_counts()\n",
    "genres_counts[genres_counts > genres_counts.mean()]"
   ]
  },
  {
   "cell_type": "code",
   "execution_count": 46,
   "metadata": {
    "colab": {
     "base_uri": "https://localhost:8080/",
     "height": 322
    },
    "colab_type": "code",
    "executionInfo": {
     "elapsed": 1472,
     "status": "ok",
     "timestamp": 1587665482860,
     "user": {
      "displayName": "Martin Ramos Mejía",
      "photoUrl": "https://lh3.googleusercontent.com/a-/AOh14GgbpDnPjShOpPH8-P0a8AIZrUcpSYNQwHsEfsDQ8w=s64",
      "userId": "08591007000103530707"
     },
     "user_tz": 180
    },
    "id": "9Pu7YfLRMeUh",
    "outputId": "06c67d27-73d0-4150-ade3-f0f394f2ffd3"
   },
   "outputs": [
    {
     "data": {
      "text/plain": [
       "Text(0, 0.5, 'Densidad')"
      ]
     },
     "execution_count": 46,
     "metadata": {
      "tags": []
     },
     "output_type": "execute_result"
    },
    {
     "data": {
      "image/png": "[encoded data removed]",
      "text/plain": [
       "<Figure size 432x288 with 1 Axes>"
      ]
     },
     "metadata": {
      "needs_background": "light",
      "tags": []
     },
     "output_type": "display_data"
    }
   ],
   "source": [
    "g = sns.distplot(spotify_songs[spotify_songs['Top Genre'] == \"album rock\"]['Beats Per Minute (BPM)'], color=\"blue\", label='BPM on album rock genre', hist=False)\n",
    "g = sns.distplot(spotify_songs[spotify_songs['Top Genre'] == \"alternative rock\"]['Beats Per Minute (BPM)'], color=\"red\", label='BPM on alternative rock genre', hist=False)\n",
    "g.set_title(\"Distribucion de Beats per Minute (BPM) por Genero\", fontsize=18)\n",
    "g.set_ylabel(\"Densidad\", fontsize=18)"
   ]
  },
  {
   "cell_type": "markdown",
   "metadata": {
    "colab_type": "text",
    "id": "R91m4KnwMeUk"
   },
   "source": [
    "Otro analisis posible es sobre la duracion de la canciones por genero, haciendo algo similar comparando las densidades."
   ]
  },
  {
   "cell_type": "code",
   "execution_count": 47,
   "metadata": {
    "colab": {
     "base_uri": "https://localhost:8080/",
     "height": 322
    },
    "colab_type": "code",
    "executionInfo": {
     "elapsed": 1290,
     "status": "ok",
     "timestamp": 1587665486036,
     "user": {
      "displayName": "Martin Ramos Mejía",
      "photoUrl": "https://lh3.googleusercontent.com/a-/AOh14GgbpDnPjShOpPH8-P0a8AIZrUcpSYNQwHsEfsDQ8w=s64",
      "userId": "08591007000103530707"
     },
     "user_tz": 180
    },
    "id": "vg-2py9YMeUl",
    "outputId": "c6d23b34-b0bc-4e49-866e-9d4772f793d8"
   },
   "outputs": [
    {
     "data": {
      "text/plain": [
       "Text(0, 0.5, 'Densidad')"
      ]
     },
     "execution_count": 47,
     "metadata": {
      "tags": []
     },
     "output_type": "execute_result"
    },
    {
     "data": {
      "image/png": "[encoded data removed]",
      "text/plain": [
       "<Figure size 432x288 with 1 Axes>"
      ]
     },
     "metadata": {
      "needs_background": "light",
      "tags": []
     },
     "output_type": "display_data"
    }
   ],
   "source": [
    "g = sns.distplot(spotify_songs[spotify_songs['Top Genre'] == \"album rock\"][\"Length (Duration)\"], color=\"blue\", label='Duration on album rock genre', hist=False)\n",
    "g = sns.distplot(spotify_songs[spotify_songs['Top Genre'] == \"alternative rock\"][\"Length (Duration)\"], color=\"red\", label='Duration on alternative rock genre', hist=False)\n",
    "\n",
    "g.set_title(\"Distribucion de duracion\", fontsize=18)\n",
    "g.set_ylabel(\"Densidad\", fontsize=18)"
   ]
  },
  {
   "cell_type": "markdown",
   "metadata": {
    "colab_type": "text",
    "id": "r3eMPjpjMeUp"
   },
   "source": [
    "Para realizar la aproximacion de la funcion de densidad, seaborn utiliza KDE (Kernel Density Estimation) es por eso que si queremos tener mayor control sobre el plot que queremos obtener, es interesante utilizar la funcion ```kdeplot```, por ejemplo para visualizar de mejor forma el area sobre la curva comun entre ambos plots."
   ]
  },
  {
   "cell_type": "code",
   "execution_count": 48,
   "metadata": {
    "colab": {
     "base_uri": "https://localhost:8080/",
     "height": 305
    },
    "colab_type": "code",
    "executionInfo": {
     "elapsed": 1233,
     "status": "ok",
     "timestamp": 1587665489946,
     "user": {
      "displayName": "Martin Ramos Mejía",
      "photoUrl": "https://lh3.googleusercontent.com/a-/AOh14GgbpDnPjShOpPH8-P0a8AIZrUcpSYNQwHsEfsDQ8w=s64",
      "userId": "08591007000103530707"
     },
     "user_tz": 180
    },
    "id": "FGRoKTzcMeUp",
    "outputId": "a0d52f95-f9bf-4834-c10f-20f98eb37ba4"
   },
   "outputs": [
    {
     "data": {
      "text/plain": [
       "Text(0, 0.5, 'Densidad')"
      ]
     },
     "execution_count": 48,
     "metadata": {
      "tags": []
     },
     "output_type": "execute_result"
    },
    {
     "data": {
      "image/png": "[encoded data removed]",
      "text/plain": [
       "<Figure size 432x288 with 1 Axes>"
      ]
     },
     "metadata": {
      "needs_background": "light",
      "tags": []
     },
     "output_type": "display_data"
    }
   ],
   "source": [
    "g = sns.kdeplot(spotify_songs[spotify_songs['Top Genre'] == \"album rock\"][\"Length (Duration)\"], color=\"blue\", label='BPM on album rock genre', shade=True)\n",
    "g = sns.kdeplot(spotify_songs[spotify_songs['Top Genre'] == \"alternative rock\"][\"Length (Duration)\"], color=\"red\", label='BPM on alternative rock genre', shade=True)\n",
    "\n",
    "g.set_title(\"Distribucion Duracion\", fontsize=18)\n",
    "g.set_ylabel(\"Densidad\", fontsize=18)"
   ]
  },
  {
   "cell_type": "markdown",
   "metadata": {
    "colab_type": "text",
    "id": "VPNGciQLMeUr"
   },
   "source": [
    "## Visualización de relaciones por pares en un conjunto de datos"
   ]
  },
  {
   "cell_type": "markdown",
   "metadata": {
    "colab_type": "text",
    "id": "4YvMXY_2MeUs"
   },
   "source": [
    "### Scatter Plot\n",
    "\n",
    "Es una de las visualizaciones mas comunes, y versatiles. En un scatter plot representamos dos variables numericas en los ejes X e Y y por cada instancia de nuestro set de datos dibujamos un punto en las coordenadas indicadas.\n",
    "Estos plots nos dan una idea de la dependencia que existe entre las dos variables y de las caracteristicas de esta dependencia: lineal, no-lineal, etc. Por otro lado podemos sumar mas dimensiones al analisis teniendo en cuenta que podemos darles distintos colores a los distintos puntos del plot."
   ]
  },
  {
   "cell_type": "markdown",
   "metadata": {
    "colab_type": "text",
    "id": "8oLToUA4MeUs"
   },
   "source": [
    "En este escenario por ejemplo podriamos querer analizar la relacion que tenemos entre tu Tempo y su \"Energia\""
   ]
  },
  {
   "cell_type": "code",
   "execution_count": 49,
   "metadata": {
    "colab": {
     "base_uri": "https://localhost:8080/",
     "height": 322
    },
    "colab_type": "code",
    "executionInfo": {
     "elapsed": 1754,
     "status": "ok",
     "timestamp": 1587665496168,
     "user": {
      "displayName": "Martin Ramos Mejía",
      "photoUrl": "https://lh3.googleusercontent.com/a-/AOh14GgbpDnPjShOpPH8-P0a8AIZrUcpSYNQwHsEfsDQ8w=s64",
      "userId": "08591007000103530707"
     },
     "user_tz": 180
    },
    "id": "N9ndOi8IMeUt",
    "outputId": "ad588cd7-ea48-4235-b4ab-06784af42d29"
   },
   "outputs": [
    {
     "data": {
      "text/plain": [
       "Text(0.5, 1.0, 'Energia vs. Beats Por Minuto (BPM)')"
      ]
     },
     "execution_count": 49,
     "metadata": {
      "tags": []
     },
     "output_type": "execute_result"
    },
    {
     "data": {
      "image/png": "[encoded data removed]",
      "text/plain": [
       "<Figure size 432x288 with 1 Axes>"
      ]
     },
     "metadata": {
      "needs_background": "light",
      "tags": []
     },
     "output_type": "display_data"
    }
   ],
   "source": [
    "g = sns.scatterplot(x=\"Beats Per Minute (BPM)\", y=\"Energy\", data=spotify_songs)\n",
    "g.set_title(\"Energia vs. Beats Por Minuto (BPM)\", fontsize=18)"
   ]
  },
  {
   "cell_type": "markdown",
   "metadata": {
    "colab_type": "text",
    "id": "vcdk9cTiMeUw"
   },
   "source": [
    "En este escenario por ejemplo podriamos querer analizar la relacion que tenemos entre la duracion de la cancion y la popularidad de la misma."
   ]
  },
  {
   "cell_type": "code",
   "execution_count": 50,
   "metadata": {
    "colab": {
     "base_uri": "https://localhost:8080/",
     "height": 322
    },
    "colab_type": "code",
    "executionInfo": {
     "elapsed": 1280,
     "status": "ok",
     "timestamp": 1587665499936,
     "user": {
      "displayName": "Martin Ramos Mejía",
      "photoUrl": "https://lh3.googleusercontent.com/a-/AOh14GgbpDnPjShOpPH8-P0a8AIZrUcpSYNQwHsEfsDQ8w=s64",
      "userId": "08591007000103530707"
     },
     "user_tz": 180
    },
    "id": "5ZST86XNMeUw",
    "outputId": "54698eaa-3dab-4d4f-d0ca-b6755b21f448"
   },
   "outputs": [
    {
     "data": {
      "text/plain": [
       "Text(0.5, 1.0, 'Popularidad vs. Beats Por Minuto (BPM)')"
      ]
     },
     "execution_count": 50,
     "metadata": {
      "tags": []
     },
     "output_type": "execute_result"
    },
    {
     "data": {
      "image/png": "[encoded data removed]",
      "text/plain": [
       "<Figure size 432x288 with 1 Axes>"
      ]
     },
     "metadata": {
      "needs_background": "light",
      "tags": []
     },
     "output_type": "display_data"
    }
   ],
   "source": [
    "g = sns.scatterplot(x=\"Length (Duration)\", y=\"Popularity\", data=spotify_songs)\n",
    "g.set_title(\"Popularidad vs. Beats Por Minuto (BPM)\", fontsize=18)"
   ]
  },
  {
   "cell_type": "markdown",
   "metadata": {
    "colab_type": "text",
    "id": "023E2U_uMeU0"
   },
   "source": [
    "Podriamos tambien repetir este analisis para algunos artistas de nuestro set, por ejemplo the Beatles y Rolling Stones."
   ]
  },
  {
   "cell_type": "code",
   "execution_count": 0,
   "metadata": {
    "colab": {},
    "colab_type": "code",
    "id": "V8SCVXWnMeU2"
   },
   "outputs": [],
   "source": [
    "beatles_stones_songs = spotify_songs[(spotify_songs['Artist'] == 'The Beatles') | (spotify_songs['Artist'] == 'The Rolling Stones')]"
   ]
  },
  {
   "cell_type": "code",
   "execution_count": 52,
   "metadata": {
    "colab": {
     "base_uri": "https://localhost:8080/",
     "height": 1000
    },
    "colab_type": "code",
    "executionInfo": {
     "elapsed": 551,
     "status": "ok",
     "timestamp": 1587665504069,
     "user": {
      "displayName": "Martin Ramos Mejía",
      "photoUrl": "https://lh3.googleusercontent.com/a-/AOh14GgbpDnPjShOpPH8-P0a8AIZrUcpSYNQwHsEfsDQ8w=s64",
      "userId": "08591007000103530707"
     },
     "user_tz": 180
    },
    "id": "-yZpj3iAMeU4",
    "outputId": "162ad099-a6cd-4bde-c3a3-aa7f5f2b2b2a"
   },
   "outputs": [
    {
     "data": {
      "text/html": [
       "<div>\n",
       "<style scoped>\n",
       "    .dataframe tbody tr th:only-of-type {\n",
       "        vertical-align: middle;\n",
       "    }\n",
       "\n",
       "    .dataframe tbody tr th {\n",
       "        vertical-align: top;\n",
       "    }\n",
       "\n",
       "    .dataframe thead th {\n",
       "        text-align: right;\n",
       "    }\n",
       "</style>\n",
       "<table border=\"1\" class=\"dataframe\">\n",
       "  <thead>\n",
       "    <tr style=\"text-align: right;\">\n",
       "      <th></th>\n",
       "      <th>Index</th>\n",
       "      <th>Title</th>\n",
       "      <th>Artist</th>\n",
       "      <th>Top Genre</th>\n",
       "      <th>Year</th>\n",
       "      <th>Beats Per Minute (BPM)</th>\n",
       "      <th>Energy</th>\n",
       "      <th>Danceability</th>\n",
       "      <th>Loudness (dB)</th>\n",
       "      <th>Liveness</th>\n",
       "      <th>Valence</th>\n",
       "      <th>Length (Duration)</th>\n",
       "      <th>Acousticness</th>\n",
       "      <th>Speechiness</th>\n",
       "      <th>Popularity</th>\n",
       "    </tr>\n",
       "  </thead>\n",
       "  <tbody>\n",
       "    <tr>\n",
       "      <th>148</th>\n",
       "      <td>149</td>\n",
       "      <td>I Want To Hold Your Hand - Remastered 2015</td>\n",
       "      <td>The Beatles</td>\n",
       "      <td>british invasion</td>\n",
       "      <td>2000</td>\n",
       "      <td>131</td>\n",
       "      <td>72</td>\n",
       "      <td>49</td>\n",
       "      <td>-6</td>\n",
       "      <td>31</td>\n",
       "      <td>87</td>\n",
       "      <td>146</td>\n",
       "      <td>39</td>\n",
       "      <td>5</td>\n",
       "      <td>75</td>\n",
       "    </tr>\n",
       "    <tr>\n",
       "      <th>284</th>\n",
       "      <td>285</td>\n",
       "      <td>Lady Jane - (Original Single Mono Version)</td>\n",
       "      <td>The Rolling Stones</td>\n",
       "      <td>album rock</td>\n",
       "      <td>2004</td>\n",
       "      <td>205</td>\n",
       "      <td>47</td>\n",
       "      <td>38</td>\n",
       "      <td>-12</td>\n",
       "      <td>9</td>\n",
       "      <td>31</td>\n",
       "      <td>190</td>\n",
       "      <td>34</td>\n",
       "      <td>5</td>\n",
       "      <td>34</td>\n",
       "    </tr>\n",
       "    <tr>\n",
       "      <th>307</th>\n",
       "      <td>308</td>\n",
       "      <td>Lady Madonna - Remastered 2015</td>\n",
       "      <td>The Beatles</td>\n",
       "      <td>british invasion</td>\n",
       "      <td>2000</td>\n",
       "      <td>110</td>\n",
       "      <td>78</td>\n",
       "      <td>65</td>\n",
       "      <td>-5</td>\n",
       "      <td>22</td>\n",
       "      <td>57</td>\n",
       "      <td>137</td>\n",
       "      <td>14</td>\n",
       "      <td>3</td>\n",
       "      <td>63</td>\n",
       "    </tr>\n",
       "    <tr>\n",
       "      <th>313</th>\n",
       "      <td>314</td>\n",
       "      <td>We Can Work It Out - Remastered 2015</td>\n",
       "      <td>The Beatles</td>\n",
       "      <td>british invasion</td>\n",
       "      <td>2000</td>\n",
       "      <td>106</td>\n",
       "      <td>68</td>\n",
       "      <td>38</td>\n",
       "      <td>-9</td>\n",
       "      <td>18</td>\n",
       "      <td>65</td>\n",
       "      <td>136</td>\n",
       "      <td>6</td>\n",
       "      <td>3</td>\n",
       "      <td>63</td>\n",
       "    </tr>\n",
       "    <tr>\n",
       "      <th>318</th>\n",
       "      <td>319</td>\n",
       "      <td>Hey Jude</td>\n",
       "      <td>The Beatles</td>\n",
       "      <td>british invasion</td>\n",
       "      <td>2006</td>\n",
       "      <td>74</td>\n",
       "      <td>63</td>\n",
       "      <td>46</td>\n",
       "      <td>-7</td>\n",
       "      <td>40</td>\n",
       "      <td>59</td>\n",
       "      <td>239</td>\n",
       "      <td>9</td>\n",
       "      <td>2</td>\n",
       "      <td>63</td>\n",
       "    </tr>\n",
       "    <tr>\n",
       "      <th>588</th>\n",
       "      <td>589</td>\n",
       "      <td>Yellow Submarine</td>\n",
       "      <td>The Beatles</td>\n",
       "      <td>british invasion</td>\n",
       "      <td>2014</td>\n",
       "      <td>111</td>\n",
       "      <td>64</td>\n",
       "      <td>62</td>\n",
       "      <td>-7</td>\n",
       "      <td>52</td>\n",
       "      <td>65</td>\n",
       "      <td>159</td>\n",
       "      <td>21</td>\n",
       "      <td>3</td>\n",
       "      <td>58</td>\n",
       "    </tr>\n",
       "    <tr>\n",
       "      <th>800</th>\n",
       "      <td>801</td>\n",
       "      <td>Let It Be - Remastered 2009</td>\n",
       "      <td>The Beatles</td>\n",
       "      <td>british invasion</td>\n",
       "      <td>1970</td>\n",
       "      <td>143</td>\n",
       "      <td>40</td>\n",
       "      <td>44</td>\n",
       "      <td>-8</td>\n",
       "      <td>11</td>\n",
       "      <td>41</td>\n",
       "      <td>243</td>\n",
       "      <td>63</td>\n",
       "      <td>3</td>\n",
       "      <td>79</td>\n",
       "    </tr>\n",
       "    <tr>\n",
       "      <th>813</th>\n",
       "      <td>814</td>\n",
       "      <td>The Long And Winding Road - Remastered 2009</td>\n",
       "      <td>The Beatles</td>\n",
       "      <td>british invasion</td>\n",
       "      <td>1970</td>\n",
       "      <td>132</td>\n",
       "      <td>33</td>\n",
       "      <td>30</td>\n",
       "      <td>-10</td>\n",
       "      <td>6</td>\n",
       "      <td>39</td>\n",
       "      <td>218</td>\n",
       "      <td>76</td>\n",
       "      <td>3</td>\n",
       "      <td>64</td>\n",
       "    </tr>\n",
       "    <tr>\n",
       "      <th>820</th>\n",
       "      <td>821</td>\n",
       "      <td>Get Back - Remastered 2009</td>\n",
       "      <td>The Beatles</td>\n",
       "      <td>british invasion</td>\n",
       "      <td>1970</td>\n",
       "      <td>123</td>\n",
       "      <td>59</td>\n",
       "      <td>76</td>\n",
       "      <td>-10</td>\n",
       "      <td>61</td>\n",
       "      <td>33</td>\n",
       "      <td>189</td>\n",
       "      <td>49</td>\n",
       "      <td>6</td>\n",
       "      <td>65</td>\n",
       "    </tr>\n",
       "    <tr>\n",
       "      <th>849</th>\n",
       "      <td>850</td>\n",
       "      <td>Wild Horses</td>\n",
       "      <td>The Rolling Stones</td>\n",
       "      <td>album rock</td>\n",
       "      <td>1971</td>\n",
       "      <td>140</td>\n",
       "      <td>39</td>\n",
       "      <td>43</td>\n",
       "      <td>-7</td>\n",
       "      <td>8</td>\n",
       "      <td>16</td>\n",
       "      <td>342</td>\n",
       "      <td>69</td>\n",
       "      <td>3</td>\n",
       "      <td>72</td>\n",
       "    </tr>\n",
       "    <tr>\n",
       "      <th>859</th>\n",
       "      <td>860</td>\n",
       "      <td>Brown Sugar - Remastered</td>\n",
       "      <td>The Rolling Stones</td>\n",
       "      <td>album rock</td>\n",
       "      <td>1971</td>\n",
       "      <td>129</td>\n",
       "      <td>93</td>\n",
       "      <td>63</td>\n",
       "      <td>-4</td>\n",
       "      <td>6</td>\n",
       "      <td>96</td>\n",
       "      <td>229</td>\n",
       "      <td>22</td>\n",
       "      <td>3</td>\n",
       "      <td>71</td>\n",
       "    </tr>\n",
       "    <tr>\n",
       "      <th>865</th>\n",
       "      <td>866</td>\n",
       "      <td>Honky Tonk Women - Mono Version</td>\n",
       "      <td>The Rolling Stones</td>\n",
       "      <td>album rock</td>\n",
       "      <td>1971</td>\n",
       "      <td>120</td>\n",
       "      <td>78</td>\n",
       "      <td>56</td>\n",
       "      <td>-7</td>\n",
       "      <td>7</td>\n",
       "      <td>97</td>\n",
       "      <td>179</td>\n",
       "      <td>36</td>\n",
       "      <td>6</td>\n",
       "      <td>67</td>\n",
       "    </tr>\n",
       "    <tr>\n",
       "      <th>894</th>\n",
       "      <td>895</td>\n",
       "      <td>She's A Rainbow - Full Version / With Intro</td>\n",
       "      <td>The Rolling Stones</td>\n",
       "      <td>album rock</td>\n",
       "      <td>1972</td>\n",
       "      <td>109</td>\n",
       "      <td>78</td>\n",
       "      <td>45</td>\n",
       "      <td>-9</td>\n",
       "      <td>34</td>\n",
       "      <td>51</td>\n",
       "      <td>252</td>\n",
       "      <td>44</td>\n",
       "      <td>4</td>\n",
       "      <td>55</td>\n",
       "    </tr>\n",
       "    <tr>\n",
       "      <th>912</th>\n",
       "      <td>913</td>\n",
       "      <td>Angie</td>\n",
       "      <td>The Rolling Stones</td>\n",
       "      <td>album rock</td>\n",
       "      <td>1973</td>\n",
       "      <td>136</td>\n",
       "      <td>55</td>\n",
       "      <td>43</td>\n",
       "      <td>-6</td>\n",
       "      <td>11</td>\n",
       "      <td>41</td>\n",
       "      <td>272</td>\n",
       "      <td>67</td>\n",
       "      <td>3</td>\n",
       "      <td>72</td>\n",
       "    </tr>\n",
       "    <tr>\n",
       "      <th>938</th>\n",
       "      <td>939</td>\n",
       "      <td>Don't Let Me Down - Remastered 2009</td>\n",
       "      <td>The Beatles</td>\n",
       "      <td>british invasion</td>\n",
       "      <td>1973</td>\n",
       "      <td>77</td>\n",
       "      <td>29</td>\n",
       "      <td>59</td>\n",
       "      <td>-11</td>\n",
       "      <td>9</td>\n",
       "      <td>73</td>\n",
       "      <td>216</td>\n",
       "      <td>57</td>\n",
       "      <td>3</td>\n",
       "      <td>68</td>\n",
       "    </tr>\n",
       "    <tr>\n",
       "      <th>1012</th>\n",
       "      <td>1013</td>\n",
       "      <td>Fool To Cry - Remastered 2009</td>\n",
       "      <td>The Rolling Stones</td>\n",
       "      <td>album rock</td>\n",
       "      <td>1976</td>\n",
       "      <td>68</td>\n",
       "      <td>45</td>\n",
       "      <td>44</td>\n",
       "      <td>-7</td>\n",
       "      <td>11</td>\n",
       "      <td>24</td>\n",
       "      <td>305</td>\n",
       "      <td>89</td>\n",
       "      <td>4</td>\n",
       "      <td>55</td>\n",
       "    </tr>\n",
       "    <tr>\n",
       "      <th>1098</th>\n",
       "      <td>1099</td>\n",
       "      <td>Miss You - Remastered</td>\n",
       "      <td>The Rolling Stones</td>\n",
       "      <td>album rock</td>\n",
       "      <td>1978</td>\n",
       "      <td>110</td>\n",
       "      <td>71</td>\n",
       "      <td>80</td>\n",
       "      <td>-5</td>\n",
       "      <td>34</td>\n",
       "      <td>85</td>\n",
       "      <td>289</td>\n",
       "      <td>44</td>\n",
       "      <td>4</td>\n",
       "      <td>67</td>\n",
       "    </tr>\n",
       "    <tr>\n",
       "      <th>1106</th>\n",
       "      <td>1107</td>\n",
       "      <td>Beast Of Burden - Remastered</td>\n",
       "      <td>The Rolling Stones</td>\n",
       "      <td>album rock</td>\n",
       "      <td>1978</td>\n",
       "      <td>101</td>\n",
       "      <td>88</td>\n",
       "      <td>78</td>\n",
       "      <td>-4</td>\n",
       "      <td>4</td>\n",
       "      <td>89</td>\n",
       "      <td>265</td>\n",
       "      <td>39</td>\n",
       "      <td>3</td>\n",
       "      <td>74</td>\n",
       "    </tr>\n",
       "    <tr>\n",
       "      <th>1195</th>\n",
       "      <td>1196</td>\n",
       "      <td>Start Me Up - Remastered</td>\n",
       "      <td>The Rolling Stones</td>\n",
       "      <td>album rock</td>\n",
       "      <td>1981</td>\n",
       "      <td>122</td>\n",
       "      <td>93</td>\n",
       "      <td>63</td>\n",
       "      <td>-4</td>\n",
       "      <td>9</td>\n",
       "      <td>97</td>\n",
       "      <td>213</td>\n",
       "      <td>4</td>\n",
       "      <td>4</td>\n",
       "      <td>76</td>\n",
       "    </tr>\n",
       "    <tr>\n",
       "      <th>1197</th>\n",
       "      <td>1198</td>\n",
       "      <td>Waiting On A Friend - Remastered 2009</td>\n",
       "      <td>The Rolling Stones</td>\n",
       "      <td>album rock</td>\n",
       "      <td>1981</td>\n",
       "      <td>117</td>\n",
       "      <td>79</td>\n",
       "      <td>61</td>\n",
       "      <td>-6</td>\n",
       "      <td>57</td>\n",
       "      <td>91</td>\n",
       "      <td>274</td>\n",
       "      <td>16</td>\n",
       "      <td>3</td>\n",
       "      <td>58</td>\n",
       "    </tr>\n",
       "    <tr>\n",
       "      <th>1462</th>\n",
       "      <td>1463</td>\n",
       "      <td>Sympathy For The Devil</td>\n",
       "      <td>The Rolling Stones</td>\n",
       "      <td>album rock</td>\n",
       "      <td>1989</td>\n",
       "      <td>115</td>\n",
       "      <td>69</td>\n",
       "      <td>57</td>\n",
       "      <td>-11</td>\n",
       "      <td>5</td>\n",
       "      <td>57</td>\n",
       "      <td>377</td>\n",
       "      <td>60</td>\n",
       "      <td>28</td>\n",
       "      <td>56</td>\n",
       "    </tr>\n",
       "    <tr>\n",
       "      <th>1835</th>\n",
       "      <td>1836</td>\n",
       "      <td>Twist And Shout - Remastered 2009</td>\n",
       "      <td>The Beatles</td>\n",
       "      <td>british invasion</td>\n",
       "      <td>1963</td>\n",
       "      <td>125</td>\n",
       "      <td>85</td>\n",
       "      <td>48</td>\n",
       "      <td>-9</td>\n",
       "      <td>4</td>\n",
       "      <td>94</td>\n",
       "      <td>155</td>\n",
       "      <td>64</td>\n",
       "      <td>5</td>\n",
       "      <td>74</td>\n",
       "    </tr>\n",
       "    <tr>\n",
       "      <th>1837</th>\n",
       "      <td>1838</td>\n",
       "      <td>I Saw Her Standing There - Remastered 2009</td>\n",
       "      <td>The Beatles</td>\n",
       "      <td>british invasion</td>\n",
       "      <td>1963</td>\n",
       "      <td>160</td>\n",
       "      <td>80</td>\n",
       "      <td>49</td>\n",
       "      <td>-10</td>\n",
       "      <td>7</td>\n",
       "      <td>97</td>\n",
       "      <td>174</td>\n",
       "      <td>27</td>\n",
       "      <td>4</td>\n",
       "      <td>71</td>\n",
       "    </tr>\n",
       "    <tr>\n",
       "      <th>1844</th>\n",
       "      <td>1845</td>\n",
       "      <td>A Hard Day's Night - Remastered 2009</td>\n",
       "      <td>The Beatles</td>\n",
       "      <td>british invasion</td>\n",
       "      <td>1964</td>\n",
       "      <td>139</td>\n",
       "      <td>81</td>\n",
       "      <td>59</td>\n",
       "      <td>-6</td>\n",
       "      <td>10</td>\n",
       "      <td>80</td>\n",
       "      <td>154</td>\n",
       "      <td>14</td>\n",
       "      <td>4</td>\n",
       "      <td>69</td>\n",
       "    </tr>\n",
       "    <tr>\n",
       "      <th>1846</th>\n",
       "      <td>1847</td>\n",
       "      <td>Eight Days A Week - Remastered 2009</td>\n",
       "      <td>The Beatles</td>\n",
       "      <td>british invasion</td>\n",
       "      <td>1964</td>\n",
       "      <td>138</td>\n",
       "      <td>58</td>\n",
       "      <td>65</td>\n",
       "      <td>-8</td>\n",
       "      <td>12</td>\n",
       "      <td>74</td>\n",
       "      <td>164</td>\n",
       "      <td>41</td>\n",
       "      <td>4</td>\n",
       "      <td>66</td>\n",
       "    </tr>\n",
       "    <tr>\n",
       "      <th>1847</th>\n",
       "      <td>1848</td>\n",
       "      <td>It's All Over Now - Mono Version</td>\n",
       "      <td>The Rolling Stones</td>\n",
       "      <td>album rock</td>\n",
       "      <td>1964</td>\n",
       "      <td>99</td>\n",
       "      <td>69</td>\n",
       "      <td>60</td>\n",
       "      <td>-11</td>\n",
       "      <td>33</td>\n",
       "      <td>76</td>\n",
       "      <td>206</td>\n",
       "      <td>2</td>\n",
       "      <td>3</td>\n",
       "      <td>46</td>\n",
       "    </tr>\n",
       "    <tr>\n",
       "      <th>1848</th>\n",
       "      <td>1849</td>\n",
       "      <td>Yesterday - Remastered 2009</td>\n",
       "      <td>The Beatles</td>\n",
       "      <td>british invasion</td>\n",
       "      <td>1965</td>\n",
       "      <td>97</td>\n",
       "      <td>18</td>\n",
       "      <td>33</td>\n",
       "      <td>-12</td>\n",
       "      <td>9</td>\n",
       "      <td>32</td>\n",
       "      <td>126</td>\n",
       "      <td>88</td>\n",
       "      <td>3</td>\n",
       "      <td>78</td>\n",
       "    </tr>\n",
       "    <tr>\n",
       "      <th>1849</th>\n",
       "      <td>1850</td>\n",
       "      <td>(I Can't Get No) Satisfaction - Mono Version</td>\n",
       "      <td>The Rolling Stones</td>\n",
       "      <td>album rock</td>\n",
       "      <td>1965</td>\n",
       "      <td>136</td>\n",
       "      <td>86</td>\n",
       "      <td>72</td>\n",
       "      <td>-8</td>\n",
       "      <td>13</td>\n",
       "      <td>93</td>\n",
       "      <td>223</td>\n",
       "      <td>4</td>\n",
       "      <td>3</td>\n",
       "      <td>77</td>\n",
       "    </tr>\n",
       "    <tr>\n",
       "      <th>1851</th>\n",
       "      <td>1852</td>\n",
       "      <td>Norwegian Wood (This Bird Has Flown) - Remaste...</td>\n",
       "      <td>The Beatles</td>\n",
       "      <td>british invasion</td>\n",
       "      <td>1965</td>\n",
       "      <td>177</td>\n",
       "      <td>37</td>\n",
       "      <td>43</td>\n",
       "      <td>-12</td>\n",
       "      <td>11</td>\n",
       "      <td>65</td>\n",
       "      <td>125</td>\n",
       "      <td>18</td>\n",
       "      <td>4</td>\n",
       "      <td>69</td>\n",
       "    </tr>\n",
       "    <tr>\n",
       "      <th>1852</th>\n",
       "      <td>1853</td>\n",
       "      <td>Help! - Remastered 2009</td>\n",
       "      <td>The Beatles</td>\n",
       "      <td>british invasion</td>\n",
       "      <td>1965</td>\n",
       "      <td>95</td>\n",
       "      <td>73</td>\n",
       "      <td>53</td>\n",
       "      <td>-8</td>\n",
       "      <td>10</td>\n",
       "      <td>76</td>\n",
       "      <td>140</td>\n",
       "      <td>19</td>\n",
       "      <td>3</td>\n",
       "      <td>73</td>\n",
       "    </tr>\n",
       "    <tr>\n",
       "      <th>1854</th>\n",
       "      <td>1855</td>\n",
       "      <td>Michelle - Remastered 2009</td>\n",
       "      <td>The Beatles</td>\n",
       "      <td>british invasion</td>\n",
       "      <td>1965</td>\n",
       "      <td>117</td>\n",
       "      <td>29</td>\n",
       "      <td>58</td>\n",
       "      <td>-13</td>\n",
       "      <td>11</td>\n",
       "      <td>67</td>\n",
       "      <td>162</td>\n",
       "      <td>65</td>\n",
       "      <td>3</td>\n",
       "      <td>67</td>\n",
       "    </tr>\n",
       "    <tr>\n",
       "      <th>1857</th>\n",
       "      <td>1858</td>\n",
       "      <td>In My Life - Remastered 2009</td>\n",
       "      <td>The Beatles</td>\n",
       "      <td>british invasion</td>\n",
       "      <td>1965</td>\n",
       "      <td>103</td>\n",
       "      <td>44</td>\n",
       "      <td>69</td>\n",
       "      <td>-11</td>\n",
       "      <td>11</td>\n",
       "      <td>44</td>\n",
       "      <td>146</td>\n",
       "      <td>45</td>\n",
       "      <td>3</td>\n",
       "      <td>74</td>\n",
       "    </tr>\n",
       "    <tr>\n",
       "      <th>1858</th>\n",
       "      <td>1859</td>\n",
       "      <td>As Tears Go By - Mono Version</td>\n",
       "      <td>The Rolling Stones</td>\n",
       "      <td>album rock</td>\n",
       "      <td>1965</td>\n",
       "      <td>113</td>\n",
       "      <td>28</td>\n",
       "      <td>33</td>\n",
       "      <td>-11</td>\n",
       "      <td>18</td>\n",
       "      <td>37</td>\n",
       "      <td>165</td>\n",
       "      <td>72</td>\n",
       "      <td>3</td>\n",
       "      <td>53</td>\n",
       "    </tr>\n",
       "    <tr>\n",
       "      <th>1860</th>\n",
       "      <td>1861</td>\n",
       "      <td>Time Is On My Side - Mono Version</td>\n",
       "      <td>The Rolling Stones</td>\n",
       "      <td>album rock</td>\n",
       "      <td>1965</td>\n",
       "      <td>100</td>\n",
       "      <td>65</td>\n",
       "      <td>53</td>\n",
       "      <td>-9</td>\n",
       "      <td>11</td>\n",
       "      <td>42</td>\n",
       "      <td>179</td>\n",
       "      <td>29</td>\n",
       "      <td>4</td>\n",
       "      <td>53</td>\n",
       "    </tr>\n",
       "    <tr>\n",
       "      <th>1861</th>\n",
       "      <td>1862</td>\n",
       "      <td>Little Red Rooster - Mono Version</td>\n",
       "      <td>The Rolling Stones</td>\n",
       "      <td>album rock</td>\n",
       "      <td>1965</td>\n",
       "      <td>109</td>\n",
       "      <td>43</td>\n",
       "      <td>72</td>\n",
       "      <td>-12</td>\n",
       "      <td>10</td>\n",
       "      <td>67</td>\n",
       "      <td>186</td>\n",
       "      <td>7</td>\n",
       "      <td>4</td>\n",
       "      <td>47</td>\n",
       "    </tr>\n",
       "    <tr>\n",
       "      <th>1863</th>\n",
       "      <td>1864</td>\n",
       "      <td>Paint It, Black</td>\n",
       "      <td>The Rolling Stones</td>\n",
       "      <td>album rock</td>\n",
       "      <td>1966</td>\n",
       "      <td>159</td>\n",
       "      <td>80</td>\n",
       "      <td>46</td>\n",
       "      <td>-9</td>\n",
       "      <td>40</td>\n",
       "      <td>61</td>\n",
       "      <td>202</td>\n",
       "      <td>5</td>\n",
       "      <td>9</td>\n",
       "      <td>78</td>\n",
       "    </tr>\n",
       "    <tr>\n",
       "      <th>1866</th>\n",
       "      <td>1867</td>\n",
       "      <td>Eleanor Rigby - Remastered 2009</td>\n",
       "      <td>The Beatles</td>\n",
       "      <td>british invasion</td>\n",
       "      <td>1966</td>\n",
       "      <td>138</td>\n",
       "      <td>28</td>\n",
       "      <td>58</td>\n",
       "      <td>-9</td>\n",
       "      <td>31</td>\n",
       "      <td>81</td>\n",
       "      <td>127</td>\n",
       "      <td>94</td>\n",
       "      <td>4</td>\n",
       "      <td>71</td>\n",
       "    </tr>\n",
       "    <tr>\n",
       "      <th>1869</th>\n",
       "      <td>1870</td>\n",
       "      <td>Jumpin' Jack Flash - Mono</td>\n",
       "      <td>The Rolling Stones</td>\n",
       "      <td>album rock</td>\n",
       "      <td>1966</td>\n",
       "      <td>137</td>\n",
       "      <td>90</td>\n",
       "      <td>60</td>\n",
       "      <td>-7</td>\n",
       "      <td>7</td>\n",
       "      <td>62</td>\n",
       "      <td>219</td>\n",
       "      <td>4</td>\n",
       "      <td>5</td>\n",
       "      <td>65</td>\n",
       "    </tr>\n",
       "    <tr>\n",
       "      <th>1873</th>\n",
       "      <td>1874</td>\n",
       "      <td>Under My Thumb</td>\n",
       "      <td>The Rolling Stones</td>\n",
       "      <td>album rock</td>\n",
       "      <td>1966</td>\n",
       "      <td>127</td>\n",
       "      <td>49</td>\n",
       "      <td>73</td>\n",
       "      <td>-14</td>\n",
       "      <td>9</td>\n",
       "      <td>80</td>\n",
       "      <td>222</td>\n",
       "      <td>30</td>\n",
       "      <td>4</td>\n",
       "      <td>64</td>\n",
       "    </tr>\n",
       "    <tr>\n",
       "      <th>1879</th>\n",
       "      <td>1880</td>\n",
       "      <td>For No One - Remastered 2009</td>\n",
       "      <td>The Beatles</td>\n",
       "      <td>british invasion</td>\n",
       "      <td>1966</td>\n",
       "      <td>81</td>\n",
       "      <td>35</td>\n",
       "      <td>48</td>\n",
       "      <td>-10</td>\n",
       "      <td>12</td>\n",
       "      <td>71</td>\n",
       "      <td>120</td>\n",
       "      <td>78</td>\n",
       "      <td>3</td>\n",
       "      <td>63</td>\n",
       "    </tr>\n",
       "    <tr>\n",
       "      <th>1885</th>\n",
       "      <td>1886</td>\n",
       "      <td>A Day In The Life - Remastered 2009</td>\n",
       "      <td>The Beatles</td>\n",
       "      <td>british invasion</td>\n",
       "      <td>1967</td>\n",
       "      <td>163</td>\n",
       "      <td>46</td>\n",
       "      <td>36</td>\n",
       "      <td>-14</td>\n",
       "      <td>92</td>\n",
       "      <td>18</td>\n",
       "      <td>337</td>\n",
       "      <td>29</td>\n",
       "      <td>7</td>\n",
       "      <td>67</td>\n",
       "    </tr>\n",
       "    <tr>\n",
       "      <th>1889</th>\n",
       "      <td>1890</td>\n",
       "      <td>Penny Lane</td>\n",
       "      <td>The Beatles</td>\n",
       "      <td>british invasion</td>\n",
       "      <td>1967</td>\n",
       "      <td>114</td>\n",
       "      <td>39</td>\n",
       "      <td>63</td>\n",
       "      <td>-10</td>\n",
       "      <td>10</td>\n",
       "      <td>65</td>\n",
       "      <td>182</td>\n",
       "      <td>41</td>\n",
       "      <td>4</td>\n",
       "      <td>45</td>\n",
       "    </tr>\n",
       "    <tr>\n",
       "      <th>1894</th>\n",
       "      <td>1895</td>\n",
       "      <td>Strawberry Fields Forever - Remastered 2009</td>\n",
       "      <td>The Beatles</td>\n",
       "      <td>british invasion</td>\n",
       "      <td>1967</td>\n",
       "      <td>98</td>\n",
       "      <td>50</td>\n",
       "      <td>39</td>\n",
       "      <td>-12</td>\n",
       "      <td>7</td>\n",
       "      <td>29</td>\n",
       "      <td>247</td>\n",
       "      <td>34</td>\n",
       "      <td>18</td>\n",
       "      <td>70</td>\n",
       "    </tr>\n",
       "    <tr>\n",
       "      <th>1897</th>\n",
       "      <td>1898</td>\n",
       "      <td>The Fool On The Hill - Remastered 2009</td>\n",
       "      <td>The Beatles</td>\n",
       "      <td>british invasion</td>\n",
       "      <td>1967</td>\n",
       "      <td>144</td>\n",
       "      <td>26</td>\n",
       "      <td>36</td>\n",
       "      <td>-11</td>\n",
       "      <td>11</td>\n",
       "      <td>49</td>\n",
       "      <td>179</td>\n",
       "      <td>91</td>\n",
       "      <td>3</td>\n",
       "      <td>58</td>\n",
       "    </tr>\n",
       "    <tr>\n",
       "      <th>1900</th>\n",
       "      <td>1901</td>\n",
       "      <td>Sgt. Pepper's Lonely Hearts Club Band - Remast...</td>\n",
       "      <td>The Beatles</td>\n",
       "      <td>british invasion</td>\n",
       "      <td>1967</td>\n",
       "      <td>96</td>\n",
       "      <td>67</td>\n",
       "      <td>45</td>\n",
       "      <td>-9</td>\n",
       "      <td>80</td>\n",
       "      <td>58</td>\n",
       "      <td>123</td>\n",
       "      <td>9</td>\n",
       "      <td>7</td>\n",
       "      <td>65</td>\n",
       "    </tr>\n",
       "    <tr>\n",
       "      <th>1901</th>\n",
       "      <td>1902</td>\n",
       "      <td>Lucy In The Sky With Diamonds - Remastered 2009</td>\n",
       "      <td>The Beatles</td>\n",
       "      <td>british invasion</td>\n",
       "      <td>1967</td>\n",
       "      <td>65</td>\n",
       "      <td>33</td>\n",
       "      <td>31</td>\n",
       "      <td>-9</td>\n",
       "      <td>14</td>\n",
       "      <td>67</td>\n",
       "      <td>208</td>\n",
       "      <td>5</td>\n",
       "      <td>3</td>\n",
       "      <td>69</td>\n",
       "    </tr>\n",
       "    <tr>\n",
       "      <th>1903</th>\n",
       "      <td>1904</td>\n",
       "      <td>Ruby Tuesday</td>\n",
       "      <td>The Rolling Stones</td>\n",
       "      <td>album rock</td>\n",
       "      <td>1967</td>\n",
       "      <td>105</td>\n",
       "      <td>55</td>\n",
       "      <td>52</td>\n",
       "      <td>-11</td>\n",
       "      <td>17</td>\n",
       "      <td>52</td>\n",
       "      <td>196</td>\n",
       "      <td>83</td>\n",
       "      <td>3</td>\n",
       "      <td>63</td>\n",
       "    </tr>\n",
       "    <tr>\n",
       "      <th>1904</th>\n",
       "      <td>1905</td>\n",
       "      <td>All You Need Is Love - Remastered 2009</td>\n",
       "      <td>The Beatles</td>\n",
       "      <td>british invasion</td>\n",
       "      <td>1967</td>\n",
       "      <td>103</td>\n",
       "      <td>48</td>\n",
       "      <td>40</td>\n",
       "      <td>-8</td>\n",
       "      <td>16</td>\n",
       "      <td>65</td>\n",
       "      <td>230</td>\n",
       "      <td>35</td>\n",
       "      <td>3</td>\n",
       "      <td>68</td>\n",
       "    </tr>\n",
       "    <tr>\n",
       "      <th>1906</th>\n",
       "      <td>1907</td>\n",
       "      <td>When I'm Sixty Four - Remastered 2009</td>\n",
       "      <td>The Beatles</td>\n",
       "      <td>british invasion</td>\n",
       "      <td>1967</td>\n",
       "      <td>140</td>\n",
       "      <td>24</td>\n",
       "      <td>70</td>\n",
       "      <td>-13</td>\n",
       "      <td>9</td>\n",
       "      <td>66</td>\n",
       "      <td>158</td>\n",
       "      <td>63</td>\n",
       "      <td>5</td>\n",
       "      <td>65</td>\n",
       "    </tr>\n",
       "    <tr>\n",
       "      <th>1908</th>\n",
       "      <td>1909</td>\n",
       "      <td>I Am The Walrus - Remastered 2009</td>\n",
       "      <td>The Beatles</td>\n",
       "      <td>british invasion</td>\n",
       "      <td>1967</td>\n",
       "      <td>85</td>\n",
       "      <td>56</td>\n",
       "      <td>40</td>\n",
       "      <td>-11</td>\n",
       "      <td>59</td>\n",
       "      <td>65</td>\n",
       "      <td>276</td>\n",
       "      <td>8</td>\n",
       "      <td>5</td>\n",
       "      <td>65</td>\n",
       "    </tr>\n",
       "    <tr>\n",
       "      <th>1912</th>\n",
       "      <td>1913</td>\n",
       "      <td>She's Leaving Home - Remastered 2009</td>\n",
       "      <td>The Beatles</td>\n",
       "      <td>british invasion</td>\n",
       "      <td>1967</td>\n",
       "      <td>128</td>\n",
       "      <td>21</td>\n",
       "      <td>38</td>\n",
       "      <td>-12</td>\n",
       "      <td>11</td>\n",
       "      <td>39</td>\n",
       "      <td>215</td>\n",
       "      <td>94</td>\n",
       "      <td>3</td>\n",
       "      <td>63</td>\n",
       "    </tr>\n",
       "    <tr>\n",
       "      <th>1922</th>\n",
       "      <td>1923</td>\n",
       "      <td>Blackbird - Remastered 2009</td>\n",
       "      <td>The Beatles</td>\n",
       "      <td>british invasion</td>\n",
       "      <td>1968</td>\n",
       "      <td>94</td>\n",
       "      <td>13</td>\n",
       "      <td>69</td>\n",
       "      <td>-14</td>\n",
       "      <td>6</td>\n",
       "      <td>37</td>\n",
       "      <td>138</td>\n",
       "      <td>75</td>\n",
       "      <td>3</td>\n",
       "      <td>74</td>\n",
       "    </tr>\n",
       "    <tr>\n",
       "      <th>1924</th>\n",
       "      <td>1925</td>\n",
       "      <td>While My Guitar Gently Weeps - Remastered 2009</td>\n",
       "      <td>The Beatles</td>\n",
       "      <td>british invasion</td>\n",
       "      <td>1968</td>\n",
       "      <td>115</td>\n",
       "      <td>65</td>\n",
       "      <td>45</td>\n",
       "      <td>-9</td>\n",
       "      <td>17</td>\n",
       "      <td>70</td>\n",
       "      <td>285</td>\n",
       "      <td>2</td>\n",
       "      <td>3</td>\n",
       "      <td>70</td>\n",
       "    </tr>\n",
       "    <tr>\n",
       "      <th>1945</th>\n",
       "      <td>1946</td>\n",
       "      <td>Back In The U.S.S.R. - Remastered 2009</td>\n",
       "      <td>The Beatles</td>\n",
       "      <td>british invasion</td>\n",
       "      <td>1968</td>\n",
       "      <td>142</td>\n",
       "      <td>97</td>\n",
       "      <td>48</td>\n",
       "      <td>-7</td>\n",
       "      <td>6</td>\n",
       "      <td>49</td>\n",
       "      <td>163</td>\n",
       "      <td>7</td>\n",
       "      <td>9</td>\n",
       "      <td>66</td>\n",
       "    </tr>\n",
       "    <tr>\n",
       "      <th>1947</th>\n",
       "      <td>1948</td>\n",
       "      <td>Here Comes The Sun - Remastered 2009</td>\n",
       "      <td>The Beatles</td>\n",
       "      <td>british invasion</td>\n",
       "      <td>1969</td>\n",
       "      <td>129</td>\n",
       "      <td>54</td>\n",
       "      <td>56</td>\n",
       "      <td>-10</td>\n",
       "      <td>18</td>\n",
       "      <td>39</td>\n",
       "      <td>186</td>\n",
       "      <td>3</td>\n",
       "      <td>3</td>\n",
       "      <td>82</td>\n",
       "    </tr>\n",
       "    <tr>\n",
       "      <th>1949</th>\n",
       "      <td>1950</td>\n",
       "      <td>Gimme Shelter</td>\n",
       "      <td>The Rolling Stones</td>\n",
       "      <td>album rock</td>\n",
       "      <td>1969</td>\n",
       "      <td>119</td>\n",
       "      <td>63</td>\n",
       "      <td>63</td>\n",
       "      <td>-8</td>\n",
       "      <td>17</td>\n",
       "      <td>49</td>\n",
       "      <td>271</td>\n",
       "      <td>45</td>\n",
       "      <td>3</td>\n",
       "      <td>76</td>\n",
       "    </tr>\n",
       "    <tr>\n",
       "      <th>1956</th>\n",
       "      <td>1957</td>\n",
       "      <td>You Can't Always Get What You Want</td>\n",
       "      <td>The Rolling Stones</td>\n",
       "      <td>album rock</td>\n",
       "      <td>1969</td>\n",
       "      <td>86</td>\n",
       "      <td>62</td>\n",
       "      <td>32</td>\n",
       "      <td>-10</td>\n",
       "      <td>25</td>\n",
       "      <td>47</td>\n",
       "      <td>449</td>\n",
       "      <td>64</td>\n",
       "      <td>6</td>\n",
       "      <td>67</td>\n",
       "    </tr>\n",
       "    <tr>\n",
       "      <th>1959</th>\n",
       "      <td>1960</td>\n",
       "      <td>Come Together - Remastered 2009</td>\n",
       "      <td>The Beatles</td>\n",
       "      <td>british invasion</td>\n",
       "      <td>1969</td>\n",
       "      <td>165</td>\n",
       "      <td>38</td>\n",
       "      <td>53</td>\n",
       "      <td>-12</td>\n",
       "      <td>9</td>\n",
       "      <td>19</td>\n",
       "      <td>260</td>\n",
       "      <td>3</td>\n",
       "      <td>4</td>\n",
       "      <td>79</td>\n",
       "    </tr>\n",
       "    <tr>\n",
       "      <th>1960</th>\n",
       "      <td>1961</td>\n",
       "      <td>Something - Remastered 2009</td>\n",
       "      <td>The Beatles</td>\n",
       "      <td>british invasion</td>\n",
       "      <td>1969</td>\n",
       "      <td>134</td>\n",
       "      <td>34</td>\n",
       "      <td>40</td>\n",
       "      <td>-11</td>\n",
       "      <td>14</td>\n",
       "      <td>38</td>\n",
       "      <td>182</td>\n",
       "      <td>20</td>\n",
       "      <td>3</td>\n",
       "      <td>72</td>\n",
       "    </tr>\n",
       "    <tr>\n",
       "      <th>1981</th>\n",
       "      <td>1982</td>\n",
       "      <td>Midnight Rambler</td>\n",
       "      <td>The Rolling Stones</td>\n",
       "      <td>album rock</td>\n",
       "      <td>1969</td>\n",
       "      <td>75</td>\n",
       "      <td>66</td>\n",
       "      <td>40</td>\n",
       "      <td>-10</td>\n",
       "      <td>17</td>\n",
       "      <td>51</td>\n",
       "      <td>413</td>\n",
       "      <td>77</td>\n",
       "      <td>12</td>\n",
       "      <td>50</td>\n",
       "    </tr>\n",
       "  </tbody>\n",
       "</table>\n",
       "</div>"
      ],
      "text/plain": [
       "      Index  ... Popularity\n",
       "148     149  ...         75\n",
       "284     285  ...         34\n",
       "307     308  ...         63\n",
       "313     314  ...         63\n",
       "318     319  ...         63\n",
       "588     589  ...         58\n",
       "800     801  ...         79\n",
       "813     814  ...         64\n",
       "820     821  ...         65\n",
       "849     850  ...         72\n",
       "859     860  ...         71\n",
       "865     866  ...         67\n",
       "894     895  ...         55\n",
       "912     913  ...         72\n",
       "938     939  ...         68\n",
       "1012   1013  ...         55\n",
       "1098   1099  ...         67\n",
       "1106   1107  ...         74\n",
       "1195   1196  ...         76\n",
       "1197   1198  ...         58\n",
       "1462   1463  ...         56\n",
       "1835   1836  ...         74\n",
       "1837   1838  ...         71\n",
       "1844   1845  ...         69\n",
       "1846   1847  ...         66\n",
       "1847   1848  ...         46\n",
       "1848   1849  ...         78\n",
       "1849   1850  ...         77\n",
       "1851   1852  ...         69\n",
       "1852   1853  ...         73\n",
       "1854   1855  ...         67\n",
       "1857   1858  ...         74\n",
       "1858   1859  ...         53\n",
       "1860   1861  ...         53\n",
       "1861   1862  ...         47\n",
       "1863   1864  ...         78\n",
       "1866   1867  ...         71\n",
       "1869   1870  ...         65\n",
       "1873   1874  ...         64\n",
       "1879   1880  ...         63\n",
       "1885   1886  ...         67\n",
       "1889   1890  ...         45\n",
       "1894   1895  ...         70\n",
       "1897   1898  ...         58\n",
       "1900   1901  ...         65\n",
       "1901   1902  ...         69\n",
       "1903   1904  ...         63\n",
       "1904   1905  ...         68\n",
       "1906   1907  ...         65\n",
       "1908   1909  ...         65\n",
       "1912   1913  ...         63\n",
       "1922   1923  ...         74\n",
       "1924   1925  ...         70\n",
       "1945   1946  ...         66\n",
       "1947   1948  ...         82\n",
       "1949   1950  ...         76\n",
       "1956   1957  ...         67\n",
       "1959   1960  ...         79\n",
       "1960   1961  ...         72\n",
       "1981   1982  ...         50\n",
       "\n",
       "[60 rows x 15 columns]"
      ]
     },
     "execution_count": 52,
     "metadata": {
      "tags": []
     },
     "output_type": "execute_result"
    }
   ],
   "source": [
    "beatles_stones_songs"
   ]
  },
  {
   "cell_type": "code",
   "execution_count": 53,
   "metadata": {
    "colab": {
     "base_uri": "https://localhost:8080/",
     "height": 302
    },
    "colab_type": "code",
    "executionInfo": {
     "elapsed": 1076,
     "status": "ok",
     "timestamp": 1587665506231,
     "user": {
      "displayName": "Martin Ramos Mejía",
      "photoUrl": "https://lh3.googleusercontent.com/a-/AOh14GgbpDnPjShOpPH8-P0a8AIZrUcpSYNQwHsEfsDQ8w=s64",
      "userId": "08591007000103530707"
     },
     "user_tz": 180
    },
    "id": "NDRy7b5wMeU8",
    "outputId": "dd7cc641-2afa-4364-db22-e9516505af61"
   },
   "outputs": [
    {
     "data": {
      "text/plain": [
       "<matplotlib.axes._subplots.AxesSubplot at 0x7fd276d04630>"
      ]
     },
     "execution_count": 53,
     "metadata": {
      "tags": []
     },
     "output_type": "execute_result"
    },
    {
     "data": {
      "image/png": "[encoded data removed]",
      "text/plain": [
       "<Figure size 432x288 with 1 Axes>"
      ]
     },
     "metadata": {
      "needs_background": "light",
      "tags": []
     },
     "output_type": "display_data"
    }
   ],
   "source": [
    "sns.scatterplot(x=\"Length (Duration)\", y=\"Popularity\", data=beatles_stones_songs, hue=\"Artist\")"
   ]
  },
  {
   "cell_type": "markdown",
   "metadata": {
    "colab_type": "text",
    "id": "q2aLzT9fMeU_"
   },
   "source": [
    "### Pairplot"
   ]
  },
  {
   "cell_type": "markdown",
   "metadata": {
    "colab_type": "text",
    "id": "kXi_45UuMeU_"
   },
   "source": [
    "Algo que tambien podriamos por ejemplo querer hacer es poder rapidamente comparar la relacion de las distribuciones de distintas variables en un dataframe para lo cual es muy util la funcion ```pairplot``` en seaborn.\n",
    "\n",
    "Esta funcion nos crea una matriz en la que en cada celda nos muestra la relacion entre atributos de un data frame a partir de un scatter plot. Tambien en el eje diagonal nos muestra la distribucion de cada variable en forma de histograma."
   ]
  },
  {
   "cell_type": "code",
   "execution_count": 54,
   "metadata": {
    "colab": {
     "base_uri": "https://localhost:8080/",
     "height": 399
    },
    "colab_type": "code",
    "executionInfo": {
     "elapsed": 760,
     "status": "ok",
     "timestamp": 1587665509689,
     "user": {
      "displayName": "Martin Ramos Mejía",
      "photoUrl": "https://lh3.googleusercontent.com/a-/AOh14GgbpDnPjShOpPH8-P0a8AIZrUcpSYNQwHsEfsDQ8w=s64",
      "userId": "08591007000103530707"
     },
     "user_tz": 180
    },
    "id": "OU3rT58YMeVA",
    "outputId": "266526ea-a6ee-45b3-d17c-d167a0df89c9"
   },
   "outputs": [
    {
     "name": "stdout",
     "output_type": "stream",
     "text": [
      "<class 'pandas.core.frame.DataFrame'>\n",
      "RangeIndex: 1994 entries, 0 to 1993\n",
      "Data columns (total 15 columns):\n",
      " #   Column                  Non-Null Count  Dtype \n",
      "---  ------                  --------------  ----- \n",
      " 0   Index                   1994 non-null   int64 \n",
      " 1   Title                   1994 non-null   object\n",
      " 2   Artist                  1994 non-null   object\n",
      " 3   Top Genre               1994 non-null   object\n",
      " 4   Year                    1994 non-null   int64 \n",
      " 5   Beats Per Minute (BPM)  1994 non-null   int64 \n",
      " 6   Energy                  1994 non-null   int64 \n",
      " 7   Danceability            1994 non-null   int64 \n",
      " 8   Loudness (dB)           1994 non-null   int64 \n",
      " 9   Liveness                1994 non-null   int64 \n",
      " 10  Valence                 1994 non-null   int64 \n",
      " 11  Length (Duration)       1994 non-null   int64 \n",
      " 12  Acousticness            1994 non-null   int64 \n",
      " 13  Speechiness             1994 non-null   int64 \n",
      " 14  Popularity              1994 non-null   int64 \n",
      "dtypes: int64(12), object(3)\n",
      "memory usage: 233.8+ KB\n"
     ]
    }
   ],
   "source": [
    "spotify_songs.info()"
   ]
  },
  {
   "cell_type": "code",
   "execution_count": 0,
   "metadata": {
    "colab": {},
    "colab_type": "code",
    "id": "Ax8wSL3yMeVD"
   },
   "outputs": [],
   "source": [
    "for_pairwise_analisis = spotify_songs[['Beats Per Minute (BPM)','Length (Duration)','Popularity']]"
   ]
  },
  {
   "cell_type": "code",
   "execution_count": 56,
   "metadata": {
    "colab": {
     "base_uri": "https://localhost:8080/",
     "height": 1000,
     "output_embedded_package_id": "1DMO5W2RdwB2TywX9I8s_70GkOBhui2_S"
    },
    "colab_type": "code",
    "executionInfo": {
     "elapsed": 48186,
     "status": "ok",
     "timestamp": 1587665559156,
     "user": {
      "displayName": "Martin Ramos Mejía",
      "photoUrl": "https://lh3.googleusercontent.com/a-/AOh14GgbpDnPjShOpPH8-P0a8AIZrUcpSYNQwHsEfsDQ8w=s64",
      "userId": "08591007000103530707"
     },
     "user_tz": 180
    },
    "id": "AxeUm8ZaMeVF",
    "outputId": "b3006197-8511-434f-b128-62fe606c0141"
   },
   "outputs": [
    {
     "data": {
      "text/plain": [
       "Output hidden; open in https://colab.research.google.com to view."
      ]
     },
     "metadata": {},
     "output_type": "display_data"
    }
   ],
   "source": [
    "sns.pairplot(spotify_songs)"
   ]
  },
  {
   "cell_type": "markdown",
   "metadata": {
    "colab_type": "text",
    "id": "OUr5C96MMeVK"
   },
   "source": [
    "Para una guia detallada de visualizacion de distribuciones utilizando seaborn, pueden consultar el siguiente link: https://seaborn.pydata.org/tutorial/distributions.html"
   ]
  },
  {
   "cell_type": "markdown",
   "metadata": {
    "colab_type": "text",
    "id": "r1kD7UDqMeVK"
   },
   "source": [
    "## Analizando por Artistas con Mayor Representacion en el set\n",
    "\n",
    "Otro aspecto que podriamos considerar es analizar aquellos artistas que tienen mayor representacion en el set, para ello podemos sacar inicialmente algunas estadisticas que pueden servirnos para el analisis en relacion a su media y desvio."
   ]
  },
  {
   "cell_type": "code",
   "execution_count": 57,
   "metadata": {
    "colab": {
     "base_uri": "https://localhost:8080/",
     "height": 399
    },
    "colab_type": "code",
    "executionInfo": {
     "elapsed": 41782,
     "status": "ok",
     "timestamp": 1587665559159,
     "user": {
      "displayName": "Martin Ramos Mejía",
      "photoUrl": "https://lh3.googleusercontent.com/a-/AOh14GgbpDnPjShOpPH8-P0a8AIZrUcpSYNQwHsEfsDQ8w=s64",
      "userId": "08591007000103530707"
     },
     "user_tz": 180
    },
    "id": "P771GeQnMeVK",
    "outputId": "c35b7f35-557c-46a7-8712-1ad288e47710"
   },
   "outputs": [
    {
     "name": "stdout",
     "output_type": "stream",
     "text": [
      "<class 'pandas.core.frame.DataFrame'>\n",
      "RangeIndex: 1994 entries, 0 to 1993\n",
      "Data columns (total 15 columns):\n",
      " #   Column                  Non-Null Count  Dtype \n",
      "---  ------                  --------------  ----- \n",
      " 0   Index                   1994 non-null   int64 \n",
      " 1   Title                   1994 non-null   object\n",
      " 2   Artist                  1994 non-null   object\n",
      " 3   Top Genre               1994 non-null   object\n",
      " 4   Year                    1994 non-null   int64 \n",
      " 5   Beats Per Minute (BPM)  1994 non-null   int64 \n",
      " 6   Energy                  1994 non-null   int64 \n",
      " 7   Danceability            1994 non-null   int64 \n",
      " 8   Loudness (dB)           1994 non-null   int64 \n",
      " 9   Liveness                1994 non-null   int64 \n",
      " 10  Valence                 1994 non-null   int64 \n",
      " 11  Length (Duration)       1994 non-null   int64 \n",
      " 12  Acousticness            1994 non-null   int64 \n",
      " 13  Speechiness             1994 non-null   int64 \n",
      " 14  Popularity              1994 non-null   int64 \n",
      "dtypes: int64(12), object(3)\n",
      "memory usage: 233.8+ KB\n"
     ]
    }
   ],
   "source": [
    "spotify_songs.info()"
   ]
  },
  {
   "cell_type": "code",
   "execution_count": 58,
   "metadata": {
    "colab": {
     "base_uri": "https://localhost:8080/",
     "height": 225
    },
    "colab_type": "code",
    "executionInfo": {
     "elapsed": 726,
     "status": "ok",
     "timestamp": 1587665560603,
     "user": {
      "displayName": "Martin Ramos Mejía",
      "photoUrl": "https://lh3.googleusercontent.com/a-/AOh14GgbpDnPjShOpPH8-P0a8AIZrUcpSYNQwHsEfsDQ8w=s64",
      "userId": "08591007000103530707"
     },
     "user_tz": 180
    },
    "id": "EKihc5DrMeVO",
    "outputId": "aa003ba5-35bb-4780-a934-0799dd7aea96"
   },
   "outputs": [
    {
     "data": {
      "text/plain": [
       "Queen                 37\n",
       "The Beatles           36\n",
       "Coldplay              27\n",
       "U2                    26\n",
       "The Rolling Stones    24\n",
       "                      ..\n",
       "Killing Joke           1\n",
       "Emeli Sandé            1\n",
       "Patrick Hernandez      1\n",
       "Hozier                 1\n",
       "Hero                   1\n",
       "Name: Artist, Length: 731, dtype: int64"
      ]
     },
     "execution_count": 58,
     "metadata": {
      "tags": []
     },
     "output_type": "execute_result"
    }
   ],
   "source": [
    "spotify_songs['Artist'].value_counts()"
   ]
  },
  {
   "cell_type": "markdown",
   "metadata": {
    "colab_type": "text",
    "id": "u8n8caw3MeVQ"
   },
   "source": [
    "Para fines de la presentacion, vamos a tomar aquellos artistas que tienen mas de 24 canciones, para tomar asi los artistas que tienen mas canciones en el set."
   ]
  },
  {
   "cell_type": "code",
   "execution_count": 0,
   "metadata": {
    "colab": {},
    "colab_type": "code",
    "id": "ssx5bqKpMeVQ"
   },
   "outputs": [],
   "source": [
    "songs_by_main_artists = spotify_songs.groupby(\"Artist\").filter(lambda x: len(x) >= 24)"
   ]
  },
  {
   "cell_type": "code",
   "execution_count": 60,
   "metadata": {
    "colab": {
     "base_uri": "https://localhost:8080/",
     "height": 563
    },
    "colab_type": "code",
    "executionInfo": {
     "elapsed": 893,
     "status": "ok",
     "timestamp": 1587665563283,
     "user": {
      "displayName": "Martin Ramos Mejía",
      "photoUrl": "https://lh3.googleusercontent.com/a-/AOh14GgbpDnPjShOpPH8-P0a8AIZrUcpSYNQwHsEfsDQ8w=s64",
      "userId": "08591007000103530707"
     },
     "user_tz": 180
    },
    "id": "LIgdAm3jMeVT",
    "outputId": "7e0e8c02-96eb-47da-d993-bb3ce6ac50ea"
   },
   "outputs": [
    {
     "data": {
      "text/html": [
       "<div>\n",
       "<style scoped>\n",
       "    .dataframe tbody tr th:only-of-type {\n",
       "        vertical-align: middle;\n",
       "    }\n",
       "\n",
       "    .dataframe tbody tr th {\n",
       "        vertical-align: top;\n",
       "    }\n",
       "\n",
       "    .dataframe thead th {\n",
       "        text-align: right;\n",
       "    }\n",
       "</style>\n",
       "<table border=\"1\" class=\"dataframe\">\n",
       "  <thead>\n",
       "    <tr style=\"text-align: right;\">\n",
       "      <th></th>\n",
       "      <th>Index</th>\n",
       "      <th>Title</th>\n",
       "      <th>Artist</th>\n",
       "      <th>Top Genre</th>\n",
       "      <th>Year</th>\n",
       "      <th>Beats Per Minute (BPM)</th>\n",
       "      <th>Energy</th>\n",
       "      <th>Danceability</th>\n",
       "      <th>Loudness (dB)</th>\n",
       "      <th>Liveness</th>\n",
       "      <th>Valence</th>\n",
       "      <th>Length (Duration)</th>\n",
       "      <th>Acousticness</th>\n",
       "      <th>Speechiness</th>\n",
       "      <th>Popularity</th>\n",
       "    </tr>\n",
       "  </thead>\n",
       "  <tbody>\n",
       "    <tr>\n",
       "      <th>16</th>\n",
       "      <td>17</td>\n",
       "      <td>Speed of Sound</td>\n",
       "      <td>Coldplay</td>\n",
       "      <td>permanent wave</td>\n",
       "      <td>2005</td>\n",
       "      <td>123</td>\n",
       "      <td>90</td>\n",
       "      <td>52</td>\n",
       "      <td>-7</td>\n",
       "      <td>7</td>\n",
       "      <td>36</td>\n",
       "      <td>288</td>\n",
       "      <td>0</td>\n",
       "      <td>6</td>\n",
       "      <td>69</td>\n",
       "    </tr>\n",
       "    <tr>\n",
       "      <th>20</th>\n",
       "      <td>21</td>\n",
       "      <td>Fix You</td>\n",
       "      <td>Coldplay</td>\n",
       "      <td>permanent wave</td>\n",
       "      <td>2005</td>\n",
       "      <td>138</td>\n",
       "      <td>42</td>\n",
       "      <td>21</td>\n",
       "      <td>-9</td>\n",
       "      <td>11</td>\n",
       "      <td>12</td>\n",
       "      <td>296</td>\n",
       "      <td>16</td>\n",
       "      <td>3</td>\n",
       "      <td>81</td>\n",
       "    </tr>\n",
       "    <tr>\n",
       "      <th>30</th>\n",
       "      <td>31</td>\n",
       "      <td>The Scientist</td>\n",
       "      <td>Coldplay</td>\n",
       "      <td>permanent wave</td>\n",
       "      <td>2002</td>\n",
       "      <td>146</td>\n",
       "      <td>44</td>\n",
       "      <td>56</td>\n",
       "      <td>-7</td>\n",
       "      <td>11</td>\n",
       "      <td>21</td>\n",
       "      <td>310</td>\n",
       "      <td>73</td>\n",
       "      <td>2</td>\n",
       "      <td>84</td>\n",
       "    </tr>\n",
       "    <tr>\n",
       "      <th>37</th>\n",
       "      <td>38</td>\n",
       "      <td>The Saints Are Coming</td>\n",
       "      <td>U2</td>\n",
       "      <td>irish rock</td>\n",
       "      <td>2006</td>\n",
       "      <td>152</td>\n",
       "      <td>81</td>\n",
       "      <td>32</td>\n",
       "      <td>-7</td>\n",
       "      <td>15</td>\n",
       "      <td>12</td>\n",
       "      <td>202</td>\n",
       "      <td>8</td>\n",
       "      <td>5</td>\n",
       "      <td>40</td>\n",
       "    </tr>\n",
       "    <tr>\n",
       "      <th>56</th>\n",
       "      <td>57</td>\n",
       "      <td>Sometimes You Can't Make It On Your Own</td>\n",
       "      <td>U2</td>\n",
       "      <td>irish rock</td>\n",
       "      <td>2004</td>\n",
       "      <td>96</td>\n",
       "      <td>60</td>\n",
       "      <td>53</td>\n",
       "      <td>-6</td>\n",
       "      <td>11</td>\n",
       "      <td>35</td>\n",
       "      <td>305</td>\n",
       "      <td>0</td>\n",
       "      <td>2</td>\n",
       "      <td>57</td>\n",
       "    </tr>\n",
       "    <tr>\n",
       "      <th>...</th>\n",
       "      <td>...</td>\n",
       "      <td>...</td>\n",
       "      <td>...</td>\n",
       "      <td>...</td>\n",
       "      <td>...</td>\n",
       "      <td>...</td>\n",
       "      <td>...</td>\n",
       "      <td>...</td>\n",
       "      <td>...</td>\n",
       "      <td>...</td>\n",
       "      <td>...</td>\n",
       "      <td>...</td>\n",
       "      <td>...</td>\n",
       "      <td>...</td>\n",
       "      <td>...</td>\n",
       "    </tr>\n",
       "    <tr>\n",
       "      <th>1949</th>\n",
       "      <td>1950</td>\n",
       "      <td>Gimme Shelter</td>\n",
       "      <td>The Rolling Stones</td>\n",
       "      <td>album rock</td>\n",
       "      <td>1969</td>\n",
       "      <td>119</td>\n",
       "      <td>63</td>\n",
       "      <td>63</td>\n",
       "      <td>-8</td>\n",
       "      <td>17</td>\n",
       "      <td>49</td>\n",
       "      <td>271</td>\n",
       "      <td>45</td>\n",
       "      <td>3</td>\n",
       "      <td>76</td>\n",
       "    </tr>\n",
       "    <tr>\n",
       "      <th>1956</th>\n",
       "      <td>1957</td>\n",
       "      <td>You Can't Always Get What You Want</td>\n",
       "      <td>The Rolling Stones</td>\n",
       "      <td>album rock</td>\n",
       "      <td>1969</td>\n",
       "      <td>86</td>\n",
       "      <td>62</td>\n",
       "      <td>32</td>\n",
       "      <td>-10</td>\n",
       "      <td>25</td>\n",
       "      <td>47</td>\n",
       "      <td>449</td>\n",
       "      <td>64</td>\n",
       "      <td>6</td>\n",
       "      <td>67</td>\n",
       "    </tr>\n",
       "    <tr>\n",
       "      <th>1959</th>\n",
       "      <td>1960</td>\n",
       "      <td>Come Together - Remastered 2009</td>\n",
       "      <td>The Beatles</td>\n",
       "      <td>british invasion</td>\n",
       "      <td>1969</td>\n",
       "      <td>165</td>\n",
       "      <td>38</td>\n",
       "      <td>53</td>\n",
       "      <td>-12</td>\n",
       "      <td>9</td>\n",
       "      <td>19</td>\n",
       "      <td>260</td>\n",
       "      <td>3</td>\n",
       "      <td>4</td>\n",
       "      <td>79</td>\n",
       "    </tr>\n",
       "    <tr>\n",
       "      <th>1960</th>\n",
       "      <td>1961</td>\n",
       "      <td>Something - Remastered 2009</td>\n",
       "      <td>The Beatles</td>\n",
       "      <td>british invasion</td>\n",
       "      <td>1969</td>\n",
       "      <td>134</td>\n",
       "      <td>34</td>\n",
       "      <td>40</td>\n",
       "      <td>-11</td>\n",
       "      <td>14</td>\n",
       "      <td>38</td>\n",
       "      <td>182</td>\n",
       "      <td>20</td>\n",
       "      <td>3</td>\n",
       "      <td>72</td>\n",
       "    </tr>\n",
       "    <tr>\n",
       "      <th>1981</th>\n",
       "      <td>1982</td>\n",
       "      <td>Midnight Rambler</td>\n",
       "      <td>The Rolling Stones</td>\n",
       "      <td>album rock</td>\n",
       "      <td>1969</td>\n",
       "      <td>75</td>\n",
       "      <td>66</td>\n",
       "      <td>40</td>\n",
       "      <td>-10</td>\n",
       "      <td>17</td>\n",
       "      <td>51</td>\n",
       "      <td>413</td>\n",
       "      <td>77</td>\n",
       "      <td>12</td>\n",
       "      <td>50</td>\n",
       "    </tr>\n",
       "  </tbody>\n",
       "</table>\n",
       "<p>150 rows × 15 columns</p>\n",
       "</div>"
      ],
      "text/plain": [
       "      Index                                    Title  ... Speechiness Popularity\n",
       "16       17                           Speed of Sound  ...           6         69\n",
       "20       21                                  Fix You  ...           3         81\n",
       "30       31                            The Scientist  ...           2         84\n",
       "37       38                    The Saints Are Coming  ...           5         40\n",
       "56       57  Sometimes You Can't Make It On Your Own  ...           2         57\n",
       "...     ...                                      ...  ...         ...        ...\n",
       "1949   1950                            Gimme Shelter  ...           3         76\n",
       "1956   1957       You Can't Always Get What You Want  ...           6         67\n",
       "1959   1960          Come Together - Remastered 2009  ...           4         79\n",
       "1960   1961              Something - Remastered 2009  ...           3         72\n",
       "1981   1982                         Midnight Rambler  ...          12         50\n",
       "\n",
       "[150 rows x 15 columns]"
      ]
     },
     "execution_count": 60,
     "metadata": {
      "tags": []
     },
     "output_type": "execute_result"
    }
   ],
   "source": [
    "songs_by_main_artists"
   ]
  },
  {
   "cell_type": "markdown",
   "metadata": {
    "colab_type": "text",
    "id": "iU0QCSvfMeVV"
   },
   "source": [
    "Con estos datos seleccionados podemos calcular algunas estadisticas, por ejemplo media y desvio para el Tempo y duracion de sus canciones."
   ]
  },
  {
   "cell_type": "code",
   "execution_count": 61,
   "metadata": {
    "colab": {
     "base_uri": "https://localhost:8080/",
     "height": 156
    },
    "colab_type": "code",
    "executionInfo": {
     "elapsed": 1130,
     "status": "ok",
     "timestamp": 1587665565515,
     "user": {
      "displayName": "Martin Ramos Mejía",
      "photoUrl": "https://lh3.googleusercontent.com/a-/AOh14GgbpDnPjShOpPH8-P0a8AIZrUcpSYNQwHsEfsDQ8w=s64",
      "userId": "08591007000103530707"
     },
     "user_tz": 180
    },
    "id": "ph5q85o-MeVV",
    "outputId": "0b0635db-7281-4f22-a38c-40d5b652b268"
   },
   "outputs": [
    {
     "name": "stdout",
     "output_type": "stream",
     "text": [
      "Calculando la media de los artistas mas frecuentes en el set de datos\n",
      "                    Beats Per Minute (BPM)    Length (Duration)\n",
      "Artist                                                         \n",
      "Coldplay                            127.00               274.78\n",
      "Queen                               103.30               250.70\n",
      "The Beatles                         119.22               184.58\n",
      "The Rolling Stones                  118.21               254.92\n",
      "U2                                  127.00               273.81\n"
     ]
    }
   ],
   "source": [
    "print(\"Calculando la media de los artistas mas frecuentes en el set de datos\")\n",
    "print(round(songs_by_main_artists.groupby([\"Artist\"])[\"Beats Per Minute (BPM)\", \"Length (Duration)\"].mean(),2))"
   ]
  },
  {
   "cell_type": "code",
   "execution_count": 62,
   "metadata": {
    "colab": {
     "base_uri": "https://localhost:8080/",
     "height": 156
    },
    "colab_type": "code",
    "executionInfo": {
     "elapsed": 750,
     "status": "ok",
     "timestamp": 1587665566579,
     "user": {
      "displayName": "Martin Ramos Mejía",
      "photoUrl": "https://lh3.googleusercontent.com/a-/AOh14GgbpDnPjShOpPH8-P0a8AIZrUcpSYNQwHsEfsDQ8w=s64",
      "userId": "08591007000103530707"
     },
     "user_tz": 180
    },
    "id": "2yJI9lQYMeVY",
    "outputId": "cd2707d9-1408-40a8-bde8-b9539158a479"
   },
   "outputs": [
    {
     "name": "stdout",
     "output_type": "stream",
     "text": [
      "Calculando el desvio de los artistas mas frecuentes en el set de datos\n",
      "                    Beats Per Minute (BPM)    Length (Duration)\n",
      "Artist                                                         \n",
      "Coldplay                             25.76                40.34\n",
      "Queen                                26.22                58.47\n",
      "The Beatles                          27.25                52.93\n",
      "The Rolling Stones                   27.77                76.02\n",
      "U2                                   25.74                49.43\n"
     ]
    }
   ],
   "source": [
    "print(\"Calculando el desvio de los artistas mas frecuentes en el set de datos\")\n",
    "print(round(songs_by_main_artists.groupby([\"Artist\"])[\"Beats Per Minute (BPM)\", \"Length (Duration)\"].std(),2))"
   ]
  },
  {
   "cell_type": "markdown",
   "metadata": {
    "colab_type": "text",
    "id": "4QQFwNA8MeVb"
   },
   "source": [
    "## Boxplot\n",
    "\n",
    "Una forma de ver esta misma informacion es utilizar una visualizacion conocida como boxplot. Usualmente usamos un boxplot para ver la distribucion de una variable numerica de acuerdo a una variable categorica (en este vamos a utilizar nuestro 5 posibles artistas)."
   ]
  },
  {
   "cell_type": "code",
   "execution_count": 63,
   "metadata": {
    "colab": {
     "base_uri": "https://localhost:8080/",
     "height": 323
    },
    "colab_type": "code",
    "executionInfo": {
     "elapsed": 755,
     "status": "ok",
     "timestamp": 1587665568632,
     "user": {
      "displayName": "Martin Ramos Mejía",
      "photoUrl": "https://lh3.googleusercontent.com/a-/AOh14GgbpDnPjShOpPH8-P0a8AIZrUcpSYNQwHsEfsDQ8w=s64",
      "userId": "08591007000103530707"
     },
     "user_tz": 180
    },
    "id": "3rDo2jgWMeVc",
    "outputId": "0fd3f1e2-372e-4883-9174-79f66794432a"
   },
   "outputs": [
    {
     "data": {
      "text/plain": [
       "Text(0, 0.5, 'BPM')"
      ]
     },
     "execution_count": 63,
     "metadata": {
      "tags": []
     },
     "output_type": "execute_result"
    },
    {
     "data": {
      "image/png": "[encoded data removed]",
      "text/plain": [
       "<Figure size 432x288 with 1 Axes>"
      ]
     },
     "metadata": {
      "needs_background": "light",
      "tags": []
     },
     "output_type": "display_data"
    }
   ],
   "source": [
    "# https://seaborn.pydata.org/generated/seaborn.boxplot.html\n",
    "g = sns.boxplot(x=\"Artist\", y=\"Beats Per Minute (BPM)\", \n",
    "                     data=songs_by_main_artists, palette=\"hls\")\n",
    "g.set_title(\"BPM segun Artista Mas Frecuente\", fontsize=18)\n",
    "g.set_xlabel(\"Artista\", fontsize=14)\n",
    "g.set_ylabel(\"BPM\", fontsize=14)"
   ]
  },
  {
   "cell_type": "code",
   "execution_count": 64,
   "metadata": {
    "colab": {
     "base_uri": "https://localhost:8080/",
     "height": 323
    },
    "colab_type": "code",
    "executionInfo": {
     "elapsed": 1082,
     "status": "ok",
     "timestamp": 1587665570478,
     "user": {
      "displayName": "Martin Ramos Mejía",
      "photoUrl": "https://lh3.googleusercontent.com/a-/AOh14GgbpDnPjShOpPH8-P0a8AIZrUcpSYNQwHsEfsDQ8w=s64",
      "userId": "08591007000103530707"
     },
     "user_tz": 180
    },
    "id": "ZcMU21kwMeVe",
    "outputId": "61150f80-6f8f-4520-e324-d1032d51f4c7"
   },
   "outputs": [
    {
     "data": {
      "text/plain": [
       "Text(0, 0.5, 'Length (Duration)')"
      ]
     },
     "execution_count": 64,
     "metadata": {
      "tags": []
     },
     "output_type": "execute_result"
    },
    {
     "data": {
      "image/png": "[encoded data removed]",
      "text/plain": [
       "<Figure size 432x288 with 1 Axes>"
      ]
     },
     "metadata": {
      "needs_background": "light",
      "tags": []
     },
     "output_type": "display_data"
    }
   ],
   "source": [
    "# https://seaborn.pydata.org/generated/seaborn.boxplot.html\n",
    "g = sns.boxplot(x=\"Artist\", y=\"Length (Duration)\", \n",
    "                     data=songs_by_main_artists, palette=\"hls\")\n",
    "g.set_title(\"Duracion segun Artista Mas Frecuente\", fontsize=18)\n",
    "g.set_xlabel(\"Artista\", fontsize=14)\n",
    "g.set_ylabel(\"Length (Duration)\", fontsize=14)"
   ]
  },
  {
   "cell_type": "markdown",
   "metadata": {
    "colab_type": "text",
    "id": "JtD6ur7oMeVg"
   },
   "source": [
    "Para leerlo tenemos que considerar que la 'caja' del boxplot va desde el primer al tercer cuantil, es decir que el 25% de los datos estan por debajo de la caja y el 25% de los datos estan por encima de la caja. La caja concentra entonces el 50% de los datos. Las lıneas que salen de la caja van desde el primer cuantil hasta el valor minimo y maximo y los puntos son valores anomalos (outliers)."
   ]
  },
  {
   "cell_type": "markdown",
   "metadata": {
    "colab_type": "text",
    "id": "Rv6VHjXqMeVh"
   },
   "source": [
    "# Generos con mayor cantidad de canciones\n",
    "\n",
    "Pasando a las variables categoricas podriamos querer analizar cuales son los generos que tienen la mayor cantidad de canciones."
   ]
  },
  {
   "cell_type": "code",
   "execution_count": 65,
   "metadata": {
    "colab": {
     "base_uri": "https://localhost:8080/",
     "height": 225
    },
    "colab_type": "code",
    "executionInfo": {
     "elapsed": 854,
     "status": "ok",
     "timestamp": 1587665574355,
     "user": {
      "displayName": "Martin Ramos Mejía",
      "photoUrl": "https://lh3.googleusercontent.com/a-/AOh14GgbpDnPjShOpPH8-P0a8AIZrUcpSYNQwHsEfsDQ8w=s64",
      "userId": "08591007000103530707"
     },
     "user_tz": 180
    },
    "id": "ec0pOH1TMeVh",
    "outputId": "a0024076-943e-4b39-a3bc-eb8fa9120949"
   },
   "outputs": [
    {
     "data": {
      "text/plain": [
       "album rock                     413\n",
       "adult standards                123\n",
       "dutch pop                       88\n",
       "alternative rock                86\n",
       "dance pop                       83\n",
       "                              ... \n",
       "ccm                              1\n",
       "hard rock                        1\n",
       "australian alternative rock      1\n",
       "laboratorio                      1\n",
       "compositional ambient            1\n",
       "Name: Top Genre, Length: 149, dtype: int64"
      ]
     },
     "execution_count": 65,
     "metadata": {
      "tags": []
     },
     "output_type": "execute_result"
    }
   ],
   "source": [
    "main_genres_counts = spotify_songs[\"Top Genre\"].value_counts()\n",
    "main_genres_counts"
   ]
  },
  {
   "cell_type": "code",
   "execution_count": 0,
   "metadata": {
    "colab": {},
    "colab_type": "code",
    "id": "ptgkXySJMeVl"
   },
   "outputs": [],
   "source": [
    "main_genres_counts = main_genres_counts[main_genres_counts > main_genres_counts.mean()]"
   ]
  },
  {
   "cell_type": "code",
   "execution_count": 67,
   "metadata": {
    "colab": {
     "base_uri": "https://localhost:8080/",
     "height": 503
    },
    "colab_type": "code",
    "executionInfo": {
     "elapsed": 734,
     "status": "ok",
     "timestamp": 1587665577261,
     "user": {
      "displayName": "Martin Ramos Mejía",
      "photoUrl": "https://lh3.googleusercontent.com/a-/AOh14GgbpDnPjShOpPH8-P0a8AIZrUcpSYNQwHsEfsDQ8w=s64",
      "userId": "08591007000103530707"
     },
     "user_tz": 180
    },
    "id": "oe15gx7pMeVm",
    "outputId": "e1a3dbd7-64df-4c16-dfec-b6af39397502"
   },
   "outputs": [
    {
     "data": {
      "text/plain": [
       "album rock           413\n",
       "adult standards      123\n",
       "dutch pop             88\n",
       "alternative rock      86\n",
       "dance pop             83\n",
       "dutch indie           75\n",
       "alternative metal     70\n",
       "dance rock            52\n",
       "classic rock          51\n",
       "dutch cabaret         51\n",
       "modern rock           49\n",
       "glam rock             49\n",
       "pop                   47\n",
       "art rock              40\n",
       "permanent wave        38\n",
       "british invasion      36\n",
       "irish rock            34\n",
       "british soul          31\n",
       "europop               27\n",
       "classic uk pop        22\n",
       "disco                 18\n",
       "dutch rock            18\n",
       "glam metal            17\n",
       "neo mellow            17\n",
       "blues rock            15\n",
       "alternative dance     15\n",
       "art pop               14\n",
       "Name: Top Genre, dtype: int64"
      ]
     },
     "execution_count": 67,
     "metadata": {
      "tags": []
     },
     "output_type": "execute_result"
    }
   ],
   "source": [
    "main_genres_counts"
   ]
  },
  {
   "cell_type": "markdown",
   "metadata": {
    "colab_type": "text",
    "id": "d58qFxoVMeVp"
   },
   "source": [
    "## Bar Plot\n",
    "\n",
    "Una forma de poder visualizar este tipo de informacion es utiliza un Bar Plot, de uso bastante popular y donde se cometen muchos errores. Algunas cosas que hay que tener en cuenta es que una de las variables a considerar debe ser categorica y por otro lado, los valores a evaluar deben comenzar en 0.\n",
    "\n",
    "Existen otras variantes haciendo stacking de valores o directamente indicandolos en barras separadas de forma de que queden agrupados."
   ]
  },
  {
   "cell_type": "code",
   "execution_count": 68,
   "metadata": {
    "colab": {
     "base_uri": "https://localhost:8080/",
     "height": 320
    },
    "colab_type": "code",
    "executionInfo": {
     "elapsed": 1086,
     "status": "ok",
     "timestamp": 1587665580342,
     "user": {
      "displayName": "Martin Ramos Mejía",
      "photoUrl": "https://lh3.googleusercontent.com/a-/AOh14GgbpDnPjShOpPH8-P0a8AIZrUcpSYNQwHsEfsDQ8w=s64",
      "userId": "08591007000103530707"
     },
     "user_tz": 180
    },
    "id": "6qF0ilwpMeVq",
    "outputId": "1f405bb7-af56-45b7-f181-012b3e9862e9"
   },
   "outputs": [
    {
     "data": {
      "text/plain": [
       "Text(0, 0.5, 'Genero')"
      ]
     },
     "execution_count": 68,
     "metadata": {
      "tags": []
     },
     "output_type": "execute_result"
    },
    {
     "data": {
      "image/png": "[encoded data removed]",
      "text/plain": [
       "<Figure size 432x288 with 1 Axes>"
      ]
     },
     "metadata": {
      "needs_background": "light",
      "tags": []
     },
     "output_type": "display_data"
    }
   ],
   "source": [
    "# https://seaborn.pydata.org/generated/seaborn.barplot.html\n",
    "g = sns.barplot(x=main_genres_counts.values, y=main_genres_counts.index, orient='h')\n",
    "g.set_title(\"Canciones por Genero Principal\", fontsize=15)\n",
    "g.set_xlabel(\"Numero de canciones\", fontsize=12)\n",
    "g.set_ylabel(\"Genero\", fontsize=12)"
   ]
  },
  {
   "cell_type": "code",
   "execution_count": 0,
   "metadata": {
    "colab": {},
    "colab_type": "code",
    "id": "XQuxzoibPixo"
   },
   "outputs": [],
   "source": []
  }
 ],
 "metadata": {
  "celltoolbar": "Slideshow",
  "colab": {
   "name": "02-spotify-songs.ipynb",
   "provenance": []
  },
  "kernelspec": {
   "display_name": "Python 3",
   "language": "python",
   "name": "python3"
  },
  "language_info": {
   "codemirror_mode": {
    "name": "ipython",
    "version": 3
   },
   "file_extension": ".py",
   "mimetype": "text/x-python",
   "name": "python",
   "nbconvert_exporter": "python",
   "pygments_lexer": "ipython3",
   "version": "3.7.3"
  }
 },
 "nbformat": 4,
 "nbformat_minor": 1
}
