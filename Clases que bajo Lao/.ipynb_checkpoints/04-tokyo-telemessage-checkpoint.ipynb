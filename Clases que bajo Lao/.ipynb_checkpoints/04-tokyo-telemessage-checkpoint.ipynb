{
 "cells": [
  {
   "cell_type": "markdown",
   "metadata": {
    "colab_type": "text",
    "id": "FrKngFDmRYb3"
   },
   "source": [
    "# 2019 2C 1ra Oportunidad\n",
    "\n",
    "\n",
    "Tokyo Telemessage se encuentra analizando la posibilidad de dar finalmente de baja su servicio de pager que mantiene desde la década de 1980. Los pagers son un dispositivo de mensajería que realiza un ‘beep’ al recibir un mensaje de texto de un número limitado de caracteres. Para poder enviar un mensaje, uno debe llamar a un número telefónico que representa al pager dejando el mensaje a una operadora. \n",
    "Para el analisis se cuenta con dos csv’s: clientes.csv del siguiente formato (id_pager, numero_telefono, codigo_de_area, fecha_creacion_cuenta, nombre_cliente, region, categoria_cliente) y eventos.csv (año,mes,dia,hora,minutos,segundos, id_pager, mensaje, numero_origen).\n",
    "\n",
    "Como parte del análisis se desea responder:\n",
    "¿Cuál es la región que aún tiene activos la mayor cantidad de pagers, entendiendo como activo aquellos que recibieron por lo menos un mensaje en el último mes?\n",
    "¿Cuál es el porcentaje de pagers activos que solamente reciben mensajes únicamente de una persona (es decir, siempre desde el mismo número de origen)?\n",
    "Utilizar pandas para responder las anteriores preguntas."
   ]
  },
  {
   "cell_type": "code",
   "execution_count": 0,
   "metadata": {
    "colab": {},
    "colab_type": "code",
    "id": "mQDwnOebRYb5"
   },
   "outputs": [],
   "source": [
    "# importacion general de librerias y de visualizacion (matplotlib y seaborn)\n",
    "import pandas as pd\n",
    "import numpy as np\n",
    "import matplotlib.pyplot as plt\n",
    "import seaborn as sns\n",
    "\n",
    "%matplotlib inline\n",
    "\n",
    "plt.style.use('default') # haciendo los graficos un poco mas bonitos en matplotlib\n",
    "#plt.rcParams['figure.figsize'] = (20, 10)\n",
    "\n",
    "sns.set(style=\"whitegrid\") # seteando tipo de grid en seaborn\n",
    "\n",
    "pd.options.display.float_format = '{:20,.2f}'.format # suprimimos la notacion cientifica en los outputs\n",
    "\n",
    "import warnings\n",
    "warnings.filterwarnings('ignore')"
   ]
  },
  {
   "cell_type": "code",
   "execution_count": 0,
   "metadata": {
    "colab": {},
    "colab_type": "code",
    "id": "_Q3_-cJmRYcE"
   },
   "outputs": [],
   "source": [
    "# armamos un data frame para usarlo como ejemplo de S&OP 500\n",
    "tt_clients_data = {\n",
    "        'id_pager': ['1','2','3','4','5'],\n",
    "        'numero_telefono': ['1','2','3','4','5'],\n",
    "        'codigo_de_area': ['11','11','11','22','22'],\n",
    "        'fecha_creacion_cuenta': ['1983-01-01','1984-01-01','1984-01-01','1985-01-01','1986-01-01'],\n",
    "        'nombre_cliente': ['Okabe', 'Kurisu', 'Mayuri','Suzuha', 'Daru'],\n",
    "        'region': ['Akihabara', 'Akihabara', 'Akihabara', 'Kyoto', 'Kyoto'],\n",
    "        'categoria_cliente': ['1','1','2','2','1']\n",
    "}\n",
    "\n",
    "tt_clients = pd.DataFrame(tt_clients_data, columns = tt_clients_data.keys())"
   ]
  },
  {
   "cell_type": "code",
   "execution_count": 0,
   "metadata": {
    "colab": {},
    "colab_type": "code",
    "id": "80L505tMRYcN"
   },
   "outputs": [],
   "source": [
    "# armamos un data frame para usarlo como ejemplo de S&OP 500\n",
    "tt_msgs_data = {\n",
    "        'anio': ['2020','2020','2020','2020','2020','2020','2020','2020','2020','2020'],\n",
    "        'mes': ['3','3','3','3','4','4','4','4','4','4'],\n",
    "        'dia': ['1','2','3','11','12','13','11','22','23','22'],\n",
    "        'minutos': ['1','2','3','11','12','13','11','22','23','22'],\n",
    "        'segundos': ['1','2','3','11','12','13','11','22','23','22'],\n",
    "        'id_pager': ['2','1','2','1','5','1','2','1','2','1'],\n",
    "        'mensaje': [\"I'm the great mad scientist, Hououin Kyoma\", \"I am a scientist, I have to act on my own theory.\", \n",
    "                    \"It's an intellectual drink for the chosen ones\", \"People's feelings are memories that transcend time.\",\n",
    "                    \"El Psy Kongroo\", \"Something must be wrong for you to use my actual name.\",\n",
    "                    \"It's the choice of Steins Gate.\", \"You've pretty much figured it all out by now, right?\",\n",
    "                    \"Sorry, The Zombie~~\", \"There was a scientific rationale for that!\"],\n",
    "        'numero_origen': ['1','2','1','2','1','1','2','1','2','1']\n",
    "}\n",
    "\n",
    "tt_msgs = pd.DataFrame(tt_msgs_data, columns = tt_msgs_data.keys())"
   ]
  },
  {
   "cell_type": "code",
   "execution_count": 22,
   "metadata": {
    "colab": {
     "base_uri": "https://localhost:8080/",
     "height": 226
    },
    "colab_type": "code",
    "executionInfo": {
     "elapsed": 958,
     "status": "ok",
     "timestamp": 1588028028282,
     "user": {
      "displayName": "Martin Ramos Mejía",
      "photoUrl": "https://lh3.googleusercontent.com/a-/AOh14GgbpDnPjShOpPH8-P0a8AIZrUcpSYNQwHsEfsDQ8w=s64",
      "userId": "08591007000103530707"
     },
     "user_tz": 180
    },
    "id": "P5fsDcyd1tmJ",
    "outputId": "c4d6a7d4-2259-409b-b654-e777257b8142"
   },
   "outputs": [
    {
     "data": {
      "text/html": [
       "<div>\n",
       "<style scoped>\n",
       "    .dataframe tbody tr th:only-of-type {\n",
       "        vertical-align: middle;\n",
       "    }\n",
       "\n",
       "    .dataframe tbody tr th {\n",
       "        vertical-align: top;\n",
       "    }\n",
       "\n",
       "    .dataframe thead th {\n",
       "        text-align: right;\n",
       "    }\n",
       "</style>\n",
       "<table border=\"1\" class=\"dataframe\">\n",
       "  <thead>\n",
       "    <tr style=\"text-align: right;\">\n",
       "      <th></th>\n",
       "      <th>id_pager</th>\n",
       "      <th>numero_telefono</th>\n",
       "      <th>codigo_de_area</th>\n",
       "      <th>fecha_creacion_cuenta</th>\n",
       "      <th>nombre_cliente</th>\n",
       "      <th>region</th>\n",
       "      <th>categoria_cliente</th>\n",
       "    </tr>\n",
       "  </thead>\n",
       "  <tbody>\n",
       "    <tr>\n",
       "      <th>0</th>\n",
       "      <td>1</td>\n",
       "      <td>1</td>\n",
       "      <td>11</td>\n",
       "      <td>1983-01-01</td>\n",
       "      <td>Okabe</td>\n",
       "      <td>Akihabara</td>\n",
       "      <td>1</td>\n",
       "    </tr>\n",
       "    <tr>\n",
       "      <th>1</th>\n",
       "      <td>2</td>\n",
       "      <td>2</td>\n",
       "      <td>11</td>\n",
       "      <td>1984-01-01</td>\n",
       "      <td>Kurisu</td>\n",
       "      <td>Akihabara</td>\n",
       "      <td>1</td>\n",
       "    </tr>\n",
       "    <tr>\n",
       "      <th>2</th>\n",
       "      <td>3</td>\n",
       "      <td>3</td>\n",
       "      <td>11</td>\n",
       "      <td>1984-01-01</td>\n",
       "      <td>Mayuri</td>\n",
       "      <td>Akihabara</td>\n",
       "      <td>2</td>\n",
       "    </tr>\n",
       "    <tr>\n",
       "      <th>3</th>\n",
       "      <td>4</td>\n",
       "      <td>4</td>\n",
       "      <td>22</td>\n",
       "      <td>1985-01-01</td>\n",
       "      <td>Suzuha</td>\n",
       "      <td>Kyoto</td>\n",
       "      <td>2</td>\n",
       "    </tr>\n",
       "    <tr>\n",
       "      <th>4</th>\n",
       "      <td>5</td>\n",
       "      <td>5</td>\n",
       "      <td>22</td>\n",
       "      <td>1986-01-01</td>\n",
       "      <td>Daru</td>\n",
       "      <td>Kyoto</td>\n",
       "      <td>1</td>\n",
       "    </tr>\n",
       "  </tbody>\n",
       "</table>\n",
       "</div>"
      ],
      "text/plain": [
       "  id_pager numero_telefono  ...     region categoria_cliente\n",
       "0        1               1  ...  Akihabara                 1\n",
       "1        2               2  ...  Akihabara                 1\n",
       "2        3               3  ...  Akihabara                 2\n",
       "3        4               4  ...      Kyoto                 2\n",
       "4        5               5  ...      Kyoto                 1\n",
       "\n",
       "[5 rows x 7 columns]"
      ]
     },
     "execution_count": 22,
     "metadata": {
      "tags": []
     },
     "output_type": "execute_result"
    }
   ],
   "source": [
    "tt_clients.head()"
   ]
  },
  {
   "cell_type": "code",
   "execution_count": 24,
   "metadata": {
    "colab": {
     "base_uri": "https://localhost:8080/",
     "height": 432
    },
    "colab_type": "code",
    "executionInfo": {
     "elapsed": 966,
     "status": "ok",
     "timestamp": 1588028049048,
     "user": {
      "displayName": "Martin Ramos Mejía",
      "photoUrl": "https://lh3.googleusercontent.com/a-/AOh14GgbpDnPjShOpPH8-P0a8AIZrUcpSYNQwHsEfsDQ8w=s64",
      "userId": "08591007000103530707"
     },
     "user_tz": 180
    },
    "id": "PM_cRZ5_15rf",
    "outputId": "b2608ec6-b365-4192-adf5-aeee4314f479"
   },
   "outputs": [
    {
     "data": {
      "text/html": [
       "<div>\n",
       "<style scoped>\n",
       "    .dataframe tbody tr th:only-of-type {\n",
       "        vertical-align: middle;\n",
       "    }\n",
       "\n",
       "    .dataframe tbody tr th {\n",
       "        vertical-align: top;\n",
       "    }\n",
       "\n",
       "    .dataframe thead th {\n",
       "        text-align: right;\n",
       "    }\n",
       "</style>\n",
       "<table border=\"1\" class=\"dataframe\">\n",
       "  <thead>\n",
       "    <tr style=\"text-align: right;\">\n",
       "      <th></th>\n",
       "      <th>anio</th>\n",
       "      <th>mes</th>\n",
       "      <th>dia</th>\n",
       "      <th>minutos</th>\n",
       "      <th>segundos</th>\n",
       "      <th>id_pager</th>\n",
       "      <th>mensaje</th>\n",
       "      <th>numero_origen</th>\n",
       "    </tr>\n",
       "  </thead>\n",
       "  <tbody>\n",
       "    <tr>\n",
       "      <th>0</th>\n",
       "      <td>2020</td>\n",
       "      <td>3</td>\n",
       "      <td>1</td>\n",
       "      <td>1</td>\n",
       "      <td>1</td>\n",
       "      <td>2</td>\n",
       "      <td>I'm the great mad scientist, Hououin Kyoma</td>\n",
       "      <td>1</td>\n",
       "    </tr>\n",
       "    <tr>\n",
       "      <th>1</th>\n",
       "      <td>2020</td>\n",
       "      <td>3</td>\n",
       "      <td>2</td>\n",
       "      <td>2</td>\n",
       "      <td>2</td>\n",
       "      <td>1</td>\n",
       "      <td>I am a scientist, I have to act on my own theory.</td>\n",
       "      <td>2</td>\n",
       "    </tr>\n",
       "    <tr>\n",
       "      <th>2</th>\n",
       "      <td>2020</td>\n",
       "      <td>3</td>\n",
       "      <td>3</td>\n",
       "      <td>3</td>\n",
       "      <td>3</td>\n",
       "      <td>2</td>\n",
       "      <td>It's an intellectual drink for the chosen ones</td>\n",
       "      <td>1</td>\n",
       "    </tr>\n",
       "    <tr>\n",
       "      <th>3</th>\n",
       "      <td>2020</td>\n",
       "      <td>3</td>\n",
       "      <td>11</td>\n",
       "      <td>11</td>\n",
       "      <td>11</td>\n",
       "      <td>1</td>\n",
       "      <td>People's feelings are memories that transcend ...</td>\n",
       "      <td>2</td>\n",
       "    </tr>\n",
       "    <tr>\n",
       "      <th>4</th>\n",
       "      <td>2020</td>\n",
       "      <td>4</td>\n",
       "      <td>12</td>\n",
       "      <td>12</td>\n",
       "      <td>12</td>\n",
       "      <td>5</td>\n",
       "      <td>El Psy Kongroo</td>\n",
       "      <td>1</td>\n",
       "    </tr>\n",
       "  </tbody>\n",
       "</table>\n",
       "</div>"
      ],
      "text/plain": [
       "   anio mes  ...                                            mensaje numero_origen\n",
       "0  2020   3  ...         I'm the great mad scientist, Hououin Kyoma             1\n",
       "1  2020   3  ...  I am a scientist, I have to act on my own theory.             2\n",
       "2  2020   3  ...     It's an intellectual drink for the chosen ones             1\n",
       "3  2020   3  ...  People's feelings are memories that transcend ...             2\n",
       "4  2020   4  ...                                     El Psy Kongroo             1\n",
       "\n",
       "[5 rows x 8 columns]"
      ]
     },
     "execution_count": 24,
     "metadata": {
      "tags": []
     },
     "output_type": "execute_result"
    }
   ],
   "source": [
    "tt_msgs.head()"
   ]
  },
  {
   "cell_type": "markdown",
   "metadata": {
    "colab_type": "text",
    "id": "vbJkccKtRYcj"
   },
   "source": [
    "¿Cuál es la región que aún tiene activos la mayor cantidad de pagers, entendiendo como activo aquellos que recibieron por lo menos un mensaje en el último mes?"
   ]
  },
  {
   "cell_type": "code",
   "execution_count": 0,
   "metadata": {
    "colab": {},
    "colab_type": "code",
    "id": "EwKGbaOH2H6F"
   },
   "outputs": [],
   "source": [
    "tt_totals = tt_msgs[((tt_msgs['anio'] == '2020') & (tt_msgs['mes'] == '4'))].groupby(['anio','mes','id_pager'])['dia'].agg(['count']).reset_index()  "
   ]
  },
  {
   "cell_type": "code",
   "execution_count": 35,
   "metadata": {
    "colab": {
     "base_uri": "https://localhost:8080/",
     "height": 163
    },
    "colab_type": "code",
    "executionInfo": {
     "elapsed": 978,
     "status": "ok",
     "timestamp": 1588028697297,
     "user": {
      "displayName": "Martin Ramos Mejía",
      "photoUrl": "https://lh3.googleusercontent.com/a-/AOh14GgbpDnPjShOpPH8-P0a8AIZrUcpSYNQwHsEfsDQ8w=s64",
      "userId": "08591007000103530707"
     },
     "user_tz": 180
    },
    "id": "RFCUAGL94Kf3",
    "outputId": "403a43bb-1a67-4092-8f46-088430adf4e3"
   },
   "outputs": [
    {
     "data": {
      "text/html": [
       "<div>\n",
       "<style scoped>\n",
       "    .dataframe tbody tr th:only-of-type {\n",
       "        vertical-align: middle;\n",
       "    }\n",
       "\n",
       "    .dataframe tbody tr th {\n",
       "        vertical-align: top;\n",
       "    }\n",
       "\n",
       "    .dataframe thead th {\n",
       "        text-align: right;\n",
       "    }\n",
       "</style>\n",
       "<table border=\"1\" class=\"dataframe\">\n",
       "  <thead>\n",
       "    <tr style=\"text-align: right;\">\n",
       "      <th></th>\n",
       "      <th>anio</th>\n",
       "      <th>mes</th>\n",
       "      <th>id_pager</th>\n",
       "      <th>count</th>\n",
       "      <th>numero_telefono</th>\n",
       "      <th>codigo_de_area</th>\n",
       "      <th>fecha_creacion_cuenta</th>\n",
       "      <th>nombre_cliente</th>\n",
       "      <th>region</th>\n",
       "      <th>categoria_cliente</th>\n",
       "    </tr>\n",
       "  </thead>\n",
       "  <tbody>\n",
       "    <tr>\n",
       "      <th>0</th>\n",
       "      <td>2020</td>\n",
       "      <td>4</td>\n",
       "      <td>1</td>\n",
       "      <td>3</td>\n",
       "      <td>1</td>\n",
       "      <td>11</td>\n",
       "      <td>1983-01-01</td>\n",
       "      <td>Okabe</td>\n",
       "      <td>Akihabara</td>\n",
       "      <td>1</td>\n",
       "    </tr>\n",
       "    <tr>\n",
       "      <th>1</th>\n",
       "      <td>2020</td>\n",
       "      <td>4</td>\n",
       "      <td>2</td>\n",
       "      <td>2</td>\n",
       "      <td>2</td>\n",
       "      <td>11</td>\n",
       "      <td>1984-01-01</td>\n",
       "      <td>Kurisu</td>\n",
       "      <td>Akihabara</td>\n",
       "      <td>1</td>\n",
       "    </tr>\n",
       "    <tr>\n",
       "      <th>2</th>\n",
       "      <td>2020</td>\n",
       "      <td>4</td>\n",
       "      <td>5</td>\n",
       "      <td>1</td>\n",
       "      <td>5</td>\n",
       "      <td>22</td>\n",
       "      <td>1986-01-01</td>\n",
       "      <td>Daru</td>\n",
       "      <td>Kyoto</td>\n",
       "      <td>1</td>\n",
       "    </tr>\n",
       "  </tbody>\n",
       "</table>\n",
       "</div>"
      ],
      "text/plain": [
       "   anio mes id_pager  ...  nombre_cliente     region categoria_cliente\n",
       "0  2020   4        1  ...           Okabe  Akihabara                 1\n",
       "1  2020   4        2  ...          Kurisu  Akihabara                 1\n",
       "2  2020   4        5  ...            Daru      Kyoto                 1\n",
       "\n",
       "[3 rows x 10 columns]"
      ]
     },
     "execution_count": 35,
     "metadata": {
      "tags": []
     },
     "output_type": "execute_result"
    }
   ],
   "source": [
    "merged = tt_totals[tt_totals['count'] >= 1].merge(tt_clients, how='inner')"
   ]
  },
  {
   "cell_type": "code",
   "execution_count": 37,
   "metadata": {
    "colab": {
     "base_uri": "https://localhost:8080/",
     "height": 52
    },
    "colab_type": "code",
    "executionInfo": {
     "elapsed": 906,
     "status": "ok",
     "timestamp": 1588028765321,
     "user": {
      "displayName": "Martin Ramos Mejía",
      "photoUrl": "https://lh3.googleusercontent.com/a-/AOh14GgbpDnPjShOpPH8-P0a8AIZrUcpSYNQwHsEfsDQ8w=s64",
      "userId": "08591007000103530707"
     },
     "user_tz": 180
    },
    "id": "rbZmHxoH3E0Q",
    "outputId": "7b08e0e1-b7a0-4215-9d08-1552b343aab2"
   },
   "outputs": [
    {
     "data": {
      "text/plain": [
       "Akihabara    2\n",
       "Name: region, dtype: int64"
      ]
     },
     "execution_count": 37,
     "metadata": {
      "tags": []
     },
     "output_type": "execute_result"
    }
   ],
   "source": [
    "merged['region'].value_counts().nlargest(1)"
   ]
  },
  {
   "cell_type": "markdown",
   "metadata": {
    "colab_type": "text",
    "id": "BcbHrGXwRYc5"
   },
   "source": [
    "¿Cuál es el porcentaje de pagers activos que solamente reciben mensajes únicamente de una persona (es decir, siempre desde el mismo número de origen)?"
   ]
  },
  {
   "cell_type": "code",
   "execution_count": 0,
   "metadata": {
    "colab": {},
    "colab_type": "code",
    "id": "ECupgLH95IUw"
   },
   "outputs": [],
   "source": [
    "total_pagers_activos = len(tt_totals.index)"
   ]
  },
  {
   "cell_type": "code",
   "execution_count": 39,
   "metadata": {
    "colab": {
     "base_uri": "https://localhost:8080/",
     "height": 34
    },
    "colab_type": "code",
    "executionInfo": {
     "elapsed": 984,
     "status": "ok",
     "timestamp": 1588028901190,
     "user": {
      "displayName": "Martin Ramos Mejía",
      "photoUrl": "https://lh3.googleusercontent.com/a-/AOh14GgbpDnPjShOpPH8-P0a8AIZrUcpSYNQwHsEfsDQ8w=s64",
      "userId": "08591007000103530707"
     },
     "user_tz": 180
    },
    "id": "8YDt27vO5egR",
    "outputId": "27e0a22a-72a6-4582-81ea-e970f7c6f869"
   },
   "outputs": [
    {
     "data": {
      "text/plain": [
       "3"
      ]
     },
     "execution_count": 39,
     "metadata": {
      "tags": []
     },
     "output_type": "execute_result"
    }
   ],
   "source": [
    "total_pagers_activos"
   ]
  },
  {
   "cell_type": "code",
   "execution_count": 0,
   "metadata": {
    "colab": {},
    "colab_type": "code",
    "id": "-QmwvR3f5gMU"
   },
   "outputs": [],
   "source": [
    "tt_totals = tt_msgs[((tt_msgs['anio'] == '2020') & (tt_msgs['mes'] == '4'))].groupby(['anio','mes','numero_origen','id_pager'])['dia'].agg(['count']).reset_index()"
   ]
  },
  {
   "cell_type": "code",
   "execution_count": 46,
   "metadata": {
    "colab": {
     "base_uri": "https://localhost:8080/",
     "height": 143
    },
    "colab_type": "code",
    "executionInfo": {
     "elapsed": 787,
     "status": "ok",
     "timestamp": 1588029187111,
     "user": {
      "displayName": "Martin Ramos Mejía",
      "photoUrl": "https://lh3.googleusercontent.com/a-/AOh14GgbpDnPjShOpPH8-P0a8AIZrUcpSYNQwHsEfsDQ8w=s64",
      "userId": "08591007000103530707"
     },
     "user_tz": 180
    },
    "id": "WbJOQ4Wd5yzG",
    "outputId": "66fda40d-b884-48d9-e2e3-4d8d6c7dc250"
   },
   "outputs": [
    {
     "data": {
      "text/html": [
       "<div>\n",
       "<style scoped>\n",
       "    .dataframe tbody tr th:only-of-type {\n",
       "        vertical-align: middle;\n",
       "    }\n",
       "\n",
       "    .dataframe tbody tr th {\n",
       "        vertical-align: top;\n",
       "    }\n",
       "\n",
       "    .dataframe thead th {\n",
       "        text-align: right;\n",
       "    }\n",
       "</style>\n",
       "<table border=\"1\" class=\"dataframe\">\n",
       "  <thead>\n",
       "    <tr style=\"text-align: right;\">\n",
       "      <th></th>\n",
       "      <th>anio</th>\n",
       "      <th>mes</th>\n",
       "      <th>numero_origen</th>\n",
       "      <th>id_pager</th>\n",
       "      <th>count</th>\n",
       "    </tr>\n",
       "  </thead>\n",
       "  <tbody>\n",
       "    <tr>\n",
       "      <th>0</th>\n",
       "      <td>2020</td>\n",
       "      <td>4</td>\n",
       "      <td>1</td>\n",
       "      <td>1</td>\n",
       "      <td>3</td>\n",
       "    </tr>\n",
       "    <tr>\n",
       "      <th>1</th>\n",
       "      <td>2020</td>\n",
       "      <td>4</td>\n",
       "      <td>1</td>\n",
       "      <td>5</td>\n",
       "      <td>1</td>\n",
       "    </tr>\n",
       "    <tr>\n",
       "      <th>2</th>\n",
       "      <td>2020</td>\n",
       "      <td>4</td>\n",
       "      <td>2</td>\n",
       "      <td>2</td>\n",
       "      <td>2</td>\n",
       "    </tr>\n",
       "  </tbody>\n",
       "</table>\n",
       "</div>"
      ],
      "text/plain": [
       "   anio mes numero_origen id_pager  count\n",
       "0  2020   4             1        1      3\n",
       "1  2020   4             1        5      1\n",
       "2  2020   4             2        2      2"
      ]
     },
     "execution_count": 46,
     "metadata": {
      "tags": []
     },
     "output_type": "execute_result"
    }
   ],
   "source": [
    "tt_totals.head()"
   ]
  },
  {
   "cell_type": "code",
   "execution_count": 0,
   "metadata": {
    "colab": {},
    "colab_type": "code",
    "id": "I7o3bHu-6af0"
   },
   "outputs": [],
   "source": [
    "only_one = tt_totals.groupby('numero_origen').filter(lambda x: len(x) == 1)"
   ]
  },
  {
   "cell_type": "code",
   "execution_count": 0,
   "metadata": {
    "colab": {},
    "colab_type": "code",
    "id": "iUEFE3HT50AP"
   },
   "outputs": [],
   "source": [
    "only_one_total = len(only_one.index)"
   ]
  },
  {
   "cell_type": "code",
   "execution_count": 50,
   "metadata": {
    "colab": {
     "base_uri": "https://localhost:8080/",
     "height": 34
    },
    "colab_type": "code",
    "executionInfo": {
     "elapsed": 843,
     "status": "ok",
     "timestamp": 1588029354121,
     "user": {
      "displayName": "Martin Ramos Mejía",
      "photoUrl": "https://lh3.googleusercontent.com/a-/AOh14GgbpDnPjShOpPH8-P0a8AIZrUcpSYNQwHsEfsDQ8w=s64",
      "userId": "08591007000103530707"
     },
     "user_tz": 180
    },
    "id": "FLQoerXw62WD",
    "outputId": "556f55c4-2863-415e-e727-8c3fc97d3666"
   },
   "outputs": [
    {
     "name": "stdout",
     "output_type": "stream",
     "text": [
      "33.333333333333336\n"
     ]
    }
   ],
   "source": [
    "print(only_one_total * 100 / total_pagers_activos)"
   ]
  },
  {
   "cell_type": "code",
   "execution_count": 0,
   "metadata": {
    "colab": {},
    "colab_type": "code",
    "id": "H6Dnu6he7Oy-"
   },
   "outputs": [],
   "source": []
  }
 ],
 "metadata": {
  "colab": {
   "name": "04-tokyo-telemessage.ipynb",
   "provenance": []
  },
  "kernelspec": {
   "display_name": "Python 3",
   "language": "python",
   "name": "python3"
  },
  "language_info": {
   "codemirror_mode": {
    "name": "ipython",
    "version": 3
   },
   "file_extension": ".py",
   "mimetype": "text/x-python",
   "name": "python",
   "nbconvert_exporter": "python",
   "pygments_lexer": "ipython3",
   "version": "3.7.3"
  }
 },
 "nbformat": 4,
 "nbformat_minor": 1
}
